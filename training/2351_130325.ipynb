{
 "cells": [
  {
   "cell_type": "code",
   "execution_count": 1,
   "metadata": {},
   "outputs": [],
   "source": [
    "\n",
    "import os\n",
    "import time\n",
    "import argparse\n",
    "import numpy as np\n",
    "import pandas as pd\n",
    "import matplotlib.pyplot as plt\n",
    "from datetime import datetime\n",
    "import logging\n",
    "import joblib\n",
    "import gc  # For garbage collection\n",
    "\n",
    "# Import from our refactored modules\n",
    "from common import (\n",
    "    # Logger\n",
    "    logger, setup_logger,\n",
    "    \n",
    "    # Data loading\n",
    "    load_eeg_data,\n",
    "\n",
    "    # Data quality analysis\n",
    "    analyze_data_quality,\n",
    "    \n",
    "    # Preprocessing\n",
    "    preprocess_eeg_data, engineer_eeg_features,\n",
    "    \n",
    "    # Disk-based bundle functions\n",
    "    create_coherent_time_series_bundles_disk, normalize_bundles_disk,\n",
    "    \n",
    "    # Models\n",
    "    UnsupervisedModelTrainer,\n",
    "    \n",
    "    # Visualization\n",
    "    visualize_eeg_data\n",
    ")\n",
    "\n",
    "def print_section_header(title):\n",
    "    \"\"\"Print a section header to make output easier to read\"\"\"\n",
    "    logger.info(\"\\n\" + \"=\"*80)\n",
    "    logger.info(f\" {title}\")\n",
    "    logger.info(\"=\"*80)\n",
    "\n",
    "def setup_directories(base_dir):\n",
    "    \"\"\"Create output directories if they don't exist\"\"\"\n",
    "    os.makedirs(base_dir, exist_ok=True)\n",
    "    \n",
    "    # Create subdirectories\n",
    "    models_dir = os.path.join(base_dir, \"models\")\n",
    "    os.makedirs(models_dir, exist_ok=True)\n",
    "    \n",
    "    plots_dir = os.path.join(base_dir, \"plots\")\n",
    "    os.makedirs(plots_dir, exist_ok=True)\n",
    "    \n",
    "    bundle_dir = os.path.join(base_dir, \"bundles\")\n",
    "    os.makedirs(bundle_dir, exist_ok=True)\n",
    "    \n",
    "    return {\n",
    "        \"base\": base_dir,\n",
    "        \"models\": models_dir,\n",
    "        \"plots\": plots_dir,\n",
    "        \"bundles\": bundle_dir\n",
    "    }\n",
    "\n",
    "def save_plot(fig, filename, output_dir):\n",
    "    \"\"\"Save matplotlib figure to file\"\"\"\n",
    "    filepath = os.path.join(output_dir, filename)\n",
    "    fig.savefig(filepath, dpi=300, bbox_inches='tight')\n",
    "    plt.close(fig)\n",
    "    logger.info(f\"Saved plot: {filepath}\")\n",
    "\n",
    "def load_bundle_info(bundle_dir):\n",
    "    \"\"\"\n",
    "    Load bundle information from a directory\n",
    "    \n",
    "    Parameters:\n",
    "        bundle_dir (str): Path to the directory containing bundle information\n",
    "        \n",
    "    Returns:\n",
    "        dict: Bundle information dictionary\n",
    "    \"\"\"\n",
    "    # Check for bundle info file\n",
    "    info_path = os.path.join(bundle_dir, \"bundle_info.joblib\")\n",
    "    \n",
    "    if not os.path.exists(info_path):\n",
    "        raise FileNotFoundError(f\"Bundle info file not found in {bundle_dir}\")\n",
    "    \n",
    "    # Load bundle info\n",
    "    bundle_info = joblib.load(info_path)\n",
    "    \n",
    "    # Validate the bundle info\n",
    "    required_keys = ['total_bundles', 'bundle_size', 'feature_dim', 'output_dir']\n",
    "    for key in required_keys:\n",
    "        if key not in bundle_info:\n",
    "            raise ValueError(f\"Bundle info is missing required key: {key}\")\n",
    "    \n",
    "    # Make sure paths are correct if the bundles were moved\n",
    "    if os.path.abspath(bundle_info['output_dir']) != os.path.abspath(bundle_dir):\n",
    "        logger.warning(f\"Bundle directory has changed from {bundle_info['output_dir']} to {bundle_dir}\")\n",
    "        bundle_info['output_dir'] = os.path.abspath(bundle_dir)\n",
    "    \n",
    "    return bundle_info\n"
   ]
  },
  {
   "cell_type": "code",
   "execution_count": 2,
   "metadata": {},
   "outputs": [
    {
     "name": "stdout",
     "output_type": "stream",
     "text": [
      "2025-03-14 09:27:45,467 - eeg_classification - INFO - Starting EEG Processing Pipeline\n",
      "2025-03-14 09:27:45,467 - eeg_classification - INFO - Starting EEG Processing Pipeline\n"
     ]
    },
    {
     "name": "stderr",
     "output_type": "stream",
     "text": [
      "2025-03-14 09:27:45,467 - eeg_classification - INFO - Starting EEG Processing Pipeline\n"
     ]
    },
    {
     "name": "stdout",
     "output_type": "stream",
     "text": [
      "2025-03-14 09:27:45,471 - eeg_classification - INFO - Data directory: ../data\n",
      "2025-03-14 09:27:45,471 - eeg_classification - INFO - Data directory: ../data\n"
     ]
    },
    {
     "name": "stderr",
     "output_type": "stream",
     "text": [
      "2025-03-14 09:27:45,471 - eeg_classification - INFO - Data directory: ../data\n"
     ]
    },
    {
     "name": "stdout",
     "output_type": "stream",
     "text": [
      "2025-03-14 09:27:45,473 - eeg_classification - INFO - Output directory: ./eeg_bundles\n",
      "2025-03-14 09:27:45,473 - eeg_classification - INFO - Output directory: ./eeg_bundles\n"
     ]
    },
    {
     "name": "stderr",
     "output_type": "stream",
     "text": [
      "2025-03-14 09:27:45,473 - eeg_classification - INFO - Output directory: ./eeg_bundles\n"
     ]
    },
    {
     "name": "stdout",
     "output_type": "stream",
     "text": [
      "2025-03-14 09:27:45,475 - eeg_classification - INFO - Log file: ./eeg_bundles\\logs\\pipeline_20250314_092745.log\n",
      "2025-03-14 09:27:45,475 - eeg_classification - INFO - Log file: ./eeg_bundles\\logs\\pipeline_20250314_092745.log\n"
     ]
    },
    {
     "name": "stderr",
     "output_type": "stream",
     "text": [
      "2025-03-14 09:27:45,475 - eeg_classification - INFO - Log file: ./eeg_bundles\\logs\\pipeline_20250314_092745.log\n"
     ]
    }
   ],
   "source": [
    "output_dir = \"./eeg_bundles\"\n",
    "log_level = \"INFO\"\n",
    "data_dir = \"../data\"\n",
    "load_existing = True\n",
    "n_clusters = 2\n",
    "bundle_size = 30\n",
    "step_size = 30\n",
    "\n",
    "# Configure logging\n",
    "timestamp = datetime.now().strftime(\"%Y%m%d_%H%M%S\")\n",
    "log_dir = os.path.join(output_dir, \"logs\")\n",
    "os.makedirs(log_dir, exist_ok=True)\n",
    "log_file = os.path.join(log_dir, f\"pipeline_{timestamp}.log\")\n",
    "\n",
    "# Convert string log level to actual level\n",
    "numeric_level = getattr(logging, log_level.upper(), None)\n",
    "setup_logger(name=\"eeg_classification\", level=numeric_level, log_file=log_file)\n",
    "\n",
    "# Start timer\n",
    "start_time = time.time()\n",
    "\n",
    "logger.info(\"Starting EEG Processing Pipeline\")\n",
    "logger.info(f\"Data directory: {data_dir}\")\n",
    "logger.info(f\"Output directory: {output_dir}\")\n",
    "logger.info(f\"Log file: {log_file}\")\n",
    "\n",
    "# Setup directories\n",
    "dirs = setup_directories(output_dir)\n",
    "\n",
    "# Set bundle directory\n",
    "bundle_dir = dirs[\"bundles\"]\n",
    "\n"
   ]
  },
  {
   "cell_type": "code",
   "execution_count": 3,
   "metadata": {},
   "outputs": [
    {
     "name": "stdout",
     "output_type": "stream",
     "text": [
      "2025-03-14 09:27:45,506 - eeg_classification - INFO - Checking for existing bundles...\n",
      "2025-03-14 09:27:45,506 - eeg_classification - INFO - Checking for existing bundles...\n"
     ]
    },
    {
     "name": "stderr",
     "output_type": "stream",
     "text": [
      "2025-03-14 09:27:45,506 - eeg_classification - INFO - Checking for existing bundles...\n"
     ]
    },
    {
     "name": "stdout",
     "output_type": "stream",
     "text": [
      "2025-03-14 09:27:45,509 - eeg_classification - WARNING - Could not load existing bundles: Bundle info file not found in ./eeg_bundles\\bundles\n",
      "2025-03-14 09:27:45,509 - eeg_classification - WARNING - Could not load existing bundles: Bundle info file not found in ./eeg_bundles\\bundles\n"
     ]
    },
    {
     "name": "stderr",
     "output_type": "stream",
     "text": [
      "2025-03-14 09:27:45,509 - eeg_classification - WARNING - Could not load existing bundles: Bundle info file not found in ./eeg_bundles\\bundles\n"
     ]
    },
    {
     "name": "stdout",
     "output_type": "stream",
     "text": [
      "2025-03-14 09:27:45,514 - eeg_classification - INFO - \n",
      "================================================================================\n",
      "2025-03-14 09:27:45,514 - eeg_classification - INFO - \n",
      "================================================================================\n"
     ]
    },
    {
     "name": "stderr",
     "output_type": "stream",
     "text": [
      "2025-03-14 09:27:45,514 - eeg_classification - INFO - \n",
      "================================================================================\n"
     ]
    },
    {
     "name": "stdout",
     "output_type": "stream",
     "text": [
      "2025-03-14 09:27:45,516 - eeg_classification - INFO -  Step 1: Loading EEG data\n",
      "2025-03-14 09:27:45,516 - eeg_classification - INFO -  Step 1: Loading EEG data\n"
     ]
    },
    {
     "name": "stderr",
     "output_type": "stream",
     "text": [
      "2025-03-14 09:27:45,516 - eeg_classification - INFO -  Step 1: Loading EEG data\n"
     ]
    },
    {
     "name": "stdout",
     "output_type": "stream",
     "text": [
      "2025-03-14 09:27:45,518 - eeg_classification - INFO - ================================================================================\n",
      "2025-03-14 09:27:45,518 - eeg_classification - INFO - ================================================================================\n"
     ]
    },
    {
     "name": "stderr",
     "output_type": "stream",
     "text": [
      "2025-03-14 09:27:45,518 - eeg_classification - INFO - ================================================================================\n"
     ]
    },
    {
     "name": "stdout",
     "output_type": "stream",
     "text": [
      "2025-03-14 09:27:45,520 - eeg_classification - INFO - Loading data from ../data\n",
      "2025-03-14 09:27:45,520 - eeg_classification - INFO - Loading data from ../data\n"
     ]
    },
    {
     "name": "stderr",
     "output_type": "stream",
     "text": [
      "2025-03-14 09:27:45,520 - eeg_classification - INFO - Loading data from ../data\n"
     ]
    },
    {
     "name": "stdout",
     "output_type": "stream",
     "text": [
      "2025-03-14 09:28:24,886 - eeg_classification - INFO - Loaded 30 files with 6947837 total rows\n",
      "2025-03-14 09:28:24,886 - eeg_classification - INFO - Loaded 30 files with 6947837 total rows\n"
     ]
    },
    {
     "name": "stderr",
     "output_type": "stream",
     "text": [
      "2025-03-14 09:28:24,886 - eeg_classification - INFO - Loaded 30 files with 6947837 total rows\n"
     ]
    },
    {
     "name": "stdout",
     "output_type": "stream",
     "text": [
      "2025-03-14 09:28:24,889 - eeg_classification - INFO - Loaded 30 files with 6947837 total rows\n",
      "2025-03-14 09:28:24,889 - eeg_classification - INFO - Loaded 30 files with 6947837 total rows\n"
     ]
    },
    {
     "name": "stderr",
     "output_type": "stream",
     "text": [
      "2025-03-14 09:28:24,889 - eeg_classification - INFO - Loaded 30 files with 6947837 total rows\n"
     ]
    },
    {
     "name": "stdout",
     "output_type": "stream",
     "text": [
      "2025-03-14 09:28:24,891 - eeg_classification - INFO - Sample file file_1 shape: (108335, 42)\n",
      "2025-03-14 09:28:24,891 - eeg_classification - INFO - Sample file file_1 shape: (108335, 42)\n"
     ]
    },
    {
     "name": "stderr",
     "output_type": "stream",
     "text": [
      "2025-03-14 09:28:24,891 - eeg_classification - INFO - Sample file file_1 shape: (108335, 42)\n"
     ]
    },
    {
     "name": "stdout",
     "output_type": "stream",
     "text": [
      "2025-03-14 09:28:24,901 - eeg_classification - WARNING - Too many columns (39). Showing only the first 5.\n",
      "2025-03-14 09:28:24,901 - eeg_classification - WARNING - Too many columns (39). Showing only the first 5.\n"
     ]
    },
    {
     "name": "stderr",
     "output_type": "stream",
     "text": [
      "2025-03-14 09:28:24,901 - eeg_classification - WARNING - Too many columns (39). Showing only the first 5.\n"
     ]
    },
    {
     "name": "stdout",
     "output_type": "stream",
     "text": [
      "2025-03-14 09:28:24,963 - eeg_classification - ERROR - Error loading data: time data \"2024-06-02 09:47:18\" doesn't match format \"%Y-%m-%d %H:%M:%S.%f\", at position 156. You might want to try:\n",
      "    - passing `format` if your strings have a consistent format;\n",
      "    - passing `format='ISO8601'` if your strings are all ISO8601 but not necessarily in exactly the same format;\n",
      "    - passing `format='mixed'`, and the format will be inferred for each element individually. You might want to use `dayfirst` alongside this.\n",
      "2025-03-14 09:28:24,963 - eeg_classification - ERROR - Error loading data: time data \"2024-06-02 09:47:18\" doesn't match format \"%Y-%m-%d %H:%M:%S.%f\", at position 156. You might want to try:\n",
      "    - passing `format` if your strings have a consistent format;\n",
      "    - passing `format='ISO8601'` if your strings are all ISO8601 but not necessarily in exactly the same format;\n",
      "    - passing `format='mixed'`, and the format will be inferred for each element individually. You might want to use `dayfirst` alongside this.\n"
     ]
    },
    {
     "name": "stderr",
     "output_type": "stream",
     "text": [
      "2025-03-14 09:28:24,963 - eeg_classification - ERROR - Error loading data: time data \"2024-06-02 09:47:18\" doesn't match format \"%Y-%m-%d %H:%M:%S.%f\", at position 156. You might want to try:\n",
      "    - passing `format` if your strings have a consistent format;\n",
      "    - passing `format='ISO8601'` if your strings are all ISO8601 but not necessarily in exactly the same format;\n",
      "    - passing `format='mixed'`, and the format will be inferred for each element individually. You might want to use `dayfirst` alongside this.\n"
     ]
    },
    {
     "name": "stdout",
     "output_type": "stream",
     "text": [
      "2025-03-14 09:28:24,966 - eeg_classification - ERROR - Stack trace:\n",
      "Traceback (most recent call last):\n",
      "  File \"C:\\Users\\Huai\\AppData\\Local\\Temp\\ipykernel_32816\\609321440.py\", line 35, in <module>\n",
      "    fig = visualize_eeg_data(sample_df, max_cols=5)\n",
      "          ^^^^^^^^^^^^^^^^^^^^^^^^^^^^^^^^^^^^^^^^^\n",
      "  File \"c:\\Users\\Huai\\Documents\\GitHub\\EEG-classification\\training\\common\\visualization.py\", line 51, in visualize_eeg_data\n",
      "    x = pd.to_datetime(df['TimeStamp'])\n",
      "        ^^^^^^^^^^^^^^^^^^^^^^^^^^^^^^^\n",
      "  File \"c:\\Users\\Huai\\miniconda3\\envs\\eeg\\Lib\\site-packages\\pandas\\core\\tools\\datetimes.py\", line 1063, in to_datetime\n",
      "    cache_array = _maybe_cache(arg, format, cache, convert_listlike)\n",
      "                  ^^^^^^^^^^^^^^^^^^^^^^^^^^^^^^^^^^^^^^^^^^^^^^^^^^\n",
      "  File \"c:\\Users\\Huai\\miniconda3\\envs\\eeg\\Lib\\site-packages\\pandas\\core\\tools\\datetimes.py\", line 247, in _maybe_cache\n",
      "    cache_dates = convert_listlike(unique_dates, format)\n",
      "                  ^^^^^^^^^^^^^^^^^^^^^^^^^^^^^^^^^^^^^^\n",
      "  File \"c:\\Users\\Huai\\miniconda3\\envs\\eeg\\Lib\\site-packages\\pandas\\core\\tools\\datetimes.py\", line 433, in _convert_listlike_datetimes\n",
      "    return _array_strptime_with_fallback(arg, name, utc, format, exact, errors)\n",
      "           ^^^^^^^^^^^^^^^^^^^^^^^^^^^^^^^^^^^^^^^^^^^^^^^^^^^^^^^^^^^^^^^^^^^^\n",
      "  File \"c:\\Users\\Huai\\miniconda3\\envs\\eeg\\Lib\\site-packages\\pandas\\core\\tools\\datetimes.py\", line 467, in _array_strptime_with_fallback\n",
      "    result, tz_out = array_strptime(arg, fmt, exact=exact, errors=errors, utc=utc)\n",
      "                     ^^^^^^^^^^^^^^^^^^^^^^^^^^^^^^^^^^^^^^^^^^^^^^^^^^^^^^^^^^^^^\n",
      "  File \"strptime.pyx\", line 501, in pandas._libs.tslibs.strptime.array_strptime\n",
      "  File \"strptime.pyx\", line 451, in pandas._libs.tslibs.strptime.array_strptime\n",
      "  File \"strptime.pyx\", line 583, in pandas._libs.tslibs.strptime._parse_with_format\n",
      "ValueError: time data \"2024-06-02 09:47:18\" doesn't match format \"%Y-%m-%d %H:%M:%S.%f\", at position 156. You might want to try:\n",
      "    - passing `format` if your strings have a consistent format;\n",
      "    - passing `format='ISO8601'` if your strings are all ISO8601 but not necessarily in exactly the same format;\n",
      "    - passing `format='mixed'`, and the format will be inferred for each element individually. You might want to use `dayfirst` alongside this.\n",
      "2025-03-14 09:28:24,966 - eeg_classification - ERROR - Stack trace:\n",
      "Traceback (most recent call last):\n",
      "  File \"C:\\Users\\Huai\\AppData\\Local\\Temp\\ipykernel_32816\\609321440.py\", line 35, in <module>\n",
      "    fig = visualize_eeg_data(sample_df, max_cols=5)\n",
      "          ^^^^^^^^^^^^^^^^^^^^^^^^^^^^^^^^^^^^^^^^^\n",
      "  File \"c:\\Users\\Huai\\Documents\\GitHub\\EEG-classification\\training\\common\\visualization.py\", line 51, in visualize_eeg_data\n",
      "    x = pd.to_datetime(df['TimeStamp'])\n",
      "        ^^^^^^^^^^^^^^^^^^^^^^^^^^^^^^^\n",
      "  File \"c:\\Users\\Huai\\miniconda3\\envs\\eeg\\Lib\\site-packages\\pandas\\core\\tools\\datetimes.py\", line 1063, in to_datetime\n",
      "    cache_array = _maybe_cache(arg, format, cache, convert_listlike)\n",
      "                  ^^^^^^^^^^^^^^^^^^^^^^^^^^^^^^^^^^^^^^^^^^^^^^^^^^\n",
      "  File \"c:\\Users\\Huai\\miniconda3\\envs\\eeg\\Lib\\site-packages\\pandas\\core\\tools\\datetimes.py\", line 247, in _maybe_cache\n",
      "    cache_dates = convert_listlike(unique_dates, format)\n",
      "                  ^^^^^^^^^^^^^^^^^^^^^^^^^^^^^^^^^^^^^^\n",
      "  File \"c:\\Users\\Huai\\miniconda3\\envs\\eeg\\Lib\\site-packages\\pandas\\core\\tools\\datetimes.py\", line 433, in _convert_listlike_datetimes\n",
      "    return _array_strptime_with_fallback(arg, name, utc, format, exact, errors)\n",
      "           ^^^^^^^^^^^^^^^^^^^^^^^^^^^^^^^^^^^^^^^^^^^^^^^^^^^^^^^^^^^^^^^^^^^^\n",
      "  File \"c:\\Users\\Huai\\miniconda3\\envs\\eeg\\Lib\\site-packages\\pandas\\core\\tools\\datetimes.py\", line 467, in _array_strptime_with_fallback\n",
      "    result, tz_out = array_strptime(arg, fmt, exact=exact, errors=errors, utc=utc)\n",
      "                     ^^^^^^^^^^^^^^^^^^^^^^^^^^^^^^^^^^^^^^^^^^^^^^^^^^^^^^^^^^^^^\n",
      "  File \"strptime.pyx\", line 501, in pandas._libs.tslibs.strptime.array_strptime\n",
      "  File \"strptime.pyx\", line 451, in pandas._libs.tslibs.strptime.array_strptime\n",
      "  File \"strptime.pyx\", line 583, in pandas._libs.tslibs.strptime._parse_with_format\n",
      "ValueError: time data \"2024-06-02 09:47:18\" doesn't match format \"%Y-%m-%d %H:%M:%S.%f\", at position 156. You might want to try:\n",
      "    - passing `format` if your strings have a consistent format;\n",
      "    - passing `format='ISO8601'` if your strings are all ISO8601 but not necessarily in exactly the same format;\n",
      "    - passing `format='mixed'`, and the format will be inferred for each element individually. You might want to use `dayfirst` alongside this.\n"
     ]
    },
    {
     "name": "stderr",
     "output_type": "stream",
     "text": [
      "2025-03-14 09:28:24,966 - eeg_classification - ERROR - Stack trace:\n",
      "Traceback (most recent call last):\n",
      "  File \"C:\\Users\\Huai\\AppData\\Local\\Temp\\ipykernel_32816\\609321440.py\", line 35, in <module>\n",
      "    fig = visualize_eeg_data(sample_df, max_cols=5)\n",
      "          ^^^^^^^^^^^^^^^^^^^^^^^^^^^^^^^^^^^^^^^^^\n",
      "  File \"c:\\Users\\Huai\\Documents\\GitHub\\EEG-classification\\training\\common\\visualization.py\", line 51, in visualize_eeg_data\n",
      "    x = pd.to_datetime(df['TimeStamp'])\n",
      "        ^^^^^^^^^^^^^^^^^^^^^^^^^^^^^^^\n",
      "  File \"c:\\Users\\Huai\\miniconda3\\envs\\eeg\\Lib\\site-packages\\pandas\\core\\tools\\datetimes.py\", line 1063, in to_datetime\n",
      "    cache_array = _maybe_cache(arg, format, cache, convert_listlike)\n",
      "                  ^^^^^^^^^^^^^^^^^^^^^^^^^^^^^^^^^^^^^^^^^^^^^^^^^^\n",
      "  File \"c:\\Users\\Huai\\miniconda3\\envs\\eeg\\Lib\\site-packages\\pandas\\core\\tools\\datetimes.py\", line 247, in _maybe_cache\n",
      "    cache_dates = convert_listlike(unique_dates, format)\n",
      "                  ^^^^^^^^^^^^^^^^^^^^^^^^^^^^^^^^^^^^^^\n",
      "  File \"c:\\Users\\Huai\\miniconda3\\envs\\eeg\\Lib\\site-packages\\pandas\\core\\tools\\datetimes.py\", line 433, in _convert_listlike_datetimes\n",
      "    return _array_strptime_with_fallback(arg, name, utc, format, exact, errors)\n",
      "           ^^^^^^^^^^^^^^^^^^^^^^^^^^^^^^^^^^^^^^^^^^^^^^^^^^^^^^^^^^^^^^^^^^^^\n",
      "  File \"c:\\Users\\Huai\\miniconda3\\envs\\eeg\\Lib\\site-packages\\pandas\\core\\tools\\datetimes.py\", line 467, in _array_strptime_with_fallback\n",
      "    result, tz_out = array_strptime(arg, fmt, exact=exact, errors=errors, utc=utc)\n",
      "                     ^^^^^^^^^^^^^^^^^^^^^^^^^^^^^^^^^^^^^^^^^^^^^^^^^^^^^^^^^^^^^\n",
      "  File \"strptime.pyx\", line 501, in pandas._libs.tslibs.strptime.array_strptime\n",
      "  File \"strptime.pyx\", line 451, in pandas._libs.tslibs.strptime.array_strptime\n",
      "  File \"strptime.pyx\", line 583, in pandas._libs.tslibs.strptime._parse_with_format\n",
      "ValueError: time data \"2024-06-02 09:47:18\" doesn't match format \"%Y-%m-%d %H:%M:%S.%f\", at position 156. You might want to try:\n",
      "    - passing `format` if your strings have a consistent format;\n",
      "    - passing `format='ISO8601'` if your strings are all ISO8601 but not necessarily in exactly the same format;\n",
      "    - passing `format='mixed'`, and the format will be inferred for each element individually. You might want to use `dayfirst` alongside this.\n"
     ]
    },
    {
     "name": "stdout",
     "output_type": "stream",
     "text": [
      "2025-03-14 09:28:24,971 - eeg_classification - INFO - Step 1 completed in 39.45 seconds\n",
      "2025-03-14 09:28:24,971 - eeg_classification - INFO - Step 1 completed in 39.45 seconds\n"
     ]
    },
    {
     "name": "stderr",
     "output_type": "stream",
     "text": [
      "2025-03-14 09:28:24,971 - eeg_classification - INFO - Step 1 completed in 39.45 seconds\n"
     ]
    },
    {
     "name": "stdout",
     "output_type": "stream",
     "text": [
      "2025-03-14 09:28:24,973 - eeg_classification - INFO - \n",
      "================================================================================\n",
      "2025-03-14 09:28:24,973 - eeg_classification - INFO - \n",
      "================================================================================\n"
     ]
    },
    {
     "name": "stderr",
     "output_type": "stream",
     "text": [
      "2025-03-14 09:28:24,973 - eeg_classification - INFO - \n",
      "================================================================================\n"
     ]
    },
    {
     "name": "stdout",
     "output_type": "stream",
     "text": [
      "2025-03-14 09:28:24,976 - eeg_classification - INFO -  Step 2: Processing data and engineering features\n",
      "2025-03-14 09:28:24,976 - eeg_classification - INFO -  Step 2: Processing data and engineering features\n"
     ]
    },
    {
     "name": "stderr",
     "output_type": "stream",
     "text": [
      "2025-03-14 09:28:24,976 - eeg_classification - INFO -  Step 2: Processing data and engineering features\n"
     ]
    },
    {
     "name": "stdout",
     "output_type": "stream",
     "text": [
      "2025-03-14 09:28:24,977 - eeg_classification - INFO - ================================================================================\n",
      "2025-03-14 09:28:24,977 - eeg_classification - INFO - ================================================================================\n"
     ]
    },
    {
     "name": "stderr",
     "output_type": "stream",
     "text": [
      "2025-03-14 09:28:24,977 - eeg_classification - INFO - ================================================================================\n"
     ]
    },
    {
     "name": "stdout",
     "output_type": "stream",
     "text": [
      "2025-03-14 09:28:24,979 - eeg_classification - INFO - Analyzing data quality for sample file file_1\n",
      "2025-03-14 09:28:24,979 - eeg_classification - INFO - Analyzing data quality for sample file file_1\n"
     ]
    },
    {
     "name": "stderr",
     "output_type": "stream",
     "text": [
      "2025-03-14 09:28:24,979 - eeg_classification - INFO - Analyzing data quality for sample file file_1\n"
     ]
    },
    {
     "name": "stdout",
     "output_type": "stream",
     "text": [
      "2025-03-14 09:28:24,998 - eeg_classification - INFO - Data shape: 108335 rows × 42 columns\n",
      "2025-03-14 09:28:24,998 - eeg_classification - INFO - Data shape: 108335 rows × 42 columns\n"
     ]
    },
    {
     "name": "stderr",
     "output_type": "stream",
     "text": [
      "2025-03-14 09:28:24,998 - eeg_classification - INFO - Data shape: 108335 rows × 42 columns\n"
     ]
    },
    {
     "name": "stdout",
     "output_type": "stream",
     "text": [
      "2025-03-14 09:28:25,000 - eeg_classification - INFO - Total missing values: 116505 (2.56%)\n",
      "2025-03-14 09:28:25,000 - eeg_classification - INFO - Total missing values: 116505 (2.56%)\n"
     ]
    },
    {
     "name": "stderr",
     "output_type": "stream",
     "text": [
      "2025-03-14 09:28:25,000 - eeg_classification - INFO - Total missing values: 116505 (2.56%)\n"
     ]
    },
    {
     "name": "stdout",
     "output_type": "stream",
     "text": [
      "2025-03-14 09:28:25,019 - eeg_classification - WARNING - Found 1 columns with >50.0% NaN values:\n",
      "2025-03-14 09:28:25,019 - eeg_classification - WARNING - Found 1 columns with >50.0% NaN values:\n"
     ]
    },
    {
     "name": "stderr",
     "output_type": "stream",
     "text": [
      "2025-03-14 09:28:25,019 - eeg_classification - WARNING - Found 1 columns with >50.0% NaN values:\n"
     ]
    },
    {
     "name": "stdout",
     "output_type": "stream",
     "text": [
      "2025-03-14 09:28:25,022 - eeg_classification - WARNING -   - Elements: 99.8% NaNs (108120 values)\n",
      "2025-03-14 09:28:25,022 - eeg_classification - WARNING -   - Elements: 99.8% NaNs (108120 values)\n"
     ]
    },
    {
     "name": "stderr",
     "output_type": "stream",
     "text": [
      "2025-03-14 09:28:25,022 - eeg_classification - WARNING -   - Elements: 99.8% NaNs (108120 values)\n"
     ]
    },
    {
     "name": "stdout",
     "output_type": "stream",
     "text": [
      "2025-03-14 09:28:25,025 - eeg_classification - INFO - Found 2 columns with no NaN values\n",
      "2025-03-14 09:28:25,025 - eeg_classification - INFO - Found 2 columns with no NaN values\n"
     ]
    },
    {
     "name": "stderr",
     "output_type": "stream",
     "text": [
      "2025-03-14 09:28:25,025 - eeg_classification - INFO - Found 2 columns with no NaN values\n"
     ]
    },
    {
     "name": "stdout",
     "output_type": "stream",
     "text": [
      "2025-03-14 09:28:25,177 - eeg_classification - INFO - Recommendations based on data quality analysis:\n",
      "2025-03-14 09:28:25,177 - eeg_classification - INFO - Recommendations based on data quality analysis:\n"
     ]
    },
    {
     "name": "stderr",
     "output_type": "stream",
     "text": [
      "2025-03-14 09:28:25,177 - eeg_classification - INFO - Recommendations based on data quality analysis:\n"
     ]
    },
    {
     "name": "stdout",
     "output_type": "stream",
     "text": [
      "2025-03-14 09:28:25,179 - eeg_classification - INFO - 1. Consider dropping columns with high NaN percentages: Elements\n",
      "2025-03-14 09:28:25,179 - eeg_classification - INFO - 1. Consider dropping columns with high NaN percentages: Elements\n"
     ]
    },
    {
     "name": "stderr",
     "output_type": "stream",
     "text": [
      "2025-03-14 09:28:25,179 - eeg_classification - INFO - 1. Consider dropping columns with high NaN percentages: Elements\n"
     ]
    },
    {
     "name": "stdout",
     "output_type": "stream",
     "text": [
      "2025-03-14 09:28:25,846 - eeg_classification - INFO - Saved plot: ./eeg_bundles\\plots\\sample_data_quality.png\n",
      "2025-03-14 09:28:25,846 - eeg_classification - INFO - Saved plot: ./eeg_bundles\\plots\\sample_data_quality.png\n"
     ]
    },
    {
     "name": "stderr",
     "output_type": "stream",
     "text": [
      "2025-03-14 09:28:25,846 - eeg_classification - INFO - Saved plot: ./eeg_bundles\\plots\\sample_data_quality.png\n"
     ]
    },
    {
     "name": "stdout",
     "output_type": "stream",
     "text": [
      "2025-03-14 09:28:25,849 - eeg_classification - INFO - Saved list of ['Elements'] high-NaN columns for reference\n",
      "2025-03-14 09:28:25,849 - eeg_classification - INFO - Saved list of ['Elements'] high-NaN columns for reference\n"
     ]
    },
    {
     "name": "stderr",
     "output_type": "stream",
     "text": [
      "2025-03-14 09:28:25,849 - eeg_classification - INFO - Saved list of ['Elements'] high-NaN columns for reference\n"
     ]
    },
    {
     "name": "stdout",
     "output_type": "stream",
     "text": [
      "2025-03-14 09:28:25,851 - eeg_classification - INFO - Processing file file_1 with 108335 rows\n",
      "2025-03-14 09:28:25,851 - eeg_classification - INFO - Processing file file_1 with 108335 rows\n"
     ]
    },
    {
     "name": "stderr",
     "output_type": "stream",
     "text": [
      "2025-03-14 09:28:25,851 - eeg_classification - INFO - Processing file file_1 with 108335 rows\n"
     ]
    },
    {
     "name": "stdout",
     "output_type": "stream",
     "text": [
      "2025-03-14 09:28:25,874 - eeg_classification - WARNING - Input data for file file_1 contains 8385 NaN values\n",
      "2025-03-14 09:28:25,874 - eeg_classification - WARNING - Input data for file file_1 contains 8385 NaN values\n"
     ]
    },
    {
     "name": "stderr",
     "output_type": "stream",
     "text": [
      "2025-03-14 09:28:25,874 - eeg_classification - WARNING - Input data for file file_1 contains 8385 NaN values\n"
     ]
    },
    {
     "name": "stdout",
     "output_type": "stream",
     "text": [
      "2025-03-14 09:28:25,876 - eeg_classification - INFO - Preprocessing data with shape (108335, 41)\n",
      "2025-03-14 09:28:25,876 - eeg_classification - INFO - Preprocessing data with shape (108335, 41)\n"
     ]
    },
    {
     "name": "stderr",
     "output_type": "stream",
     "text": [
      "2025-03-14 09:28:25,876 - eeg_classification - INFO - Preprocessing data with shape (108335, 41)\n"
     ]
    },
    {
     "name": "stdout",
     "output_type": "stream",
     "text": [
      "2025-03-14 09:28:25,943 - eeg_classification - WARNING - Dropping 215 rows with invalid timestamps\n",
      "2025-03-14 09:28:25,943 - eeg_classification - WARNING - Dropping 215 rows with invalid timestamps\n"
     ]
    },
    {
     "name": "stderr",
     "output_type": "stream",
     "text": [
      "2025-03-14 09:28:25,943 - eeg_classification - WARNING - Dropping 215 rows with invalid timestamps\n"
     ]
    },
    {
     "name": "stdout",
     "output_type": "stream",
     "text": [
      "2025-03-14 09:28:25,958 - eeg_classification - INFO - Successfully converted timestamps. Remaining rows: 108120\n",
      "2025-03-14 09:28:25,958 - eeg_classification - INFO - Successfully converted timestamps. Remaining rows: 108120\n"
     ]
    },
    {
     "name": "stderr",
     "output_type": "stream",
     "text": [
      "2025-03-14 09:28:25,958 - eeg_classification - INFO - Successfully converted timestamps. Remaining rows: 108120\n"
     ]
    },
    {
     "name": "stdout",
     "output_type": "stream",
     "text": [
      "NaNs in numeric columns: TimeStamp          0\n",
      "Delta_TP9          0\n",
      "Delta_AF7          0\n",
      "Delta_AF8          0\n",
      "Delta_TP10         0\n",
      "Theta_TP9          0\n",
      "Theta_AF7          0\n",
      "Theta_AF8          0\n",
      "Theta_TP10         0\n",
      "Alpha_TP9          0\n",
      "Alpha_AF7          0\n",
      "Alpha_AF8          0\n",
      "Alpha_TP10         0\n",
      "Beta_TP9           0\n",
      "Beta_AF7           0\n",
      "Beta_AF8           0\n",
      "Beta_TP10          0\n",
      "Gamma_TP9          0\n",
      "Gamma_AF7          0\n",
      "Gamma_AF8          0\n",
      "Gamma_TP10         0\n",
      "RAW_TP9            0\n",
      "RAW_AF7            0\n",
      "RAW_AF8            0\n",
      "RAW_TP10           0\n",
      "AUX_RIGHT          0\n",
      "Mellow             0\n",
      "Concentration      0\n",
      "Accelerometer_X    0\n",
      "Accelerometer_Y    0\n",
      "Accelerometer_Z    0\n",
      "Gyro_X             0\n",
      "Gyro_Y             0\n",
      "Gyro_Z             0\n",
      "HeadBandOn         0\n",
      "HSI_TP9            0\n",
      "HSI_AF7            0\n",
      "HSI_AF8            0\n",
      "HSI_TP10           0\n",
      "Battery            0\n",
      "SourceFile         0\n",
      "dtype: int64\n",
      "2025-03-14 09:28:26,019 - eeg_classification - INFO - Data spans 422.21 seconds from 2024-06-02 09:47:17.286000 to 2024-06-02 09:54:19.497000\n",
      "2025-03-14 09:28:26,019 - eeg_classification - INFO - Data spans 422.21 seconds from 2024-06-02 09:47:17.286000 to 2024-06-02 09:54:19.497000\n"
     ]
    },
    {
     "name": "stderr",
     "output_type": "stream",
     "text": [
      "2025-03-14 09:28:26,019 - eeg_classification - INFO - Data spans 422.21 seconds from 2024-06-02 09:47:17.286000 to 2024-06-02 09:54:19.497000\n"
     ]
    },
    {
     "name": "stdout",
     "output_type": "stream",
     "text": [
      "2025-03-14 09:28:26,125 - eeg_classification - INFO - Sampling complete: 108120 -> 4250 data points (3.9%)\n",
      "2025-03-14 09:28:26,125 - eeg_classification - INFO - Sampling complete: 108120 -> 4250 data points (3.9%)\n"
     ]
    },
    {
     "name": "stderr",
     "output_type": "stream",
     "text": [
      "2025-03-14 09:28:26,125 - eeg_classification - INFO - Sampling complete: 108120 -> 4250 data points (3.9%)\n"
     ]
    },
    {
     "name": "stdout",
     "output_type": "stream",
     "text": [
      "2025-03-14 09:28:26,134 - eeg_classification - INFO - Preprocessing complete. Output shape: (4250, 41)\n",
      "2025-03-14 09:28:26,134 - eeg_classification - INFO - Preprocessing complete. Output shape: (4250, 41)\n"
     ]
    },
    {
     "name": "stderr",
     "output_type": "stream",
     "text": [
      "2025-03-14 09:28:26,134 - eeg_classification - INFO - Preprocessing complete. Output shape: (4250, 41)\n"
     ]
    },
    {
     "name": "stdout",
     "output_type": "stream",
     "text": [
      "2025-03-14 09:28:26,136 - eeg_classification - INFO - Cleaned data shape: (4250, 41)\n",
      "2025-03-14 09:28:26,136 - eeg_classification - INFO - Cleaned data shape: (4250, 41)\n"
     ]
    },
    {
     "name": "stderr",
     "output_type": "stream",
     "text": [
      "2025-03-14 09:28:26,136 - eeg_classification - INFO - Cleaned data shape: (4250, 41)\n"
     ]
    },
    {
     "name": "stdout",
     "output_type": "stream",
     "text": [
      "2025-03-14 09:28:26,138 - eeg_classification - INFO - Engineering features from data with shape (4250, 41)\n",
      "2025-03-14 09:28:26,138 - eeg_classification - INFO - Engineering features from data with shape (4250, 41)\n"
     ]
    },
    {
     "name": "stderr",
     "output_type": "stream",
     "text": [
      "2025-03-14 09:28:26,138 - eeg_classification - INFO - Engineering features from data with shape (4250, 41)\n",
      "c:\\Users\\Huai\\Documents\\GitHub\\EEG-classification\\training\\common\\preprocessing.py:155: PerformanceWarning: DataFrame is highly fragmented.  This is usually the result of calling `frame.insert` many times, which has poor performance.  Consider joining all columns at once using pd.concat(axis=1) instead. To get a de-fragmented frame, use `newframe = frame.copy()`\n",
      "  df_features[f\"{col}_std\"] = df[col].rolling(window=window_size, center=True).std()\n"
     ]
    },
    {
     "name": "stdout",
     "output_type": "stream",
     "text": [
      "2025-03-14 09:28:26,336 - eeg_classification - INFO - Feature engineering complete. Output shape: (4250, 140)\n",
      "2025-03-14 09:28:26,336 - eeg_classification - INFO - Feature engineering complete. Output shape: (4250, 140)\n"
     ]
    },
    {
     "name": "stderr",
     "output_type": "stream",
     "text": [
      "c:\\Users\\Huai\\Documents\\GitHub\\EEG-classification\\training\\common\\preprocessing.py:158: PerformanceWarning: DataFrame is highly fragmented.  This is usually the result of calling `frame.insert` many times, which has poor performance.  Consider joining all columns at once using pd.concat(axis=1) instead. To get a de-fragmented frame, use `newframe = frame.copy()`\n",
      "  df_features[f\"{col}_range\"] = (\n",
      "2025-03-14 09:28:26,336 - eeg_classification - INFO - Feature engineering complete. Output shape: (4250, 140)\n"
     ]
    },
    {
     "name": "stdout",
     "output_type": "stream",
     "text": [
      "2025-03-14 09:28:26,338 - eeg_classification - INFO - Features shape: (4250, 140)\n",
      "2025-03-14 09:28:26,338 - eeg_classification - INFO - Features shape: (4250, 140)\n"
     ]
    },
    {
     "name": "stderr",
     "output_type": "stream",
     "text": [
      "2025-03-14 09:28:26,338 - eeg_classification - INFO - Features shape: (4250, 140)\n"
     ]
    },
    {
     "name": "stdout",
     "output_type": "stream",
     "text": [
      "2025-03-14 09:28:26,345 - eeg_classification - INFO - No. of missing values after feature engineering: TimeStamp         0\n",
      "Delta_TP9         0\n",
      "Delta_AF7         0\n",
      "Delta_AF8         0\n",
      "Delta_TP10        0\n",
      "                 ..\n",
      "HSI_TP10_std      0\n",
      "HSI_TP10_range    0\n",
      "Battery_mean      0\n",
      "Battery_std       0\n",
      "Battery_range     0\n",
      "Length: 140, dtype: int64\n",
      "2025-03-14 09:28:26,345 - eeg_classification - INFO - No. of missing values after feature engineering: TimeStamp         0\n",
      "Delta_TP9         0\n",
      "Delta_AF7         0\n",
      "Delta_AF8         0\n",
      "Delta_TP10        0\n",
      "                 ..\n",
      "HSI_TP10_std      0\n",
      "HSI_TP10_range    0\n",
      "Battery_mean      0\n",
      "Battery_std       0\n",
      "Battery_range     0\n",
      "Length: 140, dtype: int64\n"
     ]
    },
    {
     "name": "stderr",
     "output_type": "stream",
     "text": [
      "2025-03-14 09:28:26,345 - eeg_classification - INFO - No. of missing values after feature engineering: TimeStamp         0\n",
      "Delta_TP9         0\n",
      "Delta_AF7         0\n",
      "Delta_AF8         0\n",
      "Delta_TP10        0\n",
      "                 ..\n",
      "HSI_TP10_std      0\n",
      "HSI_TP10_range    0\n",
      "Battery_mean      0\n",
      "Battery_std       0\n",
      "Battery_range     0\n",
      "Length: 140, dtype: int64\n"
     ]
    },
    {
     "name": "stdout",
     "output_type": "stream",
     "text": [
      "2025-03-14 09:28:26,348 - eeg_classification - INFO - Columns after feature engineering: Index(['TimeStamp', 'Delta_TP9', 'Delta_AF7', 'Delta_AF8', 'Delta_TP10',\n",
      "       'Theta_TP9', 'Theta_AF7', 'Theta_AF8', 'Theta_TP10', 'Alpha_TP9',\n",
      "       ...\n",
      "       'HSI_AF7_range', 'HSI_AF8_mean', 'HSI_AF8_std', 'HSI_AF8_range',\n",
      "       'HSI_TP10_mean', 'HSI_TP10_std', 'HSI_TP10_range', 'Battery_mean',\n",
      "       'Battery_std', 'Battery_range'],\n",
      "      dtype='object', length=140)\n",
      "2025-03-14 09:28:26,348 - eeg_classification - INFO - Columns after feature engineering: Index(['TimeStamp', 'Delta_TP9', 'Delta_AF7', 'Delta_AF8', 'Delta_TP10',\n",
      "       'Theta_TP9', 'Theta_AF7', 'Theta_AF8', 'Theta_TP10', 'Alpha_TP9',\n",
      "       ...\n",
      "       'HSI_AF7_range', 'HSI_AF8_mean', 'HSI_AF8_std', 'HSI_AF8_range',\n",
      "       'HSI_TP10_mean', 'HSI_TP10_std', 'HSI_TP10_range', 'Battery_mean',\n",
      "       'Battery_std', 'Battery_range'],\n",
      "      dtype='object', length=140)\n"
     ]
    },
    {
     "name": "stderr",
     "output_type": "stream",
     "text": [
      "2025-03-14 09:28:26,348 - eeg_classification - INFO - Columns after feature engineering: Index(['TimeStamp', 'Delta_TP9', 'Delta_AF7', 'Delta_AF8', 'Delta_TP10',\n",
      "       'Theta_TP9', 'Theta_AF7', 'Theta_AF8', 'Theta_TP10', 'Alpha_TP9',\n",
      "       ...\n",
      "       'HSI_AF7_range', 'HSI_AF8_mean', 'HSI_AF8_std', 'HSI_AF8_range',\n",
      "       'HSI_TP10_mean', 'HSI_TP10_std', 'HSI_TP10_range', 'Battery_mean',\n",
      "       'Battery_std', 'Battery_range'],\n",
      "      dtype='object', length=140)\n"
     ]
    },
    {
     "name": "stdout",
     "output_type": "stream",
     "text": [
      "2025-03-14 09:28:26,355 - eeg_classification - WARNING - Too many columns (138). Showing only the first 5.\n",
      "2025-03-14 09:28:26,355 - eeg_classification - WARNING - Too many columns (138). Showing only the first 5.\n"
     ]
    },
    {
     "name": "stderr",
     "output_type": "stream",
     "text": [
      "2025-03-14 09:28:26,355 - eeg_classification - WARNING - Too many columns (138). Showing only the first 5.\n"
     ]
    },
    {
     "name": "stdout",
     "output_type": "stream",
     "text": [
      "2025-03-14 09:28:27,367 - eeg_classification - INFO - Saved plot: ./eeg_bundles\\plots\\processed_eeg_data.png\n",
      "2025-03-14 09:28:27,367 - eeg_classification - INFO - Saved plot: ./eeg_bundles\\plots\\processed_eeg_data.png\n"
     ]
    },
    {
     "name": "stderr",
     "output_type": "stream",
     "text": [
      "2025-03-14 09:28:27,367 - eeg_classification - INFO - Saved plot: ./eeg_bundles\\plots\\processed_eeg_data.png\n"
     ]
    },
    {
     "name": "stdout",
     "output_type": "stream",
     "text": [
      "2025-03-14 09:28:27,517 - eeg_classification - INFO - Processing file file_2 with 75708 rows\n",
      "2025-03-14 09:28:27,517 - eeg_classification - INFO - Processing file file_2 with 75708 rows\n"
     ]
    },
    {
     "name": "stderr",
     "output_type": "stream",
     "text": [
      "2025-03-14 09:28:27,517 - eeg_classification - INFO - Processing file file_2 with 75708 rows\n"
     ]
    },
    {
     "name": "stdout",
     "output_type": "stream",
     "text": [
      "2025-03-14 09:28:27,536 - eeg_classification - WARNING - Input data for file file_2 contains 3048 NaN values\n",
      "2025-03-14 09:28:27,536 - eeg_classification - WARNING - Input data for file file_2 contains 3048 NaN values\n"
     ]
    },
    {
     "name": "stderr",
     "output_type": "stream",
     "text": [
      "2025-03-14 09:28:27,536 - eeg_classification - WARNING - Input data for file file_2 contains 3048 NaN values\n"
     ]
    },
    {
     "name": "stdout",
     "output_type": "stream",
     "text": [
      "2025-03-14 09:28:27,538 - eeg_classification - INFO - Preprocessing data with shape (75708, 41)\n",
      "2025-03-14 09:28:27,538 - eeg_classification - INFO - Preprocessing data with shape (75708, 41)\n"
     ]
    },
    {
     "name": "stderr",
     "output_type": "stream",
     "text": [
      "2025-03-14 09:28:27,538 - eeg_classification - INFO - Preprocessing data with shape (75708, 41)\n"
     ]
    },
    {
     "name": "stdout",
     "output_type": "stream",
     "text": [
      "2025-03-14 09:28:27,586 - eeg_classification - WARNING - Dropping 48 rows with invalid timestamps\n",
      "2025-03-14 09:28:27,586 - eeg_classification - WARNING - Dropping 48 rows with invalid timestamps\n"
     ]
    },
    {
     "name": "stderr",
     "output_type": "stream",
     "text": [
      "2025-03-14 09:28:27,586 - eeg_classification - WARNING - Dropping 48 rows with invalid timestamps\n"
     ]
    },
    {
     "name": "stdout",
     "output_type": "stream",
     "text": [
      "2025-03-14 09:28:27,599 - eeg_classification - INFO - Successfully converted timestamps. Remaining rows: 75660\n",
      "2025-03-14 09:28:27,599 - eeg_classification - INFO - Successfully converted timestamps. Remaining rows: 75660\n"
     ]
    },
    {
     "name": "stderr",
     "output_type": "stream",
     "text": [
      "2025-03-14 09:28:27,599 - eeg_classification - INFO - Successfully converted timestamps. Remaining rows: 75660\n"
     ]
    },
    {
     "name": "stdout",
     "output_type": "stream",
     "text": [
      "NaNs in numeric columns: TimeStamp          0\n",
      "Delta_TP9          0\n",
      "Delta_AF7          0\n",
      "Delta_AF8          0\n",
      "Delta_TP10         0\n",
      "Theta_TP9          0\n",
      "Theta_AF7          0\n",
      "Theta_AF8          0\n",
      "Theta_TP10         0\n",
      "Alpha_TP9          0\n",
      "Alpha_AF7          0\n",
      "Alpha_AF8          0\n",
      "Alpha_TP10         0\n",
      "Beta_TP9           0\n",
      "Beta_AF7           0\n",
      "Beta_AF8           0\n",
      "Beta_TP10          0\n",
      "Gamma_TP9          0\n",
      "Gamma_AF7          0\n",
      "Gamma_AF8          0\n",
      "Gamma_TP10         0\n",
      "RAW_TP9            0\n",
      "RAW_AF7            0\n",
      "RAW_AF8            0\n",
      "RAW_TP10           0\n",
      "AUX_RIGHT          0\n",
      "Mellow             0\n",
      "Concentration      0\n",
      "Accelerometer_X    0\n",
      "Accelerometer_Y    0\n",
      "Accelerometer_Z    0\n",
      "Gyro_X             0\n",
      "Gyro_Y             0\n",
      "Gyro_Z             0\n",
      "HeadBandOn         0\n",
      "HSI_TP9            0\n",
      "HSI_AF7            0\n",
      "HSI_AF8            0\n",
      "HSI_TP10           0\n",
      "Battery            0\n",
      "SourceFile         0\n",
      "dtype: int64\n",
      "2025-03-14 09:28:27,648 - eeg_classification - INFO - Data spans 295.30 seconds from 2024-06-03 05:38:00.925000 to 2024-06-03 05:42:56.225000\n",
      "2025-03-14 09:28:27,648 - eeg_classification - INFO - Data spans 295.30 seconds from 2024-06-03 05:38:00.925000 to 2024-06-03 05:42:56.225000\n"
     ]
    },
    {
     "name": "stderr",
     "output_type": "stream",
     "text": [
      "2025-03-14 09:28:27,648 - eeg_classification - INFO - Data spans 295.30 seconds from 2024-06-03 05:38:00.925000 to 2024-06-03 05:42:56.225000\n"
     ]
    },
    {
     "name": "stdout",
     "output_type": "stream",
     "text": [
      "2025-03-14 09:28:27,710 - eeg_classification - INFO - Sampling complete: 75204 -> 3000 data points (4.0%)\n",
      "2025-03-14 09:28:27,710 - eeg_classification - INFO - Sampling complete: 75204 -> 3000 data points (4.0%)\n"
     ]
    },
    {
     "name": "stderr",
     "output_type": "stream",
     "text": [
      "2025-03-14 09:28:27,710 - eeg_classification - INFO - Sampling complete: 75204 -> 3000 data points (4.0%)\n"
     ]
    },
    {
     "name": "stdout",
     "output_type": "stream",
     "text": [
      "2025-03-14 09:28:27,715 - eeg_classification - INFO - Preprocessing complete. Output shape: (3000, 41)\n",
      "2025-03-14 09:28:27,715 - eeg_classification - INFO - Preprocessing complete. Output shape: (3000, 41)\n"
     ]
    },
    {
     "name": "stderr",
     "output_type": "stream",
     "text": [
      "2025-03-14 09:28:27,715 - eeg_classification - INFO - Preprocessing complete. Output shape: (3000, 41)\n"
     ]
    },
    {
     "name": "stdout",
     "output_type": "stream",
     "text": [
      "2025-03-14 09:28:27,717 - eeg_classification - INFO - Cleaned data shape: (3000, 41)\n",
      "2025-03-14 09:28:27,717 - eeg_classification - INFO - Cleaned data shape: (3000, 41)\n"
     ]
    },
    {
     "name": "stderr",
     "output_type": "stream",
     "text": [
      "2025-03-14 09:28:27,717 - eeg_classification - INFO - Cleaned data shape: (3000, 41)\n"
     ]
    },
    {
     "name": "stdout",
     "output_type": "stream",
     "text": [
      "2025-03-14 09:28:27,719 - eeg_classification - INFO - Engineering features from data with shape (3000, 41)\n",
      "2025-03-14 09:28:27,719 - eeg_classification - INFO - Engineering features from data with shape (3000, 41)\n"
     ]
    },
    {
     "name": "stderr",
     "output_type": "stream",
     "text": [
      "2025-03-14 09:28:27,719 - eeg_classification - INFO - Engineering features from data with shape (3000, 41)\n",
      "c:\\Users\\Huai\\Documents\\GitHub\\EEG-classification\\training\\common\\preprocessing.py:155: PerformanceWarning: DataFrame is highly fragmented.  This is usually the result of calling `frame.insert` many times, which has poor performance.  Consider joining all columns at once using pd.concat(axis=1) instead. To get a de-fragmented frame, use `newframe = frame.copy()`\n",
      "  df_features[f\"{col}_std\"] = df[col].rolling(window=window_size, center=True).std()\n"
     ]
    },
    {
     "name": "stdout",
     "output_type": "stream",
     "text": [
      "2025-03-14 09:28:27,865 - eeg_classification - INFO - Feature engineering complete. Output shape: (3000, 140)\n",
      "2025-03-14 09:28:27,865 - eeg_classification - INFO - Feature engineering complete. Output shape: (3000, 140)\n"
     ]
    },
    {
     "name": "stderr",
     "output_type": "stream",
     "text": [
      "c:\\Users\\Huai\\Documents\\GitHub\\EEG-classification\\training\\common\\preprocessing.py:158: PerformanceWarning: DataFrame is highly fragmented.  This is usually the result of calling `frame.insert` many times, which has poor performance.  Consider joining all columns at once using pd.concat(axis=1) instead. To get a de-fragmented frame, use `newframe = frame.copy()`\n",
      "  df_features[f\"{col}_range\"] = (\n",
      "2025-03-14 09:28:27,865 - eeg_classification - INFO - Feature engineering complete. Output shape: (3000, 140)\n"
     ]
    },
    {
     "name": "stdout",
     "output_type": "stream",
     "text": [
      "2025-03-14 09:28:27,867 - eeg_classification - INFO - Features shape: (3000, 140)\n",
      "2025-03-14 09:28:27,867 - eeg_classification - INFO - Features shape: (3000, 140)\n"
     ]
    },
    {
     "name": "stderr",
     "output_type": "stream",
     "text": [
      "2025-03-14 09:28:27,867 - eeg_classification - INFO - Features shape: (3000, 140)\n"
     ]
    },
    {
     "name": "stdout",
     "output_type": "stream",
     "text": [
      "2025-03-14 09:28:27,874 - eeg_classification - INFO - No. of missing values after feature engineering: TimeStamp         0\n",
      "Delta_TP9         0\n",
      "Delta_AF7         0\n",
      "Delta_AF8         0\n",
      "Delta_TP10        0\n",
      "                 ..\n",
      "HSI_TP10_std      0\n",
      "HSI_TP10_range    0\n",
      "Battery_mean      0\n",
      "Battery_std       0\n",
      "Battery_range     0\n",
      "Length: 140, dtype: int64\n",
      "2025-03-14 09:28:27,874 - eeg_classification - INFO - No. of missing values after feature engineering: TimeStamp         0\n",
      "Delta_TP9         0\n",
      "Delta_AF7         0\n",
      "Delta_AF8         0\n",
      "Delta_TP10        0\n",
      "                 ..\n",
      "HSI_TP10_std      0\n",
      "HSI_TP10_range    0\n",
      "Battery_mean      0\n",
      "Battery_std       0\n",
      "Battery_range     0\n",
      "Length: 140, dtype: int64\n"
     ]
    },
    {
     "name": "stderr",
     "output_type": "stream",
     "text": [
      "2025-03-14 09:28:27,874 - eeg_classification - INFO - No. of missing values after feature engineering: TimeStamp         0\n",
      "Delta_TP9         0\n",
      "Delta_AF7         0\n",
      "Delta_AF8         0\n",
      "Delta_TP10        0\n",
      "                 ..\n",
      "HSI_TP10_std      0\n",
      "HSI_TP10_range    0\n",
      "Battery_mean      0\n",
      "Battery_std       0\n",
      "Battery_range     0\n",
      "Length: 140, dtype: int64\n"
     ]
    },
    {
     "name": "stdout",
     "output_type": "stream",
     "text": [
      "2025-03-14 09:28:27,877 - eeg_classification - INFO - Columns after feature engineering: Index(['TimeStamp', 'Delta_TP9', 'Delta_AF7', 'Delta_AF8', 'Delta_TP10',\n",
      "       'Theta_TP9', 'Theta_AF7', 'Theta_AF8', 'Theta_TP10', 'Alpha_TP9',\n",
      "       ...\n",
      "       'HSI_AF7_range', 'HSI_AF8_mean', 'HSI_AF8_std', 'HSI_AF8_range',\n",
      "       'HSI_TP10_mean', 'HSI_TP10_std', 'HSI_TP10_range', 'Battery_mean',\n",
      "       'Battery_std', 'Battery_range'],\n",
      "      dtype='object', length=140)\n",
      "2025-03-14 09:28:27,877 - eeg_classification - INFO - Columns after feature engineering: Index(['TimeStamp', 'Delta_TP9', 'Delta_AF7', 'Delta_AF8', 'Delta_TP10',\n",
      "       'Theta_TP9', 'Theta_AF7', 'Theta_AF8', 'Theta_TP10', 'Alpha_TP9',\n",
      "       ...\n",
      "       'HSI_AF7_range', 'HSI_AF8_mean', 'HSI_AF8_std', 'HSI_AF8_range',\n",
      "       'HSI_TP10_mean', 'HSI_TP10_std', 'HSI_TP10_range', 'Battery_mean',\n",
      "       'Battery_std', 'Battery_range'],\n",
      "      dtype='object', length=140)\n"
     ]
    },
    {
     "name": "stderr",
     "output_type": "stream",
     "text": [
      "2025-03-14 09:28:27,877 - eeg_classification - INFO - Columns after feature engineering: Index(['TimeStamp', 'Delta_TP9', 'Delta_AF7', 'Delta_AF8', 'Delta_TP10',\n",
      "       'Theta_TP9', 'Theta_AF7', 'Theta_AF8', 'Theta_TP10', 'Alpha_TP9',\n",
      "       ...\n",
      "       'HSI_AF7_range', 'HSI_AF8_mean', 'HSI_AF8_std', 'HSI_AF8_range',\n",
      "       'HSI_TP10_mean', 'HSI_TP10_std', 'HSI_TP10_range', 'Battery_mean',\n",
      "       'Battery_std', 'Battery_range'],\n",
      "      dtype='object', length=140)\n"
     ]
    },
    {
     "name": "stdout",
     "output_type": "stream",
     "text": [
      "2025-03-14 09:28:28,015 - eeg_classification - INFO - Processing file file_3 with 129164 rows\n",
      "2025-03-14 09:28:28,015 - eeg_classification - INFO - Processing file file_3 with 129164 rows\n"
     ]
    },
    {
     "name": "stderr",
     "output_type": "stream",
     "text": [
      "2025-03-14 09:28:28,015 - eeg_classification - INFO - Processing file file_3 with 129164 rows\n"
     ]
    },
    {
     "name": "stdout",
     "output_type": "stream",
     "text": [
      "2025-03-14 09:28:28,044 - eeg_classification - WARNING - Input data for file file_3 contains 4992 NaN values\n",
      "2025-03-14 09:28:28,044 - eeg_classification - WARNING - Input data for file file_3 contains 4992 NaN values\n"
     ]
    },
    {
     "name": "stderr",
     "output_type": "stream",
     "text": [
      "2025-03-14 09:28:28,044 - eeg_classification - WARNING - Input data for file file_3 contains 4992 NaN values\n"
     ]
    },
    {
     "name": "stdout",
     "output_type": "stream",
     "text": [
      "2025-03-14 09:28:28,046 - eeg_classification - INFO - Preprocessing data with shape (129164, 41)\n",
      "2025-03-14 09:28:28,046 - eeg_classification - INFO - Preprocessing data with shape (129164, 41)\n"
     ]
    },
    {
     "name": "stderr",
     "output_type": "stream",
     "text": [
      "2025-03-14 09:28:28,046 - eeg_classification - INFO - Preprocessing data with shape (129164, 41)\n"
     ]
    },
    {
     "name": "stdout",
     "output_type": "stream",
     "text": [
      "2025-03-14 09:28:28,125 - eeg_classification - WARNING - Dropping 128 rows with invalid timestamps\n",
      "2025-03-14 09:28:28,125 - eeg_classification - WARNING - Dropping 128 rows with invalid timestamps\n"
     ]
    },
    {
     "name": "stderr",
     "output_type": "stream",
     "text": [
      "2025-03-14 09:28:28,125 - eeg_classification - WARNING - Dropping 128 rows with invalid timestamps\n"
     ]
    },
    {
     "name": "stdout",
     "output_type": "stream",
     "text": [
      "2025-03-14 09:28:28,144 - eeg_classification - INFO - Successfully converted timestamps. Remaining rows: 129036\n",
      "2025-03-14 09:28:28,144 - eeg_classification - INFO - Successfully converted timestamps. Remaining rows: 129036\n"
     ]
    },
    {
     "name": "stderr",
     "output_type": "stream",
     "text": [
      "2025-03-14 09:28:28,144 - eeg_classification - INFO - Successfully converted timestamps. Remaining rows: 129036\n"
     ]
    },
    {
     "name": "stdout",
     "output_type": "stream",
     "text": [
      "NaNs in numeric columns: TimeStamp          0\n",
      "Delta_TP9          0\n",
      "Delta_AF7          0\n",
      "Delta_AF8          0\n",
      "Delta_TP10         0\n",
      "Theta_TP9          0\n",
      "Theta_AF7          0\n",
      "Theta_AF8          0\n",
      "Theta_TP10         0\n",
      "Alpha_TP9          0\n",
      "Alpha_AF7          0\n",
      "Alpha_AF8          0\n",
      "Alpha_TP10         0\n",
      "Beta_TP9           0\n",
      "Beta_AF7           0\n",
      "Beta_AF8           0\n",
      "Beta_TP10          0\n",
      "Gamma_TP9          0\n",
      "Gamma_AF7          0\n",
      "Gamma_AF8          0\n",
      "Gamma_TP10         0\n",
      "RAW_TP9            0\n",
      "RAW_AF7            0\n",
      "RAW_AF8            0\n",
      "RAW_TP10           0\n",
      "AUX_RIGHT          0\n",
      "Mellow             0\n",
      "Concentration      0\n",
      "Accelerometer_X    0\n",
      "Accelerometer_Y    0\n",
      "Accelerometer_Z    0\n",
      "Gyro_X             0\n",
      "Gyro_Y             0\n",
      "Gyro_Z             0\n",
      "HeadBandOn         0\n",
      "HSI_TP9            0\n",
      "HSI_AF7            0\n",
      "HSI_AF8            0\n",
      "HSI_TP10           0\n",
      "Battery            0\n",
      "SourceFile         0\n",
      "dtype: int64\n",
      "2025-03-14 09:28:28,220 - eeg_classification - INFO - Data spans 503.95 seconds from 2024-06-05 17:23:37.961000 to 2024-06-05 17:32:01.910000\n",
      "2025-03-14 09:28:28,220 - eeg_classification - INFO - Data spans 503.95 seconds from 2024-06-05 17:23:37.961000 to 2024-06-05 17:32:01.910000\n"
     ]
    },
    {
     "name": "stderr",
     "output_type": "stream",
     "text": [
      "2025-03-14 09:28:28,220 - eeg_classification - INFO - Data spans 503.95 seconds from 2024-06-05 17:23:37.961000 to 2024-06-05 17:32:01.910000\n"
     ]
    },
    {
     "name": "stdout",
     "output_type": "stream",
     "text": [
      "2025-03-14 09:28:28,351 - eeg_classification - INFO - Sampling complete: 129036 -> 5050 data points (3.9%)\n",
      "2025-03-14 09:28:28,351 - eeg_classification - INFO - Sampling complete: 129036 -> 5050 data points (3.9%)\n"
     ]
    },
    {
     "name": "stderr",
     "output_type": "stream",
     "text": [
      "2025-03-14 09:28:28,351 - eeg_classification - INFO - Sampling complete: 129036 -> 5050 data points (3.9%)\n"
     ]
    },
    {
     "name": "stdout",
     "output_type": "stream",
     "text": [
      "2025-03-14 09:28:28,360 - eeg_classification - INFO - Preprocessing complete. Output shape: (5050, 41)\n",
      "2025-03-14 09:28:28,360 - eeg_classification - INFO - Preprocessing complete. Output shape: (5050, 41)\n"
     ]
    },
    {
     "name": "stderr",
     "output_type": "stream",
     "text": [
      "2025-03-14 09:28:28,360 - eeg_classification - INFO - Preprocessing complete. Output shape: (5050, 41)\n"
     ]
    },
    {
     "name": "stdout",
     "output_type": "stream",
     "text": [
      "2025-03-14 09:28:28,363 - eeg_classification - INFO - Cleaned data shape: (5050, 41)\n",
      "2025-03-14 09:28:28,363 - eeg_classification - INFO - Cleaned data shape: (5050, 41)\n"
     ]
    },
    {
     "name": "stderr",
     "output_type": "stream",
     "text": [
      "2025-03-14 09:28:28,363 - eeg_classification - INFO - Cleaned data shape: (5050, 41)\n"
     ]
    },
    {
     "name": "stdout",
     "output_type": "stream",
     "text": [
      "2025-03-14 09:28:28,366 - eeg_classification - INFO - Engineering features from data with shape (5050, 41)\n",
      "2025-03-14 09:28:28,366 - eeg_classification - INFO - Engineering features from data with shape (5050, 41)\n"
     ]
    },
    {
     "name": "stderr",
     "output_type": "stream",
     "text": [
      "2025-03-14 09:28:28,366 - eeg_classification - INFO - Engineering features from data with shape (5050, 41)\n",
      "c:\\Users\\Huai\\Documents\\GitHub\\EEG-classification\\training\\common\\preprocessing.py:155: PerformanceWarning: DataFrame is highly fragmented.  This is usually the result of calling `frame.insert` many times, which has poor performance.  Consider joining all columns at once using pd.concat(axis=1) instead. To get a de-fragmented frame, use `newframe = frame.copy()`\n",
      "  df_features[f\"{col}_std\"] = df[col].rolling(window=window_size, center=True).std()\n"
     ]
    },
    {
     "name": "stdout",
     "output_type": "stream",
     "text": [
      "2025-03-14 09:28:28,591 - eeg_classification - INFO - Feature engineering complete. Output shape: (5050, 140)\n",
      "2025-03-14 09:28:28,591 - eeg_classification - INFO - Feature engineering complete. Output shape: (5050, 140)\n"
     ]
    },
    {
     "name": "stderr",
     "output_type": "stream",
     "text": [
      "c:\\Users\\Huai\\Documents\\GitHub\\EEG-classification\\training\\common\\preprocessing.py:158: PerformanceWarning: DataFrame is highly fragmented.  This is usually the result of calling `frame.insert` many times, which has poor performance.  Consider joining all columns at once using pd.concat(axis=1) instead. To get a de-fragmented frame, use `newframe = frame.copy()`\n",
      "  df_features[f\"{col}_range\"] = (\n",
      "2025-03-14 09:28:28,591 - eeg_classification - INFO - Feature engineering complete. Output shape: (5050, 140)\n"
     ]
    },
    {
     "name": "stdout",
     "output_type": "stream",
     "text": [
      "2025-03-14 09:28:28,593 - eeg_classification - INFO - Features shape: (5050, 140)\n",
      "2025-03-14 09:28:28,593 - eeg_classification - INFO - Features shape: (5050, 140)\n"
     ]
    },
    {
     "name": "stderr",
     "output_type": "stream",
     "text": [
      "2025-03-14 09:28:28,593 - eeg_classification - INFO - Features shape: (5050, 140)\n"
     ]
    },
    {
     "name": "stdout",
     "output_type": "stream",
     "text": [
      "2025-03-14 09:28:28,601 - eeg_classification - INFO - No. of missing values after feature engineering: TimeStamp         0\n",
      "Delta_TP9         0\n",
      "Delta_AF7         0\n",
      "Delta_AF8         0\n",
      "Delta_TP10        0\n",
      "                 ..\n",
      "HSI_TP10_std      0\n",
      "HSI_TP10_range    0\n",
      "Battery_mean      0\n",
      "Battery_std       0\n",
      "Battery_range     0\n",
      "Length: 140, dtype: int64\n",
      "2025-03-14 09:28:28,601 - eeg_classification - INFO - No. of missing values after feature engineering: TimeStamp         0\n",
      "Delta_TP9         0\n",
      "Delta_AF7         0\n",
      "Delta_AF8         0\n",
      "Delta_TP10        0\n",
      "                 ..\n",
      "HSI_TP10_std      0\n",
      "HSI_TP10_range    0\n",
      "Battery_mean      0\n",
      "Battery_std       0\n",
      "Battery_range     0\n",
      "Length: 140, dtype: int64\n"
     ]
    },
    {
     "name": "stderr",
     "output_type": "stream",
     "text": [
      "2025-03-14 09:28:28,601 - eeg_classification - INFO - No. of missing values after feature engineering: TimeStamp         0\n",
      "Delta_TP9         0\n",
      "Delta_AF7         0\n",
      "Delta_AF8         0\n",
      "Delta_TP10        0\n",
      "                 ..\n",
      "HSI_TP10_std      0\n",
      "HSI_TP10_range    0\n",
      "Battery_mean      0\n",
      "Battery_std       0\n",
      "Battery_range     0\n",
      "Length: 140, dtype: int64\n"
     ]
    },
    {
     "name": "stdout",
     "output_type": "stream",
     "text": [
      "2025-03-14 09:28:28,603 - eeg_classification - INFO - Columns after feature engineering: Index(['TimeStamp', 'Delta_TP9', 'Delta_AF7', 'Delta_AF8', 'Delta_TP10',\n",
      "       'Theta_TP9', 'Theta_AF7', 'Theta_AF8', 'Theta_TP10', 'Alpha_TP9',\n",
      "       ...\n",
      "       'HSI_AF7_range', 'HSI_AF8_mean', 'HSI_AF8_std', 'HSI_AF8_range',\n",
      "       'HSI_TP10_mean', 'HSI_TP10_std', 'HSI_TP10_range', 'Battery_mean',\n",
      "       'Battery_std', 'Battery_range'],\n",
      "      dtype='object', length=140)\n",
      "2025-03-14 09:28:28,603 - eeg_classification - INFO - Columns after feature engineering: Index(['TimeStamp', 'Delta_TP9', 'Delta_AF7', 'Delta_AF8', 'Delta_TP10',\n",
      "       'Theta_TP9', 'Theta_AF7', 'Theta_AF8', 'Theta_TP10', 'Alpha_TP9',\n",
      "       ...\n",
      "       'HSI_AF7_range', 'HSI_AF8_mean', 'HSI_AF8_std', 'HSI_AF8_range',\n",
      "       'HSI_TP10_mean', 'HSI_TP10_std', 'HSI_TP10_range', 'Battery_mean',\n",
      "       'Battery_std', 'Battery_range'],\n",
      "      dtype='object', length=140)\n"
     ]
    },
    {
     "name": "stderr",
     "output_type": "stream",
     "text": [
      "2025-03-14 09:28:28,603 - eeg_classification - INFO - Columns after feature engineering: Index(['TimeStamp', 'Delta_TP9', 'Delta_AF7', 'Delta_AF8', 'Delta_TP10',\n",
      "       'Theta_TP9', 'Theta_AF7', 'Theta_AF8', 'Theta_TP10', 'Alpha_TP9',\n",
      "       ...\n",
      "       'HSI_AF7_range', 'HSI_AF8_mean', 'HSI_AF8_std', 'HSI_AF8_range',\n",
      "       'HSI_TP10_mean', 'HSI_TP10_std', 'HSI_TP10_range', 'Battery_mean',\n",
      "       'Battery_std', 'Battery_range'],\n",
      "      dtype='object', length=140)\n"
     ]
    },
    {
     "name": "stdout",
     "output_type": "stream",
     "text": [
      "2025-03-14 09:28:28,818 - eeg_classification - INFO - Processing file file_4 with 308318 rows\n",
      "2025-03-14 09:28:28,818 - eeg_classification - INFO - Processing file file_4 with 308318 rows\n"
     ]
    },
    {
     "name": "stderr",
     "output_type": "stream",
     "text": [
      "2025-03-14 09:28:28,818 - eeg_classification - INFO - Processing file file_4 with 308318 rows\n"
     ]
    },
    {
     "name": "stdout",
     "output_type": "stream",
     "text": [
      "2025-03-14 09:28:28,877 - eeg_classification - WARNING - Input data for file file_4 contains 662202 NaN values\n",
      "2025-03-14 09:28:28,877 - eeg_classification - WARNING - Input data for file file_4 contains 662202 NaN values\n"
     ]
    },
    {
     "name": "stderr",
     "output_type": "stream",
     "text": [
      "2025-03-14 09:28:28,877 - eeg_classification - WARNING - Input data for file file_4 contains 662202 NaN values\n"
     ]
    },
    {
     "name": "stdout",
     "output_type": "stream",
     "text": [
      "2025-03-14 09:28:28,878 - eeg_classification - INFO - Preprocessing data with shape (308318, 41)\n",
      "2025-03-14 09:28:28,878 - eeg_classification - INFO - Preprocessing data with shape (308318, 41)\n"
     ]
    },
    {
     "name": "stderr",
     "output_type": "stream",
     "text": [
      "2025-03-14 09:28:28,878 - eeg_classification - INFO - Preprocessing data with shape (308318, 41)\n"
     ]
    },
    {
     "name": "stdout",
     "output_type": "stream",
     "text": [
      "2025-03-14 09:28:29,099 - eeg_classification - WARNING - Dropping 146 rows with invalid timestamps\n",
      "2025-03-14 09:28:29,099 - eeg_classification - WARNING - Dropping 146 rows with invalid timestamps\n"
     ]
    },
    {
     "name": "stderr",
     "output_type": "stream",
     "text": [
      "2025-03-14 09:28:29,099 - eeg_classification - WARNING - Dropping 146 rows with invalid timestamps\n"
     ]
    },
    {
     "name": "stdout",
     "output_type": "stream",
     "text": [
      "2025-03-14 09:28:29,137 - eeg_classification - INFO - Successfully converted timestamps. Remaining rows: 308172\n",
      "2025-03-14 09:28:29,137 - eeg_classification - INFO - Successfully converted timestamps. Remaining rows: 308172\n"
     ]
    },
    {
     "name": "stderr",
     "output_type": "stream",
     "text": [
      "2025-03-14 09:28:29,137 - eeg_classification - INFO - Successfully converted timestamps. Remaining rows: 308172\n"
     ]
    },
    {
     "name": "stdout",
     "output_type": "stream",
     "text": [
      "NaNs in numeric columns: TimeStamp          0\n",
      "Delta_TP9          0\n",
      "Delta_AF7          0\n",
      "Delta_AF8          0\n",
      "Delta_TP10         0\n",
      "Theta_TP9          0\n",
      "Theta_AF7          0\n",
      "Theta_AF8          0\n",
      "Theta_TP10         0\n",
      "Alpha_TP9          0\n",
      "Alpha_AF7          0\n",
      "Alpha_AF8          0\n",
      "Alpha_TP10         0\n",
      "Beta_TP9           0\n",
      "Beta_AF7           0\n",
      "Beta_AF8           0\n",
      "Beta_TP10          0\n",
      "Gamma_TP9          0\n",
      "Gamma_AF7          0\n",
      "Gamma_AF8          0\n",
      "Gamma_TP10         0\n",
      "RAW_TP9            0\n",
      "RAW_AF7            0\n",
      "RAW_AF8            0\n",
      "RAW_TP10           0\n",
      "AUX_RIGHT          0\n",
      "Mellow             0\n",
      "Concentration      0\n",
      "Accelerometer_X    0\n",
      "Accelerometer_Y    0\n",
      "Accelerometer_Z    0\n",
      "Gyro_X             0\n",
      "Gyro_Y             0\n",
      "Gyro_Z             0\n",
      "HeadBandOn         0\n",
      "HSI_TP9            0\n",
      "HSI_AF7            0\n",
      "HSI_AF8            0\n",
      "HSI_TP10           0\n",
      "Battery            0\n",
      "SourceFile         0\n",
      "dtype: int64\n",
      "2025-03-14 09:28:29,310 - eeg_classification - INFO - Data spans 1247.12 seconds from 2024-06-05 17:33:40.475000 to 2024-06-05 17:54:27.593000\n",
      "2025-03-14 09:28:29,310 - eeg_classification - INFO - Data spans 1247.12 seconds from 2024-06-05 17:33:40.475000 to 2024-06-05 17:54:27.593000\n"
     ]
    },
    {
     "name": "stderr",
     "output_type": "stream",
     "text": [
      "2025-03-14 09:28:29,310 - eeg_classification - INFO - Data spans 1247.12 seconds from 2024-06-05 17:33:40.475000 to 2024-06-05 17:54:27.593000\n"
     ]
    },
    {
     "name": "stdout",
     "output_type": "stream",
     "text": [
      "2025-03-14 09:28:29,585 - eeg_classification - INFO - Sampling complete: 93276 -> 12082 data points (13.0%)\n",
      "2025-03-14 09:28:29,585 - eeg_classification - INFO - Sampling complete: 93276 -> 12082 data points (13.0%)\n"
     ]
    },
    {
     "name": "stderr",
     "output_type": "stream",
     "text": [
      "2025-03-14 09:28:29,585 - eeg_classification - INFO - Sampling complete: 93276 -> 12082 data points (13.0%)\n"
     ]
    },
    {
     "name": "stdout",
     "output_type": "stream",
     "text": [
      "2025-03-14 09:28:29,593 - eeg_classification - INFO - Preprocessing complete. Output shape: (12082, 41)\n",
      "2025-03-14 09:28:29,593 - eeg_classification - INFO - Preprocessing complete. Output shape: (12082, 41)\n"
     ]
    },
    {
     "name": "stderr",
     "output_type": "stream",
     "text": [
      "2025-03-14 09:28:29,593 - eeg_classification - INFO - Preprocessing complete. Output shape: (12082, 41)\n"
     ]
    },
    {
     "name": "stdout",
     "output_type": "stream",
     "text": [
      "2025-03-14 09:28:29,595 - eeg_classification - INFO - Cleaned data shape: (12082, 41)\n",
      "2025-03-14 09:28:29,595 - eeg_classification - INFO - Cleaned data shape: (12082, 41)\n"
     ]
    },
    {
     "name": "stderr",
     "output_type": "stream",
     "text": [
      "2025-03-14 09:28:29,595 - eeg_classification - INFO - Cleaned data shape: (12082, 41)\n"
     ]
    },
    {
     "name": "stdout",
     "output_type": "stream",
     "text": [
      "2025-03-14 09:28:29,597 - eeg_classification - INFO - Engineering features from data with shape (12082, 41)\n",
      "2025-03-14 09:28:29,597 - eeg_classification - INFO - Engineering features from data with shape (12082, 41)\n"
     ]
    },
    {
     "name": "stderr",
     "output_type": "stream",
     "text": [
      "2025-03-14 09:28:29,597 - eeg_classification - INFO - Engineering features from data with shape (12082, 41)\n"
     ]
    },
    {
     "name": "stdout",
     "output_type": "stream",
     "text": [
      "2025-03-14 09:28:30,087 - eeg_classification - INFO - Feature engineering complete. Output shape: (12082, 140)\n",
      "2025-03-14 09:28:30,087 - eeg_classification - INFO - Feature engineering complete. Output shape: (12082, 140)\n"
     ]
    },
    {
     "name": "stderr",
     "output_type": "stream",
     "text": [
      "c:\\Users\\Huai\\Documents\\GitHub\\EEG-classification\\training\\common\\preprocessing.py:155: PerformanceWarning: DataFrame is highly fragmented.  This is usually the result of calling `frame.insert` many times, which has poor performance.  Consider joining all columns at once using pd.concat(axis=1) instead. To get a de-fragmented frame, use `newframe = frame.copy()`\n",
      "  df_features[f\"{col}_std\"] = df[col].rolling(window=window_size, center=True).std()\n",
      "c:\\Users\\Huai\\Documents\\GitHub\\EEG-classification\\training\\common\\preprocessing.py:158: PerformanceWarning: DataFrame is highly fragmented.  This is usually the result of calling `frame.insert` many times, which has poor performance.  Consider joining all columns at once using pd.concat(axis=1) instead. To get a de-fragmented frame, use `newframe = frame.copy()`\n",
      "  df_features[f\"{col}_range\"] = (\n",
      "2025-03-14 09:28:30,087 - eeg_classification - INFO - Feature engineering complete. Output shape: (12082, 140)\n"
     ]
    },
    {
     "name": "stdout",
     "output_type": "stream",
     "text": [
      "2025-03-14 09:28:30,089 - eeg_classification - INFO - Features shape: (12082, 140)\n",
      "2025-03-14 09:28:30,089 - eeg_classification - INFO - Features shape: (12082, 140)\n"
     ]
    },
    {
     "name": "stderr",
     "output_type": "stream",
     "text": [
      "2025-03-14 09:28:30,089 - eeg_classification - INFO - Features shape: (12082, 140)\n"
     ]
    },
    {
     "name": "stdout",
     "output_type": "stream",
     "text": [
      "2025-03-14 09:28:30,099 - eeg_classification - INFO - No. of missing values after feature engineering: TimeStamp         0\n",
      "Delta_TP9         0\n",
      "Delta_AF7         0\n",
      "Delta_AF8         0\n",
      "Delta_TP10        0\n",
      "                 ..\n",
      "HSI_TP10_std      0\n",
      "HSI_TP10_range    0\n",
      "Battery_mean      0\n",
      "Battery_std       0\n",
      "Battery_range     0\n",
      "Length: 140, dtype: int64\n",
      "2025-03-14 09:28:30,099 - eeg_classification - INFO - No. of missing values after feature engineering: TimeStamp         0\n",
      "Delta_TP9         0\n",
      "Delta_AF7         0\n",
      "Delta_AF8         0\n",
      "Delta_TP10        0\n",
      "                 ..\n",
      "HSI_TP10_std      0\n",
      "HSI_TP10_range    0\n",
      "Battery_mean      0\n",
      "Battery_std       0\n",
      "Battery_range     0\n",
      "Length: 140, dtype: int64\n"
     ]
    },
    {
     "name": "stderr",
     "output_type": "stream",
     "text": [
      "2025-03-14 09:28:30,099 - eeg_classification - INFO - No. of missing values after feature engineering: TimeStamp         0\n",
      "Delta_TP9         0\n",
      "Delta_AF7         0\n",
      "Delta_AF8         0\n",
      "Delta_TP10        0\n",
      "                 ..\n",
      "HSI_TP10_std      0\n",
      "HSI_TP10_range    0\n",
      "Battery_mean      0\n",
      "Battery_std       0\n",
      "Battery_range     0\n",
      "Length: 140, dtype: int64\n"
     ]
    },
    {
     "name": "stdout",
     "output_type": "stream",
     "text": [
      "2025-03-14 09:28:30,102 - eeg_classification - INFO - Columns after feature engineering: Index(['TimeStamp', 'Delta_TP9', 'Delta_AF7', 'Delta_AF8', 'Delta_TP10',\n",
      "       'Theta_TP9', 'Theta_AF7', 'Theta_AF8', 'Theta_TP10', 'Alpha_TP9',\n",
      "       ...\n",
      "       'HSI_AF7_range', 'HSI_AF8_mean', 'HSI_AF8_std', 'HSI_AF8_range',\n",
      "       'HSI_TP10_mean', 'HSI_TP10_std', 'HSI_TP10_range', 'Battery_mean',\n",
      "       'Battery_std', 'Battery_range'],\n",
      "      dtype='object', length=140)\n",
      "2025-03-14 09:28:30,102 - eeg_classification - INFO - Columns after feature engineering: Index(['TimeStamp', 'Delta_TP9', 'Delta_AF7', 'Delta_AF8', 'Delta_TP10',\n",
      "       'Theta_TP9', 'Theta_AF7', 'Theta_AF8', 'Theta_TP10', 'Alpha_TP9',\n",
      "       ...\n",
      "       'HSI_AF7_range', 'HSI_AF8_mean', 'HSI_AF8_std', 'HSI_AF8_range',\n",
      "       'HSI_TP10_mean', 'HSI_TP10_std', 'HSI_TP10_range', 'Battery_mean',\n",
      "       'Battery_std', 'Battery_range'],\n",
      "      dtype='object', length=140)\n"
     ]
    },
    {
     "name": "stderr",
     "output_type": "stream",
     "text": [
      "2025-03-14 09:28:30,102 - eeg_classification - INFO - Columns after feature engineering: Index(['TimeStamp', 'Delta_TP9', 'Delta_AF7', 'Delta_AF8', 'Delta_TP10',\n",
      "       'Theta_TP9', 'Theta_AF7', 'Theta_AF8', 'Theta_TP10', 'Alpha_TP9',\n",
      "       ...\n",
      "       'HSI_AF7_range', 'HSI_AF8_mean', 'HSI_AF8_std', 'HSI_AF8_range',\n",
      "       'HSI_TP10_mean', 'HSI_TP10_std', 'HSI_TP10_range', 'Battery_mean',\n",
      "       'Battery_std', 'Battery_range'],\n",
      "      dtype='object', length=140)\n"
     ]
    },
    {
     "name": "stdout",
     "output_type": "stream",
     "text": [
      "2025-03-14 09:28:30,242 - eeg_classification - INFO - Processing file file_5 with 291703 rows\n",
      "2025-03-14 09:28:30,242 - eeg_classification - INFO - Processing file file_5 with 291703 rows\n"
     ]
    },
    {
     "name": "stderr",
     "output_type": "stream",
     "text": [
      "2025-03-14 09:28:30,242 - eeg_classification - INFO - Processing file file_5 with 291703 rows\n"
     ]
    },
    {
     "name": "stdout",
     "output_type": "stream",
     "text": [
      "2025-03-14 09:28:30,296 - eeg_classification - WARNING - Input data for file file_5 contains 4953 NaN values\n",
      "2025-03-14 09:28:30,296 - eeg_classification - WARNING - Input data for file file_5 contains 4953 NaN values\n"
     ]
    },
    {
     "name": "stderr",
     "output_type": "stream",
     "text": [
      "2025-03-14 09:28:30,296 - eeg_classification - WARNING - Input data for file file_5 contains 4953 NaN values\n"
     ]
    },
    {
     "name": "stdout",
     "output_type": "stream",
     "text": [
      "2025-03-14 09:28:30,298 - eeg_classification - INFO - Preprocessing data with shape (291703, 41)\n",
      "2025-03-14 09:28:30,298 - eeg_classification - INFO - Preprocessing data with shape (291703, 41)\n"
     ]
    },
    {
     "name": "stderr",
     "output_type": "stream",
     "text": [
      "2025-03-14 09:28:30,298 - eeg_classification - INFO - Preprocessing data with shape (291703, 41)\n"
     ]
    },
    {
     "name": "stdout",
     "output_type": "stream",
     "text": [
      "2025-03-14 09:28:30,499 - eeg_classification - WARNING - Dropping 127 rows with invalid timestamps\n",
      "2025-03-14 09:28:30,499 - eeg_classification - WARNING - Dropping 127 rows with invalid timestamps\n"
     ]
    },
    {
     "name": "stderr",
     "output_type": "stream",
     "text": [
      "2025-03-14 09:28:30,499 - eeg_classification - WARNING - Dropping 127 rows with invalid timestamps\n"
     ]
    },
    {
     "name": "stdout",
     "output_type": "stream",
     "text": [
      "2025-03-14 09:28:30,536 - eeg_classification - INFO - Successfully converted timestamps. Remaining rows: 291576\n",
      "2025-03-14 09:28:30,536 - eeg_classification - INFO - Successfully converted timestamps. Remaining rows: 291576\n"
     ]
    },
    {
     "name": "stderr",
     "output_type": "stream",
     "text": [
      "2025-03-14 09:28:30,536 - eeg_classification - INFO - Successfully converted timestamps. Remaining rows: 291576\n"
     ]
    },
    {
     "name": "stdout",
     "output_type": "stream",
     "text": [
      "NaNs in numeric columns: TimeStamp          0\n",
      "Delta_TP9          0\n",
      "Delta_AF7          0\n",
      "Delta_AF8          0\n",
      "Delta_TP10         0\n",
      "Theta_TP9          0\n",
      "Theta_AF7          0\n",
      "Theta_AF8          0\n",
      "Theta_TP10         0\n",
      "Alpha_TP9          0\n",
      "Alpha_AF7          0\n",
      "Alpha_AF8          0\n",
      "Alpha_TP10         0\n",
      "Beta_TP9           0\n",
      "Beta_AF7           0\n",
      "Beta_AF8           0\n",
      "Beta_TP10          0\n",
      "Gamma_TP9          0\n",
      "Gamma_AF7          0\n",
      "Gamma_AF8          0\n",
      "Gamma_TP10         0\n",
      "RAW_TP9            0\n",
      "RAW_AF7            0\n",
      "RAW_AF8            0\n",
      "RAW_TP10           0\n",
      "AUX_RIGHT          0\n",
      "Mellow             0\n",
      "Concentration      0\n",
      "Accelerometer_X    0\n",
      "Accelerometer_Y    0\n",
      "Accelerometer_Z    0\n",
      "Gyro_X             0\n",
      "Gyro_Y             0\n",
      "Gyro_Z             0\n",
      "HeadBandOn         0\n",
      "HSI_TP9            0\n",
      "HSI_AF7            0\n",
      "HSI_AF8            0\n",
      "HSI_TP10           0\n",
      "Battery            0\n",
      "SourceFile         0\n",
      "dtype: int64\n",
      "2025-03-14 09:28:30,692 - eeg_classification - INFO - Data spans 1138.85 seconds from 2024-06-06 12:56:03.180000 to 2024-06-06 13:15:02.029000\n",
      "2025-03-14 09:28:30,692 - eeg_classification - INFO - Data spans 1138.85 seconds from 2024-06-06 12:56:03.180000 to 2024-06-06 13:15:02.029000\n"
     ]
    },
    {
     "name": "stderr",
     "output_type": "stream",
     "text": [
      "2025-03-14 09:28:30,692 - eeg_classification - INFO - Data spans 1138.85 seconds from 2024-06-06 12:56:03.180000 to 2024-06-06 13:15:02.029000\n"
     ]
    },
    {
     "name": "stdout",
     "output_type": "stream",
     "text": [
      "2025-03-14 09:28:31,078 - eeg_classification - INFO - Sampling complete: 291576 -> 11400 data points (3.9%)\n",
      "2025-03-14 09:28:31,078 - eeg_classification - INFO - Sampling complete: 291576 -> 11400 data points (3.9%)\n"
     ]
    },
    {
     "name": "stderr",
     "output_type": "stream",
     "text": [
      "2025-03-14 09:28:31,078 - eeg_classification - INFO - Sampling complete: 291576 -> 11400 data points (3.9%)\n"
     ]
    },
    {
     "name": "stdout",
     "output_type": "stream",
     "text": [
      "2025-03-14 09:28:31,093 - eeg_classification - INFO - Preprocessing complete. Output shape: (11400, 41)\n",
      "2025-03-14 09:28:31,093 - eeg_classification - INFO - Preprocessing complete. Output shape: (11400, 41)\n"
     ]
    },
    {
     "name": "stderr",
     "output_type": "stream",
     "text": [
      "2025-03-14 09:28:31,093 - eeg_classification - INFO - Preprocessing complete. Output shape: (11400, 41)\n"
     ]
    },
    {
     "name": "stdout",
     "output_type": "stream",
     "text": [
      "2025-03-14 09:28:31,096 - eeg_classification - INFO - Cleaned data shape: (11400, 41)\n",
      "2025-03-14 09:28:31,096 - eeg_classification - INFO - Cleaned data shape: (11400, 41)\n"
     ]
    },
    {
     "name": "stderr",
     "output_type": "stream",
     "text": [
      "2025-03-14 09:28:31,096 - eeg_classification - INFO - Cleaned data shape: (11400, 41)\n"
     ]
    },
    {
     "name": "stdout",
     "output_type": "stream",
     "text": [
      "2025-03-14 09:28:31,098 - eeg_classification - INFO - Engineering features from data with shape (11400, 41)\n",
      "2025-03-14 09:28:31,098 - eeg_classification - INFO - Engineering features from data with shape (11400, 41)\n"
     ]
    },
    {
     "name": "stderr",
     "output_type": "stream",
     "text": [
      "2025-03-14 09:28:31,098 - eeg_classification - INFO - Engineering features from data with shape (11400, 41)\n"
     ]
    },
    {
     "name": "stdout",
     "output_type": "stream",
     "text": [
      "2025-03-14 09:28:31,587 - eeg_classification - INFO - Feature engineering complete. Output shape: (11400, 140)\n",
      "2025-03-14 09:28:31,587 - eeg_classification - INFO - Feature engineering complete. Output shape: (11400, 140)\n"
     ]
    },
    {
     "name": "stderr",
     "output_type": "stream",
     "text": [
      "c:\\Users\\Huai\\Documents\\GitHub\\EEG-classification\\training\\common\\preprocessing.py:155: PerformanceWarning: DataFrame is highly fragmented.  This is usually the result of calling `frame.insert` many times, which has poor performance.  Consider joining all columns at once using pd.concat(axis=1) instead. To get a de-fragmented frame, use `newframe = frame.copy()`\n",
      "  df_features[f\"{col}_std\"] = df[col].rolling(window=window_size, center=True).std()\n",
      "c:\\Users\\Huai\\Documents\\GitHub\\EEG-classification\\training\\common\\preprocessing.py:158: PerformanceWarning: DataFrame is highly fragmented.  This is usually the result of calling `frame.insert` many times, which has poor performance.  Consider joining all columns at once using pd.concat(axis=1) instead. To get a de-fragmented frame, use `newframe = frame.copy()`\n",
      "  df_features[f\"{col}_range\"] = (\n",
      "2025-03-14 09:28:31,587 - eeg_classification - INFO - Feature engineering complete. Output shape: (11400, 140)\n"
     ]
    },
    {
     "name": "stdout",
     "output_type": "stream",
     "text": [
      "2025-03-14 09:28:31,590 - eeg_classification - INFO - Features shape: (11400, 140)\n",
      "2025-03-14 09:28:31,590 - eeg_classification - INFO - Features shape: (11400, 140)\n"
     ]
    },
    {
     "name": "stderr",
     "output_type": "stream",
     "text": [
      "2025-03-14 09:28:31,590 - eeg_classification - INFO - Features shape: (11400, 140)\n"
     ]
    },
    {
     "name": "stdout",
     "output_type": "stream",
     "text": [
      "2025-03-14 09:28:31,598 - eeg_classification - INFO - No. of missing values after feature engineering: TimeStamp         0\n",
      "Delta_TP9         0\n",
      "Delta_AF7         0\n",
      "Delta_AF8         0\n",
      "Delta_TP10        0\n",
      "                 ..\n",
      "HSI_TP10_std      0\n",
      "HSI_TP10_range    0\n",
      "Battery_mean      0\n",
      "Battery_std       0\n",
      "Battery_range     0\n",
      "Length: 140, dtype: int64\n",
      "2025-03-14 09:28:31,598 - eeg_classification - INFO - No. of missing values after feature engineering: TimeStamp         0\n",
      "Delta_TP9         0\n",
      "Delta_AF7         0\n",
      "Delta_AF8         0\n",
      "Delta_TP10        0\n",
      "                 ..\n",
      "HSI_TP10_std      0\n",
      "HSI_TP10_range    0\n",
      "Battery_mean      0\n",
      "Battery_std       0\n",
      "Battery_range     0\n",
      "Length: 140, dtype: int64\n"
     ]
    },
    {
     "name": "stderr",
     "output_type": "stream",
     "text": [
      "2025-03-14 09:28:31,598 - eeg_classification - INFO - No. of missing values after feature engineering: TimeStamp         0\n",
      "Delta_TP9         0\n",
      "Delta_AF7         0\n",
      "Delta_AF8         0\n",
      "Delta_TP10        0\n",
      "                 ..\n",
      "HSI_TP10_std      0\n",
      "HSI_TP10_range    0\n",
      "Battery_mean      0\n",
      "Battery_std       0\n",
      "Battery_range     0\n",
      "Length: 140, dtype: int64\n"
     ]
    },
    {
     "name": "stdout",
     "output_type": "stream",
     "text": [
      "2025-03-14 09:28:31,601 - eeg_classification - INFO - Columns after feature engineering: Index(['TimeStamp', 'Delta_TP9', 'Delta_AF7', 'Delta_AF8', 'Delta_TP10',\n",
      "       'Theta_TP9', 'Theta_AF7', 'Theta_AF8', 'Theta_TP10', 'Alpha_TP9',\n",
      "       ...\n",
      "       'HSI_AF7_range', 'HSI_AF8_mean', 'HSI_AF8_std', 'HSI_AF8_range',\n",
      "       'HSI_TP10_mean', 'HSI_TP10_std', 'HSI_TP10_range', 'Battery_mean',\n",
      "       'Battery_std', 'Battery_range'],\n",
      "      dtype='object', length=140)\n",
      "2025-03-14 09:28:31,601 - eeg_classification - INFO - Columns after feature engineering: Index(['TimeStamp', 'Delta_TP9', 'Delta_AF7', 'Delta_AF8', 'Delta_TP10',\n",
      "       'Theta_TP9', 'Theta_AF7', 'Theta_AF8', 'Theta_TP10', 'Alpha_TP9',\n",
      "       ...\n",
      "       'HSI_AF7_range', 'HSI_AF8_mean', 'HSI_AF8_std', 'HSI_AF8_range',\n",
      "       'HSI_TP10_mean', 'HSI_TP10_std', 'HSI_TP10_range', 'Battery_mean',\n",
      "       'Battery_std', 'Battery_range'],\n",
      "      dtype='object', length=140)\n"
     ]
    },
    {
     "name": "stderr",
     "output_type": "stream",
     "text": [
      "2025-03-14 09:28:31,601 - eeg_classification - INFO - Columns after feature engineering: Index(['TimeStamp', 'Delta_TP9', 'Delta_AF7', 'Delta_AF8', 'Delta_TP10',\n",
      "       'Theta_TP9', 'Theta_AF7', 'Theta_AF8', 'Theta_TP10', 'Alpha_TP9',\n",
      "       ...\n",
      "       'HSI_AF7_range', 'HSI_AF8_mean', 'HSI_AF8_std', 'HSI_AF8_range',\n",
      "       'HSI_TP10_mean', 'HSI_TP10_std', 'HSI_TP10_range', 'Battery_mean',\n",
      "       'Battery_std', 'Battery_range'],\n",
      "      dtype='object', length=140)\n"
     ]
    },
    {
     "name": "stdout",
     "output_type": "stream",
     "text": [
      "2025-03-14 09:28:31,750 - eeg_classification - INFO - Processing file file_6 with 292048 rows\n",
      "2025-03-14 09:28:31,750 - eeg_classification - INFO - Processing file file_6 with 292048 rows\n"
     ]
    },
    {
     "name": "stderr",
     "output_type": "stream",
     "text": [
      "2025-03-14 09:28:31,750 - eeg_classification - INFO - Processing file file_6 with 292048 rows\n"
     ]
    },
    {
     "name": "stdout",
     "output_type": "stream",
     "text": [
      "2025-03-14 09:28:31,802 - eeg_classification - WARNING - Input data for file file_6 contains 8580 NaN values\n",
      "2025-03-14 09:28:31,802 - eeg_classification - WARNING - Input data for file file_6 contains 8580 NaN values\n"
     ]
    },
    {
     "name": "stderr",
     "output_type": "stream",
     "text": [
      "2025-03-14 09:28:31,802 - eeg_classification - WARNING - Input data for file file_6 contains 8580 NaN values\n"
     ]
    },
    {
     "name": "stdout",
     "output_type": "stream",
     "text": [
      "2025-03-14 09:28:31,804 - eeg_classification - INFO - Preprocessing data with shape (292048, 41)\n",
      "2025-03-14 09:28:31,804 - eeg_classification - INFO - Preprocessing data with shape (292048, 41)\n"
     ]
    },
    {
     "name": "stderr",
     "output_type": "stream",
     "text": [
      "2025-03-14 09:28:31,804 - eeg_classification - INFO - Preprocessing data with shape (292048, 41)\n"
     ]
    },
    {
     "name": "stdout",
     "output_type": "stream",
     "text": [
      "2025-03-14 09:28:31,994 - eeg_classification - WARNING - Dropping 220 rows with invalid timestamps\n",
      "2025-03-14 09:28:31,994 - eeg_classification - WARNING - Dropping 220 rows with invalid timestamps\n"
     ]
    },
    {
     "name": "stderr",
     "output_type": "stream",
     "text": [
      "2025-03-14 09:28:31,994 - eeg_classification - WARNING - Dropping 220 rows with invalid timestamps\n"
     ]
    },
    {
     "name": "stdout",
     "output_type": "stream",
     "text": [
      "2025-03-14 09:28:32,028 - eeg_classification - INFO - Successfully converted timestamps. Remaining rows: 291828\n",
      "2025-03-14 09:28:32,028 - eeg_classification - INFO - Successfully converted timestamps. Remaining rows: 291828\n"
     ]
    },
    {
     "name": "stderr",
     "output_type": "stream",
     "text": [
      "2025-03-14 09:28:32,028 - eeg_classification - INFO - Successfully converted timestamps. Remaining rows: 291828\n"
     ]
    },
    {
     "name": "stdout",
     "output_type": "stream",
     "text": [
      "NaNs in numeric columns: TimeStamp          0\n",
      "Delta_TP9          0\n",
      "Delta_AF7          0\n",
      "Delta_AF8          0\n",
      "Delta_TP10         0\n",
      "Theta_TP9          0\n",
      "Theta_AF7          0\n",
      "Theta_AF8          0\n",
      "Theta_TP10         0\n",
      "Alpha_TP9          0\n",
      "Alpha_AF7          0\n",
      "Alpha_AF8          0\n",
      "Alpha_TP10         0\n",
      "Beta_TP9           0\n",
      "Beta_AF7           0\n",
      "Beta_AF8           0\n",
      "Beta_TP10          0\n",
      "Gamma_TP9          0\n",
      "Gamma_AF7          0\n",
      "Gamma_AF8          0\n",
      "Gamma_TP10         0\n",
      "RAW_TP9            0\n",
      "RAW_AF7            0\n",
      "RAW_AF8            0\n",
      "RAW_TP10           0\n",
      "AUX_RIGHT          0\n",
      "Mellow             0\n",
      "Concentration      0\n",
      "Accelerometer_X    0\n",
      "Accelerometer_Y    0\n",
      "Accelerometer_Z    0\n",
      "Gyro_X             0\n",
      "Gyro_Y             0\n",
      "Gyro_Z             0\n",
      "HeadBandOn         0\n",
      "HSI_TP9            0\n",
      "HSI_AF7            0\n",
      "HSI_AF8            0\n",
      "HSI_TP10           0\n",
      "Battery            0\n",
      "SourceFile         0\n",
      "dtype: int64\n",
      "2025-03-14 09:28:32,183 - eeg_classification - INFO - Data spans 1139.78 seconds from 2024-06-06 13:58:43.265000 to 2024-06-06 14:17:43.047000\n",
      "2025-03-14 09:28:32,183 - eeg_classification - INFO - Data spans 1139.78 seconds from 2024-06-06 13:58:43.265000 to 2024-06-06 14:17:43.047000\n"
     ]
    },
    {
     "name": "stderr",
     "output_type": "stream",
     "text": [
      "2025-03-14 09:28:32,183 - eeg_classification - INFO - Data spans 1139.78 seconds from 2024-06-06 13:58:43.265000 to 2024-06-06 14:17:43.047000\n"
     ]
    },
    {
     "name": "stdout",
     "output_type": "stream",
     "text": [
      "2025-03-14 09:28:32,556 - eeg_classification - INFO - Sampling complete: 291828 -> 11400 data points (3.9%)\n",
      "2025-03-14 09:28:32,556 - eeg_classification - INFO - Sampling complete: 291828 -> 11400 data points (3.9%)\n"
     ]
    },
    {
     "name": "stderr",
     "output_type": "stream",
     "text": [
      "2025-03-14 09:28:32,556 - eeg_classification - INFO - Sampling complete: 291828 -> 11400 data points (3.9%)\n"
     ]
    },
    {
     "name": "stdout",
     "output_type": "stream",
     "text": [
      "2025-03-14 09:28:32,571 - eeg_classification - INFO - Preprocessing complete. Output shape: (11400, 41)\n",
      "2025-03-14 09:28:32,571 - eeg_classification - INFO - Preprocessing complete. Output shape: (11400, 41)\n"
     ]
    },
    {
     "name": "stderr",
     "output_type": "stream",
     "text": [
      "2025-03-14 09:28:32,571 - eeg_classification - INFO - Preprocessing complete. Output shape: (11400, 41)\n"
     ]
    },
    {
     "name": "stdout",
     "output_type": "stream",
     "text": [
      "2025-03-14 09:28:32,575 - eeg_classification - INFO - Cleaned data shape: (11400, 41)\n",
      "2025-03-14 09:28:32,575 - eeg_classification - INFO - Cleaned data shape: (11400, 41)\n"
     ]
    },
    {
     "name": "stderr",
     "output_type": "stream",
     "text": [
      "2025-03-14 09:28:32,575 - eeg_classification - INFO - Cleaned data shape: (11400, 41)\n"
     ]
    },
    {
     "name": "stdout",
     "output_type": "stream",
     "text": [
      "2025-03-14 09:28:32,578 - eeg_classification - INFO - Engineering features from data with shape (11400, 41)\n",
      "2025-03-14 09:28:32,578 - eeg_classification - INFO - Engineering features from data with shape (11400, 41)\n"
     ]
    },
    {
     "name": "stderr",
     "output_type": "stream",
     "text": [
      "2025-03-14 09:28:32,578 - eeg_classification - INFO - Engineering features from data with shape (11400, 41)\n"
     ]
    },
    {
     "name": "stdout",
     "output_type": "stream",
     "text": [
      "2025-03-14 09:28:33,063 - eeg_classification - INFO - Feature engineering complete. Output shape: (11400, 140)\n",
      "2025-03-14 09:28:33,063 - eeg_classification - INFO - Feature engineering complete. Output shape: (11400, 140)\n"
     ]
    },
    {
     "name": "stderr",
     "output_type": "stream",
     "text": [
      "c:\\Users\\Huai\\Documents\\GitHub\\EEG-classification\\training\\common\\preprocessing.py:155: PerformanceWarning: DataFrame is highly fragmented.  This is usually the result of calling `frame.insert` many times, which has poor performance.  Consider joining all columns at once using pd.concat(axis=1) instead. To get a de-fragmented frame, use `newframe = frame.copy()`\n",
      "  df_features[f\"{col}_std\"] = df[col].rolling(window=window_size, center=True).std()\n",
      "c:\\Users\\Huai\\Documents\\GitHub\\EEG-classification\\training\\common\\preprocessing.py:158: PerformanceWarning: DataFrame is highly fragmented.  This is usually the result of calling `frame.insert` many times, which has poor performance.  Consider joining all columns at once using pd.concat(axis=1) instead. To get a de-fragmented frame, use `newframe = frame.copy()`\n",
      "  df_features[f\"{col}_range\"] = (\n",
      "2025-03-14 09:28:33,063 - eeg_classification - INFO - Feature engineering complete. Output shape: (11400, 140)\n"
     ]
    },
    {
     "name": "stdout",
     "output_type": "stream",
     "text": [
      "2025-03-14 09:28:33,065 - eeg_classification - INFO - Features shape: (11400, 140)\n",
      "2025-03-14 09:28:33,065 - eeg_classification - INFO - Features shape: (11400, 140)\n"
     ]
    },
    {
     "name": "stderr",
     "output_type": "stream",
     "text": [
      "2025-03-14 09:28:33,065 - eeg_classification - INFO - Features shape: (11400, 140)\n"
     ]
    },
    {
     "name": "stdout",
     "output_type": "stream",
     "text": [
      "2025-03-14 09:28:33,074 - eeg_classification - INFO - No. of missing values after feature engineering: TimeStamp         0\n",
      "Delta_TP9         0\n",
      "Delta_AF7         0\n",
      "Delta_AF8         0\n",
      "Delta_TP10        0\n",
      "                 ..\n",
      "HSI_TP10_std      0\n",
      "HSI_TP10_range    0\n",
      "Battery_mean      0\n",
      "Battery_std       0\n",
      "Battery_range     0\n",
      "Length: 140, dtype: int64\n",
      "2025-03-14 09:28:33,074 - eeg_classification - INFO - No. of missing values after feature engineering: TimeStamp         0\n",
      "Delta_TP9         0\n",
      "Delta_AF7         0\n",
      "Delta_AF8         0\n",
      "Delta_TP10        0\n",
      "                 ..\n",
      "HSI_TP10_std      0\n",
      "HSI_TP10_range    0\n",
      "Battery_mean      0\n",
      "Battery_std       0\n",
      "Battery_range     0\n",
      "Length: 140, dtype: int64\n"
     ]
    },
    {
     "name": "stderr",
     "output_type": "stream",
     "text": [
      "2025-03-14 09:28:33,074 - eeg_classification - INFO - No. of missing values after feature engineering: TimeStamp         0\n",
      "Delta_TP9         0\n",
      "Delta_AF7         0\n",
      "Delta_AF8         0\n",
      "Delta_TP10        0\n",
      "                 ..\n",
      "HSI_TP10_std      0\n",
      "HSI_TP10_range    0\n",
      "Battery_mean      0\n",
      "Battery_std       0\n",
      "Battery_range     0\n",
      "Length: 140, dtype: int64\n"
     ]
    },
    {
     "name": "stdout",
     "output_type": "stream",
     "text": [
      "2025-03-14 09:28:33,076 - eeg_classification - INFO - Columns after feature engineering: Index(['TimeStamp', 'Delta_TP9', 'Delta_AF7', 'Delta_AF8', 'Delta_TP10',\n",
      "       'Theta_TP9', 'Theta_AF7', 'Theta_AF8', 'Theta_TP10', 'Alpha_TP9',\n",
      "       ...\n",
      "       'HSI_AF7_range', 'HSI_AF8_mean', 'HSI_AF8_std', 'HSI_AF8_range',\n",
      "       'HSI_TP10_mean', 'HSI_TP10_std', 'HSI_TP10_range', 'Battery_mean',\n",
      "       'Battery_std', 'Battery_range'],\n",
      "      dtype='object', length=140)\n",
      "2025-03-14 09:28:33,076 - eeg_classification - INFO - Columns after feature engineering: Index(['TimeStamp', 'Delta_TP9', 'Delta_AF7', 'Delta_AF8', 'Delta_TP10',\n",
      "       'Theta_TP9', 'Theta_AF7', 'Theta_AF8', 'Theta_TP10', 'Alpha_TP9',\n",
      "       ...\n",
      "       'HSI_AF7_range', 'HSI_AF8_mean', 'HSI_AF8_std', 'HSI_AF8_range',\n",
      "       'HSI_TP10_mean', 'HSI_TP10_std', 'HSI_TP10_range', 'Battery_mean',\n",
      "       'Battery_std', 'Battery_range'],\n",
      "      dtype='object', length=140)\n"
     ]
    },
    {
     "name": "stderr",
     "output_type": "stream",
     "text": [
      "2025-03-14 09:28:33,076 - eeg_classification - INFO - Columns after feature engineering: Index(['TimeStamp', 'Delta_TP9', 'Delta_AF7', 'Delta_AF8', 'Delta_TP10',\n",
      "       'Theta_TP9', 'Theta_AF7', 'Theta_AF8', 'Theta_TP10', 'Alpha_TP9',\n",
      "       ...\n",
      "       'HSI_AF7_range', 'HSI_AF8_mean', 'HSI_AF8_std', 'HSI_AF8_range',\n",
      "       'HSI_TP10_mean', 'HSI_TP10_std', 'HSI_TP10_range', 'Battery_mean',\n",
      "       'Battery_std', 'Battery_range'],\n",
      "      dtype='object', length=140)\n"
     ]
    },
    {
     "name": "stdout",
     "output_type": "stream",
     "text": [
      "2025-03-14 09:28:33,214 - eeg_classification - INFO - Processing file file_7 with 212364 rows\n",
      "2025-03-14 09:28:33,214 - eeg_classification - INFO - Processing file file_7 with 212364 rows\n"
     ]
    },
    {
     "name": "stderr",
     "output_type": "stream",
     "text": [
      "2025-03-14 09:28:33,214 - eeg_classification - INFO - Processing file file_7 with 212364 rows\n"
     ]
    },
    {
     "name": "stdout",
     "output_type": "stream",
     "text": [
      "2025-03-14 09:28:33,253 - eeg_classification - WARNING - Input data for file file_7 contains 32748 NaN values\n",
      "2025-03-14 09:28:33,253 - eeg_classification - WARNING - Input data for file file_7 contains 32748 NaN values\n"
     ]
    },
    {
     "name": "stderr",
     "output_type": "stream",
     "text": [
      "2025-03-14 09:28:33,253 - eeg_classification - WARNING - Input data for file file_7 contains 32748 NaN values\n"
     ]
    },
    {
     "name": "stdout",
     "output_type": "stream",
     "text": [
      "2025-03-14 09:28:33,255 - eeg_classification - INFO - Preprocessing data with shape (212364, 41)\n",
      "2025-03-14 09:28:33,255 - eeg_classification - INFO - Preprocessing data with shape (212364, 41)\n"
     ]
    },
    {
     "name": "stderr",
     "output_type": "stream",
     "text": [
      "2025-03-14 09:28:33,255 - eeg_classification - INFO - Preprocessing data with shape (212364, 41)\n"
     ]
    },
    {
     "name": "stdout",
     "output_type": "stream",
     "text": [
      "2025-03-14 09:28:33,394 - eeg_classification - WARNING - Dropping 84 rows with invalid timestamps\n",
      "2025-03-14 09:28:33,394 - eeg_classification - WARNING - Dropping 84 rows with invalid timestamps\n"
     ]
    },
    {
     "name": "stderr",
     "output_type": "stream",
     "text": [
      "2025-03-14 09:28:33,394 - eeg_classification - WARNING - Dropping 84 rows with invalid timestamps\n"
     ]
    },
    {
     "name": "stdout",
     "output_type": "stream",
     "text": [
      "2025-03-14 09:28:33,421 - eeg_classification - INFO - Successfully converted timestamps. Remaining rows: 212280\n",
      "2025-03-14 09:28:33,421 - eeg_classification - INFO - Successfully converted timestamps. Remaining rows: 212280\n"
     ]
    },
    {
     "name": "stderr",
     "output_type": "stream",
     "text": [
      "2025-03-14 09:28:33,421 - eeg_classification - INFO - Successfully converted timestamps. Remaining rows: 212280\n"
     ]
    },
    {
     "name": "stdout",
     "output_type": "stream",
     "text": [
      "NaNs in numeric columns: TimeStamp          0\n",
      "Delta_TP9          0\n",
      "Delta_AF7          0\n",
      "Delta_AF8          0\n",
      "Delta_TP10         0\n",
      "Theta_TP9          0\n",
      "Theta_AF7          0\n",
      "Theta_AF8          0\n",
      "Theta_TP10         0\n",
      "Alpha_TP9          0\n",
      "Alpha_AF7          0\n",
      "Alpha_AF8          0\n",
      "Alpha_TP10         0\n",
      "Beta_TP9           0\n",
      "Beta_AF7           0\n",
      "Beta_AF8           0\n",
      "Beta_TP10          0\n",
      "Gamma_TP9          0\n",
      "Gamma_AF7          0\n",
      "Gamma_AF8          0\n",
      "Gamma_TP10         0\n",
      "RAW_TP9            0\n",
      "RAW_AF7            0\n",
      "RAW_AF8            0\n",
      "RAW_TP10           0\n",
      "AUX_RIGHT          0\n",
      "Mellow             0\n",
      "Concentration      0\n",
      "Accelerometer_X    0\n",
      "Accelerometer_Y    0\n",
      "Accelerometer_Z    0\n",
      "Gyro_X             0\n",
      "Gyro_Y             0\n",
      "Gyro_Z             0\n",
      "HeadBandOn         0\n",
      "HSI_TP9            0\n",
      "HSI_AF7            0\n",
      "HSI_AF8            0\n",
      "HSI_TP10           0\n",
      "Battery            0\n",
      "SourceFile         0\n",
      "dtype: int64\n",
      "2025-03-14 09:28:33,545 - eeg_classification - INFO - Data spans 829.11 seconds from 2024-06-12 13:38:16.259000 to 2024-06-12 13:52:05.370000\n",
      "2025-03-14 09:28:33,545 - eeg_classification - INFO - Data spans 829.11 seconds from 2024-06-12 13:38:16.259000 to 2024-06-12 13:52:05.370000\n"
     ]
    },
    {
     "name": "stderr",
     "output_type": "stream",
     "text": [
      "2025-03-14 09:28:33,545 - eeg_classification - INFO - Data spans 829.11 seconds from 2024-06-12 13:38:16.259000 to 2024-06-12 13:52:05.370000\n"
     ]
    },
    {
     "name": "stdout",
     "output_type": "stream",
     "text": [
      "2025-03-14 09:28:33,784 - eeg_classification - INFO - Sampling complete: 202152 -> 8300 data points (4.1%)\n",
      "2025-03-14 09:28:33,784 - eeg_classification - INFO - Sampling complete: 202152 -> 8300 data points (4.1%)\n"
     ]
    },
    {
     "name": "stderr",
     "output_type": "stream",
     "text": [
      "2025-03-14 09:28:33,784 - eeg_classification - INFO - Sampling complete: 202152 -> 8300 data points (4.1%)\n"
     ]
    },
    {
     "name": "stdout",
     "output_type": "stream",
     "text": [
      "2025-03-14 09:28:33,797 - eeg_classification - INFO - Preprocessing complete. Output shape: (8300, 41)\n",
      "2025-03-14 09:28:33,797 - eeg_classification - INFO - Preprocessing complete. Output shape: (8300, 41)\n"
     ]
    },
    {
     "name": "stderr",
     "output_type": "stream",
     "text": [
      "2025-03-14 09:28:33,797 - eeg_classification - INFO - Preprocessing complete. Output shape: (8300, 41)\n"
     ]
    },
    {
     "name": "stdout",
     "output_type": "stream",
     "text": [
      "2025-03-14 09:28:33,799 - eeg_classification - INFO - Cleaned data shape: (8300, 41)\n",
      "2025-03-14 09:28:33,799 - eeg_classification - INFO - Cleaned data shape: (8300, 41)\n"
     ]
    },
    {
     "name": "stderr",
     "output_type": "stream",
     "text": [
      "2025-03-14 09:28:33,799 - eeg_classification - INFO - Cleaned data shape: (8300, 41)\n"
     ]
    },
    {
     "name": "stdout",
     "output_type": "stream",
     "text": [
      "2025-03-14 09:28:33,801 - eeg_classification - INFO - Engineering features from data with shape (8300, 41)\n",
      "2025-03-14 09:28:33,801 - eeg_classification - INFO - Engineering features from data with shape (8300, 41)\n"
     ]
    },
    {
     "name": "stderr",
     "output_type": "stream",
     "text": [
      "2025-03-14 09:28:33,801 - eeg_classification - INFO - Engineering features from data with shape (8300, 41)\n"
     ]
    },
    {
     "name": "stdout",
     "output_type": "stream",
     "text": [
      "2025-03-14 09:28:34,219 - eeg_classification - INFO - Feature engineering complete. Output shape: (8300, 140)\n",
      "2025-03-14 09:28:34,219 - eeg_classification - INFO - Feature engineering complete. Output shape: (8300, 140)\n"
     ]
    },
    {
     "name": "stderr",
     "output_type": "stream",
     "text": [
      "c:\\Users\\Huai\\Documents\\GitHub\\EEG-classification\\training\\common\\preprocessing.py:155: PerformanceWarning: DataFrame is highly fragmented.  This is usually the result of calling `frame.insert` many times, which has poor performance.  Consider joining all columns at once using pd.concat(axis=1) instead. To get a de-fragmented frame, use `newframe = frame.copy()`\n",
      "  df_features[f\"{col}_std\"] = df[col].rolling(window=window_size, center=True).std()\n",
      "c:\\Users\\Huai\\Documents\\GitHub\\EEG-classification\\training\\common\\preprocessing.py:158: PerformanceWarning: DataFrame is highly fragmented.  This is usually the result of calling `frame.insert` many times, which has poor performance.  Consider joining all columns at once using pd.concat(axis=1) instead. To get a de-fragmented frame, use `newframe = frame.copy()`\n",
      "  df_features[f\"{col}_range\"] = (\n",
      "2025-03-14 09:28:34,219 - eeg_classification - INFO - Feature engineering complete. Output shape: (8300, 140)\n"
     ]
    },
    {
     "name": "stdout",
     "output_type": "stream",
     "text": [
      "2025-03-14 09:28:34,221 - eeg_classification - INFO - Features shape: (8300, 140)\n",
      "2025-03-14 09:28:34,221 - eeg_classification - INFO - Features shape: (8300, 140)\n"
     ]
    },
    {
     "name": "stderr",
     "output_type": "stream",
     "text": [
      "2025-03-14 09:28:34,221 - eeg_classification - INFO - Features shape: (8300, 140)\n"
     ]
    },
    {
     "name": "stdout",
     "output_type": "stream",
     "text": [
      "2025-03-14 09:28:34,230 - eeg_classification - INFO - No. of missing values after feature engineering: TimeStamp         0\n",
      "Delta_TP9         0\n",
      "Delta_AF7         0\n",
      "Delta_AF8         0\n",
      "Delta_TP10        0\n",
      "                 ..\n",
      "HSI_TP10_std      0\n",
      "HSI_TP10_range    0\n",
      "Battery_mean      0\n",
      "Battery_std       0\n",
      "Battery_range     0\n",
      "Length: 140, dtype: int64\n",
      "2025-03-14 09:28:34,230 - eeg_classification - INFO - No. of missing values after feature engineering: TimeStamp         0\n",
      "Delta_TP9         0\n",
      "Delta_AF7         0\n",
      "Delta_AF8         0\n",
      "Delta_TP10        0\n",
      "                 ..\n",
      "HSI_TP10_std      0\n",
      "HSI_TP10_range    0\n",
      "Battery_mean      0\n",
      "Battery_std       0\n",
      "Battery_range     0\n",
      "Length: 140, dtype: int64\n"
     ]
    },
    {
     "name": "stderr",
     "output_type": "stream",
     "text": [
      "2025-03-14 09:28:34,230 - eeg_classification - INFO - No. of missing values after feature engineering: TimeStamp         0\n",
      "Delta_TP9         0\n",
      "Delta_AF7         0\n",
      "Delta_AF8         0\n",
      "Delta_TP10        0\n",
      "                 ..\n",
      "HSI_TP10_std      0\n",
      "HSI_TP10_range    0\n",
      "Battery_mean      0\n",
      "Battery_std       0\n",
      "Battery_range     0\n",
      "Length: 140, dtype: int64\n"
     ]
    },
    {
     "name": "stdout",
     "output_type": "stream",
     "text": [
      "2025-03-14 09:28:34,232 - eeg_classification - INFO - Columns after feature engineering: Index(['TimeStamp', 'Delta_TP9', 'Delta_AF7', 'Delta_AF8', 'Delta_TP10',\n",
      "       'Theta_TP9', 'Theta_AF7', 'Theta_AF8', 'Theta_TP10', 'Alpha_TP9',\n",
      "       ...\n",
      "       'HSI_AF7_range', 'HSI_AF8_mean', 'HSI_AF8_std', 'HSI_AF8_range',\n",
      "       'HSI_TP10_mean', 'HSI_TP10_std', 'HSI_TP10_range', 'Battery_mean',\n",
      "       'Battery_std', 'Battery_range'],\n",
      "      dtype='object', length=140)\n",
      "2025-03-14 09:28:34,232 - eeg_classification - INFO - Columns after feature engineering: Index(['TimeStamp', 'Delta_TP9', 'Delta_AF7', 'Delta_AF8', 'Delta_TP10',\n",
      "       'Theta_TP9', 'Theta_AF7', 'Theta_AF8', 'Theta_TP10', 'Alpha_TP9',\n",
      "       ...\n",
      "       'HSI_AF7_range', 'HSI_AF8_mean', 'HSI_AF8_std', 'HSI_AF8_range',\n",
      "       'HSI_TP10_mean', 'HSI_TP10_std', 'HSI_TP10_range', 'Battery_mean',\n",
      "       'Battery_std', 'Battery_range'],\n",
      "      dtype='object', length=140)\n"
     ]
    },
    {
     "name": "stderr",
     "output_type": "stream",
     "text": [
      "2025-03-14 09:28:34,232 - eeg_classification - INFO - Columns after feature engineering: Index(['TimeStamp', 'Delta_TP9', 'Delta_AF7', 'Delta_AF8', 'Delta_TP10',\n",
      "       'Theta_TP9', 'Theta_AF7', 'Theta_AF8', 'Theta_TP10', 'Alpha_TP9',\n",
      "       ...\n",
      "       'HSI_AF7_range', 'HSI_AF8_mean', 'HSI_AF8_std', 'HSI_AF8_range',\n",
      "       'HSI_TP10_mean', 'HSI_TP10_std', 'HSI_TP10_range', 'Battery_mean',\n",
      "       'Battery_std', 'Battery_range'],\n",
      "      dtype='object', length=140)\n"
     ]
    },
    {
     "name": "stdout",
     "output_type": "stream",
     "text": [
      "2025-03-14 09:28:34,377 - eeg_classification - INFO - Processing file file_8 with 289170 rows\n",
      "2025-03-14 09:28:34,377 - eeg_classification - INFO - Processing file file_8 with 289170 rows\n"
     ]
    },
    {
     "name": "stderr",
     "output_type": "stream",
     "text": [
      "2025-03-14 09:28:34,377 - eeg_classification - INFO - Processing file file_8 with 289170 rows\n"
     ]
    },
    {
     "name": "stdout",
     "output_type": "stream",
     "text": [
      "2025-03-14 09:28:34,432 - eeg_classification - WARNING - Input data for file file_8 contains 23934 NaN values\n",
      "2025-03-14 09:28:34,432 - eeg_classification - WARNING - Input data for file file_8 contains 23934 NaN values\n"
     ]
    },
    {
     "name": "stderr",
     "output_type": "stream",
     "text": [
      "2025-03-14 09:28:34,432 - eeg_classification - WARNING - Input data for file file_8 contains 23934 NaN values\n"
     ]
    },
    {
     "name": "stdout",
     "output_type": "stream",
     "text": [
      "2025-03-14 09:28:34,435 - eeg_classification - INFO - Preprocessing data with shape (289170, 41)\n",
      "2025-03-14 09:28:34,435 - eeg_classification - INFO - Preprocessing data with shape (289170, 41)\n"
     ]
    },
    {
     "name": "stderr",
     "output_type": "stream",
     "text": [
      "2025-03-14 09:28:34,435 - eeg_classification - INFO - Preprocessing data with shape (289170, 41)\n"
     ]
    },
    {
     "name": "stdout",
     "output_type": "stream",
     "text": [
      "2025-03-14 09:28:34,619 - eeg_classification - WARNING - Dropping 174 rows with invalid timestamps\n",
      "2025-03-14 09:28:34,619 - eeg_classification - WARNING - Dropping 174 rows with invalid timestamps\n"
     ]
    },
    {
     "name": "stderr",
     "output_type": "stream",
     "text": [
      "2025-03-14 09:28:34,619 - eeg_classification - WARNING - Dropping 174 rows with invalid timestamps\n"
     ]
    },
    {
     "name": "stdout",
     "output_type": "stream",
     "text": [
      "2025-03-14 09:28:34,652 - eeg_classification - INFO - Successfully converted timestamps. Remaining rows: 288996\n",
      "2025-03-14 09:28:34,652 - eeg_classification - INFO - Successfully converted timestamps. Remaining rows: 288996\n"
     ]
    },
    {
     "name": "stderr",
     "output_type": "stream",
     "text": [
      "2025-03-14 09:28:34,652 - eeg_classification - INFO - Successfully converted timestamps. Remaining rows: 288996\n"
     ]
    },
    {
     "name": "stdout",
     "output_type": "stream",
     "text": [
      "NaNs in numeric columns: TimeStamp          0\n",
      "Delta_TP9          0\n",
      "Delta_AF7          0\n",
      "Delta_AF8          0\n",
      "Delta_TP10         0\n",
      "Theta_TP9          0\n",
      "Theta_AF7          0\n",
      "Theta_AF8          0\n",
      "Theta_TP10         0\n",
      "Alpha_TP9          0\n",
      "Alpha_AF7          0\n",
      "Alpha_AF8          0\n",
      "Alpha_TP10         0\n",
      "Beta_TP9           0\n",
      "Beta_AF7           0\n",
      "Beta_AF8           0\n",
      "Beta_TP10          0\n",
      "Gamma_TP9          0\n",
      "Gamma_AF7          0\n",
      "Gamma_AF8          0\n",
      "Gamma_TP10         0\n",
      "RAW_TP9            0\n",
      "RAW_AF7            0\n",
      "RAW_AF8            0\n",
      "RAW_TP10           0\n",
      "AUX_RIGHT          0\n",
      "Mellow             0\n",
      "Concentration      0\n",
      "Accelerometer_X    0\n",
      "Accelerometer_Y    0\n",
      "Accelerometer_Z    0\n",
      "Gyro_X             0\n",
      "Gyro_Y             0\n",
      "Gyro_Z             0\n",
      "HeadBandOn         0\n",
      "HSI_TP9            0\n",
      "HSI_AF7            0\n",
      "HSI_AF8            0\n",
      "HSI_TP10           0\n",
      "Battery            0\n",
      "SourceFile         0\n",
      "dtype: int64\n",
      "2025-03-14 09:28:34,825 - eeg_classification - INFO - Data spans 1128.90 seconds from 2024-06-12 14:22:04.024000 to 2024-06-12 14:40:52.925000\n",
      "2025-03-14 09:28:34,825 - eeg_classification - INFO - Data spans 1128.90 seconds from 2024-06-12 14:22:04.024000 to 2024-06-12 14:40:52.925000\n"
     ]
    },
    {
     "name": "stderr",
     "output_type": "stream",
     "text": [
      "2025-03-14 09:28:34,825 - eeg_classification - INFO - Data spans 1128.90 seconds from 2024-06-12 14:22:04.024000 to 2024-06-12 14:40:52.925000\n"
     ]
    },
    {
     "name": "stdout",
     "output_type": "stream",
     "text": [
      "2025-03-14 09:28:35,191 - eeg_classification - INFO - Sampling complete: 282744 -> 11300 data points (4.0%)\n",
      "2025-03-14 09:28:35,191 - eeg_classification - INFO - Sampling complete: 282744 -> 11300 data points (4.0%)\n"
     ]
    },
    {
     "name": "stderr",
     "output_type": "stream",
     "text": [
      "2025-03-14 09:28:35,191 - eeg_classification - INFO - Sampling complete: 282744 -> 11300 data points (4.0%)\n"
     ]
    },
    {
     "name": "stdout",
     "output_type": "stream",
     "text": [
      "2025-03-14 09:28:35,205 - eeg_classification - INFO - Preprocessing complete. Output shape: (11300, 41)\n",
      "2025-03-14 09:28:35,205 - eeg_classification - INFO - Preprocessing complete. Output shape: (11300, 41)\n"
     ]
    },
    {
     "name": "stderr",
     "output_type": "stream",
     "text": [
      "2025-03-14 09:28:35,205 - eeg_classification - INFO - Preprocessing complete. Output shape: (11300, 41)\n"
     ]
    },
    {
     "name": "stdout",
     "output_type": "stream",
     "text": [
      "2025-03-14 09:28:35,207 - eeg_classification - INFO - Cleaned data shape: (11300, 41)\n",
      "2025-03-14 09:28:35,207 - eeg_classification - INFO - Cleaned data shape: (11300, 41)\n"
     ]
    },
    {
     "name": "stderr",
     "output_type": "stream",
     "text": [
      "2025-03-14 09:28:35,207 - eeg_classification - INFO - Cleaned data shape: (11300, 41)\n"
     ]
    },
    {
     "name": "stdout",
     "output_type": "stream",
     "text": [
      "2025-03-14 09:28:35,209 - eeg_classification - INFO - Engineering features from data with shape (11300, 41)\n",
      "2025-03-14 09:28:35,209 - eeg_classification - INFO - Engineering features from data with shape (11300, 41)\n"
     ]
    },
    {
     "name": "stderr",
     "output_type": "stream",
     "text": [
      "2025-03-14 09:28:35,209 - eeg_classification - INFO - Engineering features from data with shape (11300, 41)\n"
     ]
    },
    {
     "name": "stdout",
     "output_type": "stream",
     "text": [
      "2025-03-14 09:28:35,736 - eeg_classification - INFO - Feature engineering complete. Output shape: (11300, 140)\n",
      "2025-03-14 09:28:35,736 - eeg_classification - INFO - Feature engineering complete. Output shape: (11300, 140)\n"
     ]
    },
    {
     "name": "stderr",
     "output_type": "stream",
     "text": [
      "c:\\Users\\Huai\\Documents\\GitHub\\EEG-classification\\training\\common\\preprocessing.py:155: PerformanceWarning: DataFrame is highly fragmented.  This is usually the result of calling `frame.insert` many times, which has poor performance.  Consider joining all columns at once using pd.concat(axis=1) instead. To get a de-fragmented frame, use `newframe = frame.copy()`\n",
      "  df_features[f\"{col}_std\"] = df[col].rolling(window=window_size, center=True).std()\n",
      "c:\\Users\\Huai\\Documents\\GitHub\\EEG-classification\\training\\common\\preprocessing.py:158: PerformanceWarning: DataFrame is highly fragmented.  This is usually the result of calling `frame.insert` many times, which has poor performance.  Consider joining all columns at once using pd.concat(axis=1) instead. To get a de-fragmented frame, use `newframe = frame.copy()`\n",
      "  df_features[f\"{col}_range\"] = (\n",
      "2025-03-14 09:28:35,736 - eeg_classification - INFO - Feature engineering complete. Output shape: (11300, 140)\n"
     ]
    },
    {
     "name": "stdout",
     "output_type": "stream",
     "text": [
      "2025-03-14 09:28:35,740 - eeg_classification - INFO - Features shape: (11300, 140)\n",
      "2025-03-14 09:28:35,740 - eeg_classification - INFO - Features shape: (11300, 140)\n"
     ]
    },
    {
     "name": "stderr",
     "output_type": "stream",
     "text": [
      "2025-03-14 09:28:35,740 - eeg_classification - INFO - Features shape: (11300, 140)\n"
     ]
    },
    {
     "name": "stdout",
     "output_type": "stream",
     "text": [
      "2025-03-14 09:28:35,749 - eeg_classification - INFO - No. of missing values after feature engineering: TimeStamp         0\n",
      "Delta_TP9         0\n",
      "Delta_AF7         0\n",
      "Delta_AF8         0\n",
      "Delta_TP10        0\n",
      "                 ..\n",
      "HSI_TP10_std      0\n",
      "HSI_TP10_range    0\n",
      "Battery_mean      0\n",
      "Battery_std       0\n",
      "Battery_range     0\n",
      "Length: 140, dtype: int64\n",
      "2025-03-14 09:28:35,749 - eeg_classification - INFO - No. of missing values after feature engineering: TimeStamp         0\n",
      "Delta_TP9         0\n",
      "Delta_AF7         0\n",
      "Delta_AF8         0\n",
      "Delta_TP10        0\n",
      "                 ..\n",
      "HSI_TP10_std      0\n",
      "HSI_TP10_range    0\n",
      "Battery_mean      0\n",
      "Battery_std       0\n",
      "Battery_range     0\n",
      "Length: 140, dtype: int64\n"
     ]
    },
    {
     "name": "stderr",
     "output_type": "stream",
     "text": [
      "2025-03-14 09:28:35,749 - eeg_classification - INFO - No. of missing values after feature engineering: TimeStamp         0\n",
      "Delta_TP9         0\n",
      "Delta_AF7         0\n",
      "Delta_AF8         0\n",
      "Delta_TP10        0\n",
      "                 ..\n",
      "HSI_TP10_std      0\n",
      "HSI_TP10_range    0\n",
      "Battery_mean      0\n",
      "Battery_std       0\n",
      "Battery_range     0\n",
      "Length: 140, dtype: int64\n"
     ]
    },
    {
     "name": "stdout",
     "output_type": "stream",
     "text": [
      "2025-03-14 09:28:35,751 - eeg_classification - INFO - Columns after feature engineering: Index(['TimeStamp', 'Delta_TP9', 'Delta_AF7', 'Delta_AF8', 'Delta_TP10',\n",
      "       'Theta_TP9', 'Theta_AF7', 'Theta_AF8', 'Theta_TP10', 'Alpha_TP9',\n",
      "       ...\n",
      "       'HSI_AF7_range', 'HSI_AF8_mean', 'HSI_AF8_std', 'HSI_AF8_range',\n",
      "       'HSI_TP10_mean', 'HSI_TP10_std', 'HSI_TP10_range', 'Battery_mean',\n",
      "       'Battery_std', 'Battery_range'],\n",
      "      dtype='object', length=140)\n",
      "2025-03-14 09:28:35,751 - eeg_classification - INFO - Columns after feature engineering: Index(['TimeStamp', 'Delta_TP9', 'Delta_AF7', 'Delta_AF8', 'Delta_TP10',\n",
      "       'Theta_TP9', 'Theta_AF7', 'Theta_AF8', 'Theta_TP10', 'Alpha_TP9',\n",
      "       ...\n",
      "       'HSI_AF7_range', 'HSI_AF8_mean', 'HSI_AF8_std', 'HSI_AF8_range',\n",
      "       'HSI_TP10_mean', 'HSI_TP10_std', 'HSI_TP10_range', 'Battery_mean',\n",
      "       'Battery_std', 'Battery_range'],\n",
      "      dtype='object', length=140)\n"
     ]
    },
    {
     "name": "stderr",
     "output_type": "stream",
     "text": [
      "2025-03-14 09:28:35,751 - eeg_classification - INFO - Columns after feature engineering: Index(['TimeStamp', 'Delta_TP9', 'Delta_AF7', 'Delta_AF8', 'Delta_TP10',\n",
      "       'Theta_TP9', 'Theta_AF7', 'Theta_AF8', 'Theta_TP10', 'Alpha_TP9',\n",
      "       ...\n",
      "       'HSI_AF7_range', 'HSI_AF8_mean', 'HSI_AF8_std', 'HSI_AF8_range',\n",
      "       'HSI_TP10_mean', 'HSI_TP10_std', 'HSI_TP10_range', 'Battery_mean',\n",
      "       'Battery_std', 'Battery_range'],\n",
      "      dtype='object', length=140)\n"
     ]
    },
    {
     "name": "stdout",
     "output_type": "stream",
     "text": [
      "2025-03-14 09:28:35,897 - eeg_classification - INFO - Processing file file_9 with 211172 rows\n",
      "2025-03-14 09:28:35,897 - eeg_classification - INFO - Processing file file_9 with 211172 rows\n"
     ]
    },
    {
     "name": "stderr",
     "output_type": "stream",
     "text": [
      "2025-03-14 09:28:35,897 - eeg_classification - INFO - Processing file file_9 with 211172 rows\n"
     ]
    },
    {
     "name": "stdout",
     "output_type": "stream",
     "text": [
      "2025-03-14 09:28:35,938 - eeg_classification - WARNING - Input data for file file_9 contains 1716 NaN values\n",
      "2025-03-14 09:28:35,938 - eeg_classification - WARNING - Input data for file file_9 contains 1716 NaN values\n"
     ]
    },
    {
     "name": "stderr",
     "output_type": "stream",
     "text": [
      "2025-03-14 09:28:35,938 - eeg_classification - WARNING - Input data for file file_9 contains 1716 NaN values\n"
     ]
    },
    {
     "name": "stdout",
     "output_type": "stream",
     "text": [
      "2025-03-14 09:28:35,940 - eeg_classification - INFO - Preprocessing data with shape (211172, 41)\n",
      "2025-03-14 09:28:35,940 - eeg_classification - INFO - Preprocessing data with shape (211172, 41)\n"
     ]
    },
    {
     "name": "stderr",
     "output_type": "stream",
     "text": [
      "2025-03-14 09:28:35,940 - eeg_classification - INFO - Preprocessing data with shape (211172, 41)\n"
     ]
    },
    {
     "name": "stdout",
     "output_type": "stream",
     "text": [
      "2025-03-14 09:28:36,075 - eeg_classification - WARNING - Dropping 44 rows with invalid timestamps\n",
      "2025-03-14 09:28:36,075 - eeg_classification - WARNING - Dropping 44 rows with invalid timestamps\n"
     ]
    },
    {
     "name": "stderr",
     "output_type": "stream",
     "text": [
      "2025-03-14 09:28:36,075 - eeg_classification - WARNING - Dropping 44 rows with invalid timestamps\n"
     ]
    },
    {
     "name": "stdout",
     "output_type": "stream",
     "text": [
      "2025-03-14 09:28:36,101 - eeg_classification - INFO - Successfully converted timestamps. Remaining rows: 211128\n",
      "2025-03-14 09:28:36,101 - eeg_classification - INFO - Successfully converted timestamps. Remaining rows: 211128\n"
     ]
    },
    {
     "name": "stderr",
     "output_type": "stream",
     "text": [
      "2025-03-14 09:28:36,101 - eeg_classification - INFO - Successfully converted timestamps. Remaining rows: 211128\n"
     ]
    },
    {
     "name": "stdout",
     "output_type": "stream",
     "text": [
      "NaNs in numeric columns: TimeStamp          0\n",
      "Delta_TP9          0\n",
      "Delta_AF7          0\n",
      "Delta_AF8          0\n",
      "Delta_TP10         0\n",
      "Theta_TP9          0\n",
      "Theta_AF7          0\n",
      "Theta_AF8          0\n",
      "Theta_TP10         0\n",
      "Alpha_TP9          0\n",
      "Alpha_AF7          0\n",
      "Alpha_AF8          0\n",
      "Alpha_TP10         0\n",
      "Beta_TP9           0\n",
      "Beta_AF7           0\n",
      "Beta_AF8           0\n",
      "Beta_TP10          0\n",
      "Gamma_TP9          0\n",
      "Gamma_AF7          0\n",
      "Gamma_AF8          0\n",
      "Gamma_TP10         0\n",
      "RAW_TP9            0\n",
      "RAW_AF7            0\n",
      "RAW_AF8            0\n",
      "RAW_TP10           0\n",
      "AUX_RIGHT          0\n",
      "Mellow             0\n",
      "Concentration      0\n",
      "Accelerometer_X    0\n",
      "Accelerometer_Y    0\n",
      "Accelerometer_Z    0\n",
      "Gyro_X             0\n",
      "Gyro_Y             0\n",
      "Gyro_Z             0\n",
      "HeadBandOn         0\n",
      "HSI_TP9            0\n",
      "HSI_AF7            0\n",
      "HSI_AF8            0\n",
      "HSI_TP10           0\n",
      "Battery            0\n",
      "SourceFile         0\n",
      "dtype: int64\n",
      "2025-03-14 09:28:36,216 - eeg_classification - INFO - Data spans 824.68 seconds from 2024-06-13 14:10:20.376000 to 2024-06-13 14:24:05.053000\n",
      "2025-03-14 09:28:36,216 - eeg_classification - INFO - Data spans 824.68 seconds from 2024-06-13 14:10:20.376000 to 2024-06-13 14:24:05.053000\n"
     ]
    },
    {
     "name": "stderr",
     "output_type": "stream",
     "text": [
      "2025-03-14 09:28:36,216 - eeg_classification - INFO - Data spans 824.68 seconds from 2024-06-13 14:10:20.376000 to 2024-06-13 14:24:05.053000\n"
     ]
    },
    {
     "name": "stdout",
     "output_type": "stream",
     "text": [
      "2025-03-14 09:28:36,443 - eeg_classification - INFO - Sampling complete: 211128 -> 8250 data points (3.9%)\n",
      "2025-03-14 09:28:36,443 - eeg_classification - INFO - Sampling complete: 211128 -> 8250 data points (3.9%)\n"
     ]
    },
    {
     "name": "stderr",
     "output_type": "stream",
     "text": [
      "2025-03-14 09:28:36,443 - eeg_classification - INFO - Sampling complete: 211128 -> 8250 data points (3.9%)\n"
     ]
    },
    {
     "name": "stdout",
     "output_type": "stream",
     "text": [
      "2025-03-14 09:28:36,454 - eeg_classification - INFO - Preprocessing complete. Output shape: (8250, 41)\n",
      "2025-03-14 09:28:36,454 - eeg_classification - INFO - Preprocessing complete. Output shape: (8250, 41)\n"
     ]
    },
    {
     "name": "stderr",
     "output_type": "stream",
     "text": [
      "2025-03-14 09:28:36,454 - eeg_classification - INFO - Preprocessing complete. Output shape: (8250, 41)\n"
     ]
    },
    {
     "name": "stdout",
     "output_type": "stream",
     "text": [
      "2025-03-14 09:28:36,456 - eeg_classification - INFO - Cleaned data shape: (8250, 41)\n",
      "2025-03-14 09:28:36,456 - eeg_classification - INFO - Cleaned data shape: (8250, 41)\n"
     ]
    },
    {
     "name": "stderr",
     "output_type": "stream",
     "text": [
      "2025-03-14 09:28:36,456 - eeg_classification - INFO - Cleaned data shape: (8250, 41)\n"
     ]
    },
    {
     "name": "stdout",
     "output_type": "stream",
     "text": [
      "2025-03-14 09:28:36,459 - eeg_classification - INFO - Engineering features from data with shape (8250, 41)\n",
      "2025-03-14 09:28:36,459 - eeg_classification - INFO - Engineering features from data with shape (8250, 41)\n"
     ]
    },
    {
     "name": "stderr",
     "output_type": "stream",
     "text": [
      "2025-03-14 09:28:36,459 - eeg_classification - INFO - Engineering features from data with shape (8250, 41)\n"
     ]
    },
    {
     "name": "stdout",
     "output_type": "stream",
     "text": [
      "2025-03-14 09:28:36,901 - eeg_classification - INFO - Feature engineering complete. Output shape: (8250, 140)\n",
      "2025-03-14 09:28:36,901 - eeg_classification - INFO - Feature engineering complete. Output shape: (8250, 140)\n"
     ]
    },
    {
     "name": "stderr",
     "output_type": "stream",
     "text": [
      "c:\\Users\\Huai\\Documents\\GitHub\\EEG-classification\\training\\common\\preprocessing.py:155: PerformanceWarning: DataFrame is highly fragmented.  This is usually the result of calling `frame.insert` many times, which has poor performance.  Consider joining all columns at once using pd.concat(axis=1) instead. To get a de-fragmented frame, use `newframe = frame.copy()`\n",
      "  df_features[f\"{col}_std\"] = df[col].rolling(window=window_size, center=True).std()\n",
      "c:\\Users\\Huai\\Documents\\GitHub\\EEG-classification\\training\\common\\preprocessing.py:158: PerformanceWarning: DataFrame is highly fragmented.  This is usually the result of calling `frame.insert` many times, which has poor performance.  Consider joining all columns at once using pd.concat(axis=1) instead. To get a de-fragmented frame, use `newframe = frame.copy()`\n",
      "  df_features[f\"{col}_range\"] = (\n",
      "2025-03-14 09:28:36,901 - eeg_classification - INFO - Feature engineering complete. Output shape: (8250, 140)\n"
     ]
    },
    {
     "name": "stdout",
     "output_type": "stream",
     "text": [
      "2025-03-14 09:28:36,903 - eeg_classification - INFO - Features shape: (8250, 140)\n",
      "2025-03-14 09:28:36,903 - eeg_classification - INFO - Features shape: (8250, 140)\n"
     ]
    },
    {
     "name": "stderr",
     "output_type": "stream",
     "text": [
      "2025-03-14 09:28:36,903 - eeg_classification - INFO - Features shape: (8250, 140)\n"
     ]
    },
    {
     "name": "stdout",
     "output_type": "stream",
     "text": [
      "2025-03-14 09:28:36,911 - eeg_classification - INFO - No. of missing values after feature engineering: TimeStamp         0\n",
      "Delta_TP9         0\n",
      "Delta_AF7         0\n",
      "Delta_AF8         0\n",
      "Delta_TP10        0\n",
      "                 ..\n",
      "HSI_TP10_std      0\n",
      "HSI_TP10_range    0\n",
      "Battery_mean      0\n",
      "Battery_std       0\n",
      "Battery_range     0\n",
      "Length: 140, dtype: int64\n",
      "2025-03-14 09:28:36,911 - eeg_classification - INFO - No. of missing values after feature engineering: TimeStamp         0\n",
      "Delta_TP9         0\n",
      "Delta_AF7         0\n",
      "Delta_AF8         0\n",
      "Delta_TP10        0\n",
      "                 ..\n",
      "HSI_TP10_std      0\n",
      "HSI_TP10_range    0\n",
      "Battery_mean      0\n",
      "Battery_std       0\n",
      "Battery_range     0\n",
      "Length: 140, dtype: int64\n"
     ]
    },
    {
     "name": "stderr",
     "output_type": "stream",
     "text": [
      "2025-03-14 09:28:36,911 - eeg_classification - INFO - No. of missing values after feature engineering: TimeStamp         0\n",
      "Delta_TP9         0\n",
      "Delta_AF7         0\n",
      "Delta_AF8         0\n",
      "Delta_TP10        0\n",
      "                 ..\n",
      "HSI_TP10_std      0\n",
      "HSI_TP10_range    0\n",
      "Battery_mean      0\n",
      "Battery_std       0\n",
      "Battery_range     0\n",
      "Length: 140, dtype: int64\n"
     ]
    },
    {
     "name": "stdout",
     "output_type": "stream",
     "text": [
      "2025-03-14 09:28:36,914 - eeg_classification - INFO - Columns after feature engineering: Index(['TimeStamp', 'Delta_TP9', 'Delta_AF7', 'Delta_AF8', 'Delta_TP10',\n",
      "       'Theta_TP9', 'Theta_AF7', 'Theta_AF8', 'Theta_TP10', 'Alpha_TP9',\n",
      "       ...\n",
      "       'HSI_AF7_range', 'HSI_AF8_mean', 'HSI_AF8_std', 'HSI_AF8_range',\n",
      "       'HSI_TP10_mean', 'HSI_TP10_std', 'HSI_TP10_range', 'Battery_mean',\n",
      "       'Battery_std', 'Battery_range'],\n",
      "      dtype='object', length=140)\n",
      "2025-03-14 09:28:36,914 - eeg_classification - INFO - Columns after feature engineering: Index(['TimeStamp', 'Delta_TP9', 'Delta_AF7', 'Delta_AF8', 'Delta_TP10',\n",
      "       'Theta_TP9', 'Theta_AF7', 'Theta_AF8', 'Theta_TP10', 'Alpha_TP9',\n",
      "       ...\n",
      "       'HSI_AF7_range', 'HSI_AF8_mean', 'HSI_AF8_std', 'HSI_AF8_range',\n",
      "       'HSI_TP10_mean', 'HSI_TP10_std', 'HSI_TP10_range', 'Battery_mean',\n",
      "       'Battery_std', 'Battery_range'],\n",
      "      dtype='object', length=140)\n"
     ]
    },
    {
     "name": "stderr",
     "output_type": "stream",
     "text": [
      "2025-03-14 09:28:36,914 - eeg_classification - INFO - Columns after feature engineering: Index(['TimeStamp', 'Delta_TP9', 'Delta_AF7', 'Delta_AF8', 'Delta_TP10',\n",
      "       'Theta_TP9', 'Theta_AF7', 'Theta_AF8', 'Theta_TP10', 'Alpha_TP9',\n",
      "       ...\n",
      "       'HSI_AF7_range', 'HSI_AF8_mean', 'HSI_AF8_std', 'HSI_AF8_range',\n",
      "       'HSI_TP10_mean', 'HSI_TP10_std', 'HSI_TP10_range', 'Battery_mean',\n",
      "       'Battery_std', 'Battery_range'],\n",
      "      dtype='object', length=140)\n"
     ]
    },
    {
     "name": "stdout",
     "output_type": "stream",
     "text": [
      "2025-03-14 09:28:37,061 - eeg_classification - INFO - Processing file file_10 with 423021 rows\n",
      "2025-03-14 09:28:37,061 - eeg_classification - INFO - Processing file file_10 with 423021 rows\n"
     ]
    },
    {
     "name": "stderr",
     "output_type": "stream",
     "text": [
      "2025-03-14 09:28:37,061 - eeg_classification - INFO - Processing file file_10 with 423021 rows\n"
     ]
    },
    {
     "name": "stdout",
     "output_type": "stream",
     "text": [
      "2025-03-14 09:28:37,135 - eeg_classification - WARNING - Input data for file file_10 contains 46155 NaN values\n",
      "2025-03-14 09:28:37,135 - eeg_classification - WARNING - Input data for file file_10 contains 46155 NaN values\n"
     ]
    },
    {
     "name": "stderr",
     "output_type": "stream",
     "text": [
      "2025-03-14 09:28:37,135 - eeg_classification - WARNING - Input data for file file_10 contains 46155 NaN values\n"
     ]
    },
    {
     "name": "stdout",
     "output_type": "stream",
     "text": [
      "2025-03-14 09:28:37,137 - eeg_classification - INFO - Preprocessing data with shape (423021, 41)\n",
      "2025-03-14 09:28:37,137 - eeg_classification - INFO - Preprocessing data with shape (423021, 41)\n"
     ]
    },
    {
     "name": "stderr",
     "output_type": "stream",
     "text": [
      "2025-03-14 09:28:37,137 - eeg_classification - INFO - Preprocessing data with shape (423021, 41)\n"
     ]
    },
    {
     "name": "stdout",
     "output_type": "stream",
     "text": [
      "2025-03-14 09:28:37,413 - eeg_classification - WARNING - Dropping 297 rows with invalid timestamps\n",
      "2025-03-14 09:28:37,413 - eeg_classification - WARNING - Dropping 297 rows with invalid timestamps\n"
     ]
    },
    {
     "name": "stderr",
     "output_type": "stream",
     "text": [
      "2025-03-14 09:28:37,413 - eeg_classification - WARNING - Dropping 297 rows with invalid timestamps\n"
     ]
    },
    {
     "name": "stdout",
     "output_type": "stream",
     "text": [
      "2025-03-14 09:28:37,461 - eeg_classification - INFO - Successfully converted timestamps. Remaining rows: 422724\n",
      "2025-03-14 09:28:37,461 - eeg_classification - INFO - Successfully converted timestamps. Remaining rows: 422724\n"
     ]
    },
    {
     "name": "stderr",
     "output_type": "stream",
     "text": [
      "2025-03-14 09:28:37,461 - eeg_classification - INFO - Successfully converted timestamps. Remaining rows: 422724\n"
     ]
    },
    {
     "name": "stdout",
     "output_type": "stream",
     "text": [
      "NaNs in numeric columns: TimeStamp          0\n",
      "Delta_TP9          0\n",
      "Delta_AF7          0\n",
      "Delta_AF8          0\n",
      "Delta_TP10         0\n",
      "Theta_TP9          0\n",
      "Theta_AF7          0\n",
      "Theta_AF8          0\n",
      "Theta_TP10         0\n",
      "Alpha_TP9          0\n",
      "Alpha_AF7          0\n",
      "Alpha_AF8          0\n",
      "Alpha_TP10         0\n",
      "Beta_TP9           0\n",
      "Beta_AF7           0\n",
      "Beta_AF8           0\n",
      "Beta_TP10          0\n",
      "Gamma_TP9          0\n",
      "Gamma_AF7          0\n",
      "Gamma_AF8          0\n",
      "Gamma_TP10         0\n",
      "RAW_TP9            0\n",
      "RAW_AF7            0\n",
      "RAW_AF8            0\n",
      "RAW_TP10           0\n",
      "AUX_RIGHT          0\n",
      "Mellow             0\n",
      "Concentration      0\n",
      "Accelerometer_X    0\n",
      "Accelerometer_Y    0\n",
      "Accelerometer_Z    0\n",
      "Gyro_X             0\n",
      "Gyro_Y             0\n",
      "Gyro_Z             0\n",
      "HeadBandOn         0\n",
      "HSI_TP9            0\n",
      "HSI_AF7            0\n",
      "HSI_AF8            0\n",
      "HSI_TP10           0\n",
      "Battery            0\n",
      "SourceFile         0\n",
      "dtype: int64\n",
      "2025-03-14 09:28:37,703 - eeg_classification - INFO - Data spans 1674.07 seconds from 2024-06-13 14:48:13.638000 to 2024-06-13 15:16:07.710000\n",
      "2025-03-14 09:28:37,703 - eeg_classification - INFO - Data spans 1674.07 seconds from 2024-06-13 14:48:13.638000 to 2024-06-13 15:16:07.710000\n"
     ]
    },
    {
     "name": "stderr",
     "output_type": "stream",
     "text": [
      "2025-03-14 09:28:37,703 - eeg_classification - INFO - Data spans 1674.07 seconds from 2024-06-13 14:48:13.638000 to 2024-06-13 15:16:07.710000\n"
     ]
    },
    {
     "name": "stdout",
     "output_type": "stream",
     "text": [
      "2025-03-14 09:28:38,393 - eeg_classification - INFO - Sampling complete: 408132 -> 16600 data points (4.1%)\n",
      "2025-03-14 09:28:38,393 - eeg_classification - INFO - Sampling complete: 408132 -> 16600 data points (4.1%)\n"
     ]
    },
    {
     "name": "stderr",
     "output_type": "stream",
     "text": [
      "2025-03-14 09:28:38,393 - eeg_classification - INFO - Sampling complete: 408132 -> 16600 data points (4.1%)\n"
     ]
    },
    {
     "name": "stdout",
     "output_type": "stream",
     "text": [
      "2025-03-14 09:28:38,411 - eeg_classification - INFO - Preprocessing complete. Output shape: (16600, 41)\n",
      "2025-03-14 09:28:38,411 - eeg_classification - INFO - Preprocessing complete. Output shape: (16600, 41)\n"
     ]
    },
    {
     "name": "stderr",
     "output_type": "stream",
     "text": [
      "2025-03-14 09:28:38,411 - eeg_classification - INFO - Preprocessing complete. Output shape: (16600, 41)\n"
     ]
    },
    {
     "name": "stdout",
     "output_type": "stream",
     "text": [
      "2025-03-14 09:28:38,415 - eeg_classification - INFO - Cleaned data shape: (16600, 41)\n",
      "2025-03-14 09:28:38,415 - eeg_classification - INFO - Cleaned data shape: (16600, 41)\n"
     ]
    },
    {
     "name": "stderr",
     "output_type": "stream",
     "text": [
      "2025-03-14 09:28:38,415 - eeg_classification - INFO - Cleaned data shape: (16600, 41)\n"
     ]
    },
    {
     "name": "stdout",
     "output_type": "stream",
     "text": [
      "2025-03-14 09:28:38,417 - eeg_classification - INFO - Engineering features from data with shape (16600, 41)\n",
      "2025-03-14 09:28:38,417 - eeg_classification - INFO - Engineering features from data with shape (16600, 41)\n"
     ]
    },
    {
     "name": "stderr",
     "output_type": "stream",
     "text": [
      "2025-03-14 09:28:38,417 - eeg_classification - INFO - Engineering features from data with shape (16600, 41)\n"
     ]
    },
    {
     "name": "stdout",
     "output_type": "stream",
     "text": [
      "2025-03-14 09:28:38,943 - eeg_classification - INFO - Feature engineering complete. Output shape: (16600, 140)\n",
      "2025-03-14 09:28:38,943 - eeg_classification - INFO - Feature engineering complete. Output shape: (16600, 140)\n"
     ]
    },
    {
     "name": "stderr",
     "output_type": "stream",
     "text": [
      "c:\\Users\\Huai\\Documents\\GitHub\\EEG-classification\\training\\common\\preprocessing.py:155: PerformanceWarning: DataFrame is highly fragmented.  This is usually the result of calling `frame.insert` many times, which has poor performance.  Consider joining all columns at once using pd.concat(axis=1) instead. To get a de-fragmented frame, use `newframe = frame.copy()`\n",
      "  df_features[f\"{col}_std\"] = df[col].rolling(window=window_size, center=True).std()\n",
      "c:\\Users\\Huai\\Documents\\GitHub\\EEG-classification\\training\\common\\preprocessing.py:158: PerformanceWarning: DataFrame is highly fragmented.  This is usually the result of calling `frame.insert` many times, which has poor performance.  Consider joining all columns at once using pd.concat(axis=1) instead. To get a de-fragmented frame, use `newframe = frame.copy()`\n",
      "  df_features[f\"{col}_range\"] = (\n",
      "2025-03-14 09:28:38,943 - eeg_classification - INFO - Feature engineering complete. Output shape: (16600, 140)\n"
     ]
    },
    {
     "name": "stdout",
     "output_type": "stream",
     "text": [
      "2025-03-14 09:28:38,945 - eeg_classification - INFO - Features shape: (16600, 140)\n",
      "2025-03-14 09:28:38,945 - eeg_classification - INFO - Features shape: (16600, 140)\n"
     ]
    },
    {
     "name": "stderr",
     "output_type": "stream",
     "text": [
      "2025-03-14 09:28:38,945 - eeg_classification - INFO - Features shape: (16600, 140)\n"
     ]
    },
    {
     "name": "stdout",
     "output_type": "stream",
     "text": [
      "2025-03-14 09:28:38,956 - eeg_classification - INFO - No. of missing values after feature engineering: TimeStamp         0\n",
      "Delta_TP9         0\n",
      "Delta_AF7         0\n",
      "Delta_AF8         0\n",
      "Delta_TP10        0\n",
      "                 ..\n",
      "HSI_TP10_std      0\n",
      "HSI_TP10_range    0\n",
      "Battery_mean      0\n",
      "Battery_std       0\n",
      "Battery_range     0\n",
      "Length: 140, dtype: int64\n",
      "2025-03-14 09:28:38,956 - eeg_classification - INFO - No. of missing values after feature engineering: TimeStamp         0\n",
      "Delta_TP9         0\n",
      "Delta_AF7         0\n",
      "Delta_AF8         0\n",
      "Delta_TP10        0\n",
      "                 ..\n",
      "HSI_TP10_std      0\n",
      "HSI_TP10_range    0\n",
      "Battery_mean      0\n",
      "Battery_std       0\n",
      "Battery_range     0\n",
      "Length: 140, dtype: int64\n"
     ]
    },
    {
     "name": "stderr",
     "output_type": "stream",
     "text": [
      "2025-03-14 09:28:38,956 - eeg_classification - INFO - No. of missing values after feature engineering: TimeStamp         0\n",
      "Delta_TP9         0\n",
      "Delta_AF7         0\n",
      "Delta_AF8         0\n",
      "Delta_TP10        0\n",
      "                 ..\n",
      "HSI_TP10_std      0\n",
      "HSI_TP10_range    0\n",
      "Battery_mean      0\n",
      "Battery_std       0\n",
      "Battery_range     0\n",
      "Length: 140, dtype: int64\n"
     ]
    },
    {
     "name": "stdout",
     "output_type": "stream",
     "text": [
      "2025-03-14 09:28:38,958 - eeg_classification - INFO - Columns after feature engineering: Index(['TimeStamp', 'Delta_TP9', 'Delta_AF7', 'Delta_AF8', 'Delta_TP10',\n",
      "       'Theta_TP9', 'Theta_AF7', 'Theta_AF8', 'Theta_TP10', 'Alpha_TP9',\n",
      "       ...\n",
      "       'HSI_AF7_range', 'HSI_AF8_mean', 'HSI_AF8_std', 'HSI_AF8_range',\n",
      "       'HSI_TP10_mean', 'HSI_TP10_std', 'HSI_TP10_range', 'Battery_mean',\n",
      "       'Battery_std', 'Battery_range'],\n",
      "      dtype='object', length=140)\n",
      "2025-03-14 09:28:38,958 - eeg_classification - INFO - Columns after feature engineering: Index(['TimeStamp', 'Delta_TP9', 'Delta_AF7', 'Delta_AF8', 'Delta_TP10',\n",
      "       'Theta_TP9', 'Theta_AF7', 'Theta_AF8', 'Theta_TP10', 'Alpha_TP9',\n",
      "       ...\n",
      "       'HSI_AF7_range', 'HSI_AF8_mean', 'HSI_AF8_std', 'HSI_AF8_range',\n",
      "       'HSI_TP10_mean', 'HSI_TP10_std', 'HSI_TP10_range', 'Battery_mean',\n",
      "       'Battery_std', 'Battery_range'],\n",
      "      dtype='object', length=140)\n"
     ]
    },
    {
     "name": "stderr",
     "output_type": "stream",
     "text": [
      "2025-03-14 09:28:38,958 - eeg_classification - INFO - Columns after feature engineering: Index(['TimeStamp', 'Delta_TP9', 'Delta_AF7', 'Delta_AF8', 'Delta_TP10',\n",
      "       'Theta_TP9', 'Theta_AF7', 'Theta_AF8', 'Theta_TP10', 'Alpha_TP9',\n",
      "       ...\n",
      "       'HSI_AF7_range', 'HSI_AF8_mean', 'HSI_AF8_std', 'HSI_AF8_range',\n",
      "       'HSI_TP10_mean', 'HSI_TP10_std', 'HSI_TP10_range', 'Battery_mean',\n",
      "       'Battery_std', 'Battery_range'],\n",
      "      dtype='object', length=140)\n"
     ]
    },
    {
     "name": "stdout",
     "output_type": "stream",
     "text": [
      "2025-03-14 09:28:39,113 - eeg_classification - INFO - Processing file file_11 with 553130 rows\n",
      "2025-03-14 09:28:39,113 - eeg_classification - INFO - Processing file file_11 with 553130 rows\n"
     ]
    },
    {
     "name": "stderr",
     "output_type": "stream",
     "text": [
      "2025-03-14 09:28:39,113 - eeg_classification - INFO - Processing file file_11 with 553130 rows\n"
     ]
    },
    {
     "name": "stdout",
     "output_type": "stream",
     "text": [
      "2025-03-14 09:28:39,215 - eeg_classification - WARNING - Input data for file file_11 contains 1242450 NaN values\n",
      "2025-03-14 09:28:39,215 - eeg_classification - WARNING - Input data for file file_11 contains 1242450 NaN values\n"
     ]
    },
    {
     "name": "stderr",
     "output_type": "stream",
     "text": [
      "2025-03-14 09:28:39,215 - eeg_classification - WARNING - Input data for file file_11 contains 1242450 NaN values\n"
     ]
    },
    {
     "name": "stdout",
     "output_type": "stream",
     "text": [
      "2025-03-14 09:28:39,217 - eeg_classification - INFO - Preprocessing data with shape (553130, 41)\n",
      "2025-03-14 09:28:39,217 - eeg_classification - INFO - Preprocessing data with shape (553130, 41)\n"
     ]
    },
    {
     "name": "stderr",
     "output_type": "stream",
     "text": [
      "2025-03-14 09:28:39,217 - eeg_classification - INFO - Preprocessing data with shape (553130, 41)\n"
     ]
    },
    {
     "name": "stdout",
     "output_type": "stream",
     "text": [
      "2025-03-14 09:28:39,571 - eeg_classification - WARNING - Dropping 326 rows with invalid timestamps\n",
      "2025-03-14 09:28:39,571 - eeg_classification - WARNING - Dropping 326 rows with invalid timestamps\n"
     ]
    },
    {
     "name": "stderr",
     "output_type": "stream",
     "text": [
      "2025-03-14 09:28:39,571 - eeg_classification - WARNING - Dropping 326 rows with invalid timestamps\n"
     ]
    },
    {
     "name": "stdout",
     "output_type": "stream",
     "text": [
      "2025-03-14 09:28:39,637 - eeg_classification - INFO - Successfully converted timestamps. Remaining rows: 552804\n",
      "2025-03-14 09:28:39,637 - eeg_classification - INFO - Successfully converted timestamps. Remaining rows: 552804\n"
     ]
    },
    {
     "name": "stderr",
     "output_type": "stream",
     "text": [
      "2025-03-14 09:28:39,637 - eeg_classification - INFO - Successfully converted timestamps. Remaining rows: 552804\n"
     ]
    },
    {
     "name": "stdout",
     "output_type": "stream",
     "text": [
      "NaNs in numeric columns: TimeStamp          0\n",
      "Delta_TP9          0\n",
      "Delta_AF7          0\n",
      "Delta_AF8          0\n",
      "Delta_TP10         0\n",
      "Theta_TP9          0\n",
      "Theta_AF7          0\n",
      "Theta_AF8          0\n",
      "Theta_TP10         0\n",
      "Alpha_TP9          0\n",
      "Alpha_AF7          0\n",
      "Alpha_AF8          0\n",
      "Alpha_TP10         0\n",
      "Beta_TP9           0\n",
      "Beta_AF7           0\n",
      "Beta_AF8           0\n",
      "Beta_TP10          0\n",
      "Gamma_TP9          0\n",
      "Gamma_AF7          0\n",
      "Gamma_AF8          0\n",
      "Gamma_TP10         0\n",
      "RAW_TP9            0\n",
      "RAW_AF7            0\n",
      "RAW_AF8            0\n",
      "RAW_TP10           0\n",
      "AUX_RIGHT          0\n",
      "Mellow             0\n",
      "Concentration      0\n",
      "Accelerometer_X    0\n",
      "Accelerometer_Y    0\n",
      "Accelerometer_Z    0\n",
      "Gyro_X             0\n",
      "Gyro_Y             0\n",
      "Gyro_Z             0\n",
      "HeadBandOn         0\n",
      "HSI_TP9            0\n",
      "HSI_AF7            0\n",
      "HSI_AF8            0\n",
      "HSI_TP10           0\n",
      "Battery            0\n",
      "SourceFile         0\n",
      "dtype: int64\n",
      "2025-03-14 09:28:39,821 - eeg_classification - INFO - Data spans 2158.04 seconds from 2024-06-17 21:42:37.627000 to 2024-06-17 22:18:35.666000\n",
      "2025-03-14 09:28:39,821 - eeg_classification - INFO - Data spans 2158.04 seconds from 2024-06-17 21:42:37.627000 to 2024-06-17 22:18:35.666000\n"
     ]
    },
    {
     "name": "stderr",
     "output_type": "stream",
     "text": [
      "2025-03-14 09:28:39,821 - eeg_classification - INFO - Data spans 2158.04 seconds from 2024-06-17 21:42:37.627000 to 2024-06-17 22:18:35.666000\n"
     ]
    },
    {
     "name": "stdout",
     "output_type": "stream",
     "text": [
      "2025-03-14 09:28:40,290 - eeg_classification - INFO - Sampling complete: 127092 -> 21600 data points (17.0%)\n",
      "2025-03-14 09:28:40,290 - eeg_classification - INFO - Sampling complete: 127092 -> 21600 data points (17.0%)\n"
     ]
    },
    {
     "name": "stderr",
     "output_type": "stream",
     "text": [
      "2025-03-14 09:28:40,290 - eeg_classification - INFO - Sampling complete: 127092 -> 21600 data points (17.0%)\n"
     ]
    },
    {
     "name": "stdout",
     "output_type": "stream",
     "text": [
      "2025-03-14 09:28:40,301 - eeg_classification - INFO - Preprocessing complete. Output shape: (21600, 41)\n",
      "2025-03-14 09:28:40,301 - eeg_classification - INFO - Preprocessing complete. Output shape: (21600, 41)\n"
     ]
    },
    {
     "name": "stderr",
     "output_type": "stream",
     "text": [
      "2025-03-14 09:28:40,301 - eeg_classification - INFO - Preprocessing complete. Output shape: (21600, 41)\n"
     ]
    },
    {
     "name": "stdout",
     "output_type": "stream",
     "text": [
      "2025-03-14 09:28:40,304 - eeg_classification - INFO - Cleaned data shape: (21600, 41)\n",
      "2025-03-14 09:28:40,304 - eeg_classification - INFO - Cleaned data shape: (21600, 41)\n"
     ]
    },
    {
     "name": "stderr",
     "output_type": "stream",
     "text": [
      "2025-03-14 09:28:40,304 - eeg_classification - INFO - Cleaned data shape: (21600, 41)\n"
     ]
    },
    {
     "name": "stdout",
     "output_type": "stream",
     "text": [
      "2025-03-14 09:28:40,306 - eeg_classification - INFO - Engineering features from data with shape (21600, 41)\n",
      "2025-03-14 09:28:40,306 - eeg_classification - INFO - Engineering features from data with shape (21600, 41)\n"
     ]
    },
    {
     "name": "stderr",
     "output_type": "stream",
     "text": [
      "2025-03-14 09:28:40,306 - eeg_classification - INFO - Engineering features from data with shape (21600, 41)\n"
     ]
    },
    {
     "name": "stdout",
     "output_type": "stream",
     "text": [
      "2025-03-14 09:28:40,834 - eeg_classification - INFO - Feature engineering complete. Output shape: (21600, 140)\n",
      "2025-03-14 09:28:40,834 - eeg_classification - INFO - Feature engineering complete. Output shape: (21600, 140)\n"
     ]
    },
    {
     "name": "stderr",
     "output_type": "stream",
     "text": [
      "c:\\Users\\Huai\\Documents\\GitHub\\EEG-classification\\training\\common\\preprocessing.py:155: PerformanceWarning: DataFrame is highly fragmented.  This is usually the result of calling `frame.insert` many times, which has poor performance.  Consider joining all columns at once using pd.concat(axis=1) instead. To get a de-fragmented frame, use `newframe = frame.copy()`\n",
      "  df_features[f\"{col}_std\"] = df[col].rolling(window=window_size, center=True).std()\n",
      "c:\\Users\\Huai\\Documents\\GitHub\\EEG-classification\\training\\common\\preprocessing.py:158: PerformanceWarning: DataFrame is highly fragmented.  This is usually the result of calling `frame.insert` many times, which has poor performance.  Consider joining all columns at once using pd.concat(axis=1) instead. To get a de-fragmented frame, use `newframe = frame.copy()`\n",
      "  df_features[f\"{col}_range\"] = (\n",
      "2025-03-14 09:28:40,834 - eeg_classification - INFO - Feature engineering complete. Output shape: (21600, 140)\n"
     ]
    },
    {
     "name": "stdout",
     "output_type": "stream",
     "text": [
      "2025-03-14 09:28:40,836 - eeg_classification - INFO - Features shape: (21600, 140)\n",
      "2025-03-14 09:28:40,836 - eeg_classification - INFO - Features shape: (21600, 140)\n"
     ]
    },
    {
     "name": "stderr",
     "output_type": "stream",
     "text": [
      "2025-03-14 09:28:40,836 - eeg_classification - INFO - Features shape: (21600, 140)\n"
     ]
    },
    {
     "name": "stdout",
     "output_type": "stream",
     "text": [
      "2025-03-14 09:28:40,849 - eeg_classification - INFO - No. of missing values after feature engineering: TimeStamp         0\n",
      "Delta_TP9         0\n",
      "Delta_AF7         0\n",
      "Delta_AF8         0\n",
      "Delta_TP10        0\n",
      "                 ..\n",
      "HSI_TP10_std      0\n",
      "HSI_TP10_range    0\n",
      "Battery_mean      0\n",
      "Battery_std       0\n",
      "Battery_range     0\n",
      "Length: 140, dtype: int64\n",
      "2025-03-14 09:28:40,849 - eeg_classification - INFO - No. of missing values after feature engineering: TimeStamp         0\n",
      "Delta_TP9         0\n",
      "Delta_AF7         0\n",
      "Delta_AF8         0\n",
      "Delta_TP10        0\n",
      "                 ..\n",
      "HSI_TP10_std      0\n",
      "HSI_TP10_range    0\n",
      "Battery_mean      0\n",
      "Battery_std       0\n",
      "Battery_range     0\n",
      "Length: 140, dtype: int64\n"
     ]
    },
    {
     "name": "stderr",
     "output_type": "stream",
     "text": [
      "2025-03-14 09:28:40,849 - eeg_classification - INFO - No. of missing values after feature engineering: TimeStamp         0\n",
      "Delta_TP9         0\n",
      "Delta_AF7         0\n",
      "Delta_AF8         0\n",
      "Delta_TP10        0\n",
      "                 ..\n",
      "HSI_TP10_std      0\n",
      "HSI_TP10_range    0\n",
      "Battery_mean      0\n",
      "Battery_std       0\n",
      "Battery_range     0\n",
      "Length: 140, dtype: int64\n"
     ]
    },
    {
     "name": "stdout",
     "output_type": "stream",
     "text": [
      "2025-03-14 09:28:40,851 - eeg_classification - INFO - Columns after feature engineering: Index(['TimeStamp', 'Delta_TP9', 'Delta_AF7', 'Delta_AF8', 'Delta_TP10',\n",
      "       'Theta_TP9', 'Theta_AF7', 'Theta_AF8', 'Theta_TP10', 'Alpha_TP9',\n",
      "       ...\n",
      "       'HSI_AF7_range', 'HSI_AF8_mean', 'HSI_AF8_std', 'HSI_AF8_range',\n",
      "       'HSI_TP10_mean', 'HSI_TP10_std', 'HSI_TP10_range', 'Battery_mean',\n",
      "       'Battery_std', 'Battery_range'],\n",
      "      dtype='object', length=140)\n",
      "2025-03-14 09:28:40,851 - eeg_classification - INFO - Columns after feature engineering: Index(['TimeStamp', 'Delta_TP9', 'Delta_AF7', 'Delta_AF8', 'Delta_TP10',\n",
      "       'Theta_TP9', 'Theta_AF7', 'Theta_AF8', 'Theta_TP10', 'Alpha_TP9',\n",
      "       ...\n",
      "       'HSI_AF7_range', 'HSI_AF8_mean', 'HSI_AF8_std', 'HSI_AF8_range',\n",
      "       'HSI_TP10_mean', 'HSI_TP10_std', 'HSI_TP10_range', 'Battery_mean',\n",
      "       'Battery_std', 'Battery_range'],\n",
      "      dtype='object', length=140)\n"
     ]
    },
    {
     "name": "stderr",
     "output_type": "stream",
     "text": [
      "2025-03-14 09:28:40,851 - eeg_classification - INFO - Columns after feature engineering: Index(['TimeStamp', 'Delta_TP9', 'Delta_AF7', 'Delta_AF8', 'Delta_TP10',\n",
      "       'Theta_TP9', 'Theta_AF7', 'Theta_AF8', 'Theta_TP10', 'Alpha_TP9',\n",
      "       ...\n",
      "       'HSI_AF7_range', 'HSI_AF8_mean', 'HSI_AF8_std', 'HSI_AF8_range',\n",
      "       'HSI_TP10_mean', 'HSI_TP10_std', 'HSI_TP10_range', 'Battery_mean',\n",
      "       'Battery_std', 'Battery_range'],\n",
      "      dtype='object', length=140)\n"
     ]
    },
    {
     "name": "stdout",
     "output_type": "stream",
     "text": [
      "2025-03-14 09:28:40,996 - eeg_classification - INFO - Processing file file_12 with 360120 rows\n",
      "2025-03-14 09:28:40,996 - eeg_classification - INFO - Processing file file_12 with 360120 rows\n"
     ]
    },
    {
     "name": "stderr",
     "output_type": "stream",
     "text": [
      "2025-03-14 09:28:40,996 - eeg_classification - INFO - Processing file file_12 with 360120 rows\n"
     ]
    },
    {
     "name": "stdout",
     "output_type": "stream",
     "text": [
      "2025-03-14 09:28:41,059 - eeg_classification - WARNING - Input data for file file_12 contains 12636 NaN values\n",
      "2025-03-14 09:28:41,059 - eeg_classification - WARNING - Input data for file file_12 contains 12636 NaN values\n"
     ]
    },
    {
     "name": "stderr",
     "output_type": "stream",
     "text": [
      "2025-03-14 09:28:41,059 - eeg_classification - WARNING - Input data for file file_12 contains 12636 NaN values\n"
     ]
    },
    {
     "name": "stdout",
     "output_type": "stream",
     "text": [
      "2025-03-14 09:28:41,062 - eeg_classification - INFO - Preprocessing data with shape (360120, 41)\n",
      "2025-03-14 09:28:41,062 - eeg_classification - INFO - Preprocessing data with shape (360120, 41)\n"
     ]
    },
    {
     "name": "stderr",
     "output_type": "stream",
     "text": [
      "2025-03-14 09:28:41,062 - eeg_classification - INFO - Preprocessing data with shape (360120, 41)\n"
     ]
    },
    {
     "name": "stdout",
     "output_type": "stream",
     "text": [
      "2025-03-14 09:28:41,376 - eeg_classification - WARNING - Dropping 324 rows with invalid timestamps\n",
      "2025-03-14 09:28:41,376 - eeg_classification - WARNING - Dropping 324 rows with invalid timestamps\n"
     ]
    },
    {
     "name": "stderr",
     "output_type": "stream",
     "text": [
      "2025-03-14 09:28:41,376 - eeg_classification - WARNING - Dropping 324 rows with invalid timestamps\n"
     ]
    },
    {
     "name": "stdout",
     "output_type": "stream",
     "text": [
      "2025-03-14 09:28:41,417 - eeg_classification - INFO - Successfully converted timestamps. Remaining rows: 359796\n",
      "2025-03-14 09:28:41,417 - eeg_classification - INFO - Successfully converted timestamps. Remaining rows: 359796\n"
     ]
    },
    {
     "name": "stderr",
     "output_type": "stream",
     "text": [
      "2025-03-14 09:28:41,417 - eeg_classification - INFO - Successfully converted timestamps. Remaining rows: 359796\n"
     ]
    },
    {
     "name": "stdout",
     "output_type": "stream",
     "text": [
      "NaNs in numeric columns: TimeStamp          0\n",
      "Delta_TP9          0\n",
      "Delta_AF7          0\n",
      "Delta_AF8          0\n",
      "Delta_TP10         0\n",
      "Theta_TP9          0\n",
      "Theta_AF7          0\n",
      "Theta_AF8          0\n",
      "Theta_TP10         0\n",
      "Alpha_TP9          0\n",
      "Alpha_AF7          0\n",
      "Alpha_AF8          0\n",
      "Alpha_TP10         0\n",
      "Beta_TP9           0\n",
      "Beta_AF7           0\n",
      "Beta_AF8           0\n",
      "Beta_TP10          0\n",
      "Gamma_TP9          0\n",
      "Gamma_AF7          0\n",
      "Gamma_AF8          0\n",
      "Gamma_TP10         0\n",
      "RAW_TP9            0\n",
      "RAW_AF7            0\n",
      "RAW_AF8            0\n",
      "RAW_TP10           0\n",
      "AUX_RIGHT          0\n",
      "Mellow             0\n",
      "Concentration      0\n",
      "Accelerometer_X    0\n",
      "Accelerometer_Y    0\n",
      "Accelerometer_Z    0\n",
      "Gyro_X             0\n",
      "Gyro_Y             0\n",
      "Gyro_Z             0\n",
      "HeadBandOn         0\n",
      "HSI_TP9            0\n",
      "HSI_AF7            0\n",
      "HSI_AF8            0\n",
      "HSI_TP10           0\n",
      "Battery            0\n",
      "SourceFile         0\n",
      "dtype: int64\n",
      "2025-03-14 09:28:41,609 - eeg_classification - INFO - Data spans 1405.33 seconds from 2024-06-18 01:31:42.357000 to 2024-06-18 01:55:07.683000\n",
      "2025-03-14 09:28:41,609 - eeg_classification - INFO - Data spans 1405.33 seconds from 2024-06-18 01:31:42.357000 to 2024-06-18 01:55:07.683000\n"
     ]
    },
    {
     "name": "stderr",
     "output_type": "stream",
     "text": [
      "2025-03-14 09:28:41,609 - eeg_classification - INFO - Data spans 1405.33 seconds from 2024-06-18 01:31:42.357000 to 2024-06-18 01:55:07.683000\n"
     ]
    },
    {
     "name": "stdout",
     "output_type": "stream",
     "text": [
      "2025-03-14 09:28:42,134 - eeg_classification - INFO - Sampling complete: 359796 -> 14100 data points (3.9%)\n",
      "2025-03-14 09:28:42,134 - eeg_classification - INFO - Sampling complete: 359796 -> 14100 data points (3.9%)\n"
     ]
    },
    {
     "name": "stderr",
     "output_type": "stream",
     "text": [
      "2025-03-14 09:28:42,134 - eeg_classification - INFO - Sampling complete: 359796 -> 14100 data points (3.9%)\n"
     ]
    },
    {
     "name": "stdout",
     "output_type": "stream",
     "text": [
      "2025-03-14 09:28:42,150 - eeg_classification - INFO - Preprocessing complete. Output shape: (14100, 41)\n",
      "2025-03-14 09:28:42,150 - eeg_classification - INFO - Preprocessing complete. Output shape: (14100, 41)\n"
     ]
    },
    {
     "name": "stderr",
     "output_type": "stream",
     "text": [
      "2025-03-14 09:28:42,150 - eeg_classification - INFO - Preprocessing complete. Output shape: (14100, 41)\n"
     ]
    },
    {
     "name": "stdout",
     "output_type": "stream",
     "text": [
      "2025-03-14 09:28:42,153 - eeg_classification - INFO - Cleaned data shape: (14100, 41)\n",
      "2025-03-14 09:28:42,153 - eeg_classification - INFO - Cleaned data shape: (14100, 41)\n"
     ]
    },
    {
     "name": "stderr",
     "output_type": "stream",
     "text": [
      "2025-03-14 09:28:42,153 - eeg_classification - INFO - Cleaned data shape: (14100, 41)\n"
     ]
    },
    {
     "name": "stdout",
     "output_type": "stream",
     "text": [
      "2025-03-14 09:28:42,155 - eeg_classification - INFO - Engineering features from data with shape (14100, 41)\n",
      "2025-03-14 09:28:42,155 - eeg_classification - INFO - Engineering features from data with shape (14100, 41)\n"
     ]
    },
    {
     "name": "stderr",
     "output_type": "stream",
     "text": [
      "2025-03-14 09:28:42,155 - eeg_classification - INFO - Engineering features from data with shape (14100, 41)\n"
     ]
    },
    {
     "name": "stdout",
     "output_type": "stream",
     "text": [
      "2025-03-14 09:28:42,644 - eeg_classification - INFO - Feature engineering complete. Output shape: (14100, 140)\n",
      "2025-03-14 09:28:42,644 - eeg_classification - INFO - Feature engineering complete. Output shape: (14100, 140)\n"
     ]
    },
    {
     "name": "stderr",
     "output_type": "stream",
     "text": [
      "c:\\Users\\Huai\\Documents\\GitHub\\EEG-classification\\training\\common\\preprocessing.py:155: PerformanceWarning: DataFrame is highly fragmented.  This is usually the result of calling `frame.insert` many times, which has poor performance.  Consider joining all columns at once using pd.concat(axis=1) instead. To get a de-fragmented frame, use `newframe = frame.copy()`\n",
      "  df_features[f\"{col}_std\"] = df[col].rolling(window=window_size, center=True).std()\n",
      "c:\\Users\\Huai\\Documents\\GitHub\\EEG-classification\\training\\common\\preprocessing.py:158: PerformanceWarning: DataFrame is highly fragmented.  This is usually the result of calling `frame.insert` many times, which has poor performance.  Consider joining all columns at once using pd.concat(axis=1) instead. To get a de-fragmented frame, use `newframe = frame.copy()`\n",
      "  df_features[f\"{col}_range\"] = (\n",
      "2025-03-14 09:28:42,644 - eeg_classification - INFO - Feature engineering complete. Output shape: (14100, 140)\n"
     ]
    },
    {
     "name": "stdout",
     "output_type": "stream",
     "text": [
      "2025-03-14 09:28:42,646 - eeg_classification - INFO - Features shape: (14100, 140)\n",
      "2025-03-14 09:28:42,646 - eeg_classification - INFO - Features shape: (14100, 140)\n"
     ]
    },
    {
     "name": "stderr",
     "output_type": "stream",
     "text": [
      "2025-03-14 09:28:42,646 - eeg_classification - INFO - Features shape: (14100, 140)\n"
     ]
    },
    {
     "name": "stdout",
     "output_type": "stream",
     "text": [
      "2025-03-14 09:28:42,655 - eeg_classification - INFO - No. of missing values after feature engineering: TimeStamp         0\n",
      "Delta_TP9         0\n",
      "Delta_AF7         0\n",
      "Delta_AF8         0\n",
      "Delta_TP10        0\n",
      "                 ..\n",
      "HSI_TP10_std      0\n",
      "HSI_TP10_range    0\n",
      "Battery_mean      0\n",
      "Battery_std       0\n",
      "Battery_range     0\n",
      "Length: 140, dtype: int64\n",
      "2025-03-14 09:28:42,655 - eeg_classification - INFO - No. of missing values after feature engineering: TimeStamp         0\n",
      "Delta_TP9         0\n",
      "Delta_AF7         0\n",
      "Delta_AF8         0\n",
      "Delta_TP10        0\n",
      "                 ..\n",
      "HSI_TP10_std      0\n",
      "HSI_TP10_range    0\n",
      "Battery_mean      0\n",
      "Battery_std       0\n",
      "Battery_range     0\n",
      "Length: 140, dtype: int64\n"
     ]
    },
    {
     "name": "stderr",
     "output_type": "stream",
     "text": [
      "2025-03-14 09:28:42,655 - eeg_classification - INFO - No. of missing values after feature engineering: TimeStamp         0\n",
      "Delta_TP9         0\n",
      "Delta_AF7         0\n",
      "Delta_AF8         0\n",
      "Delta_TP10        0\n",
      "                 ..\n",
      "HSI_TP10_std      0\n",
      "HSI_TP10_range    0\n",
      "Battery_mean      0\n",
      "Battery_std       0\n",
      "Battery_range     0\n",
      "Length: 140, dtype: int64\n"
     ]
    },
    {
     "name": "stdout",
     "output_type": "stream",
     "text": [
      "2025-03-14 09:28:42,657 - eeg_classification - INFO - Columns after feature engineering: Index(['TimeStamp', 'Delta_TP9', 'Delta_AF7', 'Delta_AF8', 'Delta_TP10',\n",
      "       'Theta_TP9', 'Theta_AF7', 'Theta_AF8', 'Theta_TP10', 'Alpha_TP9',\n",
      "       ...\n",
      "       'HSI_AF7_range', 'HSI_AF8_mean', 'HSI_AF8_std', 'HSI_AF8_range',\n",
      "       'HSI_TP10_mean', 'HSI_TP10_std', 'HSI_TP10_range', 'Battery_mean',\n",
      "       'Battery_std', 'Battery_range'],\n",
      "      dtype='object', length=140)\n",
      "2025-03-14 09:28:42,657 - eeg_classification - INFO - Columns after feature engineering: Index(['TimeStamp', 'Delta_TP9', 'Delta_AF7', 'Delta_AF8', 'Delta_TP10',\n",
      "       'Theta_TP9', 'Theta_AF7', 'Theta_AF8', 'Theta_TP10', 'Alpha_TP9',\n",
      "       ...\n",
      "       'HSI_AF7_range', 'HSI_AF8_mean', 'HSI_AF8_std', 'HSI_AF8_range',\n",
      "       'HSI_TP10_mean', 'HSI_TP10_std', 'HSI_TP10_range', 'Battery_mean',\n",
      "       'Battery_std', 'Battery_range'],\n",
      "      dtype='object', length=140)\n"
     ]
    },
    {
     "name": "stderr",
     "output_type": "stream",
     "text": [
      "2025-03-14 09:28:42,657 - eeg_classification - INFO - Columns after feature engineering: Index(['TimeStamp', 'Delta_TP9', 'Delta_AF7', 'Delta_AF8', 'Delta_TP10',\n",
      "       'Theta_TP9', 'Theta_AF7', 'Theta_AF8', 'Theta_TP10', 'Alpha_TP9',\n",
      "       ...\n",
      "       'HSI_AF7_range', 'HSI_AF8_mean', 'HSI_AF8_std', 'HSI_AF8_range',\n",
      "       'HSI_TP10_mean', 'HSI_TP10_std', 'HSI_TP10_range', 'Battery_mean',\n",
      "       'Battery_std', 'Battery_range'],\n",
      "      dtype='object', length=140)\n"
     ]
    },
    {
     "name": "stdout",
     "output_type": "stream",
     "text": [
      "2025-03-14 09:28:42,797 - eeg_classification - INFO - Processing file file_13 with 338747 rows\n",
      "2025-03-14 09:28:42,797 - eeg_classification - INFO - Processing file file_13 with 338747 rows\n"
     ]
    },
    {
     "name": "stderr",
     "output_type": "stream",
     "text": [
      "2025-03-14 09:28:42,797 - eeg_classification - INFO - Processing file file_13 with 338747 rows\n"
     ]
    },
    {
     "name": "stdout",
     "output_type": "stream",
     "text": [
      "2025-03-14 09:28:42,856 - eeg_classification - WARNING - Input data for file file_13 contains 3705 NaN values\n",
      "2025-03-14 09:28:42,856 - eeg_classification - WARNING - Input data for file file_13 contains 3705 NaN values\n"
     ]
    },
    {
     "name": "stderr",
     "output_type": "stream",
     "text": [
      "2025-03-14 09:28:42,856 - eeg_classification - WARNING - Input data for file file_13 contains 3705 NaN values\n"
     ]
    },
    {
     "name": "stdout",
     "output_type": "stream",
     "text": [
      "2025-03-14 09:28:42,858 - eeg_classification - INFO - Preprocessing data with shape (338747, 41)\n",
      "2025-03-14 09:28:42,858 - eeg_classification - INFO - Preprocessing data with shape (338747, 41)\n"
     ]
    },
    {
     "name": "stderr",
     "output_type": "stream",
     "text": [
      "2025-03-14 09:28:42,858 - eeg_classification - INFO - Preprocessing data with shape (338747, 41)\n"
     ]
    },
    {
     "name": "stdout",
     "output_type": "stream",
     "text": [
      "2025-03-14 09:28:43,118 - eeg_classification - WARNING - Dropping 95 rows with invalid timestamps\n",
      "2025-03-14 09:28:43,118 - eeg_classification - WARNING - Dropping 95 rows with invalid timestamps\n"
     ]
    },
    {
     "name": "stderr",
     "output_type": "stream",
     "text": [
      "2025-03-14 09:28:43,118 - eeg_classification - WARNING - Dropping 95 rows with invalid timestamps\n"
     ]
    },
    {
     "name": "stdout",
     "output_type": "stream",
     "text": [
      "2025-03-14 09:28:43,156 - eeg_classification - INFO - Successfully converted timestamps. Remaining rows: 338652\n",
      "2025-03-14 09:28:43,156 - eeg_classification - INFO - Successfully converted timestamps. Remaining rows: 338652\n"
     ]
    },
    {
     "name": "stderr",
     "output_type": "stream",
     "text": [
      "2025-03-14 09:28:43,156 - eeg_classification - INFO - Successfully converted timestamps. Remaining rows: 338652\n"
     ]
    },
    {
     "name": "stdout",
     "output_type": "stream",
     "text": [
      "NaNs in numeric columns: TimeStamp          0\n",
      "Delta_TP9          0\n",
      "Delta_AF7          0\n",
      "Delta_AF8          0\n",
      "Delta_TP10         0\n",
      "Theta_TP9          0\n",
      "Theta_AF7          0\n",
      "Theta_AF8          0\n",
      "Theta_TP10         0\n",
      "Alpha_TP9          0\n",
      "Alpha_AF7          0\n",
      "Alpha_AF8          0\n",
      "Alpha_TP10         0\n",
      "Beta_TP9           0\n",
      "Beta_AF7           0\n",
      "Beta_AF8           0\n",
      "Beta_TP10          0\n",
      "Gamma_TP9          0\n",
      "Gamma_AF7          0\n",
      "Gamma_AF8          0\n",
      "Gamma_TP10         0\n",
      "RAW_TP9            0\n",
      "RAW_AF7            0\n",
      "RAW_AF8            0\n",
      "RAW_TP10           0\n",
      "AUX_RIGHT          0\n",
      "Mellow             0\n",
      "Concentration      0\n",
      "Accelerometer_X    0\n",
      "Accelerometer_Y    0\n",
      "Accelerometer_Z    0\n",
      "Gyro_X             0\n",
      "Gyro_Y             0\n",
      "Gyro_Z             0\n",
      "HeadBandOn         0\n",
      "HSI_TP9            0\n",
      "HSI_AF7            0\n",
      "HSI_AF8            0\n",
      "HSI_TP10           0\n",
      "Battery            0\n",
      "SourceFile         0\n",
      "dtype: int64\n",
      "2025-03-14 09:28:43,336 - eeg_classification - INFO - Data spans 1322.67 seconds from 2024-06-19 00:37:24.749000 to 2024-06-19 00:59:27.424000\n",
      "2025-03-14 09:28:43,336 - eeg_classification - INFO - Data spans 1322.67 seconds from 2024-06-19 00:37:24.749000 to 2024-06-19 00:59:27.424000\n"
     ]
    },
    {
     "name": "stderr",
     "output_type": "stream",
     "text": [
      "2025-03-14 09:28:43,336 - eeg_classification - INFO - Data spans 1322.67 seconds from 2024-06-19 00:37:24.749000 to 2024-06-19 00:59:27.424000\n"
     ]
    },
    {
     "name": "stdout",
     "output_type": "stream",
     "text": [
      "2025-03-14 09:28:43,838 - eeg_classification - INFO - Sampling complete: 338652 -> 13250 data points (3.9%)\n",
      "2025-03-14 09:28:43,838 - eeg_classification - INFO - Sampling complete: 338652 -> 13250 data points (3.9%)\n"
     ]
    },
    {
     "name": "stderr",
     "output_type": "stream",
     "text": [
      "2025-03-14 09:28:43,838 - eeg_classification - INFO - Sampling complete: 338652 -> 13250 data points (3.9%)\n"
     ]
    },
    {
     "name": "stdout",
     "output_type": "stream",
     "text": [
      "2025-03-14 09:28:43,852 - eeg_classification - INFO - Preprocessing complete. Output shape: (13250, 41)\n",
      "2025-03-14 09:28:43,852 - eeg_classification - INFO - Preprocessing complete. Output shape: (13250, 41)\n"
     ]
    },
    {
     "name": "stderr",
     "output_type": "stream",
     "text": [
      "2025-03-14 09:28:43,852 - eeg_classification - INFO - Preprocessing complete. Output shape: (13250, 41)\n"
     ]
    },
    {
     "name": "stdout",
     "output_type": "stream",
     "text": [
      "2025-03-14 09:28:43,855 - eeg_classification - INFO - Cleaned data shape: (13250, 41)\n",
      "2025-03-14 09:28:43,855 - eeg_classification - INFO - Cleaned data shape: (13250, 41)\n"
     ]
    },
    {
     "name": "stderr",
     "output_type": "stream",
     "text": [
      "2025-03-14 09:28:43,855 - eeg_classification - INFO - Cleaned data shape: (13250, 41)\n"
     ]
    },
    {
     "name": "stdout",
     "output_type": "stream",
     "text": [
      "2025-03-14 09:28:43,857 - eeg_classification - INFO - Engineering features from data with shape (13250, 41)\n",
      "2025-03-14 09:28:43,857 - eeg_classification - INFO - Engineering features from data with shape (13250, 41)\n"
     ]
    },
    {
     "name": "stderr",
     "output_type": "stream",
     "text": [
      "2025-03-14 09:28:43,857 - eeg_classification - INFO - Engineering features from data with shape (13250, 41)\n"
     ]
    },
    {
     "name": "stdout",
     "output_type": "stream",
     "text": [
      "2025-03-14 09:28:44,345 - eeg_classification - INFO - Feature engineering complete. Output shape: (13250, 140)\n",
      "2025-03-14 09:28:44,345 - eeg_classification - INFO - Feature engineering complete. Output shape: (13250, 140)\n"
     ]
    },
    {
     "name": "stderr",
     "output_type": "stream",
     "text": [
      "c:\\Users\\Huai\\Documents\\GitHub\\EEG-classification\\training\\common\\preprocessing.py:155: PerformanceWarning: DataFrame is highly fragmented.  This is usually the result of calling `frame.insert` many times, which has poor performance.  Consider joining all columns at once using pd.concat(axis=1) instead. To get a de-fragmented frame, use `newframe = frame.copy()`\n",
      "  df_features[f\"{col}_std\"] = df[col].rolling(window=window_size, center=True).std()\n",
      "c:\\Users\\Huai\\Documents\\GitHub\\EEG-classification\\training\\common\\preprocessing.py:158: PerformanceWarning: DataFrame is highly fragmented.  This is usually the result of calling `frame.insert` many times, which has poor performance.  Consider joining all columns at once using pd.concat(axis=1) instead. To get a de-fragmented frame, use `newframe = frame.copy()`\n",
      "  df_features[f\"{col}_range\"] = (\n",
      "2025-03-14 09:28:44,345 - eeg_classification - INFO - Feature engineering complete. Output shape: (13250, 140)\n"
     ]
    },
    {
     "name": "stdout",
     "output_type": "stream",
     "text": [
      "2025-03-14 09:28:44,347 - eeg_classification - INFO - Features shape: (13250, 140)\n",
      "2025-03-14 09:28:44,347 - eeg_classification - INFO - Features shape: (13250, 140)\n"
     ]
    },
    {
     "name": "stderr",
     "output_type": "stream",
     "text": [
      "2025-03-14 09:28:44,347 - eeg_classification - INFO - Features shape: (13250, 140)\n"
     ]
    },
    {
     "name": "stdout",
     "output_type": "stream",
     "text": [
      "2025-03-14 09:28:44,356 - eeg_classification - INFO - No. of missing values after feature engineering: TimeStamp         0\n",
      "Delta_TP9         0\n",
      "Delta_AF7         0\n",
      "Delta_AF8         0\n",
      "Delta_TP10        0\n",
      "                 ..\n",
      "HSI_TP10_std      0\n",
      "HSI_TP10_range    0\n",
      "Battery_mean      0\n",
      "Battery_std       0\n",
      "Battery_range     0\n",
      "Length: 140, dtype: int64\n",
      "2025-03-14 09:28:44,356 - eeg_classification - INFO - No. of missing values after feature engineering: TimeStamp         0\n",
      "Delta_TP9         0\n",
      "Delta_AF7         0\n",
      "Delta_AF8         0\n",
      "Delta_TP10        0\n",
      "                 ..\n",
      "HSI_TP10_std      0\n",
      "HSI_TP10_range    0\n",
      "Battery_mean      0\n",
      "Battery_std       0\n",
      "Battery_range     0\n",
      "Length: 140, dtype: int64\n"
     ]
    },
    {
     "name": "stderr",
     "output_type": "stream",
     "text": [
      "2025-03-14 09:28:44,356 - eeg_classification - INFO - No. of missing values after feature engineering: TimeStamp         0\n",
      "Delta_TP9         0\n",
      "Delta_AF7         0\n",
      "Delta_AF8         0\n",
      "Delta_TP10        0\n",
      "                 ..\n",
      "HSI_TP10_std      0\n",
      "HSI_TP10_range    0\n",
      "Battery_mean      0\n",
      "Battery_std       0\n",
      "Battery_range     0\n",
      "Length: 140, dtype: int64\n"
     ]
    },
    {
     "name": "stdout",
     "output_type": "stream",
     "text": [
      "2025-03-14 09:28:44,359 - eeg_classification - INFO - Columns after feature engineering: Index(['TimeStamp', 'Delta_TP9', 'Delta_AF7', 'Delta_AF8', 'Delta_TP10',\n",
      "       'Theta_TP9', 'Theta_AF7', 'Theta_AF8', 'Theta_TP10', 'Alpha_TP9',\n",
      "       ...\n",
      "       'HSI_AF7_range', 'HSI_AF8_mean', 'HSI_AF8_std', 'HSI_AF8_range',\n",
      "       'HSI_TP10_mean', 'HSI_TP10_std', 'HSI_TP10_range', 'Battery_mean',\n",
      "       'Battery_std', 'Battery_range'],\n",
      "      dtype='object', length=140)\n",
      "2025-03-14 09:28:44,359 - eeg_classification - INFO - Columns after feature engineering: Index(['TimeStamp', 'Delta_TP9', 'Delta_AF7', 'Delta_AF8', 'Delta_TP10',\n",
      "       'Theta_TP9', 'Theta_AF7', 'Theta_AF8', 'Theta_TP10', 'Alpha_TP9',\n",
      "       ...\n",
      "       'HSI_AF7_range', 'HSI_AF8_mean', 'HSI_AF8_std', 'HSI_AF8_range',\n",
      "       'HSI_TP10_mean', 'HSI_TP10_std', 'HSI_TP10_range', 'Battery_mean',\n",
      "       'Battery_std', 'Battery_range'],\n",
      "      dtype='object', length=140)\n"
     ]
    },
    {
     "name": "stderr",
     "output_type": "stream",
     "text": [
      "2025-03-14 09:28:44,359 - eeg_classification - INFO - Columns after feature engineering: Index(['TimeStamp', 'Delta_TP9', 'Delta_AF7', 'Delta_AF8', 'Delta_TP10',\n",
      "       'Theta_TP9', 'Theta_AF7', 'Theta_AF8', 'Theta_TP10', 'Alpha_TP9',\n",
      "       ...\n",
      "       'HSI_AF7_range', 'HSI_AF8_mean', 'HSI_AF8_std', 'HSI_AF8_range',\n",
      "       'HSI_TP10_mean', 'HSI_TP10_std', 'HSI_TP10_range', 'Battery_mean',\n",
      "       'Battery_std', 'Battery_range'],\n",
      "      dtype='object', length=140)\n"
     ]
    },
    {
     "name": "stdout",
     "output_type": "stream",
     "text": [
      "2025-03-14 09:28:44,500 - eeg_classification - INFO - Processing file file_14 with 441352 rows\n",
      "2025-03-14 09:28:44,500 - eeg_classification - INFO - Processing file file_14 with 441352 rows\n"
     ]
    },
    {
     "name": "stderr",
     "output_type": "stream",
     "text": [
      "2025-03-14 09:28:44,500 - eeg_classification - INFO - Processing file file_14 with 441352 rows\n"
     ]
    },
    {
     "name": "stdout",
     "output_type": "stream",
     "text": [
      "2025-03-14 09:28:44,576 - eeg_classification - WARNING - Input data for file file_14 contains 9516 NaN values\n",
      "2025-03-14 09:28:44,576 - eeg_classification - WARNING - Input data for file file_14 contains 9516 NaN values\n"
     ]
    },
    {
     "name": "stderr",
     "output_type": "stream",
     "text": [
      "2025-03-14 09:28:44,576 - eeg_classification - WARNING - Input data for file file_14 contains 9516 NaN values\n"
     ]
    },
    {
     "name": "stdout",
     "output_type": "stream",
     "text": [
      "2025-03-14 09:28:44,578 - eeg_classification - INFO - Preprocessing data with shape (441352, 41)\n",
      "2025-03-14 09:28:44,578 - eeg_classification - INFO - Preprocessing data with shape (441352, 41)\n"
     ]
    },
    {
     "name": "stderr",
     "output_type": "stream",
     "text": [
      "2025-03-14 09:28:44,578 - eeg_classification - INFO - Preprocessing data with shape (441352, 41)\n"
     ]
    },
    {
     "name": "stdout",
     "output_type": "stream",
     "text": [
      "2025-03-14 09:28:44,857 - eeg_classification - WARNING - Dropping 244 rows with invalid timestamps\n",
      "2025-03-14 09:28:44,857 - eeg_classification - WARNING - Dropping 244 rows with invalid timestamps\n"
     ]
    },
    {
     "name": "stderr",
     "output_type": "stream",
     "text": [
      "2025-03-14 09:28:44,857 - eeg_classification - WARNING - Dropping 244 rows with invalid timestamps\n"
     ]
    },
    {
     "name": "stdout",
     "output_type": "stream",
     "text": [
      "2025-03-14 09:28:44,906 - eeg_classification - INFO - Successfully converted timestamps. Remaining rows: 441108\n",
      "2025-03-14 09:28:44,906 - eeg_classification - INFO - Successfully converted timestamps. Remaining rows: 441108\n"
     ]
    },
    {
     "name": "stderr",
     "output_type": "stream",
     "text": [
      "2025-03-14 09:28:44,906 - eeg_classification - INFO - Successfully converted timestamps. Remaining rows: 441108\n"
     ]
    },
    {
     "name": "stdout",
     "output_type": "stream",
     "text": [
      "NaNs in numeric columns: TimeStamp          0\n",
      "Delta_TP9          0\n",
      "Delta_AF7          0\n",
      "Delta_AF8          0\n",
      "Delta_TP10         0\n",
      "Theta_TP9          0\n",
      "Theta_AF7          0\n",
      "Theta_AF8          0\n",
      "Theta_TP10         0\n",
      "Alpha_TP9          0\n",
      "Alpha_AF7          0\n",
      "Alpha_AF8          0\n",
      "Alpha_TP10         0\n",
      "Beta_TP9           0\n",
      "Beta_AF7           0\n",
      "Beta_AF8           0\n",
      "Beta_TP10          0\n",
      "Gamma_TP9          0\n",
      "Gamma_AF7          0\n",
      "Gamma_AF8          0\n",
      "Gamma_TP10         0\n",
      "RAW_TP9            0\n",
      "RAW_AF7            0\n",
      "RAW_AF8            0\n",
      "RAW_TP10           0\n",
      "AUX_RIGHT          0\n",
      "Mellow             0\n",
      "Concentration      0\n",
      "Accelerometer_X    0\n",
      "Accelerometer_Y    0\n",
      "Accelerometer_Z    0\n",
      "Gyro_X             0\n",
      "Gyro_Y             0\n",
      "Gyro_Z             0\n",
      "HeadBandOn         0\n",
      "HSI_TP9            0\n",
      "HSI_AF7            0\n",
      "HSI_AF8            0\n",
      "HSI_TP10           0\n",
      "Battery            0\n",
      "SourceFile         0\n",
      "dtype: int64\n",
      "2025-03-14 09:28:45,135 - eeg_classification - INFO - Data spans 1722.94 seconds from 2024-06-19 10:40:52.794000 to 2024-06-19 11:09:35.737000\n",
      "2025-03-14 09:28:45,135 - eeg_classification - INFO - Data spans 1722.94 seconds from 2024-06-19 10:40:52.794000 to 2024-06-19 11:09:35.737000\n"
     ]
    },
    {
     "name": "stderr",
     "output_type": "stream",
     "text": [
      "2025-03-14 09:28:45,135 - eeg_classification - INFO - Data spans 1722.94 seconds from 2024-06-19 10:40:52.794000 to 2024-06-19 11:09:35.737000\n"
     ]
    },
    {
     "name": "stdout",
     "output_type": "stream",
     "text": [
      "2025-03-14 09:28:45,876 - eeg_classification - INFO - Sampling complete: 441108 -> 17250 data points (3.9%)\n",
      "2025-03-14 09:28:45,876 - eeg_classification - INFO - Sampling complete: 441108 -> 17250 data points (3.9%)\n"
     ]
    },
    {
     "name": "stderr",
     "output_type": "stream",
     "text": [
      "2025-03-14 09:28:45,876 - eeg_classification - INFO - Sampling complete: 441108 -> 17250 data points (3.9%)\n"
     ]
    },
    {
     "name": "stdout",
     "output_type": "stream",
     "text": [
      "2025-03-14 09:28:45,896 - eeg_classification - INFO - Preprocessing complete. Output shape: (17250, 41)\n",
      "2025-03-14 09:28:45,896 - eeg_classification - INFO - Preprocessing complete. Output shape: (17250, 41)\n"
     ]
    },
    {
     "name": "stderr",
     "output_type": "stream",
     "text": [
      "2025-03-14 09:28:45,896 - eeg_classification - INFO - Preprocessing complete. Output shape: (17250, 41)\n"
     ]
    },
    {
     "name": "stdout",
     "output_type": "stream",
     "text": [
      "2025-03-14 09:28:45,899 - eeg_classification - INFO - Cleaned data shape: (17250, 41)\n",
      "2025-03-14 09:28:45,899 - eeg_classification - INFO - Cleaned data shape: (17250, 41)\n"
     ]
    },
    {
     "name": "stderr",
     "output_type": "stream",
     "text": [
      "2025-03-14 09:28:45,899 - eeg_classification - INFO - Cleaned data shape: (17250, 41)\n"
     ]
    },
    {
     "name": "stdout",
     "output_type": "stream",
     "text": [
      "2025-03-14 09:28:45,903 - eeg_classification - INFO - Engineering features from data with shape (17250, 41)\n",
      "2025-03-14 09:28:45,903 - eeg_classification - INFO - Engineering features from data with shape (17250, 41)\n"
     ]
    },
    {
     "name": "stderr",
     "output_type": "stream",
     "text": [
      "2025-03-14 09:28:45,903 - eeg_classification - INFO - Engineering features from data with shape (17250, 41)\n"
     ]
    },
    {
     "name": "stdout",
     "output_type": "stream",
     "text": [
      "2025-03-14 09:28:46,401 - eeg_classification - INFO - Feature engineering complete. Output shape: (17250, 140)\n",
      "2025-03-14 09:28:46,401 - eeg_classification - INFO - Feature engineering complete. Output shape: (17250, 140)\n"
     ]
    },
    {
     "name": "stderr",
     "output_type": "stream",
     "text": [
      "c:\\Users\\Huai\\Documents\\GitHub\\EEG-classification\\training\\common\\preprocessing.py:155: PerformanceWarning: DataFrame is highly fragmented.  This is usually the result of calling `frame.insert` many times, which has poor performance.  Consider joining all columns at once using pd.concat(axis=1) instead. To get a de-fragmented frame, use `newframe = frame.copy()`\n",
      "  df_features[f\"{col}_std\"] = df[col].rolling(window=window_size, center=True).std()\n",
      "c:\\Users\\Huai\\Documents\\GitHub\\EEG-classification\\training\\common\\preprocessing.py:158: PerformanceWarning: DataFrame is highly fragmented.  This is usually the result of calling `frame.insert` many times, which has poor performance.  Consider joining all columns at once using pd.concat(axis=1) instead. To get a de-fragmented frame, use `newframe = frame.copy()`\n",
      "  df_features[f\"{col}_range\"] = (\n",
      "2025-03-14 09:28:46,401 - eeg_classification - INFO - Feature engineering complete. Output shape: (17250, 140)\n"
     ]
    },
    {
     "name": "stdout",
     "output_type": "stream",
     "text": [
      "2025-03-14 09:28:46,404 - eeg_classification - INFO - Features shape: (17250, 140)\n",
      "2025-03-14 09:28:46,404 - eeg_classification - INFO - Features shape: (17250, 140)\n"
     ]
    },
    {
     "name": "stderr",
     "output_type": "stream",
     "text": [
      "2025-03-14 09:28:46,404 - eeg_classification - INFO - Features shape: (17250, 140)\n"
     ]
    },
    {
     "name": "stdout",
     "output_type": "stream",
     "text": [
      "2025-03-14 09:28:46,414 - eeg_classification - INFO - No. of missing values after feature engineering: TimeStamp         0\n",
      "Delta_TP9         0\n",
      "Delta_AF7         0\n",
      "Delta_AF8         0\n",
      "Delta_TP10        0\n",
      "                 ..\n",
      "HSI_TP10_std      0\n",
      "HSI_TP10_range    0\n",
      "Battery_mean      0\n",
      "Battery_std       0\n",
      "Battery_range     0\n",
      "Length: 140, dtype: int64\n",
      "2025-03-14 09:28:46,414 - eeg_classification - INFO - No. of missing values after feature engineering: TimeStamp         0\n",
      "Delta_TP9         0\n",
      "Delta_AF7         0\n",
      "Delta_AF8         0\n",
      "Delta_TP10        0\n",
      "                 ..\n",
      "HSI_TP10_std      0\n",
      "HSI_TP10_range    0\n",
      "Battery_mean      0\n",
      "Battery_std       0\n",
      "Battery_range     0\n",
      "Length: 140, dtype: int64\n"
     ]
    },
    {
     "name": "stderr",
     "output_type": "stream",
     "text": [
      "2025-03-14 09:28:46,414 - eeg_classification - INFO - No. of missing values after feature engineering: TimeStamp         0\n",
      "Delta_TP9         0\n",
      "Delta_AF7         0\n",
      "Delta_AF8         0\n",
      "Delta_TP10        0\n",
      "                 ..\n",
      "HSI_TP10_std      0\n",
      "HSI_TP10_range    0\n",
      "Battery_mean      0\n",
      "Battery_std       0\n",
      "Battery_range     0\n",
      "Length: 140, dtype: int64\n"
     ]
    },
    {
     "name": "stdout",
     "output_type": "stream",
     "text": [
      "2025-03-14 09:28:46,416 - eeg_classification - INFO - Columns after feature engineering: Index(['TimeStamp', 'Delta_TP9', 'Delta_AF7', 'Delta_AF8', 'Delta_TP10',\n",
      "       'Theta_TP9', 'Theta_AF7', 'Theta_AF8', 'Theta_TP10', 'Alpha_TP9',\n",
      "       ...\n",
      "       'HSI_AF7_range', 'HSI_AF8_mean', 'HSI_AF8_std', 'HSI_AF8_range',\n",
      "       'HSI_TP10_mean', 'HSI_TP10_std', 'HSI_TP10_range', 'Battery_mean',\n",
      "       'Battery_std', 'Battery_range'],\n",
      "      dtype='object', length=140)\n",
      "2025-03-14 09:28:46,416 - eeg_classification - INFO - Columns after feature engineering: Index(['TimeStamp', 'Delta_TP9', 'Delta_AF7', 'Delta_AF8', 'Delta_TP10',\n",
      "       'Theta_TP9', 'Theta_AF7', 'Theta_AF8', 'Theta_TP10', 'Alpha_TP9',\n",
      "       ...\n",
      "       'HSI_AF7_range', 'HSI_AF8_mean', 'HSI_AF8_std', 'HSI_AF8_range',\n",
      "       'HSI_TP10_mean', 'HSI_TP10_std', 'HSI_TP10_range', 'Battery_mean',\n",
      "       'Battery_std', 'Battery_range'],\n",
      "      dtype='object', length=140)\n"
     ]
    },
    {
     "name": "stderr",
     "output_type": "stream",
     "text": [
      "2025-03-14 09:28:46,416 - eeg_classification - INFO - Columns after feature engineering: Index(['TimeStamp', 'Delta_TP9', 'Delta_AF7', 'Delta_AF8', 'Delta_TP10',\n",
      "       'Theta_TP9', 'Theta_AF7', 'Theta_AF8', 'Theta_TP10', 'Alpha_TP9',\n",
      "       ...\n",
      "       'HSI_AF7_range', 'HSI_AF8_mean', 'HSI_AF8_std', 'HSI_AF8_range',\n",
      "       'HSI_TP10_mean', 'HSI_TP10_std', 'HSI_TP10_range', 'Battery_mean',\n",
      "       'Battery_std', 'Battery_range'],\n",
      "      dtype='object', length=140)\n"
     ]
    },
    {
     "name": "stdout",
     "output_type": "stream",
     "text": [
      "2025-03-14 09:28:46,557 - eeg_classification - INFO - Processing file file_15 with 249129 rows\n",
      "2025-03-14 09:28:46,557 - eeg_classification - INFO - Processing file file_15 with 249129 rows\n"
     ]
    },
    {
     "name": "stderr",
     "output_type": "stream",
     "text": [
      "2025-03-14 09:28:46,557 - eeg_classification - INFO - Processing file file_15 with 249129 rows\n"
     ]
    },
    {
     "name": "stdout",
     "output_type": "stream",
     "text": [
      "2025-03-14 09:28:46,606 - eeg_classification - WARNING - Input data for file file_15 contains 14259 NaN values\n",
      "2025-03-14 09:28:46,606 - eeg_classification - WARNING - Input data for file file_15 contains 14259 NaN values\n"
     ]
    },
    {
     "name": "stderr",
     "output_type": "stream",
     "text": [
      "2025-03-14 09:28:46,606 - eeg_classification - WARNING - Input data for file file_15 contains 14259 NaN values\n"
     ]
    },
    {
     "name": "stdout",
     "output_type": "stream",
     "text": [
      "2025-03-14 09:28:46,608 - eeg_classification - INFO - Preprocessing data with shape (249129, 41)\n",
      "2025-03-14 09:28:46,608 - eeg_classification - INFO - Preprocessing data with shape (249129, 41)\n"
     ]
    },
    {
     "name": "stderr",
     "output_type": "stream",
     "text": [
      "2025-03-14 09:28:46,608 - eeg_classification - INFO - Preprocessing data with shape (249129, 41)\n"
     ]
    },
    {
     "name": "stdout",
     "output_type": "stream",
     "text": [
      "2025-03-14 09:28:46,828 - eeg_classification - WARNING - Dropping 45 rows with invalid timestamps\n",
      "2025-03-14 09:28:46,828 - eeg_classification - WARNING - Dropping 45 rows with invalid timestamps\n"
     ]
    },
    {
     "name": "stderr",
     "output_type": "stream",
     "text": [
      "2025-03-14 09:28:46,828 - eeg_classification - WARNING - Dropping 45 rows with invalid timestamps\n"
     ]
    },
    {
     "name": "stdout",
     "output_type": "stream",
     "text": [
      "2025-03-14 09:28:46,858 - eeg_classification - INFO - Successfully converted timestamps. Remaining rows: 249084\n",
      "2025-03-14 09:28:46,858 - eeg_classification - INFO - Successfully converted timestamps. Remaining rows: 249084\n"
     ]
    },
    {
     "name": "stderr",
     "output_type": "stream",
     "text": [
      "2025-03-14 09:28:46,858 - eeg_classification - INFO - Successfully converted timestamps. Remaining rows: 249084\n"
     ]
    },
    {
     "name": "stdout",
     "output_type": "stream",
     "text": [
      "NaNs in numeric columns: TimeStamp          0\n",
      "Delta_TP9          0\n",
      "Delta_AF7          0\n",
      "Delta_AF8          0\n",
      "Delta_TP10         0\n",
      "Theta_TP9          0\n",
      "Theta_AF7          0\n",
      "Theta_AF8          0\n",
      "Theta_TP10         0\n",
      "Alpha_TP9          0\n",
      "Alpha_AF7          0\n",
      "Alpha_AF8          0\n",
      "Alpha_TP10         0\n",
      "Beta_TP9           0\n",
      "Beta_AF7           0\n",
      "Beta_AF8           0\n",
      "Beta_TP10          0\n",
      "Gamma_TP9          0\n",
      "Gamma_AF7          0\n",
      "Gamma_AF8          0\n",
      "Gamma_TP10         0\n",
      "RAW_TP9            0\n",
      "RAW_AF7            0\n",
      "RAW_AF8            0\n",
      "RAW_TP10           0\n",
      "AUX_RIGHT          0\n",
      "Mellow             0\n",
      "Concentration      0\n",
      "Accelerometer_X    0\n",
      "Accelerometer_Y    0\n",
      "Accelerometer_Z    0\n",
      "Gyro_X             0\n",
      "Gyro_Y             0\n",
      "Gyro_Z             0\n",
      "HeadBandOn         0\n",
      "HSI_TP9            0\n",
      "HSI_AF7            0\n",
      "HSI_AF8            0\n",
      "HSI_TP10           0\n",
      "Battery            0\n",
      "SourceFile         0\n",
      "dtype: int64\n",
      "2025-03-14 09:28:47,008 - eeg_classification - INFO - Data spans 984.40 seconds from 2024-06-20 16:28:41.300000 to 2024-06-20 16:45:05.704000\n",
      "2025-03-14 09:28:47,008 - eeg_classification - INFO - Data spans 984.40 seconds from 2024-06-20 16:28:41.300000 to 2024-06-20 16:45:05.704000\n"
     ]
    },
    {
     "name": "stderr",
     "output_type": "stream",
     "text": [
      "2025-03-14 09:28:47,008 - eeg_classification - INFO - Data spans 984.40 seconds from 2024-06-20 16:28:41.300000 to 2024-06-20 16:45:05.704000\n"
     ]
    },
    {
     "name": "stdout",
     "output_type": "stream",
     "text": [
      "2025-03-14 09:28:47,324 - eeg_classification - INFO - Sampling complete: 244692 -> 9750 data points (4.0%)\n",
      "2025-03-14 09:28:47,324 - eeg_classification - INFO - Sampling complete: 244692 -> 9750 data points (4.0%)\n"
     ]
    },
    {
     "name": "stderr",
     "output_type": "stream",
     "text": [
      "2025-03-14 09:28:47,324 - eeg_classification - INFO - Sampling complete: 244692 -> 9750 data points (4.0%)\n"
     ]
    },
    {
     "name": "stdout",
     "output_type": "stream",
     "text": [
      "2025-03-14 09:28:47,336 - eeg_classification - INFO - Preprocessing complete. Output shape: (9750, 41)\n",
      "2025-03-14 09:28:47,336 - eeg_classification - INFO - Preprocessing complete. Output shape: (9750, 41)\n"
     ]
    },
    {
     "name": "stderr",
     "output_type": "stream",
     "text": [
      "2025-03-14 09:28:47,336 - eeg_classification - INFO - Preprocessing complete. Output shape: (9750, 41)\n"
     ]
    },
    {
     "name": "stdout",
     "output_type": "stream",
     "text": [
      "2025-03-14 09:28:47,339 - eeg_classification - INFO - Cleaned data shape: (9750, 41)\n",
      "2025-03-14 09:28:47,339 - eeg_classification - INFO - Cleaned data shape: (9750, 41)\n"
     ]
    },
    {
     "name": "stderr",
     "output_type": "stream",
     "text": [
      "2025-03-14 09:28:47,339 - eeg_classification - INFO - Cleaned data shape: (9750, 41)\n"
     ]
    },
    {
     "name": "stdout",
     "output_type": "stream",
     "text": [
      "2025-03-14 09:28:47,341 - eeg_classification - INFO - Engineering features from data with shape (9750, 41)\n",
      "2025-03-14 09:28:47,341 - eeg_classification - INFO - Engineering features from data with shape (9750, 41)\n"
     ]
    },
    {
     "name": "stderr",
     "output_type": "stream",
     "text": [
      "2025-03-14 09:28:47,341 - eeg_classification - INFO - Engineering features from data with shape (9750, 41)\n"
     ]
    },
    {
     "name": "stdout",
     "output_type": "stream",
     "text": [
      "2025-03-14 09:28:47,857 - eeg_classification - INFO - Feature engineering complete. Output shape: (9750, 140)\n",
      "2025-03-14 09:28:47,857 - eeg_classification - INFO - Feature engineering complete. Output shape: (9750, 140)\n"
     ]
    },
    {
     "name": "stderr",
     "output_type": "stream",
     "text": [
      "c:\\Users\\Huai\\Documents\\GitHub\\EEG-classification\\training\\common\\preprocessing.py:155: PerformanceWarning: DataFrame is highly fragmented.  This is usually the result of calling `frame.insert` many times, which has poor performance.  Consider joining all columns at once using pd.concat(axis=1) instead. To get a de-fragmented frame, use `newframe = frame.copy()`\n",
      "  df_features[f\"{col}_std\"] = df[col].rolling(window=window_size, center=True).std()\n",
      "c:\\Users\\Huai\\Documents\\GitHub\\EEG-classification\\training\\common\\preprocessing.py:158: PerformanceWarning: DataFrame is highly fragmented.  This is usually the result of calling `frame.insert` many times, which has poor performance.  Consider joining all columns at once using pd.concat(axis=1) instead. To get a de-fragmented frame, use `newframe = frame.copy()`\n",
      "  df_features[f\"{col}_range\"] = (\n",
      "2025-03-14 09:28:47,857 - eeg_classification - INFO - Feature engineering complete. Output shape: (9750, 140)\n"
     ]
    },
    {
     "name": "stdout",
     "output_type": "stream",
     "text": [
      "2025-03-14 09:28:47,861 - eeg_classification - INFO - Features shape: (9750, 140)\n",
      "2025-03-14 09:28:47,861 - eeg_classification - INFO - Features shape: (9750, 140)\n"
     ]
    },
    {
     "name": "stderr",
     "output_type": "stream",
     "text": [
      "2025-03-14 09:28:47,861 - eeg_classification - INFO - Features shape: (9750, 140)\n"
     ]
    },
    {
     "name": "stdout",
     "output_type": "stream",
     "text": [
      "2025-03-14 09:28:47,870 - eeg_classification - INFO - No. of missing values after feature engineering: TimeStamp         0\n",
      "Delta_TP9         0\n",
      "Delta_AF7         0\n",
      "Delta_AF8         0\n",
      "Delta_TP10        0\n",
      "                 ..\n",
      "HSI_TP10_std      0\n",
      "HSI_TP10_range    0\n",
      "Battery_mean      0\n",
      "Battery_std       0\n",
      "Battery_range     0\n",
      "Length: 140, dtype: int64\n",
      "2025-03-14 09:28:47,870 - eeg_classification - INFO - No. of missing values after feature engineering: TimeStamp         0\n",
      "Delta_TP9         0\n",
      "Delta_AF7         0\n",
      "Delta_AF8         0\n",
      "Delta_TP10        0\n",
      "                 ..\n",
      "HSI_TP10_std      0\n",
      "HSI_TP10_range    0\n",
      "Battery_mean      0\n",
      "Battery_std       0\n",
      "Battery_range     0\n",
      "Length: 140, dtype: int64\n"
     ]
    },
    {
     "name": "stderr",
     "output_type": "stream",
     "text": [
      "2025-03-14 09:28:47,870 - eeg_classification - INFO - No. of missing values after feature engineering: TimeStamp         0\n",
      "Delta_TP9         0\n",
      "Delta_AF7         0\n",
      "Delta_AF8         0\n",
      "Delta_TP10        0\n",
      "                 ..\n",
      "HSI_TP10_std      0\n",
      "HSI_TP10_range    0\n",
      "Battery_mean      0\n",
      "Battery_std       0\n",
      "Battery_range     0\n",
      "Length: 140, dtype: int64\n"
     ]
    },
    {
     "name": "stdout",
     "output_type": "stream",
     "text": [
      "2025-03-14 09:28:47,872 - eeg_classification - INFO - Columns after feature engineering: Index(['TimeStamp', 'Delta_TP9', 'Delta_AF7', 'Delta_AF8', 'Delta_TP10',\n",
      "       'Theta_TP9', 'Theta_AF7', 'Theta_AF8', 'Theta_TP10', 'Alpha_TP9',\n",
      "       ...\n",
      "       'HSI_AF7_range', 'HSI_AF8_mean', 'HSI_AF8_std', 'HSI_AF8_range',\n",
      "       'HSI_TP10_mean', 'HSI_TP10_std', 'HSI_TP10_range', 'Battery_mean',\n",
      "       'Battery_std', 'Battery_range'],\n",
      "      dtype='object', length=140)\n",
      "2025-03-14 09:28:47,872 - eeg_classification - INFO - Columns after feature engineering: Index(['TimeStamp', 'Delta_TP9', 'Delta_AF7', 'Delta_AF8', 'Delta_TP10',\n",
      "       'Theta_TP9', 'Theta_AF7', 'Theta_AF8', 'Theta_TP10', 'Alpha_TP9',\n",
      "       ...\n",
      "       'HSI_AF7_range', 'HSI_AF8_mean', 'HSI_AF8_std', 'HSI_AF8_range',\n",
      "       'HSI_TP10_mean', 'HSI_TP10_std', 'HSI_TP10_range', 'Battery_mean',\n",
      "       'Battery_std', 'Battery_range'],\n",
      "      dtype='object', length=140)\n"
     ]
    },
    {
     "name": "stderr",
     "output_type": "stream",
     "text": [
      "2025-03-14 09:28:47,872 - eeg_classification - INFO - Columns after feature engineering: Index(['TimeStamp', 'Delta_TP9', 'Delta_AF7', 'Delta_AF8', 'Delta_TP10',\n",
      "       'Theta_TP9', 'Theta_AF7', 'Theta_AF8', 'Theta_TP10', 'Alpha_TP9',\n",
      "       ...\n",
      "       'HSI_AF7_range', 'HSI_AF8_mean', 'HSI_AF8_std', 'HSI_AF8_range',\n",
      "       'HSI_TP10_mean', 'HSI_TP10_std', 'HSI_TP10_range', 'Battery_mean',\n",
      "       'Battery_std', 'Battery_range'],\n",
      "      dtype='object', length=140)\n"
     ]
    },
    {
     "name": "stdout",
     "output_type": "stream",
     "text": [
      "2025-03-14 09:28:48,021 - eeg_classification - INFO - Processing file file_16 with 79004 rows\n",
      "2025-03-14 09:28:48,021 - eeg_classification - INFO - Processing file file_16 with 79004 rows\n"
     ]
    },
    {
     "name": "stderr",
     "output_type": "stream",
     "text": [
      "2025-03-14 09:28:48,021 - eeg_classification - INFO - Processing file file_16 with 79004 rows\n"
     ]
    },
    {
     "name": "stdout",
     "output_type": "stream",
     "text": [
      "2025-03-14 09:28:48,039 - eeg_classification - WARNING - Input data for file file_16 contains 14976 NaN values\n",
      "2025-03-14 09:28:48,039 - eeg_classification - WARNING - Input data for file file_16 contains 14976 NaN values\n"
     ]
    },
    {
     "name": "stderr",
     "output_type": "stream",
     "text": [
      "2025-03-14 09:28:48,039 - eeg_classification - WARNING - Input data for file file_16 contains 14976 NaN values\n"
     ]
    },
    {
     "name": "stdout",
     "output_type": "stream",
     "text": [
      "2025-03-14 09:28:48,041 - eeg_classification - INFO - Preprocessing data with shape (79004, 41)\n",
      "2025-03-14 09:28:48,041 - eeg_classification - INFO - Preprocessing data with shape (79004, 41)\n"
     ]
    },
    {
     "name": "stderr",
     "output_type": "stream",
     "text": [
      "2025-03-14 09:28:48,041 - eeg_classification - INFO - Preprocessing data with shape (79004, 41)\n"
     ]
    },
    {
     "name": "stdout",
     "output_type": "stream",
     "text": [
      "2025-03-14 09:28:48,090 - eeg_classification - WARNING - Dropping 44 rows with invalid timestamps\n",
      "2025-03-14 09:28:48,090 - eeg_classification - WARNING - Dropping 44 rows with invalid timestamps\n"
     ]
    },
    {
     "name": "stderr",
     "output_type": "stream",
     "text": [
      "2025-03-14 09:28:48,090 - eeg_classification - WARNING - Dropping 44 rows with invalid timestamps\n"
     ]
    },
    {
     "name": "stdout",
     "output_type": "stream",
     "text": [
      "2025-03-14 09:28:48,100 - eeg_classification - INFO - Successfully converted timestamps. Remaining rows: 78960\n",
      "2025-03-14 09:28:48,100 - eeg_classification - INFO - Successfully converted timestamps. Remaining rows: 78960\n"
     ]
    },
    {
     "name": "stderr",
     "output_type": "stream",
     "text": [
      "2025-03-14 09:28:48,100 - eeg_classification - INFO - Successfully converted timestamps. Remaining rows: 78960\n"
     ]
    },
    {
     "name": "stdout",
     "output_type": "stream",
     "text": [
      "NaNs in numeric columns: TimeStamp          0\n",
      "Delta_TP9          0\n",
      "Delta_AF7          0\n",
      "Delta_AF8          0\n",
      "Delta_TP10         0\n",
      "Theta_TP9          0\n",
      "Theta_AF7          0\n",
      "Theta_AF8          0\n",
      "Theta_TP10         0\n",
      "Alpha_TP9          0\n",
      "Alpha_AF7          0\n",
      "Alpha_AF8          0\n",
      "Alpha_TP10         0\n",
      "Beta_TP9           0\n",
      "Beta_AF7           0\n",
      "Beta_AF8           0\n",
      "Beta_TP10          0\n",
      "Gamma_TP9          0\n",
      "Gamma_AF7          0\n",
      "Gamma_AF8          0\n",
      "Gamma_TP10         0\n",
      "RAW_TP9            0\n",
      "RAW_AF7            0\n",
      "RAW_AF8            0\n",
      "RAW_TP10           0\n",
      "AUX_RIGHT          0\n",
      "Mellow             0\n",
      "Concentration      0\n",
      "Accelerometer_X    0\n",
      "Accelerometer_Y    0\n",
      "Accelerometer_Z    0\n",
      "Gyro_X             0\n",
      "Gyro_Y             0\n",
      "Gyro_Z             0\n",
      "HeadBandOn         0\n",
      "HSI_TP9            0\n",
      "HSI_AF7            0\n",
      "HSI_AF8            0\n",
      "HSI_TP10           0\n",
      "Battery            0\n",
      "SourceFile         0\n",
      "dtype: int64\n",
      "2025-03-14 09:28:48,152 - eeg_classification - INFO - Data spans 308.25 seconds from 2024-06-20 22:56:06.209000 to 2024-06-20 23:01:14.461000\n",
      "2025-03-14 09:28:48,152 - eeg_classification - INFO - Data spans 308.25 seconds from 2024-06-20 22:56:06.209000 to 2024-06-20 23:01:14.461000\n"
     ]
    },
    {
     "name": "stderr",
     "output_type": "stream",
     "text": [
      "2025-03-14 09:28:48,152 - eeg_classification - INFO - Data spans 308.25 seconds from 2024-06-20 22:56:06.209000 to 2024-06-20 23:01:14.461000\n"
     ]
    },
    {
     "name": "stdout",
     "output_type": "stream",
     "text": [
      "2025-03-14 09:28:48,217 - eeg_classification - INFO - Sampling complete: 74244 -> 3100 data points (4.2%)\n",
      "2025-03-14 09:28:48,217 - eeg_classification - INFO - Sampling complete: 74244 -> 3100 data points (4.2%)\n"
     ]
    },
    {
     "name": "stderr",
     "output_type": "stream",
     "text": [
      "2025-03-14 09:28:48,217 - eeg_classification - INFO - Sampling complete: 74244 -> 3100 data points (4.2%)\n"
     ]
    },
    {
     "name": "stdout",
     "output_type": "stream",
     "text": [
      "2025-03-14 09:28:48,222 - eeg_classification - INFO - Preprocessing complete. Output shape: (3100, 41)\n",
      "2025-03-14 09:28:48,222 - eeg_classification - INFO - Preprocessing complete. Output shape: (3100, 41)\n"
     ]
    },
    {
     "name": "stderr",
     "output_type": "stream",
     "text": [
      "2025-03-14 09:28:48,222 - eeg_classification - INFO - Preprocessing complete. Output shape: (3100, 41)\n"
     ]
    },
    {
     "name": "stdout",
     "output_type": "stream",
     "text": [
      "2025-03-14 09:28:48,224 - eeg_classification - INFO - Cleaned data shape: (3100, 41)\n",
      "2025-03-14 09:28:48,224 - eeg_classification - INFO - Cleaned data shape: (3100, 41)\n"
     ]
    },
    {
     "name": "stderr",
     "output_type": "stream",
     "text": [
      "2025-03-14 09:28:48,224 - eeg_classification - INFO - Cleaned data shape: (3100, 41)\n"
     ]
    },
    {
     "name": "stdout",
     "output_type": "stream",
     "text": [
      "2025-03-14 09:28:48,226 - eeg_classification - INFO - Engineering features from data with shape (3100, 41)\n",
      "2025-03-14 09:28:48,226 - eeg_classification - INFO - Engineering features from data with shape (3100, 41)\n"
     ]
    },
    {
     "name": "stderr",
     "output_type": "stream",
     "text": [
      "2025-03-14 09:28:48,226 - eeg_classification - INFO - Engineering features from data with shape (3100, 41)\n"
     ]
    },
    {
     "name": "stdout",
     "output_type": "stream",
     "text": [
      "2025-03-14 09:28:48,380 - eeg_classification - INFO - Feature engineering complete. Output shape: (3100, 140)\n",
      "2025-03-14 09:28:48,380 - eeg_classification - INFO - Feature engineering complete. Output shape: (3100, 140)\n"
     ]
    },
    {
     "name": "stderr",
     "output_type": "stream",
     "text": [
      "c:\\Users\\Huai\\Documents\\GitHub\\EEG-classification\\training\\common\\preprocessing.py:155: PerformanceWarning: DataFrame is highly fragmented.  This is usually the result of calling `frame.insert` many times, which has poor performance.  Consider joining all columns at once using pd.concat(axis=1) instead. To get a de-fragmented frame, use `newframe = frame.copy()`\n",
      "  df_features[f\"{col}_std\"] = df[col].rolling(window=window_size, center=True).std()\n",
      "c:\\Users\\Huai\\Documents\\GitHub\\EEG-classification\\training\\common\\preprocessing.py:158: PerformanceWarning: DataFrame is highly fragmented.  This is usually the result of calling `frame.insert` many times, which has poor performance.  Consider joining all columns at once using pd.concat(axis=1) instead. To get a de-fragmented frame, use `newframe = frame.copy()`\n",
      "  df_features[f\"{col}_range\"] = (\n",
      "2025-03-14 09:28:48,380 - eeg_classification - INFO - Feature engineering complete. Output shape: (3100, 140)\n"
     ]
    },
    {
     "name": "stdout",
     "output_type": "stream",
     "text": [
      "2025-03-14 09:28:48,382 - eeg_classification - INFO - Features shape: (3100, 140)\n",
      "2025-03-14 09:28:48,382 - eeg_classification - INFO - Features shape: (3100, 140)\n"
     ]
    },
    {
     "name": "stderr",
     "output_type": "stream",
     "text": [
      "2025-03-14 09:28:48,382 - eeg_classification - INFO - Features shape: (3100, 140)\n"
     ]
    },
    {
     "name": "stdout",
     "output_type": "stream",
     "text": [
      "2025-03-14 09:28:48,390 - eeg_classification - INFO - No. of missing values after feature engineering: TimeStamp         0\n",
      "Delta_TP9         0\n",
      "Delta_AF7         0\n",
      "Delta_AF8         0\n",
      "Delta_TP10        0\n",
      "                 ..\n",
      "HSI_TP10_std      0\n",
      "HSI_TP10_range    0\n",
      "Battery_mean      0\n",
      "Battery_std       0\n",
      "Battery_range     0\n",
      "Length: 140, dtype: int64\n",
      "2025-03-14 09:28:48,390 - eeg_classification - INFO - No. of missing values after feature engineering: TimeStamp         0\n",
      "Delta_TP9         0\n",
      "Delta_AF7         0\n",
      "Delta_AF8         0\n",
      "Delta_TP10        0\n",
      "                 ..\n",
      "HSI_TP10_std      0\n",
      "HSI_TP10_range    0\n",
      "Battery_mean      0\n",
      "Battery_std       0\n",
      "Battery_range     0\n",
      "Length: 140, dtype: int64\n"
     ]
    },
    {
     "name": "stderr",
     "output_type": "stream",
     "text": [
      "2025-03-14 09:28:48,390 - eeg_classification - INFO - No. of missing values after feature engineering: TimeStamp         0\n",
      "Delta_TP9         0\n",
      "Delta_AF7         0\n",
      "Delta_AF8         0\n",
      "Delta_TP10        0\n",
      "                 ..\n",
      "HSI_TP10_std      0\n",
      "HSI_TP10_range    0\n",
      "Battery_mean      0\n",
      "Battery_std       0\n",
      "Battery_range     0\n",
      "Length: 140, dtype: int64\n"
     ]
    },
    {
     "name": "stdout",
     "output_type": "stream",
     "text": [
      "2025-03-14 09:28:48,392 - eeg_classification - INFO - Columns after feature engineering: Index(['TimeStamp', 'Delta_TP9', 'Delta_AF7', 'Delta_AF8', 'Delta_TP10',\n",
      "       'Theta_TP9', 'Theta_AF7', 'Theta_AF8', 'Theta_TP10', 'Alpha_TP9',\n",
      "       ...\n",
      "       'HSI_AF7_range', 'HSI_AF8_mean', 'HSI_AF8_std', 'HSI_AF8_range',\n",
      "       'HSI_TP10_mean', 'HSI_TP10_std', 'HSI_TP10_range', 'Battery_mean',\n",
      "       'Battery_std', 'Battery_range'],\n",
      "      dtype='object', length=140)\n",
      "2025-03-14 09:28:48,392 - eeg_classification - INFO - Columns after feature engineering: Index(['TimeStamp', 'Delta_TP9', 'Delta_AF7', 'Delta_AF8', 'Delta_TP10',\n",
      "       'Theta_TP9', 'Theta_AF7', 'Theta_AF8', 'Theta_TP10', 'Alpha_TP9',\n",
      "       ...\n",
      "       'HSI_AF7_range', 'HSI_AF8_mean', 'HSI_AF8_std', 'HSI_AF8_range',\n",
      "       'HSI_TP10_mean', 'HSI_TP10_std', 'HSI_TP10_range', 'Battery_mean',\n",
      "       'Battery_std', 'Battery_range'],\n",
      "      dtype='object', length=140)\n"
     ]
    },
    {
     "name": "stderr",
     "output_type": "stream",
     "text": [
      "2025-03-14 09:28:48,392 - eeg_classification - INFO - Columns after feature engineering: Index(['TimeStamp', 'Delta_TP9', 'Delta_AF7', 'Delta_AF8', 'Delta_TP10',\n",
      "       'Theta_TP9', 'Theta_AF7', 'Theta_AF8', 'Theta_TP10', 'Alpha_TP9',\n",
      "       ...\n",
      "       'HSI_AF7_range', 'HSI_AF8_mean', 'HSI_AF8_std', 'HSI_AF8_range',\n",
      "       'HSI_TP10_mean', 'HSI_TP10_std', 'HSI_TP10_range', 'Battery_mean',\n",
      "       'Battery_std', 'Battery_range'],\n",
      "      dtype='object', length=140)\n"
     ]
    },
    {
     "name": "stdout",
     "output_type": "stream",
     "text": [
      "2025-03-14 09:28:48,542 - eeg_classification - INFO - Processing file file_17 with 84727 rows\n",
      "2025-03-14 09:28:48,542 - eeg_classification - INFO - Processing file file_17 with 84727 rows\n"
     ]
    },
    {
     "name": "stderr",
     "output_type": "stream",
     "text": [
      "2025-03-14 09:28:48,542 - eeg_classification - INFO - Processing file file_17 with 84727 rows\n"
     ]
    },
    {
     "name": "stdout",
     "output_type": "stream",
     "text": [
      "2025-03-14 09:28:48,560 - eeg_classification - WARNING - Input data for file file_17 contains 2613 NaN values\n",
      "2025-03-14 09:28:48,560 - eeg_classification - WARNING - Input data for file file_17 contains 2613 NaN values\n"
     ]
    },
    {
     "name": "stderr",
     "output_type": "stream",
     "text": [
      "2025-03-14 09:28:48,560 - eeg_classification - WARNING - Input data for file file_17 contains 2613 NaN values\n"
     ]
    },
    {
     "name": "stdout",
     "output_type": "stream",
     "text": [
      "2025-03-14 09:28:48,562 - eeg_classification - INFO - Preprocessing data with shape (84727, 41)\n",
      "2025-03-14 09:28:48,562 - eeg_classification - INFO - Preprocessing data with shape (84727, 41)\n"
     ]
    },
    {
     "name": "stderr",
     "output_type": "stream",
     "text": [
      "2025-03-14 09:28:48,562 - eeg_classification - INFO - Preprocessing data with shape (84727, 41)\n"
     ]
    },
    {
     "name": "stdout",
     "output_type": "stream",
     "text": [
      "2025-03-14 09:28:48,619 - eeg_classification - WARNING - Dropping 67 rows with invalid timestamps\n",
      "2025-03-14 09:28:48,619 - eeg_classification - WARNING - Dropping 67 rows with invalid timestamps\n"
     ]
    },
    {
     "name": "stderr",
     "output_type": "stream",
     "text": [
      "2025-03-14 09:28:48,619 - eeg_classification - WARNING - Dropping 67 rows with invalid timestamps\n"
     ]
    },
    {
     "name": "stdout",
     "output_type": "stream",
     "text": [
      "2025-03-14 09:28:48,632 - eeg_classification - INFO - Successfully converted timestamps. Remaining rows: 84660\n",
      "2025-03-14 09:28:48,632 - eeg_classification - INFO - Successfully converted timestamps. Remaining rows: 84660\n"
     ]
    },
    {
     "name": "stderr",
     "output_type": "stream",
     "text": [
      "2025-03-14 09:28:48,632 - eeg_classification - INFO - Successfully converted timestamps. Remaining rows: 84660\n"
     ]
    },
    {
     "name": "stdout",
     "output_type": "stream",
     "text": [
      "NaNs in numeric columns: TimeStamp          0\n",
      "Delta_TP9          0\n",
      "Delta_AF7          0\n",
      "Delta_AF8          0\n",
      "Delta_TP10         0\n",
      "Theta_TP9          0\n",
      "Theta_AF7          0\n",
      "Theta_AF8          0\n",
      "Theta_TP10         0\n",
      "Alpha_TP9          0\n",
      "Alpha_AF7          0\n",
      "Alpha_AF8          0\n",
      "Alpha_TP10         0\n",
      "Beta_TP9           0\n",
      "Beta_AF7           0\n",
      "Beta_AF8           0\n",
      "Beta_TP10          0\n",
      "Gamma_TP9          0\n",
      "Gamma_AF7          0\n",
      "Gamma_AF8          0\n",
      "Gamma_TP10         0\n",
      "RAW_TP9            0\n",
      "RAW_AF7            0\n",
      "RAW_AF8            0\n",
      "RAW_TP10           0\n",
      "AUX_RIGHT          0\n",
      "Mellow             0\n",
      "Concentration      0\n",
      "Accelerometer_X    0\n",
      "Accelerometer_Y    0\n",
      "Accelerometer_Z    0\n",
      "Gyro_X             0\n",
      "Gyro_Y             0\n",
      "Gyro_Z             0\n",
      "HeadBandOn         0\n",
      "HSI_TP9            0\n",
      "HSI_AF7            0\n",
      "HSI_AF8            0\n",
      "HSI_TP10           0\n",
      "Battery            0\n",
      "SourceFile         0\n",
      "dtype: int64\n",
      "2025-03-14 09:28:48,682 - eeg_classification - INFO - Data spans 330.56 seconds from 2024-06-21 00:02:00.916000 to 2024-06-21 00:07:31.473000\n",
      "2025-03-14 09:28:48,682 - eeg_classification - INFO - Data spans 330.56 seconds from 2024-06-21 00:02:00.916000 to 2024-06-21 00:07:31.473000\n"
     ]
    },
    {
     "name": "stderr",
     "output_type": "stream",
     "text": [
      "2025-03-14 09:28:48,682 - eeg_classification - INFO - Data spans 330.56 seconds from 2024-06-21 00:02:00.916000 to 2024-06-21 00:07:31.473000\n"
     ]
    },
    {
     "name": "stdout",
     "output_type": "stream",
     "text": [
      "2025-03-14 09:28:48,755 - eeg_classification - INFO - Sampling complete: 84660 -> 3350 data points (4.0%)\n",
      "2025-03-14 09:28:48,755 - eeg_classification - INFO - Sampling complete: 84660 -> 3350 data points (4.0%)\n"
     ]
    },
    {
     "name": "stderr",
     "output_type": "stream",
     "text": [
      "2025-03-14 09:28:48,755 - eeg_classification - INFO - Sampling complete: 84660 -> 3350 data points (4.0%)\n"
     ]
    },
    {
     "name": "stdout",
     "output_type": "stream",
     "text": [
      "2025-03-14 09:28:48,761 - eeg_classification - INFO - Preprocessing complete. Output shape: (3350, 41)\n",
      "2025-03-14 09:28:48,761 - eeg_classification - INFO - Preprocessing complete. Output shape: (3350, 41)\n"
     ]
    },
    {
     "name": "stderr",
     "output_type": "stream",
     "text": [
      "2025-03-14 09:28:48,761 - eeg_classification - INFO - Preprocessing complete. Output shape: (3350, 41)\n"
     ]
    },
    {
     "name": "stdout",
     "output_type": "stream",
     "text": [
      "2025-03-14 09:28:48,764 - eeg_classification - INFO - Cleaned data shape: (3350, 41)\n",
      "2025-03-14 09:28:48,764 - eeg_classification - INFO - Cleaned data shape: (3350, 41)\n"
     ]
    },
    {
     "name": "stderr",
     "output_type": "stream",
     "text": [
      "2025-03-14 09:28:48,764 - eeg_classification - INFO - Cleaned data shape: (3350, 41)\n"
     ]
    },
    {
     "name": "stdout",
     "output_type": "stream",
     "text": [
      "2025-03-14 09:28:48,765 - eeg_classification - INFO - Engineering features from data with shape (3350, 41)\n",
      "2025-03-14 09:28:48,765 - eeg_classification - INFO - Engineering features from data with shape (3350, 41)\n"
     ]
    },
    {
     "name": "stderr",
     "output_type": "stream",
     "text": [
      "2025-03-14 09:28:48,765 - eeg_classification - INFO - Engineering features from data with shape (3350, 41)\n"
     ]
    },
    {
     "name": "stdout",
     "output_type": "stream",
     "text": [
      "2025-03-14 09:28:48,917 - eeg_classification - INFO - Feature engineering complete. Output shape: (3350, 140)\n",
      "2025-03-14 09:28:48,917 - eeg_classification - INFO - Feature engineering complete. Output shape: (3350, 140)\n"
     ]
    },
    {
     "name": "stderr",
     "output_type": "stream",
     "text": [
      "c:\\Users\\Huai\\Documents\\GitHub\\EEG-classification\\training\\common\\preprocessing.py:155: PerformanceWarning: DataFrame is highly fragmented.  This is usually the result of calling `frame.insert` many times, which has poor performance.  Consider joining all columns at once using pd.concat(axis=1) instead. To get a de-fragmented frame, use `newframe = frame.copy()`\n",
      "  df_features[f\"{col}_std\"] = df[col].rolling(window=window_size, center=True).std()\n",
      "c:\\Users\\Huai\\Documents\\GitHub\\EEG-classification\\training\\common\\preprocessing.py:158: PerformanceWarning: DataFrame is highly fragmented.  This is usually the result of calling `frame.insert` many times, which has poor performance.  Consider joining all columns at once using pd.concat(axis=1) instead. To get a de-fragmented frame, use `newframe = frame.copy()`\n",
      "  df_features[f\"{col}_range\"] = (\n",
      "2025-03-14 09:28:48,917 - eeg_classification - INFO - Feature engineering complete. Output shape: (3350, 140)\n"
     ]
    },
    {
     "name": "stdout",
     "output_type": "stream",
     "text": [
      "2025-03-14 09:28:48,919 - eeg_classification - INFO - Features shape: (3350, 140)\n",
      "2025-03-14 09:28:48,919 - eeg_classification - INFO - Features shape: (3350, 140)\n"
     ]
    },
    {
     "name": "stderr",
     "output_type": "stream",
     "text": [
      "2025-03-14 09:28:48,919 - eeg_classification - INFO - Features shape: (3350, 140)\n"
     ]
    },
    {
     "name": "stdout",
     "output_type": "stream",
     "text": [
      "2025-03-14 09:28:48,926 - eeg_classification - INFO - No. of missing values after feature engineering: TimeStamp         0\n",
      "Delta_TP9         0\n",
      "Delta_AF7         0\n",
      "Delta_AF8         0\n",
      "Delta_TP10        0\n",
      "                 ..\n",
      "HSI_TP10_std      0\n",
      "HSI_TP10_range    0\n",
      "Battery_mean      0\n",
      "Battery_std       0\n",
      "Battery_range     0\n",
      "Length: 140, dtype: int64\n",
      "2025-03-14 09:28:48,926 - eeg_classification - INFO - No. of missing values after feature engineering: TimeStamp         0\n",
      "Delta_TP9         0\n",
      "Delta_AF7         0\n",
      "Delta_AF8         0\n",
      "Delta_TP10        0\n",
      "                 ..\n",
      "HSI_TP10_std      0\n",
      "HSI_TP10_range    0\n",
      "Battery_mean      0\n",
      "Battery_std       0\n",
      "Battery_range     0\n",
      "Length: 140, dtype: int64\n"
     ]
    },
    {
     "name": "stderr",
     "output_type": "stream",
     "text": [
      "2025-03-14 09:28:48,926 - eeg_classification - INFO - No. of missing values after feature engineering: TimeStamp         0\n",
      "Delta_TP9         0\n",
      "Delta_AF7         0\n",
      "Delta_AF8         0\n",
      "Delta_TP10        0\n",
      "                 ..\n",
      "HSI_TP10_std      0\n",
      "HSI_TP10_range    0\n",
      "Battery_mean      0\n",
      "Battery_std       0\n",
      "Battery_range     0\n",
      "Length: 140, dtype: int64\n"
     ]
    },
    {
     "name": "stdout",
     "output_type": "stream",
     "text": [
      "2025-03-14 09:28:48,929 - eeg_classification - INFO - Columns after feature engineering: Index(['TimeStamp', 'Delta_TP9', 'Delta_AF7', 'Delta_AF8', 'Delta_TP10',\n",
      "       'Theta_TP9', 'Theta_AF7', 'Theta_AF8', 'Theta_TP10', 'Alpha_TP9',\n",
      "       ...\n",
      "       'HSI_AF7_range', 'HSI_AF8_mean', 'HSI_AF8_std', 'HSI_AF8_range',\n",
      "       'HSI_TP10_mean', 'HSI_TP10_std', 'HSI_TP10_range', 'Battery_mean',\n",
      "       'Battery_std', 'Battery_range'],\n",
      "      dtype='object', length=140)\n",
      "2025-03-14 09:28:48,929 - eeg_classification - INFO - Columns after feature engineering: Index(['TimeStamp', 'Delta_TP9', 'Delta_AF7', 'Delta_AF8', 'Delta_TP10',\n",
      "       'Theta_TP9', 'Theta_AF7', 'Theta_AF8', 'Theta_TP10', 'Alpha_TP9',\n",
      "       ...\n",
      "       'HSI_AF7_range', 'HSI_AF8_mean', 'HSI_AF8_std', 'HSI_AF8_range',\n",
      "       'HSI_TP10_mean', 'HSI_TP10_std', 'HSI_TP10_range', 'Battery_mean',\n",
      "       'Battery_std', 'Battery_range'],\n",
      "      dtype='object', length=140)\n"
     ]
    },
    {
     "name": "stderr",
     "output_type": "stream",
     "text": [
      "2025-03-14 09:28:48,929 - eeg_classification - INFO - Columns after feature engineering: Index(['TimeStamp', 'Delta_TP9', 'Delta_AF7', 'Delta_AF8', 'Delta_TP10',\n",
      "       'Theta_TP9', 'Theta_AF7', 'Theta_AF8', 'Theta_TP10', 'Alpha_TP9',\n",
      "       ...\n",
      "       'HSI_AF7_range', 'HSI_AF8_mean', 'HSI_AF8_std', 'HSI_AF8_range',\n",
      "       'HSI_TP10_mean', 'HSI_TP10_std', 'HSI_TP10_range', 'Battery_mean',\n",
      "       'Battery_std', 'Battery_range'],\n",
      "      dtype='object', length=140)\n"
     ]
    },
    {
     "name": "stdout",
     "output_type": "stream",
     "text": [
      "2025-03-14 09:28:49,067 - eeg_classification - INFO - Processing file file_18 with 171598 rows\n",
      "2025-03-14 09:28:49,067 - eeg_classification - INFO - Processing file file_18 with 171598 rows\n"
     ]
    },
    {
     "name": "stderr",
     "output_type": "stream",
     "text": [
      "2025-03-14 09:28:49,067 - eeg_classification - INFO - Processing file file_18 with 171598 rows\n"
     ]
    },
    {
     "name": "stdout",
     "output_type": "stream",
     "text": [
      "2025-03-14 09:28:49,104 - eeg_classification - WARNING - Input data for file file_18 contains 17382 NaN values\n",
      "2025-03-14 09:28:49,104 - eeg_classification - WARNING - Input data for file file_18 contains 17382 NaN values\n"
     ]
    },
    {
     "name": "stderr",
     "output_type": "stream",
     "text": [
      "2025-03-14 09:28:49,104 - eeg_classification - WARNING - Input data for file file_18 contains 17382 NaN values\n"
     ]
    },
    {
     "name": "stdout",
     "output_type": "stream",
     "text": [
      "2025-03-14 09:28:49,106 - eeg_classification - INFO - Preprocessing data with shape (171598, 41)\n",
      "2025-03-14 09:28:49,106 - eeg_classification - INFO - Preprocessing data with shape (171598, 41)\n"
     ]
    },
    {
     "name": "stderr",
     "output_type": "stream",
     "text": [
      "2025-03-14 09:28:49,106 - eeg_classification - INFO - Preprocessing data with shape (171598, 41)\n"
     ]
    },
    {
     "name": "stdout",
     "output_type": "stream",
     "text": [
      "2025-03-14 09:28:49,216 - eeg_classification - WARNING - Dropping 190 rows with invalid timestamps\n",
      "2025-03-14 09:28:49,216 - eeg_classification - WARNING - Dropping 190 rows with invalid timestamps\n"
     ]
    },
    {
     "name": "stderr",
     "output_type": "stream",
     "text": [
      "2025-03-14 09:28:49,216 - eeg_classification - WARNING - Dropping 190 rows with invalid timestamps\n"
     ]
    },
    {
     "name": "stdout",
     "output_type": "stream",
     "text": [
      "2025-03-14 09:28:49,237 - eeg_classification - INFO - Successfully converted timestamps. Remaining rows: 171408\n",
      "2025-03-14 09:28:49,237 - eeg_classification - INFO - Successfully converted timestamps. Remaining rows: 171408\n"
     ]
    },
    {
     "name": "stderr",
     "output_type": "stream",
     "text": [
      "2025-03-14 09:28:49,237 - eeg_classification - INFO - Successfully converted timestamps. Remaining rows: 171408\n"
     ]
    },
    {
     "name": "stdout",
     "output_type": "stream",
     "text": [
      "NaNs in numeric columns: TimeStamp          0\n",
      "Delta_TP9          0\n",
      "Delta_AF7          0\n",
      "Delta_AF8          0\n",
      "Delta_TP10         0\n",
      "Theta_TP9          0\n",
      "Theta_AF7          0\n",
      "Theta_AF8          0\n",
      "Theta_TP10         0\n",
      "Alpha_TP9          0\n",
      "Alpha_AF7          0\n",
      "Alpha_AF8          0\n",
      "Alpha_TP10         0\n",
      "Beta_TP9           0\n",
      "Beta_AF7           0\n",
      "Beta_AF8           0\n",
      "Beta_TP10          0\n",
      "Gamma_TP9          0\n",
      "Gamma_AF7          0\n",
      "Gamma_AF8          0\n",
      "Gamma_TP10         0\n",
      "RAW_TP9            0\n",
      "RAW_AF7            0\n",
      "RAW_AF8            0\n",
      "RAW_TP10           0\n",
      "AUX_RIGHT          0\n",
      "Mellow             0\n",
      "Concentration      0\n",
      "Accelerometer_X    0\n",
      "Accelerometer_Y    0\n",
      "Accelerometer_Z    0\n",
      "Gyro_X             0\n",
      "Gyro_Y             0\n",
      "Gyro_Z             0\n",
      "HeadBandOn         0\n",
      "HSI_TP9            0\n",
      "HSI_AF7            0\n",
      "HSI_AF8            0\n",
      "HSI_TP10           0\n",
      "Battery            0\n",
      "SourceFile         0\n",
      "dtype: int64\n",
      "2025-03-14 09:28:49,341 - eeg_classification - INFO - Data spans 681.17 seconds from 2024-06-21 01:47:40.336000 to 2024-06-21 01:59:01.511000\n",
      "2025-03-14 09:28:49,341 - eeg_classification - INFO - Data spans 681.17 seconds from 2024-06-21 01:47:40.336000 to 2024-06-21 01:59:01.511000\n"
     ]
    },
    {
     "name": "stderr",
     "output_type": "stream",
     "text": [
      "2025-03-14 09:28:49,341 - eeg_classification - INFO - Data spans 681.17 seconds from 2024-06-21 01:47:40.336000 to 2024-06-21 01:59:01.511000\n"
     ]
    },
    {
     "name": "stdout",
     "output_type": "stream",
     "text": [
      "2025-03-14 09:28:49,514 - eeg_classification - INFO - Sampling complete: 167652 -> 6750 data points (4.0%)\n",
      "2025-03-14 09:28:49,514 - eeg_classification - INFO - Sampling complete: 167652 -> 6750 data points (4.0%)\n"
     ]
    },
    {
     "name": "stderr",
     "output_type": "stream",
     "text": [
      "2025-03-14 09:28:49,514 - eeg_classification - INFO - Sampling complete: 167652 -> 6750 data points (4.0%)\n"
     ]
    },
    {
     "name": "stdout",
     "output_type": "stream",
     "text": [
      "2025-03-14 09:28:49,525 - eeg_classification - INFO - Preprocessing complete. Output shape: (6750, 41)\n",
      "2025-03-14 09:28:49,525 - eeg_classification - INFO - Preprocessing complete. Output shape: (6750, 41)\n"
     ]
    },
    {
     "name": "stderr",
     "output_type": "stream",
     "text": [
      "2025-03-14 09:28:49,525 - eeg_classification - INFO - Preprocessing complete. Output shape: (6750, 41)\n"
     ]
    },
    {
     "name": "stdout",
     "output_type": "stream",
     "text": [
      "2025-03-14 09:28:49,535 - eeg_classification - INFO - Cleaned data shape: (6750, 41)\n",
      "2025-03-14 09:28:49,535 - eeg_classification - INFO - Cleaned data shape: (6750, 41)\n"
     ]
    },
    {
     "name": "stderr",
     "output_type": "stream",
     "text": [
      "2025-03-14 09:28:49,535 - eeg_classification - INFO - Cleaned data shape: (6750, 41)\n"
     ]
    },
    {
     "name": "stdout",
     "output_type": "stream",
     "text": [
      "2025-03-14 09:28:49,538 - eeg_classification - INFO - Engineering features from data with shape (6750, 41)\n",
      "2025-03-14 09:28:49,538 - eeg_classification - INFO - Engineering features from data with shape (6750, 41)\n"
     ]
    },
    {
     "name": "stderr",
     "output_type": "stream",
     "text": [
      "2025-03-14 09:28:49,538 - eeg_classification - INFO - Engineering features from data with shape (6750, 41)\n"
     ]
    },
    {
     "name": "stdout",
     "output_type": "stream",
     "text": [
      "2025-03-14 09:28:49,833 - eeg_classification - INFO - Feature engineering complete. Output shape: (6750, 140)\n",
      "2025-03-14 09:28:49,833 - eeg_classification - INFO - Feature engineering complete. Output shape: (6750, 140)\n"
     ]
    },
    {
     "name": "stderr",
     "output_type": "stream",
     "text": [
      "c:\\Users\\Huai\\Documents\\GitHub\\EEG-classification\\training\\common\\preprocessing.py:155: PerformanceWarning: DataFrame is highly fragmented.  This is usually the result of calling `frame.insert` many times, which has poor performance.  Consider joining all columns at once using pd.concat(axis=1) instead. To get a de-fragmented frame, use `newframe = frame.copy()`\n",
      "  df_features[f\"{col}_std\"] = df[col].rolling(window=window_size, center=True).std()\n",
      "c:\\Users\\Huai\\Documents\\GitHub\\EEG-classification\\training\\common\\preprocessing.py:158: PerformanceWarning: DataFrame is highly fragmented.  This is usually the result of calling `frame.insert` many times, which has poor performance.  Consider joining all columns at once using pd.concat(axis=1) instead. To get a de-fragmented frame, use `newframe = frame.copy()`\n",
      "  df_features[f\"{col}_range\"] = (\n",
      "2025-03-14 09:28:49,833 - eeg_classification - INFO - Feature engineering complete. Output shape: (6750, 140)\n"
     ]
    },
    {
     "name": "stdout",
     "output_type": "stream",
     "text": [
      "2025-03-14 09:28:49,835 - eeg_classification - INFO - Features shape: (6750, 140)\n",
      "2025-03-14 09:28:49,835 - eeg_classification - INFO - Features shape: (6750, 140)\n"
     ]
    },
    {
     "name": "stderr",
     "output_type": "stream",
     "text": [
      "2025-03-14 09:28:49,835 - eeg_classification - INFO - Features shape: (6750, 140)\n"
     ]
    },
    {
     "name": "stdout",
     "output_type": "stream",
     "text": [
      "2025-03-14 09:28:49,842 - eeg_classification - INFO - No. of missing values after feature engineering: TimeStamp         0\n",
      "Delta_TP9         0\n",
      "Delta_AF7         0\n",
      "Delta_AF8         0\n",
      "Delta_TP10        0\n",
      "                 ..\n",
      "HSI_TP10_std      0\n",
      "HSI_TP10_range    0\n",
      "Battery_mean      0\n",
      "Battery_std       0\n",
      "Battery_range     0\n",
      "Length: 140, dtype: int64\n",
      "2025-03-14 09:28:49,842 - eeg_classification - INFO - No. of missing values after feature engineering: TimeStamp         0\n",
      "Delta_TP9         0\n",
      "Delta_AF7         0\n",
      "Delta_AF8         0\n",
      "Delta_TP10        0\n",
      "                 ..\n",
      "HSI_TP10_std      0\n",
      "HSI_TP10_range    0\n",
      "Battery_mean      0\n",
      "Battery_std       0\n",
      "Battery_range     0\n",
      "Length: 140, dtype: int64\n"
     ]
    },
    {
     "name": "stderr",
     "output_type": "stream",
     "text": [
      "2025-03-14 09:28:49,842 - eeg_classification - INFO - No. of missing values after feature engineering: TimeStamp         0\n",
      "Delta_TP9         0\n",
      "Delta_AF7         0\n",
      "Delta_AF8         0\n",
      "Delta_TP10        0\n",
      "                 ..\n",
      "HSI_TP10_std      0\n",
      "HSI_TP10_range    0\n",
      "Battery_mean      0\n",
      "Battery_std       0\n",
      "Battery_range     0\n",
      "Length: 140, dtype: int64\n"
     ]
    },
    {
     "name": "stdout",
     "output_type": "stream",
     "text": [
      "2025-03-14 09:28:49,844 - eeg_classification - INFO - Columns after feature engineering: Index(['TimeStamp', 'Delta_TP9', 'Delta_AF7', 'Delta_AF8', 'Delta_TP10',\n",
      "       'Theta_TP9', 'Theta_AF7', 'Theta_AF8', 'Theta_TP10', 'Alpha_TP9',\n",
      "       ...\n",
      "       'HSI_AF7_range', 'HSI_AF8_mean', 'HSI_AF8_std', 'HSI_AF8_range',\n",
      "       'HSI_TP10_mean', 'HSI_TP10_std', 'HSI_TP10_range', 'Battery_mean',\n",
      "       'Battery_std', 'Battery_range'],\n",
      "      dtype='object', length=140)\n",
      "2025-03-14 09:28:49,844 - eeg_classification - INFO - Columns after feature engineering: Index(['TimeStamp', 'Delta_TP9', 'Delta_AF7', 'Delta_AF8', 'Delta_TP10',\n",
      "       'Theta_TP9', 'Theta_AF7', 'Theta_AF8', 'Theta_TP10', 'Alpha_TP9',\n",
      "       ...\n",
      "       'HSI_AF7_range', 'HSI_AF8_mean', 'HSI_AF8_std', 'HSI_AF8_range',\n",
      "       'HSI_TP10_mean', 'HSI_TP10_std', 'HSI_TP10_range', 'Battery_mean',\n",
      "       'Battery_std', 'Battery_range'],\n",
      "      dtype='object', length=140)\n"
     ]
    },
    {
     "name": "stderr",
     "output_type": "stream",
     "text": [
      "2025-03-14 09:28:49,844 - eeg_classification - INFO - Columns after feature engineering: Index(['TimeStamp', 'Delta_TP9', 'Delta_AF7', 'Delta_AF8', 'Delta_TP10',\n",
      "       'Theta_TP9', 'Theta_AF7', 'Theta_AF8', 'Theta_TP10', 'Alpha_TP9',\n",
      "       ...\n",
      "       'HSI_AF7_range', 'HSI_AF8_mean', 'HSI_AF8_std', 'HSI_AF8_range',\n",
      "       'HSI_TP10_mean', 'HSI_TP10_std', 'HSI_TP10_range', 'Battery_mean',\n",
      "       'Battery_std', 'Battery_range'],\n",
      "      dtype='object', length=140)\n"
     ]
    },
    {
     "name": "stdout",
     "output_type": "stream",
     "text": [
      "2025-03-14 09:28:49,996 - eeg_classification - INFO - Processing file file_19 with 203121 rows\n",
      "2025-03-14 09:28:49,996 - eeg_classification - INFO - Processing file file_19 with 203121 rows\n"
     ]
    },
    {
     "name": "stderr",
     "output_type": "stream",
     "text": [
      "2025-03-14 09:28:49,996 - eeg_classification - INFO - Processing file file_19 with 203121 rows\n"
     ]
    },
    {
     "name": "stdout",
     "output_type": "stream",
     "text": [
      "2025-03-14 09:28:50,036 - eeg_classification - WARNING - Input data for file file_19 contains 45243 NaN values\n",
      "2025-03-14 09:28:50,036 - eeg_classification - WARNING - Input data for file file_19 contains 45243 NaN values\n"
     ]
    },
    {
     "name": "stderr",
     "output_type": "stream",
     "text": [
      "2025-03-14 09:28:50,036 - eeg_classification - WARNING - Input data for file file_19 contains 45243 NaN values\n"
     ]
    },
    {
     "name": "stdout",
     "output_type": "stream",
     "text": [
      "2025-03-14 09:28:50,038 - eeg_classification - INFO - Preprocessing data with shape (203121, 41)\n",
      "2025-03-14 09:28:50,038 - eeg_classification - INFO - Preprocessing data with shape (203121, 41)\n"
     ]
    },
    {
     "name": "stderr",
     "output_type": "stream",
     "text": [
      "2025-03-14 09:28:50,038 - eeg_classification - INFO - Preprocessing data with shape (203121, 41)\n"
     ]
    },
    {
     "name": "stdout",
     "output_type": "stream",
     "text": [
      "2025-03-14 09:28:50,165 - eeg_classification - WARNING - Dropping 81 rows with invalid timestamps\n",
      "2025-03-14 09:28:50,165 - eeg_classification - WARNING - Dropping 81 rows with invalid timestamps\n"
     ]
    },
    {
     "name": "stderr",
     "output_type": "stream",
     "text": [
      "2025-03-14 09:28:50,165 - eeg_classification - WARNING - Dropping 81 rows with invalid timestamps\n"
     ]
    },
    {
     "name": "stdout",
     "output_type": "stream",
     "text": [
      "2025-03-14 09:28:50,190 - eeg_classification - INFO - Successfully converted timestamps. Remaining rows: 203040\n",
      "2025-03-14 09:28:50,190 - eeg_classification - INFO - Successfully converted timestamps. Remaining rows: 203040\n"
     ]
    },
    {
     "name": "stderr",
     "output_type": "stream",
     "text": [
      "2025-03-14 09:28:50,190 - eeg_classification - INFO - Successfully converted timestamps. Remaining rows: 203040\n"
     ]
    },
    {
     "name": "stdout",
     "output_type": "stream",
     "text": [
      "NaNs in numeric columns: TimeStamp          0\n",
      "Delta_TP9          0\n",
      "Delta_AF7          0\n",
      "Delta_AF8          0\n",
      "Delta_TP10         0\n",
      "Theta_TP9          0\n",
      "Theta_AF7          0\n",
      "Theta_AF8          0\n",
      "Theta_TP10         0\n",
      "Alpha_TP9          0\n",
      "Alpha_AF7          0\n",
      "Alpha_AF8          0\n",
      "Alpha_TP10         0\n",
      "Beta_TP9           0\n",
      "Beta_AF7           0\n",
      "Beta_AF8           0\n",
      "Beta_TP10          0\n",
      "Gamma_TP9          0\n",
      "Gamma_AF7          0\n",
      "Gamma_AF8          0\n",
      "Gamma_TP10         0\n",
      "RAW_TP9            0\n",
      "RAW_AF7            0\n",
      "RAW_AF8            0\n",
      "RAW_TP10           0\n",
      "AUX_RIGHT          0\n",
      "Mellow             0\n",
      "Concentration      0\n",
      "Accelerometer_X    0\n",
      "Accelerometer_Y    0\n",
      "Accelerometer_Z    0\n",
      "Gyro_X             0\n",
      "Gyro_Y             0\n",
      "Gyro_Z             0\n",
      "HeadBandOn         0\n",
      "HSI_TP9            0\n",
      "HSI_AF7            0\n",
      "HSI_AF8            0\n",
      "HSI_TP10           0\n",
      "Battery            0\n",
      "SourceFile         0\n",
      "dtype: int64\n",
      "2025-03-14 09:28:50,306 - eeg_classification - INFO - Data spans 817.96 seconds from 2024-06-21 18:29:25.067000 to 2024-06-21 18:43:03.031000\n",
      "2025-03-14 09:28:50,306 - eeg_classification - INFO - Data spans 817.96 seconds from 2024-06-21 18:29:25.067000 to 2024-06-21 18:43:03.031000\n"
     ]
    },
    {
     "name": "stderr",
     "output_type": "stream",
     "text": [
      "2025-03-14 09:28:50,306 - eeg_classification - INFO - Data spans 817.96 seconds from 2024-06-21 18:29:25.067000 to 2024-06-21 18:43:03.031000\n"
     ]
    },
    {
     "name": "stdout",
     "output_type": "stream",
     "text": [
      "2025-03-14 09:28:50,527 - eeg_classification - INFO - Sampling complete: 189588 -> 8000 data points (4.2%)\n",
      "2025-03-14 09:28:50,527 - eeg_classification - INFO - Sampling complete: 189588 -> 8000 data points (4.2%)\n"
     ]
    },
    {
     "name": "stderr",
     "output_type": "stream",
     "text": [
      "2025-03-14 09:28:50,527 - eeg_classification - INFO - Sampling complete: 189588 -> 8000 data points (4.2%)\n"
     ]
    },
    {
     "name": "stdout",
     "output_type": "stream",
     "text": [
      "2025-03-14 09:28:50,536 - eeg_classification - INFO - Preprocessing complete. Output shape: (8000, 41)\n",
      "2025-03-14 09:28:50,536 - eeg_classification - INFO - Preprocessing complete. Output shape: (8000, 41)\n"
     ]
    },
    {
     "name": "stderr",
     "output_type": "stream",
     "text": [
      "2025-03-14 09:28:50,536 - eeg_classification - INFO - Preprocessing complete. Output shape: (8000, 41)\n"
     ]
    },
    {
     "name": "stdout",
     "output_type": "stream",
     "text": [
      "2025-03-14 09:28:50,538 - eeg_classification - INFO - Cleaned data shape: (8000, 41)\n",
      "2025-03-14 09:28:50,538 - eeg_classification - INFO - Cleaned data shape: (8000, 41)\n"
     ]
    },
    {
     "name": "stderr",
     "output_type": "stream",
     "text": [
      "2025-03-14 09:28:50,538 - eeg_classification - INFO - Cleaned data shape: (8000, 41)\n"
     ]
    },
    {
     "name": "stdout",
     "output_type": "stream",
     "text": [
      "2025-03-14 09:28:50,540 - eeg_classification - INFO - Engineering features from data with shape (8000, 41)\n",
      "2025-03-14 09:28:50,540 - eeg_classification - INFO - Engineering features from data with shape (8000, 41)\n"
     ]
    },
    {
     "name": "stderr",
     "output_type": "stream",
     "text": [
      "2025-03-14 09:28:50,540 - eeg_classification - INFO - Engineering features from data with shape (8000, 41)\n"
     ]
    },
    {
     "name": "stdout",
     "output_type": "stream",
     "text": [
      "2025-03-14 09:28:50,958 - eeg_classification - INFO - Feature engineering complete. Output shape: (8000, 140)\n",
      "2025-03-14 09:28:50,958 - eeg_classification - INFO - Feature engineering complete. Output shape: (8000, 140)\n"
     ]
    },
    {
     "name": "stderr",
     "output_type": "stream",
     "text": [
      "c:\\Users\\Huai\\Documents\\GitHub\\EEG-classification\\training\\common\\preprocessing.py:155: PerformanceWarning: DataFrame is highly fragmented.  This is usually the result of calling `frame.insert` many times, which has poor performance.  Consider joining all columns at once using pd.concat(axis=1) instead. To get a de-fragmented frame, use `newframe = frame.copy()`\n",
      "  df_features[f\"{col}_std\"] = df[col].rolling(window=window_size, center=True).std()\n",
      "c:\\Users\\Huai\\Documents\\GitHub\\EEG-classification\\training\\common\\preprocessing.py:158: PerformanceWarning: DataFrame is highly fragmented.  This is usually the result of calling `frame.insert` many times, which has poor performance.  Consider joining all columns at once using pd.concat(axis=1) instead. To get a de-fragmented frame, use `newframe = frame.copy()`\n",
      "  df_features[f\"{col}_range\"] = (\n",
      "2025-03-14 09:28:50,958 - eeg_classification - INFO - Feature engineering complete. Output shape: (8000, 140)\n"
     ]
    },
    {
     "name": "stdout",
     "output_type": "stream",
     "text": [
      "2025-03-14 09:28:50,960 - eeg_classification - INFO - Features shape: (8000, 140)\n",
      "2025-03-14 09:28:50,960 - eeg_classification - INFO - Features shape: (8000, 140)\n"
     ]
    },
    {
     "name": "stderr",
     "output_type": "stream",
     "text": [
      "2025-03-14 09:28:50,960 - eeg_classification - INFO - Features shape: (8000, 140)\n"
     ]
    },
    {
     "name": "stdout",
     "output_type": "stream",
     "text": [
      "2025-03-14 09:28:50,968 - eeg_classification - INFO - No. of missing values after feature engineering: TimeStamp         0\n",
      "Delta_TP9         0\n",
      "Delta_AF7         0\n",
      "Delta_AF8         0\n",
      "Delta_TP10        0\n",
      "                 ..\n",
      "HSI_TP10_std      0\n",
      "HSI_TP10_range    0\n",
      "Battery_mean      0\n",
      "Battery_std       0\n",
      "Battery_range     0\n",
      "Length: 140, dtype: int64\n",
      "2025-03-14 09:28:50,968 - eeg_classification - INFO - No. of missing values after feature engineering: TimeStamp         0\n",
      "Delta_TP9         0\n",
      "Delta_AF7         0\n",
      "Delta_AF8         0\n",
      "Delta_TP10        0\n",
      "                 ..\n",
      "HSI_TP10_std      0\n",
      "HSI_TP10_range    0\n",
      "Battery_mean      0\n",
      "Battery_std       0\n",
      "Battery_range     0\n",
      "Length: 140, dtype: int64\n"
     ]
    },
    {
     "name": "stderr",
     "output_type": "stream",
     "text": [
      "2025-03-14 09:28:50,968 - eeg_classification - INFO - No. of missing values after feature engineering: TimeStamp         0\n",
      "Delta_TP9         0\n",
      "Delta_AF7         0\n",
      "Delta_AF8         0\n",
      "Delta_TP10        0\n",
      "                 ..\n",
      "HSI_TP10_std      0\n",
      "HSI_TP10_range    0\n",
      "Battery_mean      0\n",
      "Battery_std       0\n",
      "Battery_range     0\n",
      "Length: 140, dtype: int64\n"
     ]
    },
    {
     "name": "stdout",
     "output_type": "stream",
     "text": [
      "2025-03-14 09:28:50,970 - eeg_classification - INFO - Columns after feature engineering: Index(['TimeStamp', 'Delta_TP9', 'Delta_AF7', 'Delta_AF8', 'Delta_TP10',\n",
      "       'Theta_TP9', 'Theta_AF7', 'Theta_AF8', 'Theta_TP10', 'Alpha_TP9',\n",
      "       ...\n",
      "       'HSI_AF7_range', 'HSI_AF8_mean', 'HSI_AF8_std', 'HSI_AF8_range',\n",
      "       'HSI_TP10_mean', 'HSI_TP10_std', 'HSI_TP10_range', 'Battery_mean',\n",
      "       'Battery_std', 'Battery_range'],\n",
      "      dtype='object', length=140)\n",
      "2025-03-14 09:28:50,970 - eeg_classification - INFO - Columns after feature engineering: Index(['TimeStamp', 'Delta_TP9', 'Delta_AF7', 'Delta_AF8', 'Delta_TP10',\n",
      "       'Theta_TP9', 'Theta_AF7', 'Theta_AF8', 'Theta_TP10', 'Alpha_TP9',\n",
      "       ...\n",
      "       'HSI_AF7_range', 'HSI_AF8_mean', 'HSI_AF8_std', 'HSI_AF8_range',\n",
      "       'HSI_TP10_mean', 'HSI_TP10_std', 'HSI_TP10_range', 'Battery_mean',\n",
      "       'Battery_std', 'Battery_range'],\n",
      "      dtype='object', length=140)\n"
     ]
    },
    {
     "name": "stderr",
     "output_type": "stream",
     "text": [
      "2025-03-14 09:28:50,970 - eeg_classification - INFO - Columns after feature engineering: Index(['TimeStamp', 'Delta_TP9', 'Delta_AF7', 'Delta_AF8', 'Delta_TP10',\n",
      "       'Theta_TP9', 'Theta_AF7', 'Theta_AF8', 'Theta_TP10', 'Alpha_TP9',\n",
      "       ...\n",
      "       'HSI_AF7_range', 'HSI_AF8_mean', 'HSI_AF8_std', 'HSI_AF8_range',\n",
      "       'HSI_TP10_mean', 'HSI_TP10_std', 'HSI_TP10_range', 'Battery_mean',\n",
      "       'Battery_std', 'Battery_range'],\n",
      "      dtype='object', length=140)\n"
     ]
    },
    {
     "name": "stdout",
     "output_type": "stream",
     "text": [
      "2025-03-14 09:28:51,115 - eeg_classification - INFO - Processing file file_20 with 88999 rows\n",
      "2025-03-14 09:28:51,115 - eeg_classification - INFO - Processing file file_20 with 88999 rows\n"
     ]
    },
    {
     "name": "stderr",
     "output_type": "stream",
     "text": [
      "2025-03-14 09:28:51,115 - eeg_classification - INFO - Processing file file_20 with 88999 rows\n"
     ]
    },
    {
     "name": "stdout",
     "output_type": "stream",
     "text": [
      "2025-03-14 09:28:51,133 - eeg_classification - WARNING - Input data for file file_20 contains 6825 NaN values\n",
      "2025-03-14 09:28:51,133 - eeg_classification - WARNING - Input data for file file_20 contains 6825 NaN values\n"
     ]
    },
    {
     "name": "stderr",
     "output_type": "stream",
     "text": [
      "2025-03-14 09:28:51,133 - eeg_classification - WARNING - Input data for file file_20 contains 6825 NaN values\n"
     ]
    },
    {
     "name": "stdout",
     "output_type": "stream",
     "text": [
      "2025-03-14 09:28:51,136 - eeg_classification - INFO - Preprocessing data with shape (88999, 41)\n",
      "2025-03-14 09:28:51,136 - eeg_classification - INFO - Preprocessing data with shape (88999, 41)\n"
     ]
    },
    {
     "name": "stderr",
     "output_type": "stream",
     "text": [
      "2025-03-14 09:28:51,136 - eeg_classification - INFO - Preprocessing data with shape (88999, 41)\n"
     ]
    },
    {
     "name": "stdout",
     "output_type": "stream",
     "text": [
      "2025-03-14 09:28:51,194 - eeg_classification - WARNING - Dropping 55 rows with invalid timestamps\n",
      "2025-03-14 09:28:51,194 - eeg_classification - WARNING - Dropping 55 rows with invalid timestamps\n"
     ]
    },
    {
     "name": "stderr",
     "output_type": "stream",
     "text": [
      "2025-03-14 09:28:51,194 - eeg_classification - WARNING - Dropping 55 rows with invalid timestamps\n"
     ]
    },
    {
     "name": "stdout",
     "output_type": "stream",
     "text": [
      "2025-03-14 09:28:51,206 - eeg_classification - INFO - Successfully converted timestamps. Remaining rows: 88944\n",
      "2025-03-14 09:28:51,206 - eeg_classification - INFO - Successfully converted timestamps. Remaining rows: 88944\n"
     ]
    },
    {
     "name": "stderr",
     "output_type": "stream",
     "text": [
      "2025-03-14 09:28:51,206 - eeg_classification - INFO - Successfully converted timestamps. Remaining rows: 88944\n"
     ]
    },
    {
     "name": "stdout",
     "output_type": "stream",
     "text": [
      "NaNs in numeric columns: TimeStamp          0\n",
      "Delta_TP9          0\n",
      "Delta_AF7          0\n",
      "Delta_AF8          0\n",
      "Delta_TP10         0\n",
      "Theta_TP9          0\n",
      "Theta_AF7          0\n",
      "Theta_AF8          0\n",
      "Theta_TP10         0\n",
      "Alpha_TP9          0\n",
      "Alpha_AF7          0\n",
      "Alpha_AF8          0\n",
      "Alpha_TP10         0\n",
      "Beta_TP9           0\n",
      "Beta_AF7           0\n",
      "Beta_AF8           0\n",
      "Beta_TP10          0\n",
      "Gamma_TP9          0\n",
      "Gamma_AF7          0\n",
      "Gamma_AF8          0\n",
      "Gamma_TP10         0\n",
      "RAW_TP9            0\n",
      "RAW_AF7            0\n",
      "RAW_AF8            0\n",
      "RAW_TP10           0\n",
      "AUX_RIGHT          0\n",
      "Mellow             0\n",
      "Concentration      0\n",
      "Accelerometer_X    0\n",
      "Accelerometer_Y    0\n",
      "Accelerometer_Z    0\n",
      "Gyro_X             0\n",
      "Gyro_Y             0\n",
      "Gyro_Z             0\n",
      "HeadBandOn         0\n",
      "HSI_TP9            0\n",
      "HSI_AF7            0\n",
      "HSI_AF8            0\n",
      "HSI_TP10           0\n",
      "Battery            0\n",
      "SourceFile         0\n",
      "dtype: int64\n",
      "2025-03-14 09:28:51,265 - eeg_classification - INFO - Data spans 347.31 seconds from 2024-06-21 20:00:24.364000 to 2024-06-21 20:06:11.678000\n",
      "2025-03-14 09:28:51,265 - eeg_classification - INFO - Data spans 347.31 seconds from 2024-06-21 20:00:24.364000 to 2024-06-21 20:06:11.678000\n"
     ]
    },
    {
     "name": "stderr",
     "output_type": "stream",
     "text": [
      "2025-03-14 09:28:51,265 - eeg_classification - INFO - Data spans 347.31 seconds from 2024-06-21 20:00:24.364000 to 2024-06-21 20:06:11.678000\n"
     ]
    },
    {
     "name": "stdout",
     "output_type": "stream",
     "text": [
      "2025-03-14 09:28:51,342 - eeg_classification - INFO - Sampling complete: 87264 -> 3500 data points (4.0%)\n",
      "2025-03-14 09:28:51,342 - eeg_classification - INFO - Sampling complete: 87264 -> 3500 data points (4.0%)\n"
     ]
    },
    {
     "name": "stderr",
     "output_type": "stream",
     "text": [
      "2025-03-14 09:28:51,342 - eeg_classification - INFO - Sampling complete: 87264 -> 3500 data points (4.0%)\n"
     ]
    },
    {
     "name": "stdout",
     "output_type": "stream",
     "text": [
      "2025-03-14 09:28:51,347 - eeg_classification - INFO - Preprocessing complete. Output shape: (3500, 41)\n",
      "2025-03-14 09:28:51,347 - eeg_classification - INFO - Preprocessing complete. Output shape: (3500, 41)\n"
     ]
    },
    {
     "name": "stderr",
     "output_type": "stream",
     "text": [
      "2025-03-14 09:28:51,347 - eeg_classification - INFO - Preprocessing complete. Output shape: (3500, 41)\n"
     ]
    },
    {
     "name": "stdout",
     "output_type": "stream",
     "text": [
      "2025-03-14 09:28:51,349 - eeg_classification - INFO - Cleaned data shape: (3500, 41)\n",
      "2025-03-14 09:28:51,349 - eeg_classification - INFO - Cleaned data shape: (3500, 41)\n"
     ]
    },
    {
     "name": "stderr",
     "output_type": "stream",
     "text": [
      "2025-03-14 09:28:51,349 - eeg_classification - INFO - Cleaned data shape: (3500, 41)\n"
     ]
    },
    {
     "name": "stdout",
     "output_type": "stream",
     "text": [
      "2025-03-14 09:28:51,351 - eeg_classification - INFO - Engineering features from data with shape (3500, 41)\n",
      "2025-03-14 09:28:51,351 - eeg_classification - INFO - Engineering features from data with shape (3500, 41)\n"
     ]
    },
    {
     "name": "stderr",
     "output_type": "stream",
     "text": [
      "2025-03-14 09:28:51,351 - eeg_classification - INFO - Engineering features from data with shape (3500, 41)\n"
     ]
    },
    {
     "name": "stdout",
     "output_type": "stream",
     "text": [
      "2025-03-14 09:28:51,510 - eeg_classification - INFO - Feature engineering complete. Output shape: (3500, 140)\n",
      "2025-03-14 09:28:51,510 - eeg_classification - INFO - Feature engineering complete. Output shape: (3500, 140)\n"
     ]
    },
    {
     "name": "stderr",
     "output_type": "stream",
     "text": [
      "c:\\Users\\Huai\\Documents\\GitHub\\EEG-classification\\training\\common\\preprocessing.py:155: PerformanceWarning: DataFrame is highly fragmented.  This is usually the result of calling `frame.insert` many times, which has poor performance.  Consider joining all columns at once using pd.concat(axis=1) instead. To get a de-fragmented frame, use `newframe = frame.copy()`\n",
      "  df_features[f\"{col}_std\"] = df[col].rolling(window=window_size, center=True).std()\n",
      "c:\\Users\\Huai\\Documents\\GitHub\\EEG-classification\\training\\common\\preprocessing.py:158: PerformanceWarning: DataFrame is highly fragmented.  This is usually the result of calling `frame.insert` many times, which has poor performance.  Consider joining all columns at once using pd.concat(axis=1) instead. To get a de-fragmented frame, use `newframe = frame.copy()`\n",
      "  df_features[f\"{col}_range\"] = (\n",
      "2025-03-14 09:28:51,510 - eeg_classification - INFO - Feature engineering complete. Output shape: (3500, 140)\n"
     ]
    },
    {
     "name": "stdout",
     "output_type": "stream",
     "text": [
      "2025-03-14 09:28:51,513 - eeg_classification - INFO - Features shape: (3500, 140)\n",
      "2025-03-14 09:28:51,513 - eeg_classification - INFO - Features shape: (3500, 140)\n"
     ]
    },
    {
     "name": "stderr",
     "output_type": "stream",
     "text": [
      "2025-03-14 09:28:51,513 - eeg_classification - INFO - Features shape: (3500, 140)\n"
     ]
    },
    {
     "name": "stdout",
     "output_type": "stream",
     "text": [
      "2025-03-14 09:28:51,520 - eeg_classification - INFO - No. of missing values after feature engineering: TimeStamp         0\n",
      "Delta_TP9         0\n",
      "Delta_AF7         0\n",
      "Delta_AF8         0\n",
      "Delta_TP10        0\n",
      "                 ..\n",
      "HSI_TP10_std      0\n",
      "HSI_TP10_range    0\n",
      "Battery_mean      0\n",
      "Battery_std       0\n",
      "Battery_range     0\n",
      "Length: 140, dtype: int64\n",
      "2025-03-14 09:28:51,520 - eeg_classification - INFO - No. of missing values after feature engineering: TimeStamp         0\n",
      "Delta_TP9         0\n",
      "Delta_AF7         0\n",
      "Delta_AF8         0\n",
      "Delta_TP10        0\n",
      "                 ..\n",
      "HSI_TP10_std      0\n",
      "HSI_TP10_range    0\n",
      "Battery_mean      0\n",
      "Battery_std       0\n",
      "Battery_range     0\n",
      "Length: 140, dtype: int64\n"
     ]
    },
    {
     "name": "stderr",
     "output_type": "stream",
     "text": [
      "2025-03-14 09:28:51,520 - eeg_classification - INFO - No. of missing values after feature engineering: TimeStamp         0\n",
      "Delta_TP9         0\n",
      "Delta_AF7         0\n",
      "Delta_AF8         0\n",
      "Delta_TP10        0\n",
      "                 ..\n",
      "HSI_TP10_std      0\n",
      "HSI_TP10_range    0\n",
      "Battery_mean      0\n",
      "Battery_std       0\n",
      "Battery_range     0\n",
      "Length: 140, dtype: int64\n"
     ]
    },
    {
     "name": "stdout",
     "output_type": "stream",
     "text": [
      "2025-03-14 09:28:51,522 - eeg_classification - INFO - Columns after feature engineering: Index(['TimeStamp', 'Delta_TP9', 'Delta_AF7', 'Delta_AF8', 'Delta_TP10',\n",
      "       'Theta_TP9', 'Theta_AF7', 'Theta_AF8', 'Theta_TP10', 'Alpha_TP9',\n",
      "       ...\n",
      "       'HSI_AF7_range', 'HSI_AF8_mean', 'HSI_AF8_std', 'HSI_AF8_range',\n",
      "       'HSI_TP10_mean', 'HSI_TP10_std', 'HSI_TP10_range', 'Battery_mean',\n",
      "       'Battery_std', 'Battery_range'],\n",
      "      dtype='object', length=140)\n",
      "2025-03-14 09:28:51,522 - eeg_classification - INFO - Columns after feature engineering: Index(['TimeStamp', 'Delta_TP9', 'Delta_AF7', 'Delta_AF8', 'Delta_TP10',\n",
      "       'Theta_TP9', 'Theta_AF7', 'Theta_AF8', 'Theta_TP10', 'Alpha_TP9',\n",
      "       ...\n",
      "       'HSI_AF7_range', 'HSI_AF8_mean', 'HSI_AF8_std', 'HSI_AF8_range',\n",
      "       'HSI_TP10_mean', 'HSI_TP10_std', 'HSI_TP10_range', 'Battery_mean',\n",
      "       'Battery_std', 'Battery_range'],\n",
      "      dtype='object', length=140)\n"
     ]
    },
    {
     "name": "stderr",
     "output_type": "stream",
     "text": [
      "2025-03-14 09:28:51,522 - eeg_classification - INFO - Columns after feature engineering: Index(['TimeStamp', 'Delta_TP9', 'Delta_AF7', 'Delta_AF8', 'Delta_TP10',\n",
      "       'Theta_TP9', 'Theta_AF7', 'Theta_AF8', 'Theta_TP10', 'Alpha_TP9',\n",
      "       ...\n",
      "       'HSI_AF7_range', 'HSI_AF8_mean', 'HSI_AF8_std', 'HSI_AF8_range',\n",
      "       'HSI_TP10_mean', 'HSI_TP10_std', 'HSI_TP10_range', 'Battery_mean',\n",
      "       'Battery_std', 'Battery_range'],\n",
      "      dtype='object', length=140)\n"
     ]
    },
    {
     "name": "stdout",
     "output_type": "stream",
     "text": [
      "2025-03-14 09:28:51,661 - eeg_classification - INFO - Processing file file_21 with 141023 rows\n",
      "2025-03-14 09:28:51,661 - eeg_classification - INFO - Processing file file_21 with 141023 rows\n"
     ]
    },
    {
     "name": "stderr",
     "output_type": "stream",
     "text": [
      "2025-03-14 09:28:51,661 - eeg_classification - INFO - Processing file file_21 with 141023 rows\n"
     ]
    },
    {
     "name": "stdout",
     "output_type": "stream",
     "text": [
      "2025-03-14 09:28:51,691 - eeg_classification - WARNING - Input data for file file_21 contains 180033 NaN values\n",
      "2025-03-14 09:28:51,691 - eeg_classification - WARNING - Input data for file file_21 contains 180033 NaN values\n"
     ]
    },
    {
     "name": "stderr",
     "output_type": "stream",
     "text": [
      "2025-03-14 09:28:51,691 - eeg_classification - WARNING - Input data for file file_21 contains 180033 NaN values\n"
     ]
    },
    {
     "name": "stdout",
     "output_type": "stream",
     "text": [
      "2025-03-14 09:28:51,694 - eeg_classification - INFO - Preprocessing data with shape (141023, 41)\n",
      "2025-03-14 09:28:51,694 - eeg_classification - INFO - Preprocessing data with shape (141023, 41)\n"
     ]
    },
    {
     "name": "stderr",
     "output_type": "stream",
     "text": [
      "2025-03-14 09:28:51,694 - eeg_classification - INFO - Preprocessing data with shape (141023, 41)\n"
     ]
    },
    {
     "name": "stdout",
     "output_type": "stream",
     "text": [
      "2025-03-14 09:28:51,776 - eeg_classification - WARNING - Dropping 47 rows with invalid timestamps\n",
      "2025-03-14 09:28:51,776 - eeg_classification - WARNING - Dropping 47 rows with invalid timestamps\n"
     ]
    },
    {
     "name": "stderr",
     "output_type": "stream",
     "text": [
      "2025-03-14 09:28:51,776 - eeg_classification - WARNING - Dropping 47 rows with invalid timestamps\n"
     ]
    },
    {
     "name": "stdout",
     "output_type": "stream",
     "text": [
      "2025-03-14 09:28:51,794 - eeg_classification - INFO - Successfully converted timestamps. Remaining rows: 140976\n",
      "2025-03-14 09:28:51,794 - eeg_classification - INFO - Successfully converted timestamps. Remaining rows: 140976\n"
     ]
    },
    {
     "name": "stderr",
     "output_type": "stream",
     "text": [
      "2025-03-14 09:28:51,794 - eeg_classification - INFO - Successfully converted timestamps. Remaining rows: 140976\n"
     ]
    },
    {
     "name": "stdout",
     "output_type": "stream",
     "text": [
      "NaNs in numeric columns: TimeStamp          0\n",
      "Delta_TP9          0\n",
      "Delta_AF7          0\n",
      "Delta_AF8          0\n",
      "Delta_TP10         0\n",
      "Theta_TP9          0\n",
      "Theta_AF7          0\n",
      "Theta_AF8          0\n",
      "Theta_TP10         0\n",
      "Alpha_TP9          0\n",
      "Alpha_AF7          0\n",
      "Alpha_AF8          0\n",
      "Alpha_TP10         0\n",
      "Beta_TP9           0\n",
      "Beta_AF7           0\n",
      "Beta_AF8           0\n",
      "Beta_TP10          0\n",
      "Gamma_TP9          0\n",
      "Gamma_AF7          0\n",
      "Gamma_AF8          0\n",
      "Gamma_TP10         0\n",
      "RAW_TP9            0\n",
      "RAW_AF7            0\n",
      "RAW_AF8            0\n",
      "RAW_TP10           0\n",
      "AUX_RIGHT          0\n",
      "Mellow             0\n",
      "Concentration      0\n",
      "Accelerometer_X    0\n",
      "Accelerometer_Y    0\n",
      "Accelerometer_Z    0\n",
      "Gyro_X             0\n",
      "Gyro_Y             0\n",
      "Gyro_Z             0\n",
      "HeadBandOn         0\n",
      "HSI_TP9            0\n",
      "HSI_AF7            0\n",
      "HSI_AF8            0\n",
      "HSI_TP10           0\n",
      "Battery            0\n",
      "SourceFile         0\n",
      "dtype: int64\n",
      "2025-03-14 09:28:51,861 - eeg_classification - INFO - Data spans 549.91 seconds from 2024-06-21 21:59:52.848000 to 2024-06-21 22:09:02.759000\n",
      "2025-03-14 09:28:51,861 - eeg_classification - INFO - Data spans 549.91 seconds from 2024-06-21 21:59:52.848000 to 2024-06-21 22:09:02.759000\n"
     ]
    },
    {
     "name": "stderr",
     "output_type": "stream",
     "text": [
      "2025-03-14 09:28:51,861 - eeg_classification - INFO - Data spans 549.91 seconds from 2024-06-21 21:59:52.848000 to 2024-06-21 22:09:02.759000\n"
     ]
    },
    {
     "name": "stdout",
     "output_type": "stream",
     "text": [
      "2025-03-14 09:28:51,966 - eeg_classification - INFO - Sampling complete: 77244 -> 5500 data points (7.1%)\n",
      "2025-03-14 09:28:51,966 - eeg_classification - INFO - Sampling complete: 77244 -> 5500 data points (7.1%)\n"
     ]
    },
    {
     "name": "stderr",
     "output_type": "stream",
     "text": [
      "2025-03-14 09:28:51,966 - eeg_classification - INFO - Sampling complete: 77244 -> 5500 data points (7.1%)\n"
     ]
    },
    {
     "name": "stdout",
     "output_type": "stream",
     "text": [
      "2025-03-14 09:28:51,973 - eeg_classification - INFO - Preprocessing complete. Output shape: (5500, 41)\n",
      "2025-03-14 09:28:51,973 - eeg_classification - INFO - Preprocessing complete. Output shape: (5500, 41)\n"
     ]
    },
    {
     "name": "stderr",
     "output_type": "stream",
     "text": [
      "2025-03-14 09:28:51,973 - eeg_classification - INFO - Preprocessing complete. Output shape: (5500, 41)\n"
     ]
    },
    {
     "name": "stdout",
     "output_type": "stream",
     "text": [
      "2025-03-14 09:28:51,975 - eeg_classification - INFO - Cleaned data shape: (5500, 41)\n",
      "2025-03-14 09:28:51,975 - eeg_classification - INFO - Cleaned data shape: (5500, 41)\n"
     ]
    },
    {
     "name": "stderr",
     "output_type": "stream",
     "text": [
      "2025-03-14 09:28:51,975 - eeg_classification - INFO - Cleaned data shape: (5500, 41)\n"
     ]
    },
    {
     "name": "stdout",
     "output_type": "stream",
     "text": [
      "2025-03-14 09:28:51,976 - eeg_classification - INFO - Engineering features from data with shape (5500, 41)\n",
      "2025-03-14 09:28:51,976 - eeg_classification - INFO - Engineering features from data with shape (5500, 41)\n"
     ]
    },
    {
     "name": "stderr",
     "output_type": "stream",
     "text": [
      "2025-03-14 09:28:51,976 - eeg_classification - INFO - Engineering features from data with shape (5500, 41)\n"
     ]
    },
    {
     "name": "stdout",
     "output_type": "stream",
     "text": [
      "2025-03-14 09:28:52,262 - eeg_classification - INFO - Feature engineering complete. Output shape: (5500, 140)\n",
      "2025-03-14 09:28:52,262 - eeg_classification - INFO - Feature engineering complete. Output shape: (5500, 140)\n"
     ]
    },
    {
     "name": "stderr",
     "output_type": "stream",
     "text": [
      "c:\\Users\\Huai\\Documents\\GitHub\\EEG-classification\\training\\common\\preprocessing.py:155: PerformanceWarning: DataFrame is highly fragmented.  This is usually the result of calling `frame.insert` many times, which has poor performance.  Consider joining all columns at once using pd.concat(axis=1) instead. To get a de-fragmented frame, use `newframe = frame.copy()`\n",
      "  df_features[f\"{col}_std\"] = df[col].rolling(window=window_size, center=True).std()\n",
      "c:\\Users\\Huai\\Documents\\GitHub\\EEG-classification\\training\\common\\preprocessing.py:158: PerformanceWarning: DataFrame is highly fragmented.  This is usually the result of calling `frame.insert` many times, which has poor performance.  Consider joining all columns at once using pd.concat(axis=1) instead. To get a de-fragmented frame, use `newframe = frame.copy()`\n",
      "  df_features[f\"{col}_range\"] = (\n",
      "2025-03-14 09:28:52,262 - eeg_classification - INFO - Feature engineering complete. Output shape: (5500, 140)\n"
     ]
    },
    {
     "name": "stdout",
     "output_type": "stream",
     "text": [
      "2025-03-14 09:28:52,264 - eeg_classification - INFO - Features shape: (5500, 140)\n",
      "2025-03-14 09:28:52,264 - eeg_classification - INFO - Features shape: (5500, 140)\n"
     ]
    },
    {
     "name": "stderr",
     "output_type": "stream",
     "text": [
      "2025-03-14 09:28:52,264 - eeg_classification - INFO - Features shape: (5500, 140)\n"
     ]
    },
    {
     "name": "stdout",
     "output_type": "stream",
     "text": [
      "2025-03-14 09:28:52,271 - eeg_classification - INFO - No. of missing values after feature engineering: TimeStamp         0\n",
      "Delta_TP9         0\n",
      "Delta_AF7         0\n",
      "Delta_AF8         0\n",
      "Delta_TP10        0\n",
      "                 ..\n",
      "HSI_TP10_std      0\n",
      "HSI_TP10_range    0\n",
      "Battery_mean      0\n",
      "Battery_std       0\n",
      "Battery_range     0\n",
      "Length: 140, dtype: int64\n",
      "2025-03-14 09:28:52,271 - eeg_classification - INFO - No. of missing values after feature engineering: TimeStamp         0\n",
      "Delta_TP9         0\n",
      "Delta_AF7         0\n",
      "Delta_AF8         0\n",
      "Delta_TP10        0\n",
      "                 ..\n",
      "HSI_TP10_std      0\n",
      "HSI_TP10_range    0\n",
      "Battery_mean      0\n",
      "Battery_std       0\n",
      "Battery_range     0\n",
      "Length: 140, dtype: int64\n"
     ]
    },
    {
     "name": "stderr",
     "output_type": "stream",
     "text": [
      "2025-03-14 09:28:52,271 - eeg_classification - INFO - No. of missing values after feature engineering: TimeStamp         0\n",
      "Delta_TP9         0\n",
      "Delta_AF7         0\n",
      "Delta_AF8         0\n",
      "Delta_TP10        0\n",
      "                 ..\n",
      "HSI_TP10_std      0\n",
      "HSI_TP10_range    0\n",
      "Battery_mean      0\n",
      "Battery_std       0\n",
      "Battery_range     0\n",
      "Length: 140, dtype: int64\n"
     ]
    },
    {
     "name": "stdout",
     "output_type": "stream",
     "text": [
      "2025-03-14 09:28:52,274 - eeg_classification - INFO - Columns after feature engineering: Index(['TimeStamp', 'Delta_TP9', 'Delta_AF7', 'Delta_AF8', 'Delta_TP10',\n",
      "       'Theta_TP9', 'Theta_AF7', 'Theta_AF8', 'Theta_TP10', 'Alpha_TP9',\n",
      "       ...\n",
      "       'HSI_AF7_range', 'HSI_AF8_mean', 'HSI_AF8_std', 'HSI_AF8_range',\n",
      "       'HSI_TP10_mean', 'HSI_TP10_std', 'HSI_TP10_range', 'Battery_mean',\n",
      "       'Battery_std', 'Battery_range'],\n",
      "      dtype='object', length=140)\n",
      "2025-03-14 09:28:52,274 - eeg_classification - INFO - Columns after feature engineering: Index(['TimeStamp', 'Delta_TP9', 'Delta_AF7', 'Delta_AF8', 'Delta_TP10',\n",
      "       'Theta_TP9', 'Theta_AF7', 'Theta_AF8', 'Theta_TP10', 'Alpha_TP9',\n",
      "       ...\n",
      "       'HSI_AF7_range', 'HSI_AF8_mean', 'HSI_AF8_std', 'HSI_AF8_range',\n",
      "       'HSI_TP10_mean', 'HSI_TP10_std', 'HSI_TP10_range', 'Battery_mean',\n",
      "       'Battery_std', 'Battery_range'],\n",
      "      dtype='object', length=140)\n"
     ]
    },
    {
     "name": "stderr",
     "output_type": "stream",
     "text": [
      "2025-03-14 09:28:52,274 - eeg_classification - INFO - Columns after feature engineering: Index(['TimeStamp', 'Delta_TP9', 'Delta_AF7', 'Delta_AF8', 'Delta_TP10',\n",
      "       'Theta_TP9', 'Theta_AF7', 'Theta_AF8', 'Theta_TP10', 'Alpha_TP9',\n",
      "       ...\n",
      "       'HSI_AF7_range', 'HSI_AF8_mean', 'HSI_AF8_std', 'HSI_AF8_range',\n",
      "       'HSI_TP10_mean', 'HSI_TP10_std', 'HSI_TP10_range', 'Battery_mean',\n",
      "       'Battery_std', 'Battery_range'],\n",
      "      dtype='object', length=140)\n"
     ]
    },
    {
     "name": "stdout",
     "output_type": "stream",
     "text": [
      "2025-03-14 09:28:52,415 - eeg_classification - INFO - Processing file file_22 with 128608 rows\n",
      "2025-03-14 09:28:52,415 - eeg_classification - INFO - Processing file file_22 with 128608 rows\n"
     ]
    },
    {
     "name": "stderr",
     "output_type": "stream",
     "text": [
      "2025-03-14 09:28:52,415 - eeg_classification - INFO - Processing file file_22 with 128608 rows\n"
     ]
    },
    {
     "name": "stdout",
     "output_type": "stream",
     "text": [
      "2025-03-14 09:28:52,444 - eeg_classification - WARNING - Input data for file file_22 contains 112452 NaN values\n",
      "2025-03-14 09:28:52,444 - eeg_classification - WARNING - Input data for file file_22 contains 112452 NaN values\n"
     ]
    },
    {
     "name": "stderr",
     "output_type": "stream",
     "text": [
      "2025-03-14 09:28:52,444 - eeg_classification - WARNING - Input data for file file_22 contains 112452 NaN values\n"
     ]
    },
    {
     "name": "stdout",
     "output_type": "stream",
     "text": [
      "2025-03-14 09:28:52,445 - eeg_classification - INFO - Preprocessing data with shape (128608, 41)\n",
      "2025-03-14 09:28:52,445 - eeg_classification - INFO - Preprocessing data with shape (128608, 41)\n"
     ]
    },
    {
     "name": "stderr",
     "output_type": "stream",
     "text": [
      "2025-03-14 09:28:52,445 - eeg_classification - INFO - Preprocessing data with shape (128608, 41)\n"
     ]
    },
    {
     "name": "stdout",
     "output_type": "stream",
     "text": [
      "2025-03-14 09:28:52,522 - eeg_classification - WARNING - Dropping 76 rows with invalid timestamps\n",
      "2025-03-14 09:28:52,522 - eeg_classification - WARNING - Dropping 76 rows with invalid timestamps\n"
     ]
    },
    {
     "name": "stderr",
     "output_type": "stream",
     "text": [
      "2025-03-14 09:28:52,522 - eeg_classification - WARNING - Dropping 76 rows with invalid timestamps\n"
     ]
    },
    {
     "name": "stdout",
     "output_type": "stream",
     "text": [
      "2025-03-14 09:28:52,540 - eeg_classification - INFO - Successfully converted timestamps. Remaining rows: 128532\n",
      "2025-03-14 09:28:52,540 - eeg_classification - INFO - Successfully converted timestamps. Remaining rows: 128532\n"
     ]
    },
    {
     "name": "stderr",
     "output_type": "stream",
     "text": [
      "2025-03-14 09:28:52,540 - eeg_classification - INFO - Successfully converted timestamps. Remaining rows: 128532\n"
     ]
    },
    {
     "name": "stdout",
     "output_type": "stream",
     "text": [
      "NaNs in numeric columns: TimeStamp          0\n",
      "Delta_TP9          0\n",
      "Delta_AF7          0\n",
      "Delta_AF8          0\n",
      "Delta_TP10         0\n",
      "Theta_TP9          0\n",
      "Theta_AF7          0\n",
      "Theta_AF8          0\n",
      "Theta_TP10         0\n",
      "Alpha_TP9          0\n",
      "Alpha_AF7          0\n",
      "Alpha_AF8          0\n",
      "Alpha_TP10         0\n",
      "Beta_TP9           0\n",
      "Beta_AF7           0\n",
      "Beta_AF8           0\n",
      "Beta_TP10          0\n",
      "Gamma_TP9          0\n",
      "Gamma_AF7          0\n",
      "Gamma_AF8          0\n",
      "Gamma_TP10         0\n",
      "RAW_TP9            0\n",
      "RAW_AF7            0\n",
      "RAW_AF8            0\n",
      "RAW_TP10           0\n",
      "AUX_RIGHT          0\n",
      "Mellow             0\n",
      "Concentration      0\n",
      "Accelerometer_X    0\n",
      "Accelerometer_Y    0\n",
      "Accelerometer_Z    0\n",
      "Gyro_X             0\n",
      "Gyro_Y             0\n",
      "Gyro_Z             0\n",
      "HeadBandOn         0\n",
      "HSI_TP9            0\n",
      "HSI_AF7            0\n",
      "HSI_AF8            0\n",
      "HSI_TP10           0\n",
      "Battery            0\n",
      "SourceFile         0\n",
      "dtype: int64\n",
      "2025-03-14 09:28:52,609 - eeg_classification - INFO - Data spans 531.95 seconds from 2024-06-21 22:22:27.579000 to 2024-06-21 22:31:19.533000\n",
      "2025-03-14 09:28:52,609 - eeg_classification - INFO - Data spans 531.95 seconds from 2024-06-21 22:22:27.579000 to 2024-06-21 22:31:19.533000\n"
     ]
    },
    {
     "name": "stderr",
     "output_type": "stream",
     "text": [
      "2025-03-14 09:28:52,609 - eeg_classification - INFO - Data spans 531.95 seconds from 2024-06-21 22:22:27.579000 to 2024-06-21 22:31:19.533000\n"
     ]
    },
    {
     "name": "stdout",
     "output_type": "stream",
     "text": [
      "2025-03-14 09:28:52,721 - eeg_classification - INFO - Sampling complete: 101808 -> 5094 data points (5.0%)\n",
      "2025-03-14 09:28:52,721 - eeg_classification - INFO - Sampling complete: 101808 -> 5094 data points (5.0%)\n"
     ]
    },
    {
     "name": "stderr",
     "output_type": "stream",
     "text": [
      "2025-03-14 09:28:52,721 - eeg_classification - INFO - Sampling complete: 101808 -> 5094 data points (5.0%)\n"
     ]
    },
    {
     "name": "stdout",
     "output_type": "stream",
     "text": [
      "2025-03-14 09:28:52,728 - eeg_classification - INFO - Preprocessing complete. Output shape: (5094, 41)\n",
      "2025-03-14 09:28:52,728 - eeg_classification - INFO - Preprocessing complete. Output shape: (5094, 41)\n"
     ]
    },
    {
     "name": "stderr",
     "output_type": "stream",
     "text": [
      "2025-03-14 09:28:52,728 - eeg_classification - INFO - Preprocessing complete. Output shape: (5094, 41)\n"
     ]
    },
    {
     "name": "stdout",
     "output_type": "stream",
     "text": [
      "2025-03-14 09:28:52,731 - eeg_classification - INFO - Cleaned data shape: (5094, 41)\n",
      "2025-03-14 09:28:52,731 - eeg_classification - INFO - Cleaned data shape: (5094, 41)\n"
     ]
    },
    {
     "name": "stderr",
     "output_type": "stream",
     "text": [
      "2025-03-14 09:28:52,731 - eeg_classification - INFO - Cleaned data shape: (5094, 41)\n"
     ]
    },
    {
     "name": "stdout",
     "output_type": "stream",
     "text": [
      "2025-03-14 09:28:52,732 - eeg_classification - INFO - Engineering features from data with shape (5094, 41)\n",
      "2025-03-14 09:28:52,732 - eeg_classification - INFO - Engineering features from data with shape (5094, 41)\n"
     ]
    },
    {
     "name": "stderr",
     "output_type": "stream",
     "text": [
      "2025-03-14 09:28:52,732 - eeg_classification - INFO - Engineering features from data with shape (5094, 41)\n",
      "c:\\Users\\Huai\\Documents\\GitHub\\EEG-classification\\training\\common\\preprocessing.py:155: PerformanceWarning: DataFrame is highly fragmented.  This is usually the result of calling `frame.insert` many times, which has poor performance.  Consider joining all columns at once using pd.concat(axis=1) instead. To get a de-fragmented frame, use `newframe = frame.copy()`\n",
      "  df_features[f\"{col}_std\"] = df[col].rolling(window=window_size, center=True).std()\n"
     ]
    },
    {
     "name": "stdout",
     "output_type": "stream",
     "text": [
      "2025-03-14 09:28:52,938 - eeg_classification - INFO - Feature engineering complete. Output shape: (5094, 140)\n",
      "2025-03-14 09:28:52,938 - eeg_classification - INFO - Feature engineering complete. Output shape: (5094, 140)\n"
     ]
    },
    {
     "name": "stderr",
     "output_type": "stream",
     "text": [
      "c:\\Users\\Huai\\Documents\\GitHub\\EEG-classification\\training\\common\\preprocessing.py:158: PerformanceWarning: DataFrame is highly fragmented.  This is usually the result of calling `frame.insert` many times, which has poor performance.  Consider joining all columns at once using pd.concat(axis=1) instead. To get a de-fragmented frame, use `newframe = frame.copy()`\n",
      "  df_features[f\"{col}_range\"] = (\n",
      "2025-03-14 09:28:52,938 - eeg_classification - INFO - Feature engineering complete. Output shape: (5094, 140)\n"
     ]
    },
    {
     "name": "stdout",
     "output_type": "stream",
     "text": [
      "2025-03-14 09:28:52,939 - eeg_classification - INFO - Features shape: (5094, 140)\n",
      "2025-03-14 09:28:52,939 - eeg_classification - INFO - Features shape: (5094, 140)\n"
     ]
    },
    {
     "name": "stderr",
     "output_type": "stream",
     "text": [
      "2025-03-14 09:28:52,939 - eeg_classification - INFO - Features shape: (5094, 140)\n"
     ]
    },
    {
     "name": "stdout",
     "output_type": "stream",
     "text": [
      "2025-03-14 09:28:52,948 - eeg_classification - INFO - No. of missing values after feature engineering: TimeStamp         0\n",
      "Delta_TP9         0\n",
      "Delta_AF7         0\n",
      "Delta_AF8         0\n",
      "Delta_TP10        0\n",
      "                 ..\n",
      "HSI_TP10_std      0\n",
      "HSI_TP10_range    0\n",
      "Battery_mean      0\n",
      "Battery_std       0\n",
      "Battery_range     0\n",
      "Length: 140, dtype: int64\n",
      "2025-03-14 09:28:52,948 - eeg_classification - INFO - No. of missing values after feature engineering: TimeStamp         0\n",
      "Delta_TP9         0\n",
      "Delta_AF7         0\n",
      "Delta_AF8         0\n",
      "Delta_TP10        0\n",
      "                 ..\n",
      "HSI_TP10_std      0\n",
      "HSI_TP10_range    0\n",
      "Battery_mean      0\n",
      "Battery_std       0\n",
      "Battery_range     0\n",
      "Length: 140, dtype: int64\n"
     ]
    },
    {
     "name": "stderr",
     "output_type": "stream",
     "text": [
      "2025-03-14 09:28:52,948 - eeg_classification - INFO - No. of missing values after feature engineering: TimeStamp         0\n",
      "Delta_TP9         0\n",
      "Delta_AF7         0\n",
      "Delta_AF8         0\n",
      "Delta_TP10        0\n",
      "                 ..\n",
      "HSI_TP10_std      0\n",
      "HSI_TP10_range    0\n",
      "Battery_mean      0\n",
      "Battery_std       0\n",
      "Battery_range     0\n",
      "Length: 140, dtype: int64\n"
     ]
    },
    {
     "name": "stdout",
     "output_type": "stream",
     "text": [
      "2025-03-14 09:28:52,952 - eeg_classification - INFO - Columns after feature engineering: Index(['TimeStamp', 'Delta_TP9', 'Delta_AF7', 'Delta_AF8', 'Delta_TP10',\n",
      "       'Theta_TP9', 'Theta_AF7', 'Theta_AF8', 'Theta_TP10', 'Alpha_TP9',\n",
      "       ...\n",
      "       'HSI_AF7_range', 'HSI_AF8_mean', 'HSI_AF8_std', 'HSI_AF8_range',\n",
      "       'HSI_TP10_mean', 'HSI_TP10_std', 'HSI_TP10_range', 'Battery_mean',\n",
      "       'Battery_std', 'Battery_range'],\n",
      "      dtype='object', length=140)\n",
      "2025-03-14 09:28:52,952 - eeg_classification - INFO - Columns after feature engineering: Index(['TimeStamp', 'Delta_TP9', 'Delta_AF7', 'Delta_AF8', 'Delta_TP10',\n",
      "       'Theta_TP9', 'Theta_AF7', 'Theta_AF8', 'Theta_TP10', 'Alpha_TP9',\n",
      "       ...\n",
      "       'HSI_AF7_range', 'HSI_AF8_mean', 'HSI_AF8_std', 'HSI_AF8_range',\n",
      "       'HSI_TP10_mean', 'HSI_TP10_std', 'HSI_TP10_range', 'Battery_mean',\n",
      "       'Battery_std', 'Battery_range'],\n",
      "      dtype='object', length=140)\n"
     ]
    },
    {
     "name": "stderr",
     "output_type": "stream",
     "text": [
      "2025-03-14 09:28:52,952 - eeg_classification - INFO - Columns after feature engineering: Index(['TimeStamp', 'Delta_TP9', 'Delta_AF7', 'Delta_AF8', 'Delta_TP10',\n",
      "       'Theta_TP9', 'Theta_AF7', 'Theta_AF8', 'Theta_TP10', 'Alpha_TP9',\n",
      "       ...\n",
      "       'HSI_AF7_range', 'HSI_AF8_mean', 'HSI_AF8_std', 'HSI_AF8_range',\n",
      "       'HSI_TP10_mean', 'HSI_TP10_std', 'HSI_TP10_range', 'Battery_mean',\n",
      "       'Battery_std', 'Battery_range'],\n",
      "      dtype='object', length=140)\n"
     ]
    },
    {
     "name": "stdout",
     "output_type": "stream",
     "text": [
      "2025-03-14 09:28:53,096 - eeg_classification - INFO - Processing file file_23 with 259120 rows\n",
      "2025-03-14 09:28:53,096 - eeg_classification - INFO - Processing file file_23 with 259120 rows\n"
     ]
    },
    {
     "name": "stderr",
     "output_type": "stream",
     "text": [
      "2025-03-14 09:28:53,096 - eeg_classification - INFO - Processing file file_23 with 259120 rows\n"
     ]
    },
    {
     "name": "stdout",
     "output_type": "stream",
     "text": [
      "2025-03-14 09:28:53,145 - eeg_classification - WARNING - Input data for file file_23 contains 6408 NaN values\n",
      "2025-03-14 09:28:53,145 - eeg_classification - WARNING - Input data for file file_23 contains 6408 NaN values\n"
     ]
    },
    {
     "name": "stderr",
     "output_type": "stream",
     "text": [
      "2025-03-14 09:28:53,145 - eeg_classification - WARNING - Input data for file file_23 contains 6408 NaN values\n"
     ]
    },
    {
     "name": "stdout",
     "output_type": "stream",
     "text": [
      "2025-03-14 09:28:53,147 - eeg_classification - INFO - Preprocessing data with shape (259120, 41)\n",
      "2025-03-14 09:28:53,147 - eeg_classification - INFO - Preprocessing data with shape (259120, 41)\n"
     ]
    },
    {
     "name": "stderr",
     "output_type": "stream",
     "text": [
      "2025-03-14 09:28:53,147 - eeg_classification - INFO - Preprocessing data with shape (259120, 41)\n"
     ]
    },
    {
     "name": "stdout",
     "output_type": "stream",
     "text": [
      "2025-03-14 09:28:53,318 - eeg_classification - WARNING - Dropping 52 rows with invalid timestamps\n",
      "2025-03-14 09:28:53,318 - eeg_classification - WARNING - Dropping 52 rows with invalid timestamps\n"
     ]
    },
    {
     "name": "stderr",
     "output_type": "stream",
     "text": [
      "2025-03-14 09:28:53,318 - eeg_classification - WARNING - Dropping 52 rows with invalid timestamps\n"
     ]
    },
    {
     "name": "stdout",
     "output_type": "stream",
     "text": [
      "2025-03-14 09:28:53,348 - eeg_classification - INFO - Successfully converted timestamps. Remaining rows: 259068\n",
      "2025-03-14 09:28:53,348 - eeg_classification - INFO - Successfully converted timestamps. Remaining rows: 259068\n"
     ]
    },
    {
     "name": "stderr",
     "output_type": "stream",
     "text": [
      "2025-03-14 09:28:53,348 - eeg_classification - INFO - Successfully converted timestamps. Remaining rows: 259068\n"
     ]
    },
    {
     "name": "stdout",
     "output_type": "stream",
     "text": [
      "NaNs in numeric columns: TimeStamp          0\n",
      "Delta_TP9          0\n",
      "Delta_AF7          0\n",
      "Delta_AF8          0\n",
      "Delta_TP10         0\n",
      "Theta_TP9          0\n",
      "Theta_AF7          0\n",
      "Theta_AF8          0\n",
      "Theta_TP10         0\n",
      "Alpha_TP9          0\n",
      "Alpha_AF7          0\n",
      "Alpha_AF8          0\n",
      "Alpha_TP10         0\n",
      "Beta_TP9           0\n",
      "Beta_AF7           0\n",
      "Beta_AF8           0\n",
      "Beta_TP10          0\n",
      "Gamma_TP9          0\n",
      "Gamma_AF7          0\n",
      "Gamma_AF8          0\n",
      "Gamma_TP10         0\n",
      "RAW_TP9            0\n",
      "RAW_AF7            0\n",
      "RAW_AF8            0\n",
      "RAW_TP10           0\n",
      "AUX_RIGHT          0\n",
      "Mellow             0\n",
      "Concentration      0\n",
      "Accelerometer_X    0\n",
      "Accelerometer_Y    0\n",
      "Accelerometer_Z    0\n",
      "Gyro_X             0\n",
      "Gyro_Y             0\n",
      "Gyro_Z             0\n",
      "HeadBandOn         0\n",
      "HSI_TP9            0\n",
      "HSI_AF7            0\n",
      "HSI_AF8            0\n",
      "HSI_TP10           0\n",
      "Battery            0\n",
      "SourceFile         0\n",
      "dtype: int64\n",
      "2025-03-14 09:28:53,502 - eeg_classification - INFO - Data spans 1011.85 seconds from 2024-06-21 23:10:14.594000 to 2024-06-21 23:27:06.448000\n",
      "2025-03-14 09:28:53,502 - eeg_classification - INFO - Data spans 1011.85 seconds from 2024-06-21 23:10:14.594000 to 2024-06-21 23:27:06.448000\n"
     ]
    },
    {
     "name": "stderr",
     "output_type": "stream",
     "text": [
      "2025-03-14 09:28:53,502 - eeg_classification - INFO - Data spans 1011.85 seconds from 2024-06-21 23:10:14.594000 to 2024-06-21 23:27:06.448000\n"
     ]
    },
    {
     "name": "stdout",
     "output_type": "stream",
     "text": [
      "2025-03-14 09:28:53,813 - eeg_classification - INFO - Sampling complete: 257376 -> 10150 data points (3.9%)\n",
      "2025-03-14 09:28:53,813 - eeg_classification - INFO - Sampling complete: 257376 -> 10150 data points (3.9%)\n"
     ]
    },
    {
     "name": "stderr",
     "output_type": "stream",
     "text": [
      "2025-03-14 09:28:53,813 - eeg_classification - INFO - Sampling complete: 257376 -> 10150 data points (3.9%)\n"
     ]
    },
    {
     "name": "stdout",
     "output_type": "stream",
     "text": [
      "2025-03-14 09:28:53,826 - eeg_classification - INFO - Preprocessing complete. Output shape: (10150, 41)\n",
      "2025-03-14 09:28:53,826 - eeg_classification - INFO - Preprocessing complete. Output shape: (10150, 41)\n"
     ]
    },
    {
     "name": "stderr",
     "output_type": "stream",
     "text": [
      "2025-03-14 09:28:53,826 - eeg_classification - INFO - Preprocessing complete. Output shape: (10150, 41)\n"
     ]
    },
    {
     "name": "stdout",
     "output_type": "stream",
     "text": [
      "2025-03-14 09:28:53,828 - eeg_classification - INFO - Cleaned data shape: (10150, 41)\n",
      "2025-03-14 09:28:53,828 - eeg_classification - INFO - Cleaned data shape: (10150, 41)\n"
     ]
    },
    {
     "name": "stderr",
     "output_type": "stream",
     "text": [
      "2025-03-14 09:28:53,828 - eeg_classification - INFO - Cleaned data shape: (10150, 41)\n"
     ]
    },
    {
     "name": "stdout",
     "output_type": "stream",
     "text": [
      "2025-03-14 09:28:53,829 - eeg_classification - INFO - Engineering features from data with shape (10150, 41)\n",
      "2025-03-14 09:28:53,829 - eeg_classification - INFO - Engineering features from data with shape (10150, 41)\n"
     ]
    },
    {
     "name": "stderr",
     "output_type": "stream",
     "text": [
      "2025-03-14 09:28:53,829 - eeg_classification - INFO - Engineering features from data with shape (10150, 41)\n"
     ]
    },
    {
     "name": "stdout",
     "output_type": "stream",
     "text": [
      "2025-03-14 09:28:54,295 - eeg_classification - INFO - Feature engineering complete. Output shape: (10150, 140)\n",
      "2025-03-14 09:28:54,295 - eeg_classification - INFO - Feature engineering complete. Output shape: (10150, 140)\n"
     ]
    },
    {
     "name": "stderr",
     "output_type": "stream",
     "text": [
      "c:\\Users\\Huai\\Documents\\GitHub\\EEG-classification\\training\\common\\preprocessing.py:155: PerformanceWarning: DataFrame is highly fragmented.  This is usually the result of calling `frame.insert` many times, which has poor performance.  Consider joining all columns at once using pd.concat(axis=1) instead. To get a de-fragmented frame, use `newframe = frame.copy()`\n",
      "  df_features[f\"{col}_std\"] = df[col].rolling(window=window_size, center=True).std()\n",
      "c:\\Users\\Huai\\Documents\\GitHub\\EEG-classification\\training\\common\\preprocessing.py:158: PerformanceWarning: DataFrame is highly fragmented.  This is usually the result of calling `frame.insert` many times, which has poor performance.  Consider joining all columns at once using pd.concat(axis=1) instead. To get a de-fragmented frame, use `newframe = frame.copy()`\n",
      "  df_features[f\"{col}_range\"] = (\n",
      "2025-03-14 09:28:54,295 - eeg_classification - INFO - Feature engineering complete. Output shape: (10150, 140)\n"
     ]
    },
    {
     "name": "stdout",
     "output_type": "stream",
     "text": [
      "2025-03-14 09:28:54,297 - eeg_classification - INFO - Features shape: (10150, 140)\n",
      "2025-03-14 09:28:54,297 - eeg_classification - INFO - Features shape: (10150, 140)\n"
     ]
    },
    {
     "name": "stderr",
     "output_type": "stream",
     "text": [
      "2025-03-14 09:28:54,297 - eeg_classification - INFO - Features shape: (10150, 140)\n"
     ]
    },
    {
     "name": "stdout",
     "output_type": "stream",
     "text": [
      "2025-03-14 09:28:54,306 - eeg_classification - INFO - No. of missing values after feature engineering: TimeStamp         0\n",
      "Delta_TP9         0\n",
      "Delta_AF7         0\n",
      "Delta_AF8         0\n",
      "Delta_TP10        0\n",
      "                 ..\n",
      "HSI_TP10_std      0\n",
      "HSI_TP10_range    0\n",
      "Battery_mean      0\n",
      "Battery_std       0\n",
      "Battery_range     0\n",
      "Length: 140, dtype: int64\n",
      "2025-03-14 09:28:54,306 - eeg_classification - INFO - No. of missing values after feature engineering: TimeStamp         0\n",
      "Delta_TP9         0\n",
      "Delta_AF7         0\n",
      "Delta_AF8         0\n",
      "Delta_TP10        0\n",
      "                 ..\n",
      "HSI_TP10_std      0\n",
      "HSI_TP10_range    0\n",
      "Battery_mean      0\n",
      "Battery_std       0\n",
      "Battery_range     0\n",
      "Length: 140, dtype: int64\n"
     ]
    },
    {
     "name": "stderr",
     "output_type": "stream",
     "text": [
      "2025-03-14 09:28:54,306 - eeg_classification - INFO - No. of missing values after feature engineering: TimeStamp         0\n",
      "Delta_TP9         0\n",
      "Delta_AF7         0\n",
      "Delta_AF8         0\n",
      "Delta_TP10        0\n",
      "                 ..\n",
      "HSI_TP10_std      0\n",
      "HSI_TP10_range    0\n",
      "Battery_mean      0\n",
      "Battery_std       0\n",
      "Battery_range     0\n",
      "Length: 140, dtype: int64\n"
     ]
    },
    {
     "name": "stdout",
     "output_type": "stream",
     "text": [
      "2025-03-14 09:28:54,308 - eeg_classification - INFO - Columns after feature engineering: Index(['TimeStamp', 'Delta_TP9', 'Delta_AF7', 'Delta_AF8', 'Delta_TP10',\n",
      "       'Theta_TP9', 'Theta_AF7', 'Theta_AF8', 'Theta_TP10', 'Alpha_TP9',\n",
      "       ...\n",
      "       'HSI_AF7_range', 'HSI_AF8_mean', 'HSI_AF8_std', 'HSI_AF8_range',\n",
      "       'HSI_TP10_mean', 'HSI_TP10_std', 'HSI_TP10_range', 'Battery_mean',\n",
      "       'Battery_std', 'Battery_range'],\n",
      "      dtype='object', length=140)\n",
      "2025-03-14 09:28:54,308 - eeg_classification - INFO - Columns after feature engineering: Index(['TimeStamp', 'Delta_TP9', 'Delta_AF7', 'Delta_AF8', 'Delta_TP10',\n",
      "       'Theta_TP9', 'Theta_AF7', 'Theta_AF8', 'Theta_TP10', 'Alpha_TP9',\n",
      "       ...\n",
      "       'HSI_AF7_range', 'HSI_AF8_mean', 'HSI_AF8_std', 'HSI_AF8_range',\n",
      "       'HSI_TP10_mean', 'HSI_TP10_std', 'HSI_TP10_range', 'Battery_mean',\n",
      "       'Battery_std', 'Battery_range'],\n",
      "      dtype='object', length=140)\n"
     ]
    },
    {
     "name": "stderr",
     "output_type": "stream",
     "text": [
      "2025-03-14 09:28:54,308 - eeg_classification - INFO - Columns after feature engineering: Index(['TimeStamp', 'Delta_TP9', 'Delta_AF7', 'Delta_AF8', 'Delta_TP10',\n",
      "       'Theta_TP9', 'Theta_AF7', 'Theta_AF8', 'Theta_TP10', 'Alpha_TP9',\n",
      "       ...\n",
      "       'HSI_AF7_range', 'HSI_AF8_mean', 'HSI_AF8_std', 'HSI_AF8_range',\n",
      "       'HSI_TP10_mean', 'HSI_TP10_std', 'HSI_TP10_range', 'Battery_mean',\n",
      "       'Battery_std', 'Battery_range'],\n",
      "      dtype='object', length=140)\n"
     ]
    },
    {
     "name": "stdout",
     "output_type": "stream",
     "text": [
      "2025-03-14 09:28:54,460 - eeg_classification - INFO - Processing file file_24 with 235662 rows\n",
      "2025-03-14 09:28:54,460 - eeg_classification - INFO - Processing file file_24 with 235662 rows\n"
     ]
    },
    {
     "name": "stderr",
     "output_type": "stream",
     "text": [
      "2025-03-14 09:28:54,460 - eeg_classification - INFO - Processing file file_24 with 235662 rows\n"
     ]
    },
    {
     "name": "stdout",
     "output_type": "stream",
     "text": [
      "2025-03-14 09:28:54,503 - eeg_classification - WARNING - Input data for file file_24 contains 22026 NaN values\n",
      "2025-03-14 09:28:54,503 - eeg_classification - WARNING - Input data for file file_24 contains 22026 NaN values\n"
     ]
    },
    {
     "name": "stderr",
     "output_type": "stream",
     "text": [
      "2025-03-14 09:28:54,503 - eeg_classification - WARNING - Input data for file file_24 contains 22026 NaN values\n"
     ]
    },
    {
     "name": "stdout",
     "output_type": "stream",
     "text": [
      "2025-03-14 09:28:54,505 - eeg_classification - INFO - Preprocessing data with shape (235662, 41)\n",
      "2025-03-14 09:28:54,505 - eeg_classification - INFO - Preprocessing data with shape (235662, 41)\n"
     ]
    },
    {
     "name": "stderr",
     "output_type": "stream",
     "text": [
      "2025-03-14 09:28:54,505 - eeg_classification - INFO - Preprocessing data with shape (235662, 41)\n"
     ]
    },
    {
     "name": "stdout",
     "output_type": "stream",
     "text": [
      "2025-03-14 09:28:54,655 - eeg_classification - WARNING - Dropping 78 rows with invalid timestamps\n",
      "2025-03-14 09:28:54,655 - eeg_classification - WARNING - Dropping 78 rows with invalid timestamps\n"
     ]
    },
    {
     "name": "stderr",
     "output_type": "stream",
     "text": [
      "2025-03-14 09:28:54,655 - eeg_classification - WARNING - Dropping 78 rows with invalid timestamps\n"
     ]
    },
    {
     "name": "stdout",
     "output_type": "stream",
     "text": [
      "2025-03-14 09:28:54,683 - eeg_classification - INFO - Successfully converted timestamps. Remaining rows: 235584\n",
      "2025-03-14 09:28:54,683 - eeg_classification - INFO - Successfully converted timestamps. Remaining rows: 235584\n"
     ]
    },
    {
     "name": "stderr",
     "output_type": "stream",
     "text": [
      "2025-03-14 09:28:54,683 - eeg_classification - INFO - Successfully converted timestamps. Remaining rows: 235584\n"
     ]
    },
    {
     "name": "stdout",
     "output_type": "stream",
     "text": [
      "NaNs in numeric columns: TimeStamp          0\n",
      "Delta_TP9          0\n",
      "Delta_AF7          0\n",
      "Delta_AF8          0\n",
      "Delta_TP10         0\n",
      "Theta_TP9          0\n",
      "Theta_AF7          0\n",
      "Theta_AF8          0\n",
      "Theta_TP10         0\n",
      "Alpha_TP9          0\n",
      "Alpha_AF7          0\n",
      "Alpha_AF8          0\n",
      "Alpha_TP10         0\n",
      "Beta_TP9           0\n",
      "Beta_AF7           0\n",
      "Beta_AF8           0\n",
      "Beta_TP10          0\n",
      "Gamma_TP9          0\n",
      "Gamma_AF7          0\n",
      "Gamma_AF8          0\n",
      "Gamma_TP10         0\n",
      "RAW_TP9            0\n",
      "RAW_AF7            0\n",
      "RAW_AF8            0\n",
      "RAW_TP10           0\n",
      "AUX_RIGHT          0\n",
      "Mellow             0\n",
      "Concentration      0\n",
      "Accelerometer_X    0\n",
      "Accelerometer_Y    0\n",
      "Accelerometer_Z    0\n",
      "Gyro_X             0\n",
      "Gyro_Y             0\n",
      "Gyro_Z             0\n",
      "HeadBandOn         0\n",
      "HSI_TP9            0\n",
      "HSI_AF7            0\n",
      "HSI_AF8            0\n",
      "HSI_TP10           0\n",
      "Battery            0\n",
      "SourceFile         0\n",
      "dtype: int64\n",
      "2025-03-14 09:28:54,819 - eeg_classification - INFO - Data spans 919.97 seconds from 2024-06-22 00:04:51.260000 to 2024-06-22 00:20:11.229000\n",
      "2025-03-14 09:28:54,819 - eeg_classification - INFO - Data spans 919.97 seconds from 2024-06-22 00:04:51.260000 to 2024-06-22 00:20:11.229000\n"
     ]
    },
    {
     "name": "stderr",
     "output_type": "stream",
     "text": [
      "2025-03-14 09:28:54,819 - eeg_classification - INFO - Data spans 919.97 seconds from 2024-06-22 00:04:51.260000 to 2024-06-22 00:20:11.229000\n"
     ]
    },
    {
     "name": "stdout",
     "output_type": "stream",
     "text": [
      "2025-03-14 09:28:55,157 - eeg_classification - INFO - Sampling complete: 229764 -> 9200 data points (4.0%)\n",
      "2025-03-14 09:28:55,157 - eeg_classification - INFO - Sampling complete: 229764 -> 9200 data points (4.0%)\n"
     ]
    },
    {
     "name": "stderr",
     "output_type": "stream",
     "text": [
      "2025-03-14 09:28:55,157 - eeg_classification - INFO - Sampling complete: 229764 -> 9200 data points (4.0%)\n"
     ]
    },
    {
     "name": "stdout",
     "output_type": "stream",
     "text": [
      "2025-03-14 09:28:55,169 - eeg_classification - INFO - Preprocessing complete. Output shape: (9200, 41)\n",
      "2025-03-14 09:28:55,169 - eeg_classification - INFO - Preprocessing complete. Output shape: (9200, 41)\n"
     ]
    },
    {
     "name": "stderr",
     "output_type": "stream",
     "text": [
      "2025-03-14 09:28:55,169 - eeg_classification - INFO - Preprocessing complete. Output shape: (9200, 41)\n"
     ]
    },
    {
     "name": "stdout",
     "output_type": "stream",
     "text": [
      "2025-03-14 09:28:55,171 - eeg_classification - INFO - Cleaned data shape: (9200, 41)\n",
      "2025-03-14 09:28:55,171 - eeg_classification - INFO - Cleaned data shape: (9200, 41)\n"
     ]
    },
    {
     "name": "stderr",
     "output_type": "stream",
     "text": [
      "2025-03-14 09:28:55,171 - eeg_classification - INFO - Cleaned data shape: (9200, 41)\n"
     ]
    },
    {
     "name": "stdout",
     "output_type": "stream",
     "text": [
      "2025-03-14 09:28:55,173 - eeg_classification - INFO - Engineering features from data with shape (9200, 41)\n",
      "2025-03-14 09:28:55,173 - eeg_classification - INFO - Engineering features from data with shape (9200, 41)\n"
     ]
    },
    {
     "name": "stderr",
     "output_type": "stream",
     "text": [
      "2025-03-14 09:28:55,173 - eeg_classification - INFO - Engineering features from data with shape (9200, 41)\n"
     ]
    },
    {
     "name": "stdout",
     "output_type": "stream",
     "text": [
      "2025-03-14 09:28:55,626 - eeg_classification - INFO - Feature engineering complete. Output shape: (9200, 140)\n",
      "2025-03-14 09:28:55,626 - eeg_classification - INFO - Feature engineering complete. Output shape: (9200, 140)\n"
     ]
    },
    {
     "name": "stderr",
     "output_type": "stream",
     "text": [
      "c:\\Users\\Huai\\Documents\\GitHub\\EEG-classification\\training\\common\\preprocessing.py:155: PerformanceWarning: DataFrame is highly fragmented.  This is usually the result of calling `frame.insert` many times, which has poor performance.  Consider joining all columns at once using pd.concat(axis=1) instead. To get a de-fragmented frame, use `newframe = frame.copy()`\n",
      "  df_features[f\"{col}_std\"] = df[col].rolling(window=window_size, center=True).std()\n",
      "c:\\Users\\Huai\\Documents\\GitHub\\EEG-classification\\training\\common\\preprocessing.py:158: PerformanceWarning: DataFrame is highly fragmented.  This is usually the result of calling `frame.insert` many times, which has poor performance.  Consider joining all columns at once using pd.concat(axis=1) instead. To get a de-fragmented frame, use `newframe = frame.copy()`\n",
      "  df_features[f\"{col}_range\"] = (\n",
      "2025-03-14 09:28:55,626 - eeg_classification - INFO - Feature engineering complete. Output shape: (9200, 140)\n"
     ]
    },
    {
     "name": "stdout",
     "output_type": "stream",
     "text": [
      "2025-03-14 09:28:55,628 - eeg_classification - INFO - Features shape: (9200, 140)\n",
      "2025-03-14 09:28:55,628 - eeg_classification - INFO - Features shape: (9200, 140)\n"
     ]
    },
    {
     "name": "stderr",
     "output_type": "stream",
     "text": [
      "2025-03-14 09:28:55,628 - eeg_classification - INFO - Features shape: (9200, 140)\n"
     ]
    },
    {
     "name": "stdout",
     "output_type": "stream",
     "text": [
      "2025-03-14 09:28:55,635 - eeg_classification - INFO - No. of missing values after feature engineering: TimeStamp         0\n",
      "Delta_TP9         0\n",
      "Delta_AF7         0\n",
      "Delta_AF8         0\n",
      "Delta_TP10        0\n",
      "                 ..\n",
      "HSI_TP10_std      0\n",
      "HSI_TP10_range    0\n",
      "Battery_mean      0\n",
      "Battery_std       0\n",
      "Battery_range     0\n",
      "Length: 140, dtype: int64\n",
      "2025-03-14 09:28:55,635 - eeg_classification - INFO - No. of missing values after feature engineering: TimeStamp         0\n",
      "Delta_TP9         0\n",
      "Delta_AF7         0\n",
      "Delta_AF8         0\n",
      "Delta_TP10        0\n",
      "                 ..\n",
      "HSI_TP10_std      0\n",
      "HSI_TP10_range    0\n",
      "Battery_mean      0\n",
      "Battery_std       0\n",
      "Battery_range     0\n",
      "Length: 140, dtype: int64\n"
     ]
    },
    {
     "name": "stderr",
     "output_type": "stream",
     "text": [
      "2025-03-14 09:28:55,635 - eeg_classification - INFO - No. of missing values after feature engineering: TimeStamp         0\n",
      "Delta_TP9         0\n",
      "Delta_AF7         0\n",
      "Delta_AF8         0\n",
      "Delta_TP10        0\n",
      "                 ..\n",
      "HSI_TP10_std      0\n",
      "HSI_TP10_range    0\n",
      "Battery_mean      0\n",
      "Battery_std       0\n",
      "Battery_range     0\n",
      "Length: 140, dtype: int64\n"
     ]
    },
    {
     "name": "stdout",
     "output_type": "stream",
     "text": [
      "2025-03-14 09:28:55,638 - eeg_classification - INFO - Columns after feature engineering: Index(['TimeStamp', 'Delta_TP9', 'Delta_AF7', 'Delta_AF8', 'Delta_TP10',\n",
      "       'Theta_TP9', 'Theta_AF7', 'Theta_AF8', 'Theta_TP10', 'Alpha_TP9',\n",
      "       ...\n",
      "       'HSI_AF7_range', 'HSI_AF8_mean', 'HSI_AF8_std', 'HSI_AF8_range',\n",
      "       'HSI_TP10_mean', 'HSI_TP10_std', 'HSI_TP10_range', 'Battery_mean',\n",
      "       'Battery_std', 'Battery_range'],\n",
      "      dtype='object', length=140)\n",
      "2025-03-14 09:28:55,638 - eeg_classification - INFO - Columns after feature engineering: Index(['TimeStamp', 'Delta_TP9', 'Delta_AF7', 'Delta_AF8', 'Delta_TP10',\n",
      "       'Theta_TP9', 'Theta_AF7', 'Theta_AF8', 'Theta_TP10', 'Alpha_TP9',\n",
      "       ...\n",
      "       'HSI_AF7_range', 'HSI_AF8_mean', 'HSI_AF8_std', 'HSI_AF8_range',\n",
      "       'HSI_TP10_mean', 'HSI_TP10_std', 'HSI_TP10_range', 'Battery_mean',\n",
      "       'Battery_std', 'Battery_range'],\n",
      "      dtype='object', length=140)\n"
     ]
    },
    {
     "name": "stderr",
     "output_type": "stream",
     "text": [
      "2025-03-14 09:28:55,638 - eeg_classification - INFO - Columns after feature engineering: Index(['TimeStamp', 'Delta_TP9', 'Delta_AF7', 'Delta_AF8', 'Delta_TP10',\n",
      "       'Theta_TP9', 'Theta_AF7', 'Theta_AF8', 'Theta_TP10', 'Alpha_TP9',\n",
      "       ...\n",
      "       'HSI_AF7_range', 'HSI_AF8_mean', 'HSI_AF8_std', 'HSI_AF8_range',\n",
      "       'HSI_TP10_mean', 'HSI_TP10_std', 'HSI_TP10_range', 'Battery_mean',\n",
      "       'Battery_std', 'Battery_range'],\n",
      "      dtype='object', length=140)\n"
     ]
    },
    {
     "name": "stdout",
     "output_type": "stream",
     "text": [
      "2025-03-14 09:28:55,785 - eeg_classification - INFO - Processing file file_25 with 431113 rows\n",
      "2025-03-14 09:28:55,785 - eeg_classification - INFO - Processing file file_25 with 431113 rows\n"
     ]
    },
    {
     "name": "stderr",
     "output_type": "stream",
     "text": [
      "2025-03-14 09:28:55,785 - eeg_classification - INFO - Processing file file_25 with 431113 rows\n"
     ]
    },
    {
     "name": "stdout",
     "output_type": "stream",
     "text": [
      "2025-03-14 09:28:55,864 - eeg_classification - WARNING - Input data for file file_25 contains 155259 NaN values\n",
      "2025-03-14 09:28:55,864 - eeg_classification - WARNING - Input data for file file_25 contains 155259 NaN values\n"
     ]
    },
    {
     "name": "stderr",
     "output_type": "stream",
     "text": [
      "2025-03-14 09:28:55,864 - eeg_classification - WARNING - Input data for file file_25 contains 155259 NaN values\n"
     ]
    },
    {
     "name": "stdout",
     "output_type": "stream",
     "text": [
      "2025-03-14 09:28:55,867 - eeg_classification - INFO - Preprocessing data with shape (431113, 41)\n",
      "2025-03-14 09:28:55,867 - eeg_classification - INFO - Preprocessing data with shape (431113, 41)\n"
     ]
    },
    {
     "name": "stderr",
     "output_type": "stream",
     "text": [
      "2025-03-14 09:28:55,867 - eeg_classification - INFO - Preprocessing data with shape (431113, 41)\n"
     ]
    },
    {
     "name": "stdout",
     "output_type": "stream",
     "text": [
      "2025-03-14 09:28:56,141 - eeg_classification - WARNING - Dropping 109 rows with invalid timestamps\n",
      "2025-03-14 09:28:56,141 - eeg_classification - WARNING - Dropping 109 rows with invalid timestamps\n"
     ]
    },
    {
     "name": "stderr",
     "output_type": "stream",
     "text": [
      "2025-03-14 09:28:56,141 - eeg_classification - WARNING - Dropping 109 rows with invalid timestamps\n"
     ]
    },
    {
     "name": "stdout",
     "output_type": "stream",
     "text": [
      "2025-03-14 09:28:56,193 - eeg_classification - INFO - Successfully converted timestamps. Remaining rows: 431004\n",
      "2025-03-14 09:28:56,193 - eeg_classification - INFO - Successfully converted timestamps. Remaining rows: 431004\n"
     ]
    },
    {
     "name": "stderr",
     "output_type": "stream",
     "text": [
      "2025-03-14 09:28:56,193 - eeg_classification - INFO - Successfully converted timestamps. Remaining rows: 431004\n"
     ]
    },
    {
     "name": "stdout",
     "output_type": "stream",
     "text": [
      "NaNs in numeric columns: TimeStamp          0\n",
      "Delta_TP9          0\n",
      "Delta_AF7          0\n",
      "Delta_AF8          0\n",
      "Delta_TP10         0\n",
      "Theta_TP9          0\n",
      "Theta_AF7          0\n",
      "Theta_AF8          0\n",
      "Theta_TP10         0\n",
      "Alpha_TP9          0\n",
      "Alpha_AF7          0\n",
      "Alpha_AF8          0\n",
      "Alpha_TP10         0\n",
      "Beta_TP9           0\n",
      "Beta_AF7           0\n",
      "Beta_AF8           0\n",
      "Beta_TP10          0\n",
      "Gamma_TP9          0\n",
      "Gamma_AF7          0\n",
      "Gamma_AF8          0\n",
      "Gamma_TP10         0\n",
      "RAW_TP9            0\n",
      "RAW_AF7            0\n",
      "RAW_AF8            0\n",
      "RAW_TP10           0\n",
      "AUX_RIGHT          0\n",
      "Mellow             0\n",
      "Concentration      0\n",
      "Accelerometer_X    0\n",
      "Accelerometer_Y    0\n",
      "Accelerometer_Z    0\n",
      "Gyro_X             0\n",
      "Gyro_Y             0\n",
      "Gyro_Z             0\n",
      "HeadBandOn         0\n",
      "HSI_TP9            0\n",
      "HSI_AF7            0\n",
      "HSI_AF8            0\n",
      "HSI_TP10           0\n",
      "Battery            0\n",
      "SourceFile         0\n",
      "dtype: int64\n",
      "2025-03-14 09:28:56,417 - eeg_classification - INFO - Data spans 1683.41 seconds from 2024-06-22 00:32:26.115000 to 2024-06-22 01:00:29.529000\n",
      "2025-03-14 09:28:56,417 - eeg_classification - INFO - Data spans 1683.41 seconds from 2024-06-22 00:32:26.115000 to 2024-06-22 01:00:29.529000\n"
     ]
    },
    {
     "name": "stderr",
     "output_type": "stream",
     "text": [
      "2025-03-14 09:28:56,417 - eeg_classification - INFO - Data spans 1683.41 seconds from 2024-06-22 00:32:26.115000 to 2024-06-22 01:00:29.529000\n"
     ]
    },
    {
     "name": "stdout",
     "output_type": "stream",
     "text": [
      "2025-03-14 09:28:57,065 - eeg_classification - INFO - Sampling complete: 370440 -> 16850 data points (4.5%)\n",
      "2025-03-14 09:28:57,065 - eeg_classification - INFO - Sampling complete: 370440 -> 16850 data points (4.5%)\n"
     ]
    },
    {
     "name": "stderr",
     "output_type": "stream",
     "text": [
      "2025-03-14 09:28:57,065 - eeg_classification - INFO - Sampling complete: 370440 -> 16850 data points (4.5%)\n"
     ]
    },
    {
     "name": "stdout",
     "output_type": "stream",
     "text": [
      "2025-03-14 09:28:57,083 - eeg_classification - INFO - Preprocessing complete. Output shape: (16850, 41)\n",
      "2025-03-14 09:28:57,083 - eeg_classification - INFO - Preprocessing complete. Output shape: (16850, 41)\n"
     ]
    },
    {
     "name": "stderr",
     "output_type": "stream",
     "text": [
      "2025-03-14 09:28:57,083 - eeg_classification - INFO - Preprocessing complete. Output shape: (16850, 41)\n"
     ]
    },
    {
     "name": "stdout",
     "output_type": "stream",
     "text": [
      "2025-03-14 09:28:57,086 - eeg_classification - INFO - Cleaned data shape: (16850, 41)\n",
      "2025-03-14 09:28:57,086 - eeg_classification - INFO - Cleaned data shape: (16850, 41)\n"
     ]
    },
    {
     "name": "stderr",
     "output_type": "stream",
     "text": [
      "2025-03-14 09:28:57,086 - eeg_classification - INFO - Cleaned data shape: (16850, 41)\n"
     ]
    },
    {
     "name": "stdout",
     "output_type": "stream",
     "text": [
      "2025-03-14 09:28:57,088 - eeg_classification - INFO - Engineering features from data with shape (16850, 41)\n",
      "2025-03-14 09:28:57,088 - eeg_classification - INFO - Engineering features from data with shape (16850, 41)\n"
     ]
    },
    {
     "name": "stderr",
     "output_type": "stream",
     "text": [
      "2025-03-14 09:28:57,088 - eeg_classification - INFO - Engineering features from data with shape (16850, 41)\n"
     ]
    },
    {
     "name": "stdout",
     "output_type": "stream",
     "text": [
      "2025-03-14 09:28:57,593 - eeg_classification - INFO - Feature engineering complete. Output shape: (16850, 140)\n",
      "2025-03-14 09:28:57,593 - eeg_classification - INFO - Feature engineering complete. Output shape: (16850, 140)\n"
     ]
    },
    {
     "name": "stderr",
     "output_type": "stream",
     "text": [
      "c:\\Users\\Huai\\Documents\\GitHub\\EEG-classification\\training\\common\\preprocessing.py:155: PerformanceWarning: DataFrame is highly fragmented.  This is usually the result of calling `frame.insert` many times, which has poor performance.  Consider joining all columns at once using pd.concat(axis=1) instead. To get a de-fragmented frame, use `newframe = frame.copy()`\n",
      "  df_features[f\"{col}_std\"] = df[col].rolling(window=window_size, center=True).std()\n",
      "c:\\Users\\Huai\\Documents\\GitHub\\EEG-classification\\training\\common\\preprocessing.py:158: PerformanceWarning: DataFrame is highly fragmented.  This is usually the result of calling `frame.insert` many times, which has poor performance.  Consider joining all columns at once using pd.concat(axis=1) instead. To get a de-fragmented frame, use `newframe = frame.copy()`\n",
      "  df_features[f\"{col}_range\"] = (\n",
      "2025-03-14 09:28:57,593 - eeg_classification - INFO - Feature engineering complete. Output shape: (16850, 140)\n"
     ]
    },
    {
     "name": "stdout",
     "output_type": "stream",
     "text": [
      "2025-03-14 09:28:57,595 - eeg_classification - INFO - Features shape: (16850, 140)\n",
      "2025-03-14 09:28:57,595 - eeg_classification - INFO - Features shape: (16850, 140)\n"
     ]
    },
    {
     "name": "stderr",
     "output_type": "stream",
     "text": [
      "2025-03-14 09:28:57,595 - eeg_classification - INFO - Features shape: (16850, 140)\n"
     ]
    },
    {
     "name": "stdout",
     "output_type": "stream",
     "text": [
      "2025-03-14 09:28:57,606 - eeg_classification - INFO - No. of missing values after feature engineering: TimeStamp         0\n",
      "Delta_TP9         0\n",
      "Delta_AF7         0\n",
      "Delta_AF8         0\n",
      "Delta_TP10        0\n",
      "                 ..\n",
      "HSI_TP10_std      0\n",
      "HSI_TP10_range    0\n",
      "Battery_mean      0\n",
      "Battery_std       0\n",
      "Battery_range     0\n",
      "Length: 140, dtype: int64\n",
      "2025-03-14 09:28:57,606 - eeg_classification - INFO - No. of missing values after feature engineering: TimeStamp         0\n",
      "Delta_TP9         0\n",
      "Delta_AF7         0\n",
      "Delta_AF8         0\n",
      "Delta_TP10        0\n",
      "                 ..\n",
      "HSI_TP10_std      0\n",
      "HSI_TP10_range    0\n",
      "Battery_mean      0\n",
      "Battery_std       0\n",
      "Battery_range     0\n",
      "Length: 140, dtype: int64\n"
     ]
    },
    {
     "name": "stderr",
     "output_type": "stream",
     "text": [
      "2025-03-14 09:28:57,606 - eeg_classification - INFO - No. of missing values after feature engineering: TimeStamp         0\n",
      "Delta_TP9         0\n",
      "Delta_AF7         0\n",
      "Delta_AF8         0\n",
      "Delta_TP10        0\n",
      "                 ..\n",
      "HSI_TP10_std      0\n",
      "HSI_TP10_range    0\n",
      "Battery_mean      0\n",
      "Battery_std       0\n",
      "Battery_range     0\n",
      "Length: 140, dtype: int64\n"
     ]
    },
    {
     "name": "stdout",
     "output_type": "stream",
     "text": [
      "2025-03-14 09:28:57,608 - eeg_classification - INFO - Columns after feature engineering: Index(['TimeStamp', 'Delta_TP9', 'Delta_AF7', 'Delta_AF8', 'Delta_TP10',\n",
      "       'Theta_TP9', 'Theta_AF7', 'Theta_AF8', 'Theta_TP10', 'Alpha_TP9',\n",
      "       ...\n",
      "       'HSI_AF7_range', 'HSI_AF8_mean', 'HSI_AF8_std', 'HSI_AF8_range',\n",
      "       'HSI_TP10_mean', 'HSI_TP10_std', 'HSI_TP10_range', 'Battery_mean',\n",
      "       'Battery_std', 'Battery_range'],\n",
      "      dtype='object', length=140)\n",
      "2025-03-14 09:28:57,608 - eeg_classification - INFO - Columns after feature engineering: Index(['TimeStamp', 'Delta_TP9', 'Delta_AF7', 'Delta_AF8', 'Delta_TP10',\n",
      "       'Theta_TP9', 'Theta_AF7', 'Theta_AF8', 'Theta_TP10', 'Alpha_TP9',\n",
      "       ...\n",
      "       'HSI_AF7_range', 'HSI_AF8_mean', 'HSI_AF8_std', 'HSI_AF8_range',\n",
      "       'HSI_TP10_mean', 'HSI_TP10_std', 'HSI_TP10_range', 'Battery_mean',\n",
      "       'Battery_std', 'Battery_range'],\n",
      "      dtype='object', length=140)\n"
     ]
    },
    {
     "name": "stderr",
     "output_type": "stream",
     "text": [
      "2025-03-14 09:28:57,608 - eeg_classification - INFO - Columns after feature engineering: Index(['TimeStamp', 'Delta_TP9', 'Delta_AF7', 'Delta_AF8', 'Delta_TP10',\n",
      "       'Theta_TP9', 'Theta_AF7', 'Theta_AF8', 'Theta_TP10', 'Alpha_TP9',\n",
      "       ...\n",
      "       'HSI_AF7_range', 'HSI_AF8_mean', 'HSI_AF8_std', 'HSI_AF8_range',\n",
      "       'HSI_TP10_mean', 'HSI_TP10_std', 'HSI_TP10_range', 'Battery_mean',\n",
      "       'Battery_std', 'Battery_range'],\n",
      "      dtype='object', length=140)\n"
     ]
    },
    {
     "name": "stdout",
     "output_type": "stream",
     "text": [
      "2025-03-14 09:28:57,757 - eeg_classification - INFO - Processing file file_26 with 130070 rows\n",
      "2025-03-14 09:28:57,757 - eeg_classification - INFO - Processing file file_26 with 130070 rows\n"
     ]
    },
    {
     "name": "stderr",
     "output_type": "stream",
     "text": [
      "2025-03-14 09:28:57,757 - eeg_classification - INFO - Processing file file_26 with 130070 rows\n"
     ]
    },
    {
     "name": "stdout",
     "output_type": "stream",
     "text": [
      "2025-03-14 09:28:57,788 - eeg_classification - WARNING - Input data for file file_26 contains 2418 NaN values\n",
      "2025-03-14 09:28:57,788 - eeg_classification - WARNING - Input data for file file_26 contains 2418 NaN values\n"
     ]
    },
    {
     "name": "stderr",
     "output_type": "stream",
     "text": [
      "2025-03-14 09:28:57,788 - eeg_classification - WARNING - Input data for file file_26 contains 2418 NaN values\n"
     ]
    },
    {
     "name": "stdout",
     "output_type": "stream",
     "text": [
      "2025-03-14 09:28:57,791 - eeg_classification - INFO - Preprocessing data with shape (130070, 41)\n",
      "2025-03-14 09:28:57,791 - eeg_classification - INFO - Preprocessing data with shape (130070, 41)\n"
     ]
    },
    {
     "name": "stderr",
     "output_type": "stream",
     "text": [
      "2025-03-14 09:28:57,791 - eeg_classification - INFO - Preprocessing data with shape (130070, 41)\n"
     ]
    },
    {
     "name": "stdout",
     "output_type": "stream",
     "text": [
      "2025-03-14 09:28:57,890 - eeg_classification - WARNING - Dropping 62 rows with invalid timestamps\n",
      "2025-03-14 09:28:57,890 - eeg_classification - WARNING - Dropping 62 rows with invalid timestamps\n"
     ]
    },
    {
     "name": "stderr",
     "output_type": "stream",
     "text": [
      "2025-03-14 09:28:57,890 - eeg_classification - WARNING - Dropping 62 rows with invalid timestamps\n"
     ]
    },
    {
     "name": "stdout",
     "output_type": "stream",
     "text": [
      "2025-03-14 09:28:57,910 - eeg_classification - INFO - Successfully converted timestamps. Remaining rows: 130008\n",
      "2025-03-14 09:28:57,910 - eeg_classification - INFO - Successfully converted timestamps. Remaining rows: 130008\n"
     ]
    },
    {
     "name": "stderr",
     "output_type": "stream",
     "text": [
      "2025-03-14 09:28:57,910 - eeg_classification - INFO - Successfully converted timestamps. Remaining rows: 130008\n"
     ]
    },
    {
     "name": "stdout",
     "output_type": "stream",
     "text": [
      "NaNs in numeric columns: TimeStamp          0\n",
      "Delta_TP9          0\n",
      "Delta_AF7          0\n",
      "Delta_AF8          0\n",
      "Delta_TP10         0\n",
      "Theta_TP9          0\n",
      "Theta_AF7          0\n",
      "Theta_AF8          0\n",
      "Theta_TP10         0\n",
      "Alpha_TP9          0\n",
      "Alpha_AF7          0\n",
      "Alpha_AF8          0\n",
      "Alpha_TP10         0\n",
      "Beta_TP9           0\n",
      "Beta_AF7           0\n",
      "Beta_AF8           0\n",
      "Beta_TP10          0\n",
      "Gamma_TP9          0\n",
      "Gamma_AF7          0\n",
      "Gamma_AF8          0\n",
      "Gamma_TP10         0\n",
      "RAW_TP9            0\n",
      "RAW_AF7            0\n",
      "RAW_AF8            0\n",
      "RAW_TP10           0\n",
      "AUX_RIGHT          0\n",
      "Mellow             0\n",
      "Concentration      0\n",
      "Accelerometer_X    0\n",
      "Accelerometer_Y    0\n",
      "Accelerometer_Z    0\n",
      "Gyro_X             0\n",
      "Gyro_Y             0\n",
      "Gyro_Z             0\n",
      "HeadBandOn         0\n",
      "HSI_TP9            0\n",
      "HSI_AF7            0\n",
      "HSI_AF8            0\n",
      "HSI_TP10           0\n",
      "Battery            0\n",
      "SourceFile         0\n",
      "dtype: int64\n",
      "2025-03-14 09:28:57,990 - eeg_classification - INFO - Data spans 507.65 seconds from 2024-06-22 18:29:43.337000 to 2024-06-22 18:38:10.986000\n",
      "2025-03-14 09:28:57,990 - eeg_classification - INFO - Data spans 507.65 seconds from 2024-06-22 18:29:43.337000 to 2024-06-22 18:38:10.986000\n"
     ]
    },
    {
     "name": "stderr",
     "output_type": "stream",
     "text": [
      "2025-03-14 09:28:57,990 - eeg_classification - INFO - Data spans 507.65 seconds from 2024-06-22 18:29:43.337000 to 2024-06-22 18:38:10.986000\n"
     ]
    },
    {
     "name": "stdout",
     "output_type": "stream",
     "text": [
      "2025-03-14 09:28:58,112 - eeg_classification - INFO - Sampling complete: 130008 -> 5100 data points (3.9%)\n",
      "2025-03-14 09:28:58,112 - eeg_classification - INFO - Sampling complete: 130008 -> 5100 data points (3.9%)\n"
     ]
    },
    {
     "name": "stderr",
     "output_type": "stream",
     "text": [
      "2025-03-14 09:28:58,112 - eeg_classification - INFO - Sampling complete: 130008 -> 5100 data points (3.9%)\n"
     ]
    },
    {
     "name": "stdout",
     "output_type": "stream",
     "text": [
      "2025-03-14 09:28:58,120 - eeg_classification - INFO - Preprocessing complete. Output shape: (5100, 41)\n",
      "2025-03-14 09:28:58,120 - eeg_classification - INFO - Preprocessing complete. Output shape: (5100, 41)\n"
     ]
    },
    {
     "name": "stderr",
     "output_type": "stream",
     "text": [
      "2025-03-14 09:28:58,120 - eeg_classification - INFO - Preprocessing complete. Output shape: (5100, 41)\n"
     ]
    },
    {
     "name": "stdout",
     "output_type": "stream",
     "text": [
      "2025-03-14 09:28:58,122 - eeg_classification - INFO - Cleaned data shape: (5100, 41)\n",
      "2025-03-14 09:28:58,122 - eeg_classification - INFO - Cleaned data shape: (5100, 41)\n"
     ]
    },
    {
     "name": "stderr",
     "output_type": "stream",
     "text": [
      "2025-03-14 09:28:58,122 - eeg_classification - INFO - Cleaned data shape: (5100, 41)\n"
     ]
    },
    {
     "name": "stdout",
     "output_type": "stream",
     "text": [
      "2025-03-14 09:28:58,124 - eeg_classification - INFO - Engineering features from data with shape (5100, 41)\n",
      "2025-03-14 09:28:58,124 - eeg_classification - INFO - Engineering features from data with shape (5100, 41)\n"
     ]
    },
    {
     "name": "stderr",
     "output_type": "stream",
     "text": [
      "2025-03-14 09:28:58,124 - eeg_classification - INFO - Engineering features from data with shape (5100, 41)\n"
     ]
    },
    {
     "name": "stdout",
     "output_type": "stream",
     "text": [
      "2025-03-14 09:28:58,386 - eeg_classification - INFO - Feature engineering complete. Output shape: (5100, 140)\n",
      "2025-03-14 09:28:58,386 - eeg_classification - INFO - Feature engineering complete. Output shape: (5100, 140)\n"
     ]
    },
    {
     "name": "stderr",
     "output_type": "stream",
     "text": [
      "c:\\Users\\Huai\\Documents\\GitHub\\EEG-classification\\training\\common\\preprocessing.py:155: PerformanceWarning: DataFrame is highly fragmented.  This is usually the result of calling `frame.insert` many times, which has poor performance.  Consider joining all columns at once using pd.concat(axis=1) instead. To get a de-fragmented frame, use `newframe = frame.copy()`\n",
      "  df_features[f\"{col}_std\"] = df[col].rolling(window=window_size, center=True).std()\n",
      "c:\\Users\\Huai\\Documents\\GitHub\\EEG-classification\\training\\common\\preprocessing.py:158: PerformanceWarning: DataFrame is highly fragmented.  This is usually the result of calling `frame.insert` many times, which has poor performance.  Consider joining all columns at once using pd.concat(axis=1) instead. To get a de-fragmented frame, use `newframe = frame.copy()`\n",
      "  df_features[f\"{col}_range\"] = (\n",
      "2025-03-14 09:28:58,386 - eeg_classification - INFO - Feature engineering complete. Output shape: (5100, 140)\n"
     ]
    },
    {
     "name": "stdout",
     "output_type": "stream",
     "text": [
      "2025-03-14 09:28:58,389 - eeg_classification - INFO - Features shape: (5100, 140)\n",
      "2025-03-14 09:28:58,389 - eeg_classification - INFO - Features shape: (5100, 140)\n"
     ]
    },
    {
     "name": "stderr",
     "output_type": "stream",
     "text": [
      "2025-03-14 09:28:58,389 - eeg_classification - INFO - Features shape: (5100, 140)\n"
     ]
    },
    {
     "name": "stdout",
     "output_type": "stream",
     "text": [
      "2025-03-14 09:28:58,398 - eeg_classification - INFO - No. of missing values after feature engineering: TimeStamp         0\n",
      "Delta_TP9         0\n",
      "Delta_AF7         0\n",
      "Delta_AF8         0\n",
      "Delta_TP10        0\n",
      "                 ..\n",
      "HSI_TP10_std      0\n",
      "HSI_TP10_range    0\n",
      "Battery_mean      0\n",
      "Battery_std       0\n",
      "Battery_range     0\n",
      "Length: 140, dtype: int64\n",
      "2025-03-14 09:28:58,398 - eeg_classification - INFO - No. of missing values after feature engineering: TimeStamp         0\n",
      "Delta_TP9         0\n",
      "Delta_AF7         0\n",
      "Delta_AF8         0\n",
      "Delta_TP10        0\n",
      "                 ..\n",
      "HSI_TP10_std      0\n",
      "HSI_TP10_range    0\n",
      "Battery_mean      0\n",
      "Battery_std       0\n",
      "Battery_range     0\n",
      "Length: 140, dtype: int64\n"
     ]
    },
    {
     "name": "stderr",
     "output_type": "stream",
     "text": [
      "2025-03-14 09:28:58,398 - eeg_classification - INFO - No. of missing values after feature engineering: TimeStamp         0\n",
      "Delta_TP9         0\n",
      "Delta_AF7         0\n",
      "Delta_AF8         0\n",
      "Delta_TP10        0\n",
      "                 ..\n",
      "HSI_TP10_std      0\n",
      "HSI_TP10_range    0\n",
      "Battery_mean      0\n",
      "Battery_std       0\n",
      "Battery_range     0\n",
      "Length: 140, dtype: int64\n"
     ]
    },
    {
     "name": "stdout",
     "output_type": "stream",
     "text": [
      "2025-03-14 09:28:58,401 - eeg_classification - INFO - Columns after feature engineering: Index(['TimeStamp', 'Delta_TP9', 'Delta_AF7', 'Delta_AF8', 'Delta_TP10',\n",
      "       'Theta_TP9', 'Theta_AF7', 'Theta_AF8', 'Theta_TP10', 'Alpha_TP9',\n",
      "       ...\n",
      "       'HSI_AF7_range', 'HSI_AF8_mean', 'HSI_AF8_std', 'HSI_AF8_range',\n",
      "       'HSI_TP10_mean', 'HSI_TP10_std', 'HSI_TP10_range', 'Battery_mean',\n",
      "       'Battery_std', 'Battery_range'],\n",
      "      dtype='object', length=140)\n",
      "2025-03-14 09:28:58,401 - eeg_classification - INFO - Columns after feature engineering: Index(['TimeStamp', 'Delta_TP9', 'Delta_AF7', 'Delta_AF8', 'Delta_TP10',\n",
      "       'Theta_TP9', 'Theta_AF7', 'Theta_AF8', 'Theta_TP10', 'Alpha_TP9',\n",
      "       ...\n",
      "       'HSI_AF7_range', 'HSI_AF8_mean', 'HSI_AF8_std', 'HSI_AF8_range',\n",
      "       'HSI_TP10_mean', 'HSI_TP10_std', 'HSI_TP10_range', 'Battery_mean',\n",
      "       'Battery_std', 'Battery_range'],\n",
      "      dtype='object', length=140)\n"
     ]
    },
    {
     "name": "stderr",
     "output_type": "stream",
     "text": [
      "2025-03-14 09:28:58,401 - eeg_classification - INFO - Columns after feature engineering: Index(['TimeStamp', 'Delta_TP9', 'Delta_AF7', 'Delta_AF8', 'Delta_TP10',\n",
      "       'Theta_TP9', 'Theta_AF7', 'Theta_AF8', 'Theta_TP10', 'Alpha_TP9',\n",
      "       ...\n",
      "       'HSI_AF7_range', 'HSI_AF8_mean', 'HSI_AF8_std', 'HSI_AF8_range',\n",
      "       'HSI_TP10_mean', 'HSI_TP10_std', 'HSI_TP10_range', 'Battery_mean',\n",
      "       'Battery_std', 'Battery_range'],\n",
      "      dtype='object', length=140)\n"
     ]
    },
    {
     "name": "stdout",
     "output_type": "stream",
     "text": [
      "2025-03-14 09:28:58,581 - eeg_classification - INFO - Processing file file_27 with 116708 rows\n",
      "2025-03-14 09:28:58,581 - eeg_classification - INFO - Processing file file_27 with 116708 rows\n"
     ]
    },
    {
     "name": "stderr",
     "output_type": "stream",
     "text": [
      "2025-03-14 09:28:58,581 - eeg_classification - INFO - Processing file file_27 with 116708 rows\n"
     ]
    },
    {
     "name": "stdout",
     "output_type": "stream",
     "text": [
      "2025-03-14 09:28:58,616 - eeg_classification - WARNING - Input data for file file_27 contains 1716 NaN values\n",
      "2025-03-14 09:28:58,616 - eeg_classification - WARNING - Input data for file file_27 contains 1716 NaN values\n"
     ]
    },
    {
     "name": "stderr",
     "output_type": "stream",
     "text": [
      "2025-03-14 09:28:58,616 - eeg_classification - WARNING - Input data for file file_27 contains 1716 NaN values\n"
     ]
    },
    {
     "name": "stdout",
     "output_type": "stream",
     "text": [
      "2025-03-14 09:28:58,620 - eeg_classification - INFO - Preprocessing data with shape (116708, 41)\n",
      "2025-03-14 09:28:58,620 - eeg_classification - INFO - Preprocessing data with shape (116708, 41)\n"
     ]
    },
    {
     "name": "stderr",
     "output_type": "stream",
     "text": [
      "2025-03-14 09:28:58,620 - eeg_classification - INFO - Preprocessing data with shape (116708, 41)\n"
     ]
    },
    {
     "name": "stdout",
     "output_type": "stream",
     "text": [
      "2025-03-14 09:28:58,803 - eeg_classification - WARNING - Dropping 44 rows with invalid timestamps\n",
      "2025-03-14 09:28:58,803 - eeg_classification - WARNING - Dropping 44 rows with invalid timestamps\n"
     ]
    },
    {
     "name": "stderr",
     "output_type": "stream",
     "text": [
      "2025-03-14 09:28:58,803 - eeg_classification - WARNING - Dropping 44 rows with invalid timestamps\n"
     ]
    },
    {
     "name": "stdout",
     "output_type": "stream",
     "text": [
      "2025-03-14 09:28:58,822 - eeg_classification - INFO - Successfully converted timestamps. Remaining rows: 116664\n",
      "2025-03-14 09:28:58,822 - eeg_classification - INFO - Successfully converted timestamps. Remaining rows: 116664\n"
     ]
    },
    {
     "name": "stderr",
     "output_type": "stream",
     "text": [
      "2025-03-14 09:28:58,822 - eeg_classification - INFO - Successfully converted timestamps. Remaining rows: 116664\n"
     ]
    },
    {
     "name": "stdout",
     "output_type": "stream",
     "text": [
      "NaNs in numeric columns: TimeStamp          0\n",
      "Delta_TP9          0\n",
      "Delta_AF7          0\n",
      "Delta_AF8          0\n",
      "Delta_TP10         0\n",
      "Theta_TP9          0\n",
      "Theta_AF7          0\n",
      "Theta_AF8          0\n",
      "Theta_TP10         0\n",
      "Alpha_TP9          0\n",
      "Alpha_AF7          0\n",
      "Alpha_AF8          0\n",
      "Alpha_TP10         0\n",
      "Beta_TP9           0\n",
      "Beta_AF7           0\n",
      "Beta_AF8           0\n",
      "Beta_TP10          0\n",
      "Gamma_TP9          0\n",
      "Gamma_AF7          0\n",
      "Gamma_AF8          0\n",
      "Gamma_TP10         0\n",
      "RAW_TP9            0\n",
      "RAW_AF7            0\n",
      "RAW_AF8            0\n",
      "RAW_TP10           0\n",
      "AUX_RIGHT          0\n",
      "Mellow             0\n",
      "Concentration      0\n",
      "Accelerometer_X    0\n",
      "Accelerometer_Y    0\n",
      "Accelerometer_Z    0\n",
      "Gyro_X             0\n",
      "Gyro_Y             0\n",
      "Gyro_Z             0\n",
      "HeadBandOn         0\n",
      "HSI_TP9            0\n",
      "HSI_AF7            0\n",
      "HSI_AF8            0\n",
      "HSI_TP10           0\n",
      "Battery            0\n",
      "SourceFile         0\n",
      "dtype: int64\n",
      "2025-03-14 09:28:58,913 - eeg_classification - INFO - Data spans 455.66 seconds from 2024-06-22 18:41:35.089000 to 2024-06-22 18:49:10.749000\n",
      "2025-03-14 09:28:58,913 - eeg_classification - INFO - Data spans 455.66 seconds from 2024-06-22 18:41:35.089000 to 2024-06-22 18:49:10.749000\n"
     ]
    },
    {
     "name": "stderr",
     "output_type": "stream",
     "text": [
      "2025-03-14 09:28:58,913 - eeg_classification - INFO - Data spans 455.66 seconds from 2024-06-22 18:41:35.089000 to 2024-06-22 18:49:10.749000\n"
     ]
    },
    {
     "name": "stdout",
     "output_type": "stream",
     "text": [
      "2025-03-14 09:28:59,030 - eeg_classification - INFO - Sampling complete: 116664 -> 4600 data points (3.9%)\n",
      "2025-03-14 09:28:59,030 - eeg_classification - INFO - Sampling complete: 116664 -> 4600 data points (3.9%)\n"
     ]
    },
    {
     "name": "stderr",
     "output_type": "stream",
     "text": [
      "2025-03-14 09:28:59,030 - eeg_classification - INFO - Sampling complete: 116664 -> 4600 data points (3.9%)\n"
     ]
    },
    {
     "name": "stdout",
     "output_type": "stream",
     "text": [
      "2025-03-14 09:28:59,038 - eeg_classification - INFO - Preprocessing complete. Output shape: (4600, 41)\n",
      "2025-03-14 09:28:59,038 - eeg_classification - INFO - Preprocessing complete. Output shape: (4600, 41)\n"
     ]
    },
    {
     "name": "stderr",
     "output_type": "stream",
     "text": [
      "2025-03-14 09:28:59,038 - eeg_classification - INFO - Preprocessing complete. Output shape: (4600, 41)\n"
     ]
    },
    {
     "name": "stdout",
     "output_type": "stream",
     "text": [
      "2025-03-14 09:28:59,041 - eeg_classification - INFO - Cleaned data shape: (4600, 41)\n",
      "2025-03-14 09:28:59,041 - eeg_classification - INFO - Cleaned data shape: (4600, 41)\n"
     ]
    },
    {
     "name": "stderr",
     "output_type": "stream",
     "text": [
      "2025-03-14 09:28:59,041 - eeg_classification - INFO - Cleaned data shape: (4600, 41)\n"
     ]
    },
    {
     "name": "stdout",
     "output_type": "stream",
     "text": [
      "2025-03-14 09:28:59,043 - eeg_classification - INFO - Engineering features from data with shape (4600, 41)\n",
      "2025-03-14 09:28:59,043 - eeg_classification - INFO - Engineering features from data with shape (4600, 41)\n"
     ]
    },
    {
     "name": "stderr",
     "output_type": "stream",
     "text": [
      "2025-03-14 09:28:59,043 - eeg_classification - INFO - Engineering features from data with shape (4600, 41)\n"
     ]
    },
    {
     "name": "stdout",
     "output_type": "stream",
     "text": [
      "2025-03-14 09:28:59,322 - eeg_classification - INFO - Feature engineering complete. Output shape: (4600, 140)\n",
      "2025-03-14 09:28:59,322 - eeg_classification - INFO - Feature engineering complete. Output shape: (4600, 140)\n"
     ]
    },
    {
     "name": "stderr",
     "output_type": "stream",
     "text": [
      "c:\\Users\\Huai\\Documents\\GitHub\\EEG-classification\\training\\common\\preprocessing.py:155: PerformanceWarning: DataFrame is highly fragmented.  This is usually the result of calling `frame.insert` many times, which has poor performance.  Consider joining all columns at once using pd.concat(axis=1) instead. To get a de-fragmented frame, use `newframe = frame.copy()`\n",
      "  df_features[f\"{col}_std\"] = df[col].rolling(window=window_size, center=True).std()\n",
      "c:\\Users\\Huai\\Documents\\GitHub\\EEG-classification\\training\\common\\preprocessing.py:158: PerformanceWarning: DataFrame is highly fragmented.  This is usually the result of calling `frame.insert` many times, which has poor performance.  Consider joining all columns at once using pd.concat(axis=1) instead. To get a de-fragmented frame, use `newframe = frame.copy()`\n",
      "  df_features[f\"{col}_range\"] = (\n",
      "2025-03-14 09:28:59,322 - eeg_classification - INFO - Feature engineering complete. Output shape: (4600, 140)\n"
     ]
    },
    {
     "name": "stdout",
     "output_type": "stream",
     "text": [
      "2025-03-14 09:28:59,325 - eeg_classification - INFO - Features shape: (4600, 140)\n",
      "2025-03-14 09:28:59,325 - eeg_classification - INFO - Features shape: (4600, 140)\n"
     ]
    },
    {
     "name": "stderr",
     "output_type": "stream",
     "text": [
      "2025-03-14 09:28:59,325 - eeg_classification - INFO - Features shape: (4600, 140)\n"
     ]
    },
    {
     "name": "stdout",
     "output_type": "stream",
     "text": [
      "2025-03-14 09:28:59,335 - eeg_classification - INFO - No. of missing values after feature engineering: TimeStamp         0\n",
      "Delta_TP9         0\n",
      "Delta_AF7         0\n",
      "Delta_AF8         0\n",
      "Delta_TP10        0\n",
      "                 ..\n",
      "HSI_TP10_std      0\n",
      "HSI_TP10_range    0\n",
      "Battery_mean      0\n",
      "Battery_std       0\n",
      "Battery_range     0\n",
      "Length: 140, dtype: int64\n",
      "2025-03-14 09:28:59,335 - eeg_classification - INFO - No. of missing values after feature engineering: TimeStamp         0\n",
      "Delta_TP9         0\n",
      "Delta_AF7         0\n",
      "Delta_AF8         0\n",
      "Delta_TP10        0\n",
      "                 ..\n",
      "HSI_TP10_std      0\n",
      "HSI_TP10_range    0\n",
      "Battery_mean      0\n",
      "Battery_std       0\n",
      "Battery_range     0\n",
      "Length: 140, dtype: int64\n"
     ]
    },
    {
     "name": "stderr",
     "output_type": "stream",
     "text": [
      "2025-03-14 09:28:59,335 - eeg_classification - INFO - No. of missing values after feature engineering: TimeStamp         0\n",
      "Delta_TP9         0\n",
      "Delta_AF7         0\n",
      "Delta_AF8         0\n",
      "Delta_TP10        0\n",
      "                 ..\n",
      "HSI_TP10_std      0\n",
      "HSI_TP10_range    0\n",
      "Battery_mean      0\n",
      "Battery_std       0\n",
      "Battery_range     0\n",
      "Length: 140, dtype: int64\n"
     ]
    },
    {
     "name": "stdout",
     "output_type": "stream",
     "text": [
      "2025-03-14 09:28:59,337 - eeg_classification - INFO - Columns after feature engineering: Index(['TimeStamp', 'Delta_TP9', 'Delta_AF7', 'Delta_AF8', 'Delta_TP10',\n",
      "       'Theta_TP9', 'Theta_AF7', 'Theta_AF8', 'Theta_TP10', 'Alpha_TP9',\n",
      "       ...\n",
      "       'HSI_AF7_range', 'HSI_AF8_mean', 'HSI_AF8_std', 'HSI_AF8_range',\n",
      "       'HSI_TP10_mean', 'HSI_TP10_std', 'HSI_TP10_range', 'Battery_mean',\n",
      "       'Battery_std', 'Battery_range'],\n",
      "      dtype='object', length=140)\n",
      "2025-03-14 09:28:59,337 - eeg_classification - INFO - Columns after feature engineering: Index(['TimeStamp', 'Delta_TP9', 'Delta_AF7', 'Delta_AF8', 'Delta_TP10',\n",
      "       'Theta_TP9', 'Theta_AF7', 'Theta_AF8', 'Theta_TP10', 'Alpha_TP9',\n",
      "       ...\n",
      "       'HSI_AF7_range', 'HSI_AF8_mean', 'HSI_AF8_std', 'HSI_AF8_range',\n",
      "       'HSI_TP10_mean', 'HSI_TP10_std', 'HSI_TP10_range', 'Battery_mean',\n",
      "       'Battery_std', 'Battery_range'],\n",
      "      dtype='object', length=140)\n"
     ]
    },
    {
     "name": "stderr",
     "output_type": "stream",
     "text": [
      "2025-03-14 09:28:59,337 - eeg_classification - INFO - Columns after feature engineering: Index(['TimeStamp', 'Delta_TP9', 'Delta_AF7', 'Delta_AF8', 'Delta_TP10',\n",
      "       'Theta_TP9', 'Theta_AF7', 'Theta_AF8', 'Theta_TP10', 'Alpha_TP9',\n",
      "       ...\n",
      "       'HSI_AF7_range', 'HSI_AF8_mean', 'HSI_AF8_std', 'HSI_AF8_range',\n",
      "       'HSI_TP10_mean', 'HSI_TP10_std', 'HSI_TP10_range', 'Battery_mean',\n",
      "       'Battery_std', 'Battery_range'],\n",
      "      dtype='object', length=140)\n"
     ]
    },
    {
     "name": "stdout",
     "output_type": "stream",
     "text": [
      "2025-03-14 09:28:59,505 - eeg_classification - INFO - Processing file file_28 with 100713 rows\n",
      "2025-03-14 09:28:59,505 - eeg_classification - INFO - Processing file file_28 with 100713 rows\n"
     ]
    },
    {
     "name": "stderr",
     "output_type": "stream",
     "text": [
      "2025-03-14 09:28:59,505 - eeg_classification - INFO - Processing file file_28 with 100713 rows\n"
     ]
    },
    {
     "name": "stdout",
     "output_type": "stream",
     "text": [
      "2025-03-14 09:28:59,532 - eeg_classification - WARNING - Input data for file file_28 contains 1443 NaN values\n",
      "2025-03-14 09:28:59,532 - eeg_classification - WARNING - Input data for file file_28 contains 1443 NaN values\n"
     ]
    },
    {
     "name": "stderr",
     "output_type": "stream",
     "text": [
      "2025-03-14 09:28:59,532 - eeg_classification - WARNING - Input data for file file_28 contains 1443 NaN values\n"
     ]
    },
    {
     "name": "stdout",
     "output_type": "stream",
     "text": [
      "2025-03-14 09:28:59,534 - eeg_classification - INFO - Preprocessing data with shape (100713, 41)\n",
      "2025-03-14 09:28:59,534 - eeg_classification - INFO - Preprocessing data with shape (100713, 41)\n"
     ]
    },
    {
     "name": "stderr",
     "output_type": "stream",
     "text": [
      "2025-03-14 09:28:59,534 - eeg_classification - INFO - Preprocessing data with shape (100713, 41)\n"
     ]
    },
    {
     "name": "stdout",
     "output_type": "stream",
     "text": [
      "2025-03-14 09:28:59,610 - eeg_classification - WARNING - Dropping 33 rows with invalid timestamps\n",
      "2025-03-14 09:28:59,610 - eeg_classification - WARNING - Dropping 33 rows with invalid timestamps\n"
     ]
    },
    {
     "name": "stderr",
     "output_type": "stream",
     "text": [
      "2025-03-14 09:28:59,610 - eeg_classification - WARNING - Dropping 33 rows with invalid timestamps\n"
     ]
    },
    {
     "name": "stdout",
     "output_type": "stream",
     "text": [
      "2025-03-14 09:28:59,625 - eeg_classification - INFO - Successfully converted timestamps. Remaining rows: 100680\n",
      "2025-03-14 09:28:59,625 - eeg_classification - INFO - Successfully converted timestamps. Remaining rows: 100680\n"
     ]
    },
    {
     "name": "stderr",
     "output_type": "stream",
     "text": [
      "2025-03-14 09:28:59,625 - eeg_classification - INFO - Successfully converted timestamps. Remaining rows: 100680\n"
     ]
    },
    {
     "name": "stdout",
     "output_type": "stream",
     "text": [
      "NaNs in numeric columns: TimeStamp          0\n",
      "Delta_TP9          0\n",
      "Delta_AF7          0\n",
      "Delta_AF8          0\n",
      "Delta_TP10         0\n",
      "Theta_TP9          0\n",
      "Theta_AF7          0\n",
      "Theta_AF8          0\n",
      "Theta_TP10         0\n",
      "Alpha_TP9          0\n",
      "Alpha_AF7          0\n",
      "Alpha_AF8          0\n",
      "Alpha_TP10         0\n",
      "Beta_TP9           0\n",
      "Beta_AF7           0\n",
      "Beta_AF8           0\n",
      "Beta_TP10          0\n",
      "Gamma_TP9          0\n",
      "Gamma_AF7          0\n",
      "Gamma_AF8          0\n",
      "Gamma_TP10         0\n",
      "RAW_TP9            0\n",
      "RAW_AF7            0\n",
      "RAW_AF8            0\n",
      "RAW_TP10           0\n",
      "AUX_RIGHT          0\n",
      "Mellow             0\n",
      "Concentration      0\n",
      "Accelerometer_X    0\n",
      "Accelerometer_Y    0\n",
      "Accelerometer_Z    0\n",
      "Gyro_X             0\n",
      "Gyro_Y             0\n",
      "Gyro_Z             0\n",
      "HeadBandOn         0\n",
      "HSI_TP9            0\n",
      "HSI_AF7            0\n",
      "HSI_AF8            0\n",
      "HSI_TP10           0\n",
      "Battery            0\n",
      "SourceFile         0\n",
      "dtype: int64\n",
      "2025-03-14 09:28:59,695 - eeg_classification - INFO - Data spans 393.18 seconds from 2024-06-22 18:50:07.373000 to 2024-06-22 18:56:40.556000\n",
      "2025-03-14 09:28:59,695 - eeg_classification - INFO - Data spans 393.18 seconds from 2024-06-22 18:50:07.373000 to 2024-06-22 18:56:40.556000\n"
     ]
    },
    {
     "name": "stderr",
     "output_type": "stream",
     "text": [
      "2025-03-14 09:28:59,695 - eeg_classification - INFO - Data spans 393.18 seconds from 2024-06-22 18:50:07.373000 to 2024-06-22 18:56:40.556000\n"
     ]
    },
    {
     "name": "stdout",
     "output_type": "stream",
     "text": [
      "2025-03-14 09:28:59,795 - eeg_classification - INFO - Sampling complete: 100548 -> 3950 data points (3.9%)\n",
      "2025-03-14 09:28:59,795 - eeg_classification - INFO - Sampling complete: 100548 -> 3950 data points (3.9%)\n"
     ]
    },
    {
     "name": "stderr",
     "output_type": "stream",
     "text": [
      "2025-03-14 09:28:59,795 - eeg_classification - INFO - Sampling complete: 100548 -> 3950 data points (3.9%)\n"
     ]
    },
    {
     "name": "stdout",
     "output_type": "stream",
     "text": [
      "2025-03-14 09:28:59,803 - eeg_classification - INFO - Preprocessing complete. Output shape: (3950, 41)\n",
      "2025-03-14 09:28:59,803 - eeg_classification - INFO - Preprocessing complete. Output shape: (3950, 41)\n"
     ]
    },
    {
     "name": "stderr",
     "output_type": "stream",
     "text": [
      "2025-03-14 09:28:59,803 - eeg_classification - INFO - Preprocessing complete. Output shape: (3950, 41)\n"
     ]
    },
    {
     "name": "stdout",
     "output_type": "stream",
     "text": [
      "2025-03-14 09:28:59,806 - eeg_classification - INFO - Cleaned data shape: (3950, 41)\n",
      "2025-03-14 09:28:59,806 - eeg_classification - INFO - Cleaned data shape: (3950, 41)\n"
     ]
    },
    {
     "name": "stderr",
     "output_type": "stream",
     "text": [
      "2025-03-14 09:28:59,806 - eeg_classification - INFO - Cleaned data shape: (3950, 41)\n"
     ]
    },
    {
     "name": "stdout",
     "output_type": "stream",
     "text": [
      "2025-03-14 09:28:59,809 - eeg_classification - INFO - Engineering features from data with shape (3950, 41)\n",
      "2025-03-14 09:28:59,809 - eeg_classification - INFO - Engineering features from data with shape (3950, 41)\n"
     ]
    },
    {
     "name": "stderr",
     "output_type": "stream",
     "text": [
      "2025-03-14 09:28:59,809 - eeg_classification - INFO - Engineering features from data with shape (3950, 41)\n"
     ]
    },
    {
     "name": "stdout",
     "output_type": "stream",
     "text": [
      "2025-03-14 09:29:00,044 - eeg_classification - INFO - Feature engineering complete. Output shape: (3950, 140)\n",
      "2025-03-14 09:29:00,044 - eeg_classification - INFO - Feature engineering complete. Output shape: (3950, 140)\n"
     ]
    },
    {
     "name": "stderr",
     "output_type": "stream",
     "text": [
      "c:\\Users\\Huai\\Documents\\GitHub\\EEG-classification\\training\\common\\preprocessing.py:155: PerformanceWarning: DataFrame is highly fragmented.  This is usually the result of calling `frame.insert` many times, which has poor performance.  Consider joining all columns at once using pd.concat(axis=1) instead. To get a de-fragmented frame, use `newframe = frame.copy()`\n",
      "  df_features[f\"{col}_std\"] = df[col].rolling(window=window_size, center=True).std()\n",
      "c:\\Users\\Huai\\Documents\\GitHub\\EEG-classification\\training\\common\\preprocessing.py:158: PerformanceWarning: DataFrame is highly fragmented.  This is usually the result of calling `frame.insert` many times, which has poor performance.  Consider joining all columns at once using pd.concat(axis=1) instead. To get a de-fragmented frame, use `newframe = frame.copy()`\n",
      "  df_features[f\"{col}_range\"] = (\n",
      "2025-03-14 09:29:00,044 - eeg_classification - INFO - Feature engineering complete. Output shape: (3950, 140)\n"
     ]
    },
    {
     "name": "stdout",
     "output_type": "stream",
     "text": [
      "2025-03-14 09:29:00,047 - eeg_classification - INFO - Features shape: (3950, 140)\n",
      "2025-03-14 09:29:00,047 - eeg_classification - INFO - Features shape: (3950, 140)\n"
     ]
    },
    {
     "name": "stderr",
     "output_type": "stream",
     "text": [
      "2025-03-14 09:29:00,047 - eeg_classification - INFO - Features shape: (3950, 140)\n"
     ]
    },
    {
     "name": "stdout",
     "output_type": "stream",
     "text": [
      "2025-03-14 09:29:00,055 - eeg_classification - INFO - No. of missing values after feature engineering: TimeStamp         0\n",
      "Delta_TP9         0\n",
      "Delta_AF7         0\n",
      "Delta_AF8         0\n",
      "Delta_TP10        0\n",
      "                 ..\n",
      "HSI_TP10_std      0\n",
      "HSI_TP10_range    0\n",
      "Battery_mean      0\n",
      "Battery_std       0\n",
      "Battery_range     0\n",
      "Length: 140, dtype: int64\n",
      "2025-03-14 09:29:00,055 - eeg_classification - INFO - No. of missing values after feature engineering: TimeStamp         0\n",
      "Delta_TP9         0\n",
      "Delta_AF7         0\n",
      "Delta_AF8         0\n",
      "Delta_TP10        0\n",
      "                 ..\n",
      "HSI_TP10_std      0\n",
      "HSI_TP10_range    0\n",
      "Battery_mean      0\n",
      "Battery_std       0\n",
      "Battery_range     0\n",
      "Length: 140, dtype: int64\n"
     ]
    },
    {
     "name": "stderr",
     "output_type": "stream",
     "text": [
      "2025-03-14 09:29:00,055 - eeg_classification - INFO - No. of missing values after feature engineering: TimeStamp         0\n",
      "Delta_TP9         0\n",
      "Delta_AF7         0\n",
      "Delta_AF8         0\n",
      "Delta_TP10        0\n",
      "                 ..\n",
      "HSI_TP10_std      0\n",
      "HSI_TP10_range    0\n",
      "Battery_mean      0\n",
      "Battery_std       0\n",
      "Battery_range     0\n",
      "Length: 140, dtype: int64\n"
     ]
    },
    {
     "name": "stdout",
     "output_type": "stream",
     "text": [
      "2025-03-14 09:29:00,058 - eeg_classification - INFO - Columns after feature engineering: Index(['TimeStamp', 'Delta_TP9', 'Delta_AF7', 'Delta_AF8', 'Delta_TP10',\n",
      "       'Theta_TP9', 'Theta_AF7', 'Theta_AF8', 'Theta_TP10', 'Alpha_TP9',\n",
      "       ...\n",
      "       'HSI_AF7_range', 'HSI_AF8_mean', 'HSI_AF8_std', 'HSI_AF8_range',\n",
      "       'HSI_TP10_mean', 'HSI_TP10_std', 'HSI_TP10_range', 'Battery_mean',\n",
      "       'Battery_std', 'Battery_range'],\n",
      "      dtype='object', length=140)\n",
      "2025-03-14 09:29:00,058 - eeg_classification - INFO - Columns after feature engineering: Index(['TimeStamp', 'Delta_TP9', 'Delta_AF7', 'Delta_AF8', 'Delta_TP10',\n",
      "       'Theta_TP9', 'Theta_AF7', 'Theta_AF8', 'Theta_TP10', 'Alpha_TP9',\n",
      "       ...\n",
      "       'HSI_AF7_range', 'HSI_AF8_mean', 'HSI_AF8_std', 'HSI_AF8_range',\n",
      "       'HSI_TP10_mean', 'HSI_TP10_std', 'HSI_TP10_range', 'Battery_mean',\n",
      "       'Battery_std', 'Battery_range'],\n",
      "      dtype='object', length=140)\n"
     ]
    },
    {
     "name": "stderr",
     "output_type": "stream",
     "text": [
      "2025-03-14 09:29:00,058 - eeg_classification - INFO - Columns after feature engineering: Index(['TimeStamp', 'Delta_TP9', 'Delta_AF7', 'Delta_AF8', 'Delta_TP10',\n",
      "       'Theta_TP9', 'Theta_AF7', 'Theta_AF8', 'Theta_TP10', 'Alpha_TP9',\n",
      "       ...\n",
      "       'HSI_AF7_range', 'HSI_AF8_mean', 'HSI_AF8_std', 'HSI_AF8_range',\n",
      "       'HSI_TP10_mean', 'HSI_TP10_std', 'HSI_TP10_range', 'Battery_mean',\n",
      "       'Battery_std', 'Battery_range'],\n",
      "      dtype='object', length=140)\n"
     ]
    },
    {
     "name": "stdout",
     "output_type": "stream",
     "text": [
      "2025-03-14 09:29:00,232 - eeg_classification - INFO - Processing file file_29 with 125929 rows\n",
      "2025-03-14 09:29:00,232 - eeg_classification - INFO - Processing file file_29 with 125929 rows\n"
     ]
    },
    {
     "name": "stderr",
     "output_type": "stream",
     "text": [
      "2025-03-14 09:29:00,232 - eeg_classification - INFO - Processing file file_29 with 125929 rows\n"
     ]
    },
    {
     "name": "stdout",
     "output_type": "stream",
     "text": [
      "2025-03-14 09:29:00,262 - eeg_classification - WARNING - Input data for file file_29 contains 2079 NaN values\n",
      "2025-03-14 09:29:00,262 - eeg_classification - WARNING - Input data for file file_29 contains 2079 NaN values\n"
     ]
    },
    {
     "name": "stderr",
     "output_type": "stream",
     "text": [
      "2025-03-14 09:29:00,262 - eeg_classification - WARNING - Input data for file file_29 contains 2079 NaN values\n"
     ]
    },
    {
     "name": "stdout",
     "output_type": "stream",
     "text": [
      "2025-03-14 09:29:00,265 - eeg_classification - INFO - Preprocessing data with shape (125929, 41)\n",
      "2025-03-14 09:29:00,265 - eeg_classification - INFO - Preprocessing data with shape (125929, 41)\n"
     ]
    },
    {
     "name": "stderr",
     "output_type": "stream",
     "text": [
      "2025-03-14 09:29:00,265 - eeg_classification - INFO - Preprocessing data with shape (125929, 41)\n"
     ]
    },
    {
     "name": "stdout",
     "output_type": "stream",
     "text": [
      "2025-03-14 09:29:00,356 - eeg_classification - WARNING - Dropping 49 rows with invalid timestamps\n",
      "2025-03-14 09:29:00,356 - eeg_classification - WARNING - Dropping 49 rows with invalid timestamps\n"
     ]
    },
    {
     "name": "stderr",
     "output_type": "stream",
     "text": [
      "2025-03-14 09:29:00,356 - eeg_classification - WARNING - Dropping 49 rows with invalid timestamps\n"
     ]
    },
    {
     "name": "stdout",
     "output_type": "stream",
     "text": [
      "2025-03-14 09:29:00,375 - eeg_classification - INFO - Successfully converted timestamps. Remaining rows: 125880\n",
      "2025-03-14 09:29:00,375 - eeg_classification - INFO - Successfully converted timestamps. Remaining rows: 125880\n"
     ]
    },
    {
     "name": "stderr",
     "output_type": "stream",
     "text": [
      "2025-03-14 09:29:00,375 - eeg_classification - INFO - Successfully converted timestamps. Remaining rows: 125880\n"
     ]
    },
    {
     "name": "stdout",
     "output_type": "stream",
     "text": [
      "NaNs in numeric columns: TimeStamp          0\n",
      "Delta_TP9          0\n",
      "Delta_AF7          0\n",
      "Delta_AF8          0\n",
      "Delta_TP10         0\n",
      "Theta_TP9          0\n",
      "Theta_AF7          0\n",
      "Theta_AF8          0\n",
      "Theta_TP10         0\n",
      "Alpha_TP9          0\n",
      "Alpha_AF7          0\n",
      "Alpha_AF8          0\n",
      "Alpha_TP10         0\n",
      "Beta_TP9           0\n",
      "Beta_AF7           0\n",
      "Beta_AF8           0\n",
      "Beta_TP10          0\n",
      "Gamma_TP9          0\n",
      "Gamma_AF7          0\n",
      "Gamma_AF8          0\n",
      "Gamma_TP10         0\n",
      "RAW_TP9            0\n",
      "RAW_AF7            0\n",
      "RAW_AF8            0\n",
      "RAW_TP10           0\n",
      "AUX_RIGHT          0\n",
      "Mellow             0\n",
      "Concentration      0\n",
      "Accelerometer_X    0\n",
      "Accelerometer_Y    0\n",
      "Accelerometer_Z    0\n",
      "Gyro_X             0\n",
      "Gyro_Y             0\n",
      "Gyro_Z             0\n",
      "HeadBandOn         0\n",
      "HSI_TP9            0\n",
      "HSI_AF7            0\n",
      "HSI_AF8            0\n",
      "HSI_TP10           0\n",
      "Battery            0\n",
      "SourceFile         0\n",
      "dtype: int64\n",
      "2025-03-14 09:29:00,492 - eeg_classification - INFO - Data spans 491.72 seconds from 2024-06-22 18:57:07.892000 to 2024-06-22 19:05:19.611000\n",
      "2025-03-14 09:29:00,492 - eeg_classification - INFO - Data spans 491.72 seconds from 2024-06-22 18:57:07.892000 to 2024-06-22 19:05:19.611000\n"
     ]
    },
    {
     "name": "stderr",
     "output_type": "stream",
     "text": [
      "2025-03-14 09:29:00,492 - eeg_classification - INFO - Data spans 491.72 seconds from 2024-06-22 18:57:07.892000 to 2024-06-22 19:05:19.611000\n"
     ]
    },
    {
     "name": "stdout",
     "output_type": "stream",
     "text": [
      "2025-03-14 09:29:00,685 - eeg_classification - INFO - Sampling complete: 125748 -> 4950 data points (3.9%)\n",
      "2025-03-14 09:29:00,685 - eeg_classification - INFO - Sampling complete: 125748 -> 4950 data points (3.9%)\n"
     ]
    },
    {
     "name": "stderr",
     "output_type": "stream",
     "text": [
      "2025-03-14 09:29:00,685 - eeg_classification - INFO - Sampling complete: 125748 -> 4950 data points (3.9%)\n"
     ]
    },
    {
     "name": "stdout",
     "output_type": "stream",
     "text": [
      "2025-03-14 09:29:00,696 - eeg_classification - INFO - Preprocessing complete. Output shape: (4950, 41)\n",
      "2025-03-14 09:29:00,696 - eeg_classification - INFO - Preprocessing complete. Output shape: (4950, 41)\n"
     ]
    },
    {
     "name": "stderr",
     "output_type": "stream",
     "text": [
      "2025-03-14 09:29:00,696 - eeg_classification - INFO - Preprocessing complete. Output shape: (4950, 41)\n"
     ]
    },
    {
     "name": "stdout",
     "output_type": "stream",
     "text": [
      "2025-03-14 09:29:00,700 - eeg_classification - INFO - Cleaned data shape: (4950, 41)\n",
      "2025-03-14 09:29:00,700 - eeg_classification - INFO - Cleaned data shape: (4950, 41)\n"
     ]
    },
    {
     "name": "stderr",
     "output_type": "stream",
     "text": [
      "2025-03-14 09:29:00,700 - eeg_classification - INFO - Cleaned data shape: (4950, 41)\n"
     ]
    },
    {
     "name": "stdout",
     "output_type": "stream",
     "text": [
      "2025-03-14 09:29:00,702 - eeg_classification - INFO - Engineering features from data with shape (4950, 41)\n",
      "2025-03-14 09:29:00,702 - eeg_classification - INFO - Engineering features from data with shape (4950, 41)\n"
     ]
    },
    {
     "name": "stderr",
     "output_type": "stream",
     "text": [
      "2025-03-14 09:29:00,702 - eeg_classification - INFO - Engineering features from data with shape (4950, 41)\n"
     ]
    },
    {
     "name": "stdout",
     "output_type": "stream",
     "text": [
      "2025-03-14 09:29:00,931 - eeg_classification - INFO - Feature engineering complete. Output shape: (4950, 140)\n",
      "2025-03-14 09:29:00,931 - eeg_classification - INFO - Feature engineering complete. Output shape: (4950, 140)\n"
     ]
    },
    {
     "name": "stderr",
     "output_type": "stream",
     "text": [
      "c:\\Users\\Huai\\Documents\\GitHub\\EEG-classification\\training\\common\\preprocessing.py:155: PerformanceWarning: DataFrame is highly fragmented.  This is usually the result of calling `frame.insert` many times, which has poor performance.  Consider joining all columns at once using pd.concat(axis=1) instead. To get a de-fragmented frame, use `newframe = frame.copy()`\n",
      "  df_features[f\"{col}_std\"] = df[col].rolling(window=window_size, center=True).std()\n",
      "c:\\Users\\Huai\\Documents\\GitHub\\EEG-classification\\training\\common\\preprocessing.py:158: PerformanceWarning: DataFrame is highly fragmented.  This is usually the result of calling `frame.insert` many times, which has poor performance.  Consider joining all columns at once using pd.concat(axis=1) instead. To get a de-fragmented frame, use `newframe = frame.copy()`\n",
      "  df_features[f\"{col}_range\"] = (\n",
      "2025-03-14 09:29:00,931 - eeg_classification - INFO - Feature engineering complete. Output shape: (4950, 140)\n"
     ]
    },
    {
     "name": "stdout",
     "output_type": "stream",
     "text": [
      "2025-03-14 09:29:00,933 - eeg_classification - INFO - Features shape: (4950, 140)\n",
      "2025-03-14 09:29:00,933 - eeg_classification - INFO - Features shape: (4950, 140)\n"
     ]
    },
    {
     "name": "stderr",
     "output_type": "stream",
     "text": [
      "2025-03-14 09:29:00,933 - eeg_classification - INFO - Features shape: (4950, 140)\n"
     ]
    },
    {
     "name": "stdout",
     "output_type": "stream",
     "text": [
      "2025-03-14 09:29:00,940 - eeg_classification - INFO - No. of missing values after feature engineering: TimeStamp         0\n",
      "Delta_TP9         0\n",
      "Delta_AF7         0\n",
      "Delta_AF8         0\n",
      "Delta_TP10        0\n",
      "                 ..\n",
      "HSI_TP10_std      0\n",
      "HSI_TP10_range    0\n",
      "Battery_mean      0\n",
      "Battery_std       0\n",
      "Battery_range     0\n",
      "Length: 140, dtype: int64\n",
      "2025-03-14 09:29:00,940 - eeg_classification - INFO - No. of missing values after feature engineering: TimeStamp         0\n",
      "Delta_TP9         0\n",
      "Delta_AF7         0\n",
      "Delta_AF8         0\n",
      "Delta_TP10        0\n",
      "                 ..\n",
      "HSI_TP10_std      0\n",
      "HSI_TP10_range    0\n",
      "Battery_mean      0\n",
      "Battery_std       0\n",
      "Battery_range     0\n",
      "Length: 140, dtype: int64\n"
     ]
    },
    {
     "name": "stderr",
     "output_type": "stream",
     "text": [
      "2025-03-14 09:29:00,940 - eeg_classification - INFO - No. of missing values after feature engineering: TimeStamp         0\n",
      "Delta_TP9         0\n",
      "Delta_AF7         0\n",
      "Delta_AF8         0\n",
      "Delta_TP10        0\n",
      "                 ..\n",
      "HSI_TP10_std      0\n",
      "HSI_TP10_range    0\n",
      "Battery_mean      0\n",
      "Battery_std       0\n",
      "Battery_range     0\n",
      "Length: 140, dtype: int64\n"
     ]
    },
    {
     "name": "stdout",
     "output_type": "stream",
     "text": [
      "2025-03-14 09:29:00,943 - eeg_classification - INFO - Columns after feature engineering: Index(['TimeStamp', 'Delta_TP9', 'Delta_AF7', 'Delta_AF8', 'Delta_TP10',\n",
      "       'Theta_TP9', 'Theta_AF7', 'Theta_AF8', 'Theta_TP10', 'Alpha_TP9',\n",
      "       ...\n",
      "       'HSI_AF7_range', 'HSI_AF8_mean', 'HSI_AF8_std', 'HSI_AF8_range',\n",
      "       'HSI_TP10_mean', 'HSI_TP10_std', 'HSI_TP10_range', 'Battery_mean',\n",
      "       'Battery_std', 'Battery_range'],\n",
      "      dtype='object', length=140)\n",
      "2025-03-14 09:29:00,943 - eeg_classification - INFO - Columns after feature engineering: Index(['TimeStamp', 'Delta_TP9', 'Delta_AF7', 'Delta_AF8', 'Delta_TP10',\n",
      "       'Theta_TP9', 'Theta_AF7', 'Theta_AF8', 'Theta_TP10', 'Alpha_TP9',\n",
      "       ...\n",
      "       'HSI_AF7_range', 'HSI_AF8_mean', 'HSI_AF8_std', 'HSI_AF8_range',\n",
      "       'HSI_TP10_mean', 'HSI_TP10_std', 'HSI_TP10_range', 'Battery_mean',\n",
      "       'Battery_std', 'Battery_range'],\n",
      "      dtype='object', length=140)\n"
     ]
    },
    {
     "name": "stderr",
     "output_type": "stream",
     "text": [
      "2025-03-14 09:29:00,943 - eeg_classification - INFO - Columns after feature engineering: Index(['TimeStamp', 'Delta_TP9', 'Delta_AF7', 'Delta_AF8', 'Delta_TP10',\n",
      "       'Theta_TP9', 'Theta_AF7', 'Theta_AF8', 'Theta_TP10', 'Alpha_TP9',\n",
      "       ...\n",
      "       'HSI_AF7_range', 'HSI_AF8_mean', 'HSI_AF8_std', 'HSI_AF8_range',\n",
      "       'HSI_TP10_mean', 'HSI_TP10_std', 'HSI_TP10_range', 'Battery_mean',\n",
      "       'Battery_std', 'Battery_range'],\n",
      "      dtype='object', length=140)\n"
     ]
    },
    {
     "name": "stdout",
     "output_type": "stream",
     "text": [
      "2025-03-14 09:29:01,102 - eeg_classification - INFO - Processing file file_30 with 367961 rows\n",
      "2025-03-14 09:29:01,102 - eeg_classification - INFO - Processing file file_30 with 367961 rows\n"
     ]
    },
    {
     "name": "stderr",
     "output_type": "stream",
     "text": [
      "2025-03-14 09:29:01,102 - eeg_classification - INFO - Processing file file_30 with 367961 rows\n"
     ]
    },
    {
     "name": "stdout",
     "output_type": "stream",
     "text": [
      "2025-03-14 09:29:01,166 - eeg_classification - WARNING - Input data for file file_30 contains 11427 NaN values\n",
      "2025-03-14 09:29:01,166 - eeg_classification - WARNING - Input data for file file_30 contains 11427 NaN values\n"
     ]
    },
    {
     "name": "stderr",
     "output_type": "stream",
     "text": [
      "2025-03-14 09:29:01,166 - eeg_classification - WARNING - Input data for file file_30 contains 11427 NaN values\n"
     ]
    },
    {
     "name": "stdout",
     "output_type": "stream",
     "text": [
      "2025-03-14 09:29:01,168 - eeg_classification - INFO - Preprocessing data with shape (367961, 41)\n",
      "2025-03-14 09:29:01,168 - eeg_classification - INFO - Preprocessing data with shape (367961, 41)\n"
     ]
    },
    {
     "name": "stderr",
     "output_type": "stream",
     "text": [
      "2025-03-14 09:29:01,168 - eeg_classification - INFO - Preprocessing data with shape (367961, 41)\n"
     ]
    },
    {
     "name": "stdout",
     "output_type": "stream",
     "text": [
      "2025-03-14 09:29:01,481 - eeg_classification - WARNING - Dropping 293 rows with invalid timestamps\n",
      "2025-03-14 09:29:01,481 - eeg_classification - WARNING - Dropping 293 rows with invalid timestamps\n"
     ]
    },
    {
     "name": "stderr",
     "output_type": "stream",
     "text": [
      "2025-03-14 09:29:01,481 - eeg_classification - WARNING - Dropping 293 rows with invalid timestamps\n"
     ]
    },
    {
     "name": "stdout",
     "output_type": "stream",
     "text": [
      "2025-03-14 09:29:01,530 - eeg_classification - INFO - Successfully converted timestamps. Remaining rows: 367668\n",
      "2025-03-14 09:29:01,530 - eeg_classification - INFO - Successfully converted timestamps. Remaining rows: 367668\n"
     ]
    },
    {
     "name": "stderr",
     "output_type": "stream",
     "text": [
      "2025-03-14 09:29:01,530 - eeg_classification - INFO - Successfully converted timestamps. Remaining rows: 367668\n"
     ]
    },
    {
     "name": "stdout",
     "output_type": "stream",
     "text": [
      "NaNs in numeric columns: TimeStamp          0\n",
      "Delta_TP9          0\n",
      "Delta_AF7          0\n",
      "Delta_AF8          0\n",
      "Delta_TP10         0\n",
      "Theta_TP9          0\n",
      "Theta_AF7          0\n",
      "Theta_AF8          0\n",
      "Theta_TP10         0\n",
      "Alpha_TP9          0\n",
      "Alpha_AF7          0\n",
      "Alpha_AF8          0\n",
      "Alpha_TP10         0\n",
      "Beta_TP9           0\n",
      "Beta_AF7           0\n",
      "Beta_AF8           0\n",
      "Beta_TP10          0\n",
      "Gamma_TP9          0\n",
      "Gamma_AF7          0\n",
      "Gamma_AF8          0\n",
      "Gamma_TP10         0\n",
      "RAW_TP9            0\n",
      "RAW_AF7            0\n",
      "RAW_AF8            0\n",
      "RAW_TP10           0\n",
      "AUX_RIGHT          0\n",
      "Mellow             0\n",
      "Concentration      0\n",
      "Accelerometer_X    0\n",
      "Accelerometer_Y    0\n",
      "Accelerometer_Z    0\n",
      "Gyro_X             0\n",
      "Gyro_Y             0\n",
      "Gyro_Z             0\n",
      "HeadBandOn         0\n",
      "HSI_TP9            0\n",
      "HSI_AF7            0\n",
      "HSI_AF8            0\n",
      "HSI_TP10           0\n",
      "Battery            0\n",
      "SourceFile         0\n",
      "dtype: int64\n",
      "2025-03-14 09:29:01,760 - eeg_classification - INFO - Data spans 1436.02 seconds from 2024-06-23 03:40:25.403000 to 2024-06-23 04:04:21.418000\n",
      "2025-03-14 09:29:01,760 - eeg_classification - INFO - Data spans 1436.02 seconds from 2024-06-23 03:40:25.403000 to 2024-06-23 04:04:21.418000\n"
     ]
    },
    {
     "name": "stderr",
     "output_type": "stream",
     "text": [
      "2025-03-14 09:29:01,760 - eeg_classification - INFO - Data spans 1436.02 seconds from 2024-06-23 03:40:25.403000 to 2024-06-23 04:04:21.418000\n"
     ]
    },
    {
     "name": "stdout",
     "output_type": "stream",
     "text": [
      "2025-03-14 09:29:02,369 - eeg_classification - INFO - Sampling complete: 367668 -> 14400 data points (3.9%)\n",
      "2025-03-14 09:29:02,369 - eeg_classification - INFO - Sampling complete: 367668 -> 14400 data points (3.9%)\n"
     ]
    },
    {
     "name": "stderr",
     "output_type": "stream",
     "text": [
      "2025-03-14 09:29:02,369 - eeg_classification - INFO - Sampling complete: 367668 -> 14400 data points (3.9%)\n"
     ]
    },
    {
     "name": "stdout",
     "output_type": "stream",
     "text": [
      "2025-03-14 09:29:02,387 - eeg_classification - INFO - Preprocessing complete. Output shape: (14400, 41)\n",
      "2025-03-14 09:29:02,387 - eeg_classification - INFO - Preprocessing complete. Output shape: (14400, 41)\n"
     ]
    },
    {
     "name": "stderr",
     "output_type": "stream",
     "text": [
      "2025-03-14 09:29:02,387 - eeg_classification - INFO - Preprocessing complete. Output shape: (14400, 41)\n"
     ]
    },
    {
     "name": "stdout",
     "output_type": "stream",
     "text": [
      "2025-03-14 09:29:02,389 - eeg_classification - INFO - Cleaned data shape: (14400, 41)\n",
      "2025-03-14 09:29:02,389 - eeg_classification - INFO - Cleaned data shape: (14400, 41)\n"
     ]
    },
    {
     "name": "stderr",
     "output_type": "stream",
     "text": [
      "2025-03-14 09:29:02,389 - eeg_classification - INFO - Cleaned data shape: (14400, 41)\n"
     ]
    },
    {
     "name": "stdout",
     "output_type": "stream",
     "text": [
      "2025-03-14 09:29:02,391 - eeg_classification - INFO - Engineering features from data with shape (14400, 41)\n",
      "2025-03-14 09:29:02,391 - eeg_classification - INFO - Engineering features from data with shape (14400, 41)\n"
     ]
    },
    {
     "name": "stderr",
     "output_type": "stream",
     "text": [
      "2025-03-14 09:29:02,391 - eeg_classification - INFO - Engineering features from data with shape (14400, 41)\n"
     ]
    },
    {
     "name": "stdout",
     "output_type": "stream",
     "text": [
      "2025-03-14 09:29:02,937 - eeg_classification - INFO - Feature engineering complete. Output shape: (14400, 140)\n",
      "2025-03-14 09:29:02,937 - eeg_classification - INFO - Feature engineering complete. Output shape: (14400, 140)\n"
     ]
    },
    {
     "name": "stderr",
     "output_type": "stream",
     "text": [
      "c:\\Users\\Huai\\Documents\\GitHub\\EEG-classification\\training\\common\\preprocessing.py:155: PerformanceWarning: DataFrame is highly fragmented.  This is usually the result of calling `frame.insert` many times, which has poor performance.  Consider joining all columns at once using pd.concat(axis=1) instead. To get a de-fragmented frame, use `newframe = frame.copy()`\n",
      "  df_features[f\"{col}_std\"] = df[col].rolling(window=window_size, center=True).std()\n",
      "c:\\Users\\Huai\\Documents\\GitHub\\EEG-classification\\training\\common\\preprocessing.py:158: PerformanceWarning: DataFrame is highly fragmented.  This is usually the result of calling `frame.insert` many times, which has poor performance.  Consider joining all columns at once using pd.concat(axis=1) instead. To get a de-fragmented frame, use `newframe = frame.copy()`\n",
      "  df_features[f\"{col}_range\"] = (\n",
      "2025-03-14 09:29:02,937 - eeg_classification - INFO - Feature engineering complete. Output shape: (14400, 140)\n"
     ]
    },
    {
     "name": "stdout",
     "output_type": "stream",
     "text": [
      "2025-03-14 09:29:02,940 - eeg_classification - INFO - Features shape: (14400, 140)\n",
      "2025-03-14 09:29:02,940 - eeg_classification - INFO - Features shape: (14400, 140)\n"
     ]
    },
    {
     "name": "stderr",
     "output_type": "stream",
     "text": [
      "2025-03-14 09:29:02,940 - eeg_classification - INFO - Features shape: (14400, 140)\n"
     ]
    },
    {
     "name": "stdout",
     "output_type": "stream",
     "text": [
      "2025-03-14 09:29:02,952 - eeg_classification - INFO - No. of missing values after feature engineering: TimeStamp         0\n",
      "Delta_TP9         0\n",
      "Delta_AF7         0\n",
      "Delta_AF8         0\n",
      "Delta_TP10        0\n",
      "                 ..\n",
      "HSI_TP10_std      0\n",
      "HSI_TP10_range    0\n",
      "Battery_mean      0\n",
      "Battery_std       0\n",
      "Battery_range     0\n",
      "Length: 140, dtype: int64\n",
      "2025-03-14 09:29:02,952 - eeg_classification - INFO - No. of missing values after feature engineering: TimeStamp         0\n",
      "Delta_TP9         0\n",
      "Delta_AF7         0\n",
      "Delta_AF8         0\n",
      "Delta_TP10        0\n",
      "                 ..\n",
      "HSI_TP10_std      0\n",
      "HSI_TP10_range    0\n",
      "Battery_mean      0\n",
      "Battery_std       0\n",
      "Battery_range     0\n",
      "Length: 140, dtype: int64\n"
     ]
    },
    {
     "name": "stderr",
     "output_type": "stream",
     "text": [
      "2025-03-14 09:29:02,952 - eeg_classification - INFO - No. of missing values after feature engineering: TimeStamp         0\n",
      "Delta_TP9         0\n",
      "Delta_AF7         0\n",
      "Delta_AF8         0\n",
      "Delta_TP10        0\n",
      "                 ..\n",
      "HSI_TP10_std      0\n",
      "HSI_TP10_range    0\n",
      "Battery_mean      0\n",
      "Battery_std       0\n",
      "Battery_range     0\n",
      "Length: 140, dtype: int64\n"
     ]
    },
    {
     "name": "stdout",
     "output_type": "stream",
     "text": [
      "2025-03-14 09:29:02,954 - eeg_classification - INFO - Columns after feature engineering: Index(['TimeStamp', 'Delta_TP9', 'Delta_AF7', 'Delta_AF8', 'Delta_TP10',\n",
      "       'Theta_TP9', 'Theta_AF7', 'Theta_AF8', 'Theta_TP10', 'Alpha_TP9',\n",
      "       ...\n",
      "       'HSI_AF7_range', 'HSI_AF8_mean', 'HSI_AF8_std', 'HSI_AF8_range',\n",
      "       'HSI_TP10_mean', 'HSI_TP10_std', 'HSI_TP10_range', 'Battery_mean',\n",
      "       'Battery_std', 'Battery_range'],\n",
      "      dtype='object', length=140)\n",
      "2025-03-14 09:29:02,954 - eeg_classification - INFO - Columns after feature engineering: Index(['TimeStamp', 'Delta_TP9', 'Delta_AF7', 'Delta_AF8', 'Delta_TP10',\n",
      "       'Theta_TP9', 'Theta_AF7', 'Theta_AF8', 'Theta_TP10', 'Alpha_TP9',\n",
      "       ...\n",
      "       'HSI_AF7_range', 'HSI_AF8_mean', 'HSI_AF8_std', 'HSI_AF8_range',\n",
      "       'HSI_TP10_mean', 'HSI_TP10_std', 'HSI_TP10_range', 'Battery_mean',\n",
      "       'Battery_std', 'Battery_range'],\n",
      "      dtype='object', length=140)\n"
     ]
    },
    {
     "name": "stderr",
     "output_type": "stream",
     "text": [
      "2025-03-14 09:29:02,954 - eeg_classification - INFO - Columns after feature engineering: Index(['TimeStamp', 'Delta_TP9', 'Delta_AF7', 'Delta_AF8', 'Delta_TP10',\n",
      "       'Theta_TP9', 'Theta_AF7', 'Theta_AF8', 'Theta_TP10', 'Alpha_TP9',\n",
      "       ...\n",
      "       'HSI_AF7_range', 'HSI_AF8_mean', 'HSI_AF8_std', 'HSI_AF8_range',\n",
      "       'HSI_TP10_mean', 'HSI_TP10_std', 'HSI_TP10_range', 'Battery_mean',\n",
      "       'Battery_std', 'Battery_range'],\n",
      "      dtype='object', length=140)\n"
     ]
    },
    {
     "name": "stdout",
     "output_type": "stream",
     "text": [
      "2025-03-14 09:29:03,126 - eeg_classification - INFO - Step 2 completed in 38.15 seconds\n",
      "2025-03-14 09:29:03,126 - eeg_classification - INFO - Step 2 completed in 38.15 seconds\n"
     ]
    },
    {
     "name": "stderr",
     "output_type": "stream",
     "text": [
      "2025-03-14 09:29:03,126 - eeg_classification - INFO - Step 2 completed in 38.15 seconds\n"
     ]
    },
    {
     "name": "stdout",
     "output_type": "stream",
     "text": [
      "2025-03-14 09:29:03,129 - eeg_classification - INFO - \n",
      "================================================================================\n",
      "2025-03-14 09:29:03,129 - eeg_classification - INFO - \n",
      "================================================================================\n"
     ]
    },
    {
     "name": "stderr",
     "output_type": "stream",
     "text": [
      "2025-03-14 09:29:03,129 - eeg_classification - INFO - \n",
      "================================================================================\n"
     ]
    },
    {
     "name": "stdout",
     "output_type": "stream",
     "text": [
      "2025-03-14 09:29:03,131 - eeg_classification - INFO -  Step 3: Creating time series bundles on disk\n",
      "2025-03-14 09:29:03,131 - eeg_classification - INFO -  Step 3: Creating time series bundles on disk\n"
     ]
    },
    {
     "name": "stderr",
     "output_type": "stream",
     "text": [
      "2025-03-14 09:29:03,131 - eeg_classification - INFO -  Step 3: Creating time series bundles on disk\n"
     ]
    },
    {
     "name": "stdout",
     "output_type": "stream",
     "text": [
      "2025-03-14 09:29:03,135 - eeg_classification - INFO - ================================================================================\n",
      "2025-03-14 09:29:03,135 - eeg_classification - INFO - ================================================================================\n"
     ]
    },
    {
     "name": "stderr",
     "output_type": "stream",
     "text": [
      "2025-03-14 09:29:03,135 - eeg_classification - INFO - ================================================================================\n"
     ]
    },
    {
     "name": "stdout",
     "output_type": "stream",
     "text": [
      "2025-03-14 09:29:03,137 - eeg_classification - INFO - Bundle creation configuration:\n",
      "2025-03-14 09:29:03,137 - eeg_classification - INFO - Bundle creation configuration:\n"
     ]
    },
    {
     "name": "stderr",
     "output_type": "stream",
     "text": [
      "2025-03-14 09:29:03,137 - eeg_classification - INFO - Bundle creation configuration:\n"
     ]
    },
    {
     "name": "stdout",
     "output_type": "stream",
     "text": [
      "2025-03-14 09:29:03,139 - eeg_classification - INFO -   bundle_size: 30\n",
      "2025-03-14 09:29:03,139 - eeg_classification - INFO -   bundle_size: 30\n"
     ]
    },
    {
     "name": "stderr",
     "output_type": "stream",
     "text": [
      "2025-03-14 09:29:03,139 - eeg_classification - INFO -   bundle_size: 30\n"
     ]
    },
    {
     "name": "stdout",
     "output_type": "stream",
     "text": [
      "2025-03-14 09:29:03,141 - eeg_classification - INFO -   step_size: 30\n",
      "2025-03-14 09:29:03,141 - eeg_classification - INFO -   step_size: 30\n"
     ]
    },
    {
     "name": "stderr",
     "output_type": "stream",
     "text": [
      "2025-03-14 09:29:03,141 - eeg_classification - INFO -   step_size: 30\n"
     ]
    },
    {
     "name": "stdout",
     "output_type": "stream",
     "text": [
      "2025-03-14 09:29:03,143 - eeg_classification - INFO -   max_files_per_batch: 2\n",
      "2025-03-14 09:29:03,143 - eeg_classification - INFO -   max_files_per_batch: 2\n"
     ]
    },
    {
     "name": "stderr",
     "output_type": "stream",
     "text": [
      "2025-03-14 09:29:03,143 - eeg_classification - INFO -   max_files_per_batch: 2\n"
     ]
    },
    {
     "name": "stdout",
     "output_type": "stream",
     "text": [
      "2025-03-14 09:29:03,146 - eeg_classification - INFO -   max_bundles_per_file: 1000\n",
      "2025-03-14 09:29:03,146 - eeg_classification - INFO -   max_bundles_per_file: 1000\n"
     ]
    },
    {
     "name": "stderr",
     "output_type": "stream",
     "text": [
      "2025-03-14 09:29:03,146 - eeg_classification - INFO -   max_bundles_per_file: 1000\n"
     ]
    },
    {
     "name": "stdout",
     "output_type": "stream",
     "text": [
      "2025-03-14 09:29:03,148 - eeg_classification - INFO -   chunk_size: 1000\n",
      "2025-03-14 09:29:03,148 - eeg_classification - INFO -   chunk_size: 1000\n"
     ]
    },
    {
     "name": "stderr",
     "output_type": "stream",
     "text": [
      "2025-03-14 09:29:03,148 - eeg_classification - INFO -   chunk_size: 1000\n"
     ]
    },
    {
     "name": "stdout",
     "output_type": "stream",
     "text": [
      "2025-03-14 09:29:03,150 - eeg_classification - INFO -   output_dir: ./eeg_bundles\\bundles\n",
      "2025-03-14 09:29:03,150 - eeg_classification - INFO -   output_dir: ./eeg_bundles\\bundles\n"
     ]
    },
    {
     "name": "stderr",
     "output_type": "stream",
     "text": [
      "2025-03-14 09:29:03,150 - eeg_classification - INFO -   output_dir: ./eeg_bundles\\bundles\n"
     ]
    },
    {
     "name": "stdout",
     "output_type": "stream",
     "text": [
      "2025-03-14 09:29:03,152 - eeg_classification - INFO - Creating time series bundles with timestamp-based sampling...\n",
      "2025-03-14 09:29:03,152 - eeg_classification - INFO - Creating time series bundles with timestamp-based sampling...\n"
     ]
    },
    {
     "name": "stderr",
     "output_type": "stream",
     "text": [
      "2025-03-14 09:29:03,152 - eeg_classification - INFO - Creating time series bundles with timestamp-based sampling...\n"
     ]
    },
    {
     "name": "stdout",
     "output_type": "stream",
     "text": [
      "2025-03-14 09:29:03,155 - eeg_classification - INFO - Creating time series bundles and saving to disk\n",
      "2025-03-14 09:29:03,155 - eeg_classification - INFO - Creating time series bundles and saving to disk\n"
     ]
    },
    {
     "name": "stderr",
     "output_type": "stream",
     "text": [
      "2025-03-14 09:29:03,155 - eeg_classification - INFO - Creating time series bundles and saving to disk\n"
     ]
    },
    {
     "name": "stdout",
     "output_type": "stream",
     "text": [
      "2025-03-14 09:29:03,647 - eeg_classification - INFO - Processing files 1-2 of 30\n",
      "2025-03-14 09:29:03,647 - eeg_classification - INFO - Processing files 1-2 of 30\n"
     ]
    },
    {
     "name": "stderr",
     "output_type": "stream",
     "text": [
      "2025-03-14 09:29:03,647 - eeg_classification - INFO - Processing files 1-2 of 30\n"
     ]
    },
    {
     "name": "stdout",
     "output_type": "stream",
     "text": [
      "2025-03-14 09:29:03,665 - eeg_classification - INFO - Creating 141 bundles from file_1 with 4250 samples\n",
      "2025-03-14 09:29:03,665 - eeg_classification - INFO - Creating 141 bundles from file_1 with 4250 samples\n"
     ]
    },
    {
     "name": "stderr",
     "output_type": "stream",
     "text": [
      "2025-03-14 09:29:03,665 - eeg_classification - INFO - Creating 141 bundles from file_1 with 4250 samples\n"
     ]
    },
    {
     "name": "stdout",
     "output_type": "stream",
     "text": [
      "2025-03-14 09:29:03,981 - eeg_classification - INFO - Creating 100 bundles from file_2 with 3000 samples\n",
      "2025-03-14 09:29:03,981 - eeg_classification - INFO - Creating 100 bundles from file_2 with 3000 samples\n"
     ]
    },
    {
     "name": "stderr",
     "output_type": "stream",
     "text": [
      "2025-03-14 09:29:03,981 - eeg_classification - INFO - Creating 100 bundles from file_2 with 3000 samples\n"
     ]
    },
    {
     "name": "stdout",
     "output_type": "stream",
     "text": [
      "2025-03-14 09:29:04,223 - eeg_classification - INFO - Processing files 3-4 of 30\n",
      "2025-03-14 09:29:04,223 - eeg_classification - INFO - Processing files 3-4 of 30\n"
     ]
    },
    {
     "name": "stderr",
     "output_type": "stream",
     "text": [
      "2025-03-14 09:29:04,223 - eeg_classification - INFO - Processing files 3-4 of 30\n"
     ]
    },
    {
     "name": "stdout",
     "output_type": "stream",
     "text": [
      "2025-03-14 09:29:04,241 - eeg_classification - INFO - Creating 168 bundles from file_3 with 5050 samples\n",
      "2025-03-14 09:29:04,241 - eeg_classification - INFO - Creating 168 bundles from file_3 with 5050 samples\n"
     ]
    },
    {
     "name": "stderr",
     "output_type": "stream",
     "text": [
      "2025-03-14 09:29:04,241 - eeg_classification - INFO - Creating 168 bundles from file_3 with 5050 samples\n"
     ]
    },
    {
     "name": "stdout",
     "output_type": "stream",
     "text": [
      "2025-03-14 09:29:04,584 - eeg_classification - INFO - Creating 402 bundles from file_4 with 12082 samples\n",
      "2025-03-14 09:29:04,584 - eeg_classification - INFO - Creating 402 bundles from file_4 with 12082 samples\n"
     ]
    },
    {
     "name": "stderr",
     "output_type": "stream",
     "text": [
      "2025-03-14 09:29:04,584 - eeg_classification - INFO - Creating 402 bundles from file_4 with 12082 samples\n"
     ]
    },
    {
     "name": "stdout",
     "output_type": "stream",
     "text": [
      "2025-03-14 09:29:05,088 - eeg_classification - INFO - Processing files 5-6 of 30\n",
      "2025-03-14 09:29:05,088 - eeg_classification - INFO - Processing files 5-6 of 30\n"
     ]
    },
    {
     "name": "stderr",
     "output_type": "stream",
     "text": [
      "2025-03-14 09:29:05,088 - eeg_classification - INFO - Processing files 5-6 of 30\n"
     ]
    },
    {
     "name": "stdout",
     "output_type": "stream",
     "text": [
      "2025-03-14 09:29:05,120 - eeg_classification - INFO - Creating 380 bundles from file_5 with 11400 samples\n",
      "2025-03-14 09:29:05,120 - eeg_classification - INFO - Creating 380 bundles from file_5 with 11400 samples\n"
     ]
    },
    {
     "name": "stderr",
     "output_type": "stream",
     "text": [
      "2025-03-14 09:29:05,120 - eeg_classification - INFO - Creating 380 bundles from file_5 with 11400 samples\n"
     ]
    },
    {
     "name": "stdout",
     "output_type": "stream",
     "text": [
      "2025-03-14 09:29:05,727 - eeg_classification - INFO - Creating 380 bundles from file_6 with 11400 samples\n",
      "2025-03-14 09:29:05,727 - eeg_classification - INFO - Creating 380 bundles from file_6 with 11400 samples\n"
     ]
    },
    {
     "name": "stderr",
     "output_type": "stream",
     "text": [
      "2025-03-14 09:29:05,727 - eeg_classification - INFO - Creating 380 bundles from file_6 with 11400 samples\n"
     ]
    },
    {
     "name": "stdout",
     "output_type": "stream",
     "text": [
      "2025-03-14 09:29:06,301 - eeg_classification - INFO - Processing files 7-8 of 30\n",
      "2025-03-14 09:29:06,301 - eeg_classification - INFO - Processing files 7-8 of 30\n"
     ]
    },
    {
     "name": "stderr",
     "output_type": "stream",
     "text": [
      "2025-03-14 09:29:06,301 - eeg_classification - INFO - Processing files 7-8 of 30\n"
     ]
    },
    {
     "name": "stdout",
     "output_type": "stream",
     "text": [
      "2025-03-14 09:29:06,329 - eeg_classification - INFO - Creating 276 bundles from file_7 with 8300 samples\n",
      "2025-03-14 09:29:06,329 - eeg_classification - INFO - Creating 276 bundles from file_7 with 8300 samples\n"
     ]
    },
    {
     "name": "stderr",
     "output_type": "stream",
     "text": [
      "2025-03-14 09:29:06,329 - eeg_classification - INFO - Creating 276 bundles from file_7 with 8300 samples\n"
     ]
    },
    {
     "name": "stdout",
     "output_type": "stream",
     "text": [
      "2025-03-14 09:29:06,829 - eeg_classification - INFO - Creating 376 bundles from file_8 with 11300 samples\n",
      "2025-03-14 09:29:06,829 - eeg_classification - INFO - Creating 376 bundles from file_8 with 11300 samples\n"
     ]
    },
    {
     "name": "stderr",
     "output_type": "stream",
     "text": [
      "2025-03-14 09:29:06,829 - eeg_classification - INFO - Creating 376 bundles from file_8 with 11300 samples\n"
     ]
    },
    {
     "name": "stdout",
     "output_type": "stream",
     "text": [
      "2025-03-14 09:29:07,381 - eeg_classification - INFO - Processing files 9-10 of 30\n",
      "2025-03-14 09:29:07,381 - eeg_classification - INFO - Processing files 9-10 of 30\n"
     ]
    },
    {
     "name": "stderr",
     "output_type": "stream",
     "text": [
      "2025-03-14 09:29:07,381 - eeg_classification - INFO - Processing files 9-10 of 30\n"
     ]
    },
    {
     "name": "stdout",
     "output_type": "stream",
     "text": [
      "2025-03-14 09:29:07,407 - eeg_classification - INFO - Creating 275 bundles from file_9 with 8250 samples\n",
      "2025-03-14 09:29:07,407 - eeg_classification - INFO - Creating 275 bundles from file_9 with 8250 samples\n"
     ]
    },
    {
     "name": "stderr",
     "output_type": "stream",
     "text": [
      "2025-03-14 09:29:07,407 - eeg_classification - INFO - Creating 275 bundles from file_9 with 8250 samples\n"
     ]
    },
    {
     "name": "stdout",
     "output_type": "stream",
     "text": [
      "2025-03-14 09:29:07,914 - eeg_classification - INFO - Creating 553 bundles from file_10 with 16600 samples\n",
      "2025-03-14 09:29:07,914 - eeg_classification - INFO - Creating 553 bundles from file_10 with 16600 samples\n"
     ]
    },
    {
     "name": "stderr",
     "output_type": "stream",
     "text": [
      "2025-03-14 09:29:07,914 - eeg_classification - INFO - Creating 553 bundles from file_10 with 16600 samples\n"
     ]
    },
    {
     "name": "stdout",
     "output_type": "stream",
     "text": [
      "2025-03-14 09:29:08,615 - eeg_classification - INFO - Processing files 11-12 of 30\n",
      "2025-03-14 09:29:08,615 - eeg_classification - INFO - Processing files 11-12 of 30\n"
     ]
    },
    {
     "name": "stderr",
     "output_type": "stream",
     "text": [
      "2025-03-14 09:29:08,615 - eeg_classification - INFO - Processing files 11-12 of 30\n"
     ]
    },
    {
     "name": "stdout",
     "output_type": "stream",
     "text": [
      "2025-03-14 09:29:08,663 - eeg_classification - INFO - Creating 720 bundles from file_11 with 21600 samples\n",
      "2025-03-14 09:29:08,663 - eeg_classification - INFO - Creating 720 bundles from file_11 with 21600 samples\n"
     ]
    },
    {
     "name": "stderr",
     "output_type": "stream",
     "text": [
      "2025-03-14 09:29:08,663 - eeg_classification - INFO - Creating 720 bundles from file_11 with 21600 samples\n"
     ]
    },
    {
     "name": "stdout",
     "output_type": "stream",
     "text": [
      "2025-03-14 09:29:09,585 - eeg_classification - INFO - Creating 470 bundles from file_12 with 14100 samples\n",
      "2025-03-14 09:29:09,585 - eeg_classification - INFO - Creating 470 bundles from file_12 with 14100 samples\n"
     ]
    },
    {
     "name": "stderr",
     "output_type": "stream",
     "text": [
      "2025-03-14 09:29:09,585 - eeg_classification - INFO - Creating 470 bundles from file_12 with 14100 samples\n"
     ]
    },
    {
     "name": "stdout",
     "output_type": "stream",
     "text": [
      "2025-03-14 09:29:10,264 - eeg_classification - INFO - Processing files 13-14 of 30\n",
      "2025-03-14 09:29:10,264 - eeg_classification - INFO - Processing files 13-14 of 30\n"
     ]
    },
    {
     "name": "stderr",
     "output_type": "stream",
     "text": [
      "2025-03-14 09:29:10,264 - eeg_classification - INFO - Processing files 13-14 of 30\n"
     ]
    },
    {
     "name": "stdout",
     "output_type": "stream",
     "text": [
      "2025-03-14 09:29:10,303 - eeg_classification - INFO - Creating 441 bundles from file_13 with 13250 samples\n",
      "2025-03-14 09:29:10,303 - eeg_classification - INFO - Creating 441 bundles from file_13 with 13250 samples\n"
     ]
    },
    {
     "name": "stderr",
     "output_type": "stream",
     "text": [
      "2025-03-14 09:29:10,303 - eeg_classification - INFO - Creating 441 bundles from file_13 with 13250 samples\n"
     ]
    },
    {
     "name": "stdout",
     "output_type": "stream",
     "text": [
      "2025-03-14 09:29:10,974 - eeg_classification - INFO - Creating 575 bundles from file_14 with 17250 samples\n",
      "2025-03-14 09:29:10,974 - eeg_classification - INFO - Creating 575 bundles from file_14 with 17250 samples\n"
     ]
    },
    {
     "name": "stderr",
     "output_type": "stream",
     "text": [
      "2025-03-14 09:29:10,974 - eeg_classification - INFO - Creating 575 bundles from file_14 with 17250 samples\n"
     ]
    },
    {
     "name": "stdout",
     "output_type": "stream",
     "text": [
      "2025-03-14 09:29:11,664 - eeg_classification - INFO - Processing files 15-16 of 30\n",
      "2025-03-14 09:29:11,664 - eeg_classification - INFO - Processing files 15-16 of 30\n"
     ]
    },
    {
     "name": "stderr",
     "output_type": "stream",
     "text": [
      "2025-03-14 09:29:11,664 - eeg_classification - INFO - Processing files 15-16 of 30\n"
     ]
    },
    {
     "name": "stdout",
     "output_type": "stream",
     "text": [
      "2025-03-14 09:29:11,692 - eeg_classification - INFO - Creating 325 bundles from file_15 with 9750 samples\n",
      "2025-03-14 09:29:11,692 - eeg_classification - INFO - Creating 325 bundles from file_15 with 9750 samples\n"
     ]
    },
    {
     "name": "stderr",
     "output_type": "stream",
     "text": [
      "2025-03-14 09:29:11,692 - eeg_classification - INFO - Creating 325 bundles from file_15 with 9750 samples\n"
     ]
    },
    {
     "name": "stdout",
     "output_type": "stream",
     "text": [
      "2025-03-14 09:29:12,267 - eeg_classification - INFO - Creating 103 bundles from file_16 with 3100 samples\n",
      "2025-03-14 09:29:12,267 - eeg_classification - INFO - Creating 103 bundles from file_16 with 3100 samples\n"
     ]
    },
    {
     "name": "stderr",
     "output_type": "stream",
     "text": [
      "2025-03-14 09:29:12,267 - eeg_classification - INFO - Creating 103 bundles from file_16 with 3100 samples\n"
     ]
    },
    {
     "name": "stdout",
     "output_type": "stream",
     "text": [
      "2025-03-14 09:29:12,545 - eeg_classification - INFO - Processing files 17-18 of 30\n",
      "2025-03-14 09:29:12,545 - eeg_classification - INFO - Processing files 17-18 of 30\n"
     ]
    },
    {
     "name": "stderr",
     "output_type": "stream",
     "text": [
      "2025-03-14 09:29:12,545 - eeg_classification - INFO - Processing files 17-18 of 30\n"
     ]
    },
    {
     "name": "stdout",
     "output_type": "stream",
     "text": [
      "2025-03-14 09:29:12,559 - eeg_classification - INFO - Creating 111 bundles from file_17 with 3350 samples\n",
      "2025-03-14 09:29:12,559 - eeg_classification - INFO - Creating 111 bundles from file_17 with 3350 samples\n"
     ]
    },
    {
     "name": "stderr",
     "output_type": "stream",
     "text": [
      "2025-03-14 09:29:12,559 - eeg_classification - INFO - Creating 111 bundles from file_17 with 3350 samples\n"
     ]
    },
    {
     "name": "stdout",
     "output_type": "stream",
     "text": [
      "2025-03-14 09:29:12,824 - eeg_classification - INFO - Creating 225 bundles from file_18 with 6750 samples\n",
      "2025-03-14 09:29:12,824 - eeg_classification - INFO - Creating 225 bundles from file_18 with 6750 samples\n"
     ]
    },
    {
     "name": "stderr",
     "output_type": "stream",
     "text": [
      "2025-03-14 09:29:12,824 - eeg_classification - INFO - Creating 225 bundles from file_18 with 6750 samples\n"
     ]
    },
    {
     "name": "stdout",
     "output_type": "stream",
     "text": [
      "2025-03-14 09:29:13,152 - eeg_classification - INFO - Processing files 19-20 of 30\n",
      "2025-03-14 09:29:13,152 - eeg_classification - INFO - Processing files 19-20 of 30\n"
     ]
    },
    {
     "name": "stderr",
     "output_type": "stream",
     "text": [
      "2025-03-14 09:29:13,152 - eeg_classification - INFO - Processing files 19-20 of 30\n"
     ]
    },
    {
     "name": "stdout",
     "output_type": "stream",
     "text": [
      "2025-03-14 09:29:13,174 - eeg_classification - INFO - Creating 266 bundles from file_19 with 8000 samples\n",
      "2025-03-14 09:29:13,174 - eeg_classification - INFO - Creating 266 bundles from file_19 with 8000 samples\n"
     ]
    },
    {
     "name": "stderr",
     "output_type": "stream",
     "text": [
      "2025-03-14 09:29:13,174 - eeg_classification - INFO - Creating 266 bundles from file_19 with 8000 samples\n"
     ]
    },
    {
     "name": "stdout",
     "output_type": "stream",
     "text": [
      "2025-03-14 09:29:13,563 - eeg_classification - INFO - Creating 116 bundles from file_20 with 3500 samples\n",
      "2025-03-14 09:29:13,563 - eeg_classification - INFO - Creating 116 bundles from file_20 with 3500 samples\n"
     ]
    },
    {
     "name": "stderr",
     "output_type": "stream",
     "text": [
      "2025-03-14 09:29:13,563 - eeg_classification - INFO - Creating 116 bundles from file_20 with 3500 samples\n"
     ]
    },
    {
     "name": "stdout",
     "output_type": "stream",
     "text": [
      "2025-03-14 09:29:13,806 - eeg_classification - INFO - Processing files 21-22 of 30\n",
      "2025-03-14 09:29:13,806 - eeg_classification - INFO - Processing files 21-22 of 30\n"
     ]
    },
    {
     "name": "stderr",
     "output_type": "stream",
     "text": [
      "2025-03-14 09:29:13,806 - eeg_classification - INFO - Processing files 21-22 of 30\n"
     ]
    },
    {
     "name": "stdout",
     "output_type": "stream",
     "text": [
      "2025-03-14 09:29:13,824 - eeg_classification - INFO - Creating 183 bundles from file_21 with 5500 samples\n",
      "2025-03-14 09:29:13,824 - eeg_classification - INFO - Creating 183 bundles from file_21 with 5500 samples\n"
     ]
    },
    {
     "name": "stderr",
     "output_type": "stream",
     "text": [
      "2025-03-14 09:29:13,824 - eeg_classification - INFO - Creating 183 bundles from file_21 with 5500 samples\n"
     ]
    },
    {
     "name": "stdout",
     "output_type": "stream",
     "text": [
      "2025-03-14 09:29:14,144 - eeg_classification - INFO - Creating 169 bundles from file_22 with 5094 samples\n",
      "2025-03-14 09:29:14,144 - eeg_classification - INFO - Creating 169 bundles from file_22 with 5094 samples\n"
     ]
    },
    {
     "name": "stderr",
     "output_type": "stream",
     "text": [
      "2025-03-14 09:29:14,144 - eeg_classification - INFO - Creating 169 bundles from file_22 with 5094 samples\n"
     ]
    },
    {
     "name": "stdout",
     "output_type": "stream",
     "text": [
      "2025-03-14 09:29:14,485 - eeg_classification - INFO - Processing files 23-24 of 30\n",
      "2025-03-14 09:29:14,485 - eeg_classification - INFO - Processing files 23-24 of 30\n"
     ]
    },
    {
     "name": "stderr",
     "output_type": "stream",
     "text": [
      "2025-03-14 09:29:14,485 - eeg_classification - INFO - Processing files 23-24 of 30\n"
     ]
    },
    {
     "name": "stdout",
     "output_type": "stream",
     "text": [
      "2025-03-14 09:29:14,517 - eeg_classification - INFO - Creating 338 bundles from file_23 with 10150 samples\n",
      "2025-03-14 09:29:14,517 - eeg_classification - INFO - Creating 338 bundles from file_23 with 10150 samples\n"
     ]
    },
    {
     "name": "stderr",
     "output_type": "stream",
     "text": [
      "2025-03-14 09:29:14,517 - eeg_classification - INFO - Creating 338 bundles from file_23 with 10150 samples\n"
     ]
    },
    {
     "name": "stdout",
     "output_type": "stream",
     "text": [
      "2025-03-14 09:29:15,017 - eeg_classification - INFO - Creating 306 bundles from file_24 with 9200 samples\n",
      "2025-03-14 09:29:15,017 - eeg_classification - INFO - Creating 306 bundles from file_24 with 9200 samples\n"
     ]
    },
    {
     "name": "stderr",
     "output_type": "stream",
     "text": [
      "2025-03-14 09:29:15,017 - eeg_classification - INFO - Creating 306 bundles from file_24 with 9200 samples\n"
     ]
    },
    {
     "name": "stdout",
     "output_type": "stream",
     "text": [
      "2025-03-14 09:29:15,479 - eeg_classification - INFO - Processing files 25-26 of 30\n",
      "2025-03-14 09:29:15,479 - eeg_classification - INFO - Processing files 25-26 of 30\n"
     ]
    },
    {
     "name": "stderr",
     "output_type": "stream",
     "text": [
      "2025-03-14 09:29:15,479 - eeg_classification - INFO - Processing files 25-26 of 30\n"
     ]
    },
    {
     "name": "stdout",
     "output_type": "stream",
     "text": [
      "2025-03-14 09:29:15,515 - eeg_classification - INFO - Creating 561 bundles from file_25 with 16850 samples\n",
      "2025-03-14 09:29:15,515 - eeg_classification - INFO - Creating 561 bundles from file_25 with 16850 samples\n"
     ]
    },
    {
     "name": "stderr",
     "output_type": "stream",
     "text": [
      "2025-03-14 09:29:15,515 - eeg_classification - INFO - Creating 561 bundles from file_25 with 16850 samples\n"
     ]
    },
    {
     "name": "stdout",
     "output_type": "stream",
     "text": [
      "2025-03-14 09:29:16,143 - eeg_classification - INFO - Creating 170 bundles from file_26 with 5100 samples\n",
      "2025-03-14 09:29:16,143 - eeg_classification - INFO - Creating 170 bundles from file_26 with 5100 samples\n"
     ]
    },
    {
     "name": "stderr",
     "output_type": "stream",
     "text": [
      "2025-03-14 09:29:16,143 - eeg_classification - INFO - Creating 170 bundles from file_26 with 5100 samples\n"
     ]
    },
    {
     "name": "stdout",
     "output_type": "stream",
     "text": [
      "2025-03-14 09:29:16,483 - eeg_classification - INFO - Processing files 27-28 of 30\n",
      "2025-03-14 09:29:16,483 - eeg_classification - INFO - Processing files 27-28 of 30\n"
     ]
    },
    {
     "name": "stderr",
     "output_type": "stream",
     "text": [
      "2025-03-14 09:29:16,483 - eeg_classification - INFO - Processing files 27-28 of 30\n"
     ]
    },
    {
     "name": "stdout",
     "output_type": "stream",
     "text": [
      "2025-03-14 09:29:16,499 - eeg_classification - INFO - Creating 153 bundles from file_27 with 4600 samples\n",
      "2025-03-14 09:29:16,499 - eeg_classification - INFO - Creating 153 bundles from file_27 with 4600 samples\n"
     ]
    },
    {
     "name": "stderr",
     "output_type": "stream",
     "text": [
      "2025-03-14 09:29:16,499 - eeg_classification - INFO - Creating 153 bundles from file_27 with 4600 samples\n"
     ]
    },
    {
     "name": "stdout",
     "output_type": "stream",
     "text": [
      "2025-03-14 09:29:16,797 - eeg_classification - INFO - Creating 131 bundles from file_28 with 3950 samples\n",
      "2025-03-14 09:29:16,797 - eeg_classification - INFO - Creating 131 bundles from file_28 with 3950 samples\n"
     ]
    },
    {
     "name": "stderr",
     "output_type": "stream",
     "text": [
      "2025-03-14 09:29:16,797 - eeg_classification - INFO - Creating 131 bundles from file_28 with 3950 samples\n"
     ]
    },
    {
     "name": "stdout",
     "output_type": "stream",
     "text": [
      "2025-03-14 09:29:17,047 - eeg_classification - INFO - Processing files 29-30 of 30\n",
      "2025-03-14 09:29:17,047 - eeg_classification - INFO - Processing files 29-30 of 30\n"
     ]
    },
    {
     "name": "stderr",
     "output_type": "stream",
     "text": [
      "2025-03-14 09:29:17,047 - eeg_classification - INFO - Processing files 29-30 of 30\n"
     ]
    },
    {
     "name": "stdout",
     "output_type": "stream",
     "text": [
      "2025-03-14 09:29:17,065 - eeg_classification - INFO - Creating 165 bundles from file_29 with 4950 samples\n",
      "2025-03-14 09:29:17,065 - eeg_classification - INFO - Creating 165 bundles from file_29 with 4950 samples\n"
     ]
    },
    {
     "name": "stderr",
     "output_type": "stream",
     "text": [
      "2025-03-14 09:29:17,065 - eeg_classification - INFO - Creating 165 bundles from file_29 with 4950 samples\n"
     ]
    },
    {
     "name": "stdout",
     "output_type": "stream",
     "text": [
      "2025-03-14 09:29:17,411 - eeg_classification - INFO - Creating 480 bundles from file_30 with 14400 samples\n",
      "2025-03-14 09:29:17,411 - eeg_classification - INFO - Creating 480 bundles from file_30 with 14400 samples\n"
     ]
    },
    {
     "name": "stderr",
     "output_type": "stream",
     "text": [
      "2025-03-14 09:29:17,411 - eeg_classification - INFO - Creating 480 bundles from file_30 with 14400 samples\n"
     ]
    },
    {
     "name": "stdout",
     "output_type": "stream",
     "text": [
      "2025-03-14 09:29:18,247 - eeg_classification - INFO - Created 9059 total bundles on disk\n",
      "2025-03-14 09:29:18,247 - eeg_classification - INFO - Created 9059 total bundles on disk\n"
     ]
    },
    {
     "name": "stderr",
     "output_type": "stream",
     "text": [
      "2025-03-14 09:29:18,247 - eeg_classification - INFO - Created 9059 total bundles on disk\n"
     ]
    },
    {
     "name": "stdout",
     "output_type": "stream",
     "text": [
      "2025-03-14 09:29:18,269 - eeg_classification - INFO - Created 9059 bundles on disk\n",
      "2025-03-14 09:29:18,269 - eeg_classification - INFO - Created 9059 bundles on disk\n"
     ]
    },
    {
     "name": "stderr",
     "output_type": "stream",
     "text": [
      "2025-03-14 09:29:18,269 - eeg_classification - INFO - Created 9059 bundles on disk\n"
     ]
    },
    {
     "name": "stdout",
     "output_type": "stream",
     "text": [
      "2025-03-14 09:29:18,271 - eeg_classification - INFO - Bundle size: 30 time steps\n",
      "2025-03-14 09:29:18,271 - eeg_classification - INFO - Bundle size: 30 time steps\n"
     ]
    },
    {
     "name": "stderr",
     "output_type": "stream",
     "text": [
      "2025-03-14 09:29:18,271 - eeg_classification - INFO - Bundle size: 30 time steps\n"
     ]
    },
    {
     "name": "stdout",
     "output_type": "stream",
     "text": [
      "2025-03-14 09:29:18,273 - eeg_classification - INFO - Feature dimension: 138 features\n",
      "2025-03-14 09:29:18,273 - eeg_classification - INFO - Feature dimension: 138 features\n"
     ]
    },
    {
     "name": "stderr",
     "output_type": "stream",
     "text": [
      "2025-03-14 09:29:18,273 - eeg_classification - INFO - Feature dimension: 138 features\n"
     ]
    },
    {
     "name": "stdout",
     "output_type": "stream",
     "text": [
      "2025-03-14 09:29:18,275 - eeg_classification - INFO - Bundles saved to: ./eeg_bundles\\bundles\n",
      "2025-03-14 09:29:18,275 - eeg_classification - INFO - Bundles saved to: ./eeg_bundles\\bundles\n"
     ]
    },
    {
     "name": "stderr",
     "output_type": "stream",
     "text": [
      "2025-03-14 09:29:18,275 - eeg_classification - INFO - Bundles saved to: ./eeg_bundles\\bundles\n"
     ]
    },
    {
     "name": "stdout",
     "output_type": "stream",
     "text": [
      "2025-03-14 09:29:18,407 - eeg_classification - INFO - Saved bundle metadata to ./eeg_bundles\\bundle_metadata.csv\n",
      "2025-03-14 09:29:18,407 - eeg_classification - INFO - Saved bundle metadata to ./eeg_bundles\\bundle_metadata.csv\n"
     ]
    },
    {
     "name": "stderr",
     "output_type": "stream",
     "text": [
      "2025-03-14 09:29:18,407 - eeg_classification - INFO - Saved bundle metadata to ./eeg_bundles\\bundle_metadata.csv\n"
     ]
    },
    {
     "name": "stdout",
     "output_type": "stream",
     "text": [
      "2025-03-14 09:29:18,625 - eeg_classification - INFO - Step 3 completed in 15.49 seconds\n",
      "2025-03-14 09:29:18,625 - eeg_classification - INFO - Step 3 completed in 15.49 seconds\n"
     ]
    },
    {
     "name": "stderr",
     "output_type": "stream",
     "text": [
      "2025-03-14 09:29:18,625 - eeg_classification - INFO - Step 3 completed in 15.49 seconds\n"
     ]
    },
    {
     "name": "stdout",
     "output_type": "stream",
     "text": [
      "2025-03-14 09:29:18,627 - eeg_classification - INFO - \n",
      "================================================================================\n",
      "2025-03-14 09:29:18,627 - eeg_classification - INFO - \n",
      "================================================================================\n"
     ]
    },
    {
     "name": "stderr",
     "output_type": "stream",
     "text": [
      "2025-03-14 09:29:18,627 - eeg_classification - INFO - \n",
      "================================================================================\n"
     ]
    },
    {
     "name": "stdout",
     "output_type": "stream",
     "text": [
      "2025-03-14 09:29:18,629 - eeg_classification - INFO -  Step 4: Normalizing bundles on disk\n",
      "2025-03-14 09:29:18,629 - eeg_classification - INFO -  Step 4: Normalizing bundles on disk\n"
     ]
    },
    {
     "name": "stderr",
     "output_type": "stream",
     "text": [
      "2025-03-14 09:29:18,629 - eeg_classification - INFO -  Step 4: Normalizing bundles on disk\n"
     ]
    },
    {
     "name": "stdout",
     "output_type": "stream",
     "text": [
      "2025-03-14 09:29:18,631 - eeg_classification - INFO - ================================================================================\n",
      "2025-03-14 09:29:18,631 - eeg_classification - INFO - ================================================================================\n"
     ]
    },
    {
     "name": "stderr",
     "output_type": "stream",
     "text": [
      "2025-03-14 09:29:18,631 - eeg_classification - INFO - ================================================================================\n"
     ]
    },
    {
     "name": "stdout",
     "output_type": "stream",
     "text": [
      "2025-03-14 09:29:18,633 - eeg_classification - INFO - Normalizing bundles...\n",
      "2025-03-14 09:29:18,633 - eeg_classification - INFO - Normalizing bundles...\n"
     ]
    },
    {
     "name": "stderr",
     "output_type": "stream",
     "text": [
      "2025-03-14 09:29:18,633 - eeg_classification - INFO - Normalizing bundles...\n"
     ]
    },
    {
     "name": "stdout",
     "output_type": "stream",
     "text": [
      "2025-03-14 09:29:18,636 - eeg_classification - INFO - Normalizing bundles on disk with method: per_feature\n",
      "2025-03-14 09:29:18,636 - eeg_classification - INFO - Normalizing bundles on disk with method: per_feature\n"
     ]
    },
    {
     "name": "stderr",
     "output_type": "stream",
     "text": [
      "2025-03-14 09:29:18,636 - eeg_classification - INFO - Normalizing bundles on disk with method: per_feature\n"
     ]
    },
    {
     "name": "stdout",
     "output_type": "stream",
     "text": [
      "2025-03-14 09:29:18,670 - eeg_classification - INFO - Computing feature means (pass 1/2)\n",
      "2025-03-14 09:29:18,670 - eeg_classification - INFO - Computing feature means (pass 1/2)\n"
     ]
    },
    {
     "name": "stderr",
     "output_type": "stream",
     "text": [
      "2025-03-14 09:29:18,670 - eeg_classification - INFO - Computing feature means (pass 1/2)\n"
     ]
    },
    {
     "name": "stdout",
     "output_type": "stream",
     "text": [
      "2025-03-14 09:29:18,672 - eeg_classification - INFO - Processing bundle 1/9059\n",
      "2025-03-14 09:29:18,672 - eeg_classification - INFO - Processing bundle 1/9059\n"
     ]
    },
    {
     "name": "stderr",
     "output_type": "stream",
     "text": [
      "2025-03-14 09:29:18,672 - eeg_classification - INFO - Processing bundle 1/9059\n"
     ]
    },
    {
     "name": "stdout",
     "output_type": "stream",
     "text": [
      "2025-03-14 09:29:27,098 - eeg_classification - INFO - Processing bundle 1001/9059\n",
      "2025-03-14 09:29:27,098 - eeg_classification - INFO - Processing bundle 1001/9059\n"
     ]
    },
    {
     "name": "stderr",
     "output_type": "stream",
     "text": [
      "2025-03-14 09:29:27,098 - eeg_classification - INFO - Processing bundle 1001/9059\n"
     ]
    },
    {
     "name": "stdout",
     "output_type": "stream",
     "text": [
      "2025-03-14 09:29:35,563 - eeg_classification - INFO - Processing bundle 2001/9059\n",
      "2025-03-14 09:29:35,563 - eeg_classification - INFO - Processing bundle 2001/9059\n"
     ]
    },
    {
     "name": "stderr",
     "output_type": "stream",
     "text": [
      "2025-03-14 09:29:35,563 - eeg_classification - INFO - Processing bundle 2001/9059\n"
     ]
    },
    {
     "name": "stdout",
     "output_type": "stream",
     "text": [
      "2025-03-14 09:29:43,572 - eeg_classification - INFO - Processing bundle 3001/9059\n",
      "2025-03-14 09:29:43,572 - eeg_classification - INFO - Processing bundle 3001/9059\n"
     ]
    },
    {
     "name": "stderr",
     "output_type": "stream",
     "text": [
      "2025-03-14 09:29:43,572 - eeg_classification - INFO - Processing bundle 3001/9059\n"
     ]
    },
    {
     "name": "stdout",
     "output_type": "stream",
     "text": [
      "2025-03-14 09:29:51,130 - eeg_classification - INFO - Processing bundle 4001/9059\n",
      "2025-03-14 09:29:51,130 - eeg_classification - INFO - Processing bundle 4001/9059\n"
     ]
    },
    {
     "name": "stderr",
     "output_type": "stream",
     "text": [
      "2025-03-14 09:29:51,130 - eeg_classification - INFO - Processing bundle 4001/9059\n"
     ]
    },
    {
     "name": "stdout",
     "output_type": "stream",
     "text": [
      "2025-03-14 09:29:59,894 - eeg_classification - INFO - Processing bundle 5001/9059\n",
      "2025-03-14 09:29:59,894 - eeg_classification - INFO - Processing bundle 5001/9059\n"
     ]
    },
    {
     "name": "stderr",
     "output_type": "stream",
     "text": [
      "2025-03-14 09:29:59,894 - eeg_classification - INFO - Processing bundle 5001/9059\n"
     ]
    },
    {
     "name": "stdout",
     "output_type": "stream",
     "text": [
      "2025-03-14 09:30:09,771 - eeg_classification - INFO - Processing bundle 6001/9059\n",
      "2025-03-14 09:30:09,771 - eeg_classification - INFO - Processing bundle 6001/9059\n"
     ]
    },
    {
     "name": "stderr",
     "output_type": "stream",
     "text": [
      "2025-03-14 09:30:09,771 - eeg_classification - INFO - Processing bundle 6001/9059\n"
     ]
    },
    {
     "name": "stdout",
     "output_type": "stream",
     "text": [
      "2025-03-14 09:30:17,295 - eeg_classification - INFO - Processing bundle 7001/9059\n",
      "2025-03-14 09:30:17,295 - eeg_classification - INFO - Processing bundle 7001/9059\n"
     ]
    },
    {
     "name": "stderr",
     "output_type": "stream",
     "text": [
      "2025-03-14 09:30:17,295 - eeg_classification - INFO - Processing bundle 7001/9059\n"
     ]
    },
    {
     "name": "stdout",
     "output_type": "stream",
     "text": [
      "2025-03-14 09:30:24,953 - eeg_classification - INFO - Processing bundle 8001/9059\n",
      "2025-03-14 09:30:24,953 - eeg_classification - INFO - Processing bundle 8001/9059\n"
     ]
    },
    {
     "name": "stderr",
     "output_type": "stream",
     "text": [
      "2025-03-14 09:30:24,953 - eeg_classification - INFO - Processing bundle 8001/9059\n"
     ]
    },
    {
     "name": "stdout",
     "output_type": "stream",
     "text": [
      "2025-03-14 09:30:32,334 - eeg_classification - INFO - Processing bundle 9001/9059\n",
      "2025-03-14 09:30:32,334 - eeg_classification - INFO - Processing bundle 9001/9059\n"
     ]
    },
    {
     "name": "stderr",
     "output_type": "stream",
     "text": [
      "2025-03-14 09:30:32,334 - eeg_classification - INFO - Processing bundle 9001/9059\n"
     ]
    },
    {
     "name": "stdout",
     "output_type": "stream",
     "text": [
      "2025-03-14 09:30:32,842 - eeg_classification - INFO - Processing bundle 9059/9059\n",
      "2025-03-14 09:30:32,842 - eeg_classification - INFO - Processing bundle 9059/9059\n"
     ]
    },
    {
     "name": "stderr",
     "output_type": "stream",
     "text": [
      "2025-03-14 09:30:32,842 - eeg_classification - INFO - Processing bundle 9059/9059\n"
     ]
    },
    {
     "name": "stdout",
     "output_type": "stream",
     "text": [
      "2025-03-14 09:30:32,851 - eeg_classification - INFO - Normalizing bundles (pass 2/2)\n",
      "2025-03-14 09:30:32,851 - eeg_classification - INFO - Normalizing bundles (pass 2/2)\n"
     ]
    },
    {
     "name": "stderr",
     "output_type": "stream",
     "text": [
      "c:\\Users\\Huai\\Documents\\GitHub\\EEG-classification\\training\\common\\bundles.py:650: RuntimeWarning: invalid value encountered in subtract\n",
      "  feature_vars = (feature_sq_sums / total_samples) - (feature_means**2)\n",
      "2025-03-14 09:30:32,851 - eeg_classification - INFO - Normalizing bundles (pass 2/2)\n"
     ]
    },
    {
     "name": "stdout",
     "output_type": "stream",
     "text": [
      "2025-03-14 09:30:32,853 - eeg_classification - INFO - Normalizing bundle 1/9059\n",
      "2025-03-14 09:30:32,853 - eeg_classification - INFO - Normalizing bundle 1/9059\n"
     ]
    },
    {
     "name": "stderr",
     "output_type": "stream",
     "text": [
      "2025-03-14 09:30:32,853 - eeg_classification - INFO - Normalizing bundle 1/9059\n"
     ]
    },
    {
     "name": "stdout",
     "output_type": "stream",
     "text": [
      "2025-03-14 09:30:33,929 - eeg_classification - INFO - Normalizing bundle 1001/9059\n",
      "2025-03-14 09:30:33,929 - eeg_classification - INFO - Normalizing bundle 1001/9059\n"
     ]
    },
    {
     "name": "stderr",
     "output_type": "stream",
     "text": [
      "2025-03-14 09:30:33,929 - eeg_classification - INFO - Normalizing bundle 1001/9059\n"
     ]
    },
    {
     "name": "stdout",
     "output_type": "stream",
     "text": [
      "2025-03-14 09:30:35,040 - eeg_classification - INFO - Normalizing bundle 2001/9059\n",
      "2025-03-14 09:30:35,040 - eeg_classification - INFO - Normalizing bundle 2001/9059\n"
     ]
    },
    {
     "name": "stderr",
     "output_type": "stream",
     "text": [
      "2025-03-14 09:30:35,040 - eeg_classification - INFO - Normalizing bundle 2001/9059\n"
     ]
    },
    {
     "name": "stdout",
     "output_type": "stream",
     "text": [
      "2025-03-14 09:30:36,361 - eeg_classification - INFO - Normalizing bundle 3001/9059\n",
      "2025-03-14 09:30:36,361 - eeg_classification - INFO - Normalizing bundle 3001/9059\n"
     ]
    },
    {
     "name": "stderr",
     "output_type": "stream",
     "text": [
      "2025-03-14 09:30:36,361 - eeg_classification - INFO - Normalizing bundle 3001/9059\n"
     ]
    },
    {
     "name": "stdout",
     "output_type": "stream",
     "text": [
      "2025-03-14 09:30:37,717 - eeg_classification - INFO - Normalizing bundle 4001/9059\n",
      "2025-03-14 09:30:37,717 - eeg_classification - INFO - Normalizing bundle 4001/9059\n"
     ]
    },
    {
     "name": "stderr",
     "output_type": "stream",
     "text": [
      "2025-03-14 09:30:37,717 - eeg_classification - INFO - Normalizing bundle 4001/9059\n"
     ]
    },
    {
     "name": "stdout",
     "output_type": "stream",
     "text": [
      "2025-03-14 09:30:39,123 - eeg_classification - INFO - Normalizing bundle 5001/9059\n",
      "2025-03-14 09:30:39,123 - eeg_classification - INFO - Normalizing bundle 5001/9059\n"
     ]
    },
    {
     "name": "stderr",
     "output_type": "stream",
     "text": [
      "2025-03-14 09:30:39,123 - eeg_classification - INFO - Normalizing bundle 5001/9059\n"
     ]
    },
    {
     "name": "stdout",
     "output_type": "stream",
     "text": [
      "2025-03-14 09:30:40,429 - eeg_classification - INFO - Normalizing bundle 6001/9059\n",
      "2025-03-14 09:30:40,429 - eeg_classification - INFO - Normalizing bundle 6001/9059\n"
     ]
    },
    {
     "name": "stderr",
     "output_type": "stream",
     "text": [
      "2025-03-14 09:30:40,429 - eeg_classification - INFO - Normalizing bundle 6001/9059\n",
      "c:\\Users\\Huai\\Documents\\GitHub\\EEG-classification\\training\\common\\bundles.py:667: RuntimeWarning: invalid value encountered in subtract\n",
      "  normalized_bundle = (bundle - feature_means) / feature_stds\n"
     ]
    },
    {
     "name": "stdout",
     "output_type": "stream",
     "text": [
      "2025-03-14 09:30:41,784 - eeg_classification - INFO - Normalizing bundle 7001/9059\n",
      "2025-03-14 09:30:41,784 - eeg_classification - INFO - Normalizing bundle 7001/9059\n"
     ]
    },
    {
     "name": "stderr",
     "output_type": "stream",
     "text": [
      "2025-03-14 09:30:41,784 - eeg_classification - INFO - Normalizing bundle 7001/9059\n"
     ]
    },
    {
     "name": "stdout",
     "output_type": "stream",
     "text": [
      "2025-03-14 09:30:43,162 - eeg_classification - INFO - Normalizing bundle 8001/9059\n",
      "2025-03-14 09:30:43,162 - eeg_classification - INFO - Normalizing bundle 8001/9059\n"
     ]
    },
    {
     "name": "stderr",
     "output_type": "stream",
     "text": [
      "2025-03-14 09:30:43,162 - eeg_classification - INFO - Normalizing bundle 8001/9059\n"
     ]
    },
    {
     "name": "stdout",
     "output_type": "stream",
     "text": [
      "2025-03-14 09:30:44,576 - eeg_classification - INFO - Normalizing bundle 9001/9059\n",
      "2025-03-14 09:30:44,576 - eeg_classification - INFO - Normalizing bundle 9001/9059\n"
     ]
    },
    {
     "name": "stderr",
     "output_type": "stream",
     "text": [
      "2025-03-14 09:30:44,576 - eeg_classification - INFO - Normalizing bundle 9001/9059\n"
     ]
    },
    {
     "name": "stdout",
     "output_type": "stream",
     "text": [
      "2025-03-14 09:30:44,814 - eeg_classification - INFO - Normalizing bundle 9059/9059\n",
      "2025-03-14 09:30:44,814 - eeg_classification - INFO - Normalizing bundle 9059/9059\n"
     ]
    },
    {
     "name": "stderr",
     "output_type": "stream",
     "text": [
      "2025-03-14 09:30:44,814 - eeg_classification - INFO - Normalizing bundle 9059/9059\n"
     ]
    },
    {
     "name": "stdout",
     "output_type": "stream",
     "text": [
      "2025-03-14 09:30:44,819 - eeg_classification - INFO - Bundle normalization complete\n",
      "2025-03-14 09:30:44,819 - eeg_classification - INFO - Bundle normalization complete\n"
     ]
    },
    {
     "name": "stderr",
     "output_type": "stream",
     "text": [
      "2025-03-14 09:30:44,819 - eeg_classification - INFO - Bundle normalization complete\n"
     ]
    },
    {
     "name": "stdout",
     "output_type": "stream",
     "text": [
      "2025-03-14 09:30:44,823 - eeg_classification - INFO - Normalized bundles using per_feature method\n",
      "2025-03-14 09:30:44,823 - eeg_classification - INFO - Normalized bundles using per_feature method\n"
     ]
    },
    {
     "name": "stderr",
     "output_type": "stream",
     "text": [
      "2025-03-14 09:30:44,823 - eeg_classification - INFO - Normalized bundles using per_feature method\n"
     ]
    },
    {
     "name": "stdout",
     "output_type": "stream",
     "text": [
      "2025-03-14 09:30:44,825 - eeg_classification - INFO - Normalization parameters saved to ./eeg_bundles\\bundles\\normalization_params.joblib\n",
      "2025-03-14 09:30:44,825 - eeg_classification - INFO - Normalization parameters saved to ./eeg_bundles\\bundles\\normalization_params.joblib\n"
     ]
    },
    {
     "name": "stderr",
     "output_type": "stream",
     "text": [
      "2025-03-14 09:30:44,825 - eeg_classification - INFO - Normalization parameters saved to ./eeg_bundles\\bundles\\normalization_params.joblib\n"
     ]
    },
    {
     "name": "stdout",
     "output_type": "stream",
     "text": [
      "2025-03-14 09:30:44,827 - eeg_classification - INFO - Step 4 completed in 86.19 seconds\n",
      "2025-03-14 09:30:44,827 - eeg_classification - INFO - Step 4 completed in 86.19 seconds\n"
     ]
    },
    {
     "name": "stderr",
     "output_type": "stream",
     "text": [
      "2025-03-14 09:30:44,827 - eeg_classification - INFO - Step 4 completed in 86.19 seconds\n"
     ]
    },
    {
     "data": {
      "image/png": "[encoded data removed]",
      "text/plain": [
       "<Figure size 1200x1000 with 5 Axes>"
      ]
     },
     "metadata": {},
     "output_type": "display_data"
    }
   ],
   "source": [
    "# Check if we should load existing bundles\n",
    "bundle_info = None\n",
    "if load_existing:\n",
    "    try:\n",
    "        logger.info(\"Checking for existing bundles...\")\n",
    "        bundle_info = load_bundle_info(bundle_dir)\n",
    "        logger.info(f\"Found existing bundles: {bundle_info['total_bundles']} bundles with shape \" \n",
    "                    f\"({bundle_info['bundle_size']}, {bundle_info['feature_dim']})\")\n",
    "    except (FileNotFoundError, ValueError) as e:\n",
    "        logger.warning(f\"Could not load existing bundles: {str(e)}\")\n",
    "        bundle_info = None\n",
    "\n",
    "# If we don't have existing bundles, create them\n",
    "if bundle_info is None:\n",
    "    #---------------------------------------------------------------------------\n",
    "    # Step 1: Load Data\n",
    "    #---------------------------------------------------------------------------\n",
    "    print_section_header(\"Step 1: Loading EEG data\")\n",
    "    step_start = time.time()\n",
    "    \n",
    "    try:\n",
    "        logger.info(f\"Loading data from {data_dir}\")\n",
    "        file_dfs, combined_df = load_eeg_data(directory_path=data_dir)\n",
    "        \n",
    "        n_files = len(file_dfs)\n",
    "        total_rows = sum(len(df) for df in file_dfs.values())\n",
    "        logger.info(f\"Loaded {n_files} files with {total_rows} total rows\")\n",
    "        \n",
    "        # Get first file for visualization\n",
    "        sample_file_id = list(file_dfs.keys())[0]\n",
    "        sample_df = file_dfs[sample_file_id]\n",
    "        logger.info(f\"Sample file {sample_file_id} shape: {sample_df.shape}\")\n",
    "        \n",
    "        # Visualize raw data\n",
    "        fig = visualize_eeg_data(sample_df, max_cols=5)\n",
    "        save_plot(fig, \"raw_eeg_data.png\", dirs[\"plots\"])\n",
    "        \n",
    "    except Exception as e:\n",
    "        logger.error(f\"Error loading data: {str(e)}\")\n",
    "        logger.exception(\"Stack trace:\")\n",
    "        \n",
    "    \n",
    "    logger.info(f\"Step 1 completed in {time.time() - step_start:.2f} seconds\")\n",
    "    \n",
    "    #---------------------------------------------------------------------------\n",
    "    # Step 2: Preprocess Data and Engineer Features\n",
    "    #---------------------------------------------------------------------------\n",
    "    print_section_header(\"Step 2: Processing data and engineering features\")\n",
    "    step_start = time.time()\n",
    "    \n",
    "    try:\n",
    "        # Analyze NaN patterns in the sample file first\n",
    "        logger.info(f\"Analyzing data quality for sample file {sample_file_id}\")\n",
    "        sample_quality = analyze_data_quality(sample_df)\n",
    "        \n",
    "        # Save the plot if it exists\n",
    "        if 'plot' in sample_quality and sample_quality['plot'] is not None:\n",
    "            save_plot(sample_quality['plot'], \"sample_data_quality.png\", dirs[\"plots\"])\n",
    "\n",
    "        # Save high NaN columns for later use\n",
    "        high_nan_cols = sample_quality.get('high_nan_columns', [])\n",
    "        logger.info(f\"Saved list of {high_nan_cols} high-NaN columns for reference\")\n",
    "        \n",
    "\n",
    "        processed_dfs = {}\n",
    "        \n",
    "        for file_id, df in file_dfs.items():\n",
    "            logger.info(f\"Processing file {file_id} with {len(df)} rows\")\n",
    "            df = df.drop(columns=[\"Elements\"])\n",
    "            # Check for NaN values in input\n",
    "            nan_count_before = df.isna().sum().sum()\n",
    "            if nan_count_before > 0:\n",
    "                logger.warning(f\"Input data for file {file_id} contains {nan_count_before} NaN values\")\n",
    "            \n",
    "\n",
    "            # Clean data\n",
    "            clean_df = preprocess_eeg_data(df)\n",
    "            logger.info(f\"Cleaned data shape: {clean_df.shape}\")\n",
    "\n",
    "            # Engineer features\n",
    "            features_df = engineer_eeg_features(clean_df)\n",
    "            logger.info(f\"Features shape: {features_df.shape}\")\n",
    "            \n",
    "            logger.info(f\"No. of missing values after feature engineering: {features_df.isna().sum()}\")\n",
    "            logger.info(f\"Columns after feature engineering: {features_df.columns}\")\n",
    "            \n",
    "            # Store processed DataFrame\n",
    "            processed_dfs[file_id] = features_df\n",
    "            \n",
    "            # If this is the first file, visualize the processed data\n",
    "            if file_id == sample_file_id:\n",
    "                fig = visualize_eeg_data(features_df, max_cols=5)\n",
    "                save_plot(fig, \"processed_eeg_data.png\", dirs[\"plots\"])\n",
    "            \n",
    "            # Free memory\n",
    "            del clean_df\n",
    "            gc.collect()\n",
    "\n",
    "\n",
    "    except Exception as e:\n",
    "        logger.error(f\"Error in data quality analysis: {str(e)}\")\n",
    "        logger.exception(\"Stack trace:\")\n",
    "        # Continue with pipeline despite analysis error\n",
    "    \n",
    "    logger.info(f\"Step 2 completed in {time.time() - step_start:.2f} seconds\")\n",
    "\n",
    "    \n",
    "    #---------------------------------------------------------------------------\n",
    "    # Step 3: Create Time Series Bundles on Disk\n",
    "    #---------------------------------------------------------------------------\n",
    "    print_section_header(\"Step 3: Creating time series bundles on disk\")\n",
    "    step_start = time.time()\n",
    "    \n",
    "    try:\n",
    "        # Configuration for bundle creation\n",
    "        bundle_config = {\n",
    "            'bundle_size': bundle_size,         # Number of time steps per bundle\n",
    "            'step_size': step_size,             # Step size for sliding window\n",
    "            'max_files_per_batch': 2,                # Process 2 files at a time\n",
    "            'max_bundles_per_file': 1000,            # Maximum 1000 bundles per file\n",
    "            'chunk_size': 1000,                       # Process 500 bundles at a time\n",
    "            'output_dir': bundle_dir,                # Where to save bundles\n",
    "        }\n",
    "        \n",
    "        logger.info(\"Bundle creation configuration:\")\n",
    "        for key, value in bundle_config.items():\n",
    "            logger.info(f\"  {key}: {value}\")\n",
    "        \n",
    "        # Create time series bundles and save to disk\n",
    "        logger.info(\"Creating time series bundles with timestamp-based sampling...\")\n",
    "        metadata_df, bundle_info = create_coherent_time_series_bundles_disk(\n",
    "            file_dfs=processed_dfs,\n",
    "            **bundle_config\n",
    "        )\n",
    "        \n",
    "        logger.info(f\"Created {bundle_info['total_bundles']} bundles on disk\")\n",
    "        logger.info(f\"Bundle size: {bundle_info['bundle_size']} time steps\")\n",
    "        logger.info(f\"Feature dimension: {bundle_info['feature_dim']} features\")\n",
    "        logger.info(f\"Bundles saved to: {bundle_info['output_dir']}\")\n",
    "        \n",
    "        # Save metadata to a more readable format\n",
    "        metadata_csv = os.path.join(dirs['base'], \"bundle_metadata.csv\")\n",
    "        metadata_df.to_csv(metadata_csv, index=False)\n",
    "        logger.info(f\"Saved bundle metadata to {metadata_csv}\")\n",
    "        \n",
    "        # Free memory\n",
    "        del processed_dfs\n",
    "        gc.collect()\n",
    "        \n",
    "    except Exception as e:\n",
    "        logger.error(f\"Error creating bundles: {str(e)}\")\n",
    "        logger.exception(\"Stack trace:\")\n",
    "        \n",
    "    \n",
    "    logger.info(f\"Step 3 completed in {time.time() - step_start:.2f} seconds\")\n",
    "    \n",
    "    #---------------------------------------------------------------------------\n",
    "    # Step 4: Normalize Bundles on Disk\n",
    "    #---------------------------------------------------------------------------\n",
    "    print_section_header(\"Step 4: Normalizing bundles on disk\")\n",
    "    step_start = time.time()\n",
    "    \n",
    "    try:\n",
    "        # Normalize bundles\n",
    "        logger.info(\"Normalizing bundles...\")\n",
    "        bundle_info = normalize_bundles_disk(\n",
    "            bundle_info=bundle_info,\n",
    "            normalization='per_feature'  # Normalize each feature independently\n",
    "        )\n",
    "        \n",
    "        logger.info(f\"Normalized bundles using {bundle_info['normalization']} method\")\n",
    "        logger.info(f\"Normalization parameters saved to {bundle_info['normalization_params_path']}\")\n",
    "        \n",
    "    except Exception as e:\n",
    "        logger.error(f\"Error normalizing bundles: {str(e)}\")\n",
    "        logger.exception(\"Stack trace:\")\n",
    "        \n",
    "    \n",
    "    logger.info(f\"Step 4 completed in {time.time() - step_start:.2f} seconds\")\n",
    "\n",
    "else:\n",
    "    # We loaded existing bundles, so let's load the metadata too\n",
    "    metadata_csv = os.path.join(dirs['base'], \"bundle_metadata.csv\")\n",
    "    if os.path.exists(metadata_csv):\n",
    "        metadata_df = pd.read_csv(metadata_csv)\n",
    "        logger.info(f\"Loaded existing metadata with {len(metadata_df)} rows\")\n",
    "    else:\n",
    "        # Try to find metadata in the bundle directory\n",
    "        metadata_path = os.path.join(bundle_dir, \"metadata.csv\")\n",
    "        if os.path.exists(metadata_path):\n",
    "            metadata_df = pd.read_csv(metadata_path)\n",
    "            logger.info(f\"Loaded metadata from bundle directory with {len(metadata_df)} rows\")\n",
    "        else:\n",
    "            # Try joblib format\n",
    "            metadata_path = os.path.join(bundle_dir, \"metadata.joblib\")\n",
    "            if os.path.exists(metadata_path):\n",
    "                metadata_df = joblib.load(metadata_path)\n",
    "                logger.info(f\"Loaded metadata from bundle directory with {len(metadata_df)} rows\")\n",
    "            else:\n",
    "                logger.error(\"Could not find metadata file\")\n",
    "                \n"
   ]
  },
  {
   "cell_type": "code",
   "execution_count": 5,
   "metadata": {},
   "outputs": [
    {
     "name": "stdout",
     "output_type": "stream",
     "text": [
      "2025-03-14 09:32:56,308 - eeg_classification - INFO - \n",
      "================================================================================\n",
      "2025-03-14 09:32:56,308 - eeg_classification - INFO - \n",
      "================================================================================\n"
     ]
    },
    {
     "name": "stderr",
     "output_type": "stream",
     "text": [
      "2025-03-14 09:32:56,308 - eeg_classification - INFO - \n",
      "================================================================================\n"
     ]
    },
    {
     "name": "stdout",
     "output_type": "stream",
     "text": [
      "2025-03-14 09:32:56,311 - eeg_classification - INFO -  Step 5: Performing unsupervised clustering\n",
      "2025-03-14 09:32:56,311 - eeg_classification - INFO -  Step 5: Performing unsupervised clustering\n"
     ]
    },
    {
     "name": "stderr",
     "output_type": "stream",
     "text": [
      "2025-03-14 09:32:56,311 - eeg_classification - INFO -  Step 5: Performing unsupervised clustering\n"
     ]
    },
    {
     "name": "stdout",
     "output_type": "stream",
     "text": [
      "2025-03-14 09:32:56,313 - eeg_classification - INFO - ================================================================================\n",
      "2025-03-14 09:32:56,313 - eeg_classification - INFO - ================================================================================\n"
     ]
    },
    {
     "name": "stderr",
     "output_type": "stream",
     "text": [
      "2025-03-14 09:32:56,313 - eeg_classification - INFO - ================================================================================\n"
     ]
    },
    {
     "name": "stdout",
     "output_type": "stream",
     "text": [
      "2025-03-14 09:32:56,318 - eeg_classification - INFO - Split 9059 bundles into 7247 for analysis and 1812 for evaluation\n",
      "2025-03-14 09:32:56,318 - eeg_classification - INFO - Split 9059 bundles into 7247 for analysis and 1812 for evaluation\n"
     ]
    },
    {
     "name": "stderr",
     "output_type": "stream",
     "text": [
      "2025-03-14 09:32:56,318 - eeg_classification - INFO - Split 9059 bundles into 7247 for analysis and 1812 for evaluation\n"
     ]
    },
    {
     "name": "stdout",
     "output_type": "stream",
     "text": [
      "2025-03-14 09:32:56,321 - eeg_classification - INFO - Initialized UnsupervisedModelTrainer with model_type=kmeans\n",
      "2025-03-14 09:32:56,321 - eeg_classification - INFO - Initialized UnsupervisedModelTrainer with model_type=kmeans\n"
     ]
    },
    {
     "name": "stderr",
     "output_type": "stream",
     "text": [
      "2025-03-14 09:32:56,321 - eeg_classification - INFO - Initialized UnsupervisedModelTrainer with model_type=kmeans\n"
     ]
    },
    {
     "name": "stdout",
     "output_type": "stream",
     "text": [
      "2025-03-14 09:32:56,323 - eeg_classification - INFO - Using 1000 samples to determine optimal number of clusters\n",
      "2025-03-14 09:32:56,323 - eeg_classification - INFO - Using 1000 samples to determine optimal number of clusters\n"
     ]
    },
    {
     "name": "stderr",
     "output_type": "stream",
     "text": [
      "2025-03-14 09:32:56,323 - eeg_classification - INFO - Using 1000 samples to determine optimal number of clusters\n"
     ]
    },
    {
     "name": "stdout",
     "output_type": "stream",
     "text": [
      "2025-03-14 09:33:04,226 - eeg_classification - INFO - Sample data shape for clustering: (1000, 138)\n",
      "2025-03-14 09:33:04,226 - eeg_classification - INFO - Sample data shape for clustering: (1000, 138)\n"
     ]
    },
    {
     "name": "stderr",
     "output_type": "stream",
     "text": [
      "2025-03-14 09:33:04,226 - eeg_classification - INFO - Sample data shape for clustering: (1000, 138)\n"
     ]
    },
    {
     "name": "stdout",
     "output_type": "stream",
     "text": [
      "2025-03-14 09:33:04,230 - eeg_classification - INFO - Number of NaN values in sample data: 10000\n",
      "2025-03-14 09:33:04,230 - eeg_classification - INFO - Number of NaN values in sample data: 10000\n"
     ]
    },
    {
     "name": "stderr",
     "output_type": "stream",
     "text": [
      "2025-03-14 09:33:04,230 - eeg_classification - INFO - Number of NaN values in sample data: 10000\n"
     ]
    },
    {
     "name": "stdout",
     "output_type": "stream",
     "text": [
      "2025-03-14 09:33:04,232 - eeg_classification - INFO - Finding optimal number of clusters between 2 and 5\n",
      "2025-03-14 09:33:04,232 - eeg_classification - INFO - Finding optimal number of clusters between 2 and 5\n"
     ]
    },
    {
     "name": "stderr",
     "output_type": "stream",
     "text": [
      "2025-03-14 09:33:04,232 - eeg_classification - INFO - Finding optimal number of clusters between 2 and 5\n"
     ]
    },
    {
     "name": "stdout",
     "output_type": "stream",
     "text": [
      "2025-03-14 09:33:04,235 - eeg_classification - ERROR - Error finding optimal clusters: Input X contains NaN.\n",
      "KMeans does not accept missing values encoded as NaN natively. For supervised learning, you might want to consider sklearn.ensemble.HistGradientBoostingClassifier and Regressor which accept missing values encoded as NaNs natively. Alternatively, it is possible to preprocess the data, for instance by using an imputer transformer in a pipeline or drop samples with missing values. See https://scikit-learn.org/stable/modules/impute.html You can find a list of all estimators that handle NaN values at the following page: https://scikit-learn.org/stable/modules/impute.html#estimators-that-handle-nan-values\n",
      "2025-03-14 09:33:04,235 - eeg_classification - ERROR - Error finding optimal clusters: Input X contains NaN.\n",
      "KMeans does not accept missing values encoded as NaN natively. For supervised learning, you might want to consider sklearn.ensemble.HistGradientBoostingClassifier and Regressor which accept missing values encoded as NaNs natively. Alternatively, it is possible to preprocess the data, for instance by using an imputer transformer in a pipeline or drop samples with missing values. See https://scikit-learn.org/stable/modules/impute.html You can find a list of all estimators that handle NaN values at the following page: https://scikit-learn.org/stable/modules/impute.html#estimators-that-handle-nan-values\n"
     ]
    },
    {
     "name": "stderr",
     "output_type": "stream",
     "text": [
      "2025-03-14 09:33:04,235 - eeg_classification - ERROR - Error finding optimal clusters: Input X contains NaN.\n",
      "KMeans does not accept missing values encoded as NaN natively. For supervised learning, you might want to consider sklearn.ensemble.HistGradientBoostingClassifier and Regressor which accept missing values encoded as NaNs natively. Alternatively, it is possible to preprocess the data, for instance by using an imputer transformer in a pipeline or drop samples with missing values. See https://scikit-learn.org/stable/modules/impute.html You can find a list of all estimators that handle NaN values at the following page: https://scikit-learn.org/stable/modules/impute.html#estimators-that-handle-nan-values\n"
     ]
    },
    {
     "name": "stdout",
     "output_type": "stream",
     "text": [
      "2025-03-14 09:33:04,245 - eeg_classification - ERROR - Error in unsupervised learning: Input X contains NaN.\n",
      "KMeans does not accept missing values encoded as NaN natively. For supervised learning, you might want to consider sklearn.ensemble.HistGradientBoostingClassifier and Regressor which accept missing values encoded as NaNs natively. Alternatively, it is possible to preprocess the data, for instance by using an imputer transformer in a pipeline or drop samples with missing values. See https://scikit-learn.org/stable/modules/impute.html You can find a list of all estimators that handle NaN values at the following page: https://scikit-learn.org/stable/modules/impute.html#estimators-that-handle-nan-values\n",
      "2025-03-14 09:33:04,245 - eeg_classification - ERROR - Error in unsupervised learning: Input X contains NaN.\n",
      "KMeans does not accept missing values encoded as NaN natively. For supervised learning, you might want to consider sklearn.ensemble.HistGradientBoostingClassifier and Regressor which accept missing values encoded as NaNs natively. Alternatively, it is possible to preprocess the data, for instance by using an imputer transformer in a pipeline or drop samples with missing values. See https://scikit-learn.org/stable/modules/impute.html You can find a list of all estimators that handle NaN values at the following page: https://scikit-learn.org/stable/modules/impute.html#estimators-that-handle-nan-values\n"
     ]
    },
    {
     "name": "stderr",
     "output_type": "stream",
     "text": [
      "2025-03-14 09:33:04,245 - eeg_classification - ERROR - Error in unsupervised learning: Input X contains NaN.\n",
      "KMeans does not accept missing values encoded as NaN natively. For supervised learning, you might want to consider sklearn.ensemble.HistGradientBoostingClassifier and Regressor which accept missing values encoded as NaNs natively. Alternatively, it is possible to preprocess the data, for instance by using an imputer transformer in a pipeline or drop samples with missing values. See https://scikit-learn.org/stable/modules/impute.html You can find a list of all estimators that handle NaN values at the following page: https://scikit-learn.org/stable/modules/impute.html#estimators-that-handle-nan-values\n"
     ]
    },
    {
     "name": "stdout",
     "output_type": "stream",
     "text": [
      "2025-03-14 09:33:04,248 - eeg_classification - ERROR - Stack trace:\n",
      "Traceback (most recent call last):\n",
      "  File \"C:\\Users\\Huai\\AppData\\Local\\Temp\\ipykernel_32816\\847493052.py\", line 66, in <module>\n",
      "    optimal_n, score = trainer.find_optimal_clusters(\n",
      "                       ^^^^^^^^^^^^^^^^^^^^^^^^^^^^^^\n",
      "  File \"c:\\Users\\Huai\\Documents\\GitHub\\EEG-classification\\training\\common\\unsupervised.py\", line 192, in find_optimal_clusters\n",
      "    labels = kmeans.fit_predict(X)\n",
      "             ^^^^^^^^^^^^^^^^^^^^^\n",
      "  File \"c:\\Users\\Huai\\miniconda3\\envs\\eeg\\Lib\\site-packages\\sklearn\\cluster\\_kmeans.py\", line 1064, in fit_predict\n",
      "    return self.fit(X, sample_weight=sample_weight).labels_\n",
      "           ^^^^^^^^^^^^^^^^^^^^^^^^^^^^^^^^^^^^^^^^\n",
      "  File \"c:\\Users\\Huai\\miniconda3\\envs\\eeg\\Lib\\site-packages\\sklearn\\base.py\", line 1389, in wrapper\n",
      "    return fit_method(estimator, *args, **kwargs)\n",
      "           ^^^^^^^^^^^^^^^^^^^^^^^^^^^^^^^^^^^^^^\n",
      "  File \"c:\\Users\\Huai\\miniconda3\\envs\\eeg\\Lib\\site-packages\\sklearn\\cluster\\_kmeans.py\", line 1454, in fit\n",
      "    X = validate_data(\n",
      "        ^^^^^^^^^^^^^^\n",
      "  File \"c:\\Users\\Huai\\miniconda3\\envs\\eeg\\Lib\\site-packages\\sklearn\\utils\\validation.py\", line 2944, in validate_data\n",
      "    out = check_array(X, input_name=\"X\", **check_params)\n",
      "          ^^^^^^^^^^^^^^^^^^^^^^^^^^^^^^^^^^^^^^^^^^^^^^\n",
      "  File \"c:\\Users\\Huai\\miniconda3\\envs\\eeg\\Lib\\site-packages\\sklearn\\utils\\validation.py\", line 1107, in check_array\n",
      "    _assert_all_finite(\n",
      "  File \"c:\\Users\\Huai\\miniconda3\\envs\\eeg\\Lib\\site-packages\\sklearn\\utils\\validation.py\", line 120, in _assert_all_finite\n",
      "    _assert_all_finite_element_wise(\n",
      "  File \"c:\\Users\\Huai\\miniconda3\\envs\\eeg\\Lib\\site-packages\\sklearn\\utils\\validation.py\", line 169, in _assert_all_finite_element_wise\n",
      "    raise ValueError(msg_err)\n",
      "ValueError: Input X contains NaN.\n",
      "KMeans does not accept missing values encoded as NaN natively. For supervised learning, you might want to consider sklearn.ensemble.HistGradientBoostingClassifier and Regressor which accept missing values encoded as NaNs natively. Alternatively, it is possible to preprocess the data, for instance by using an imputer transformer in a pipeline or drop samples with missing values. See https://scikit-learn.org/stable/modules/impute.html You can find a list of all estimators that handle NaN values at the following page: https://scikit-learn.org/stable/modules/impute.html#estimators-that-handle-nan-values\n",
      "2025-03-14 09:33:04,248 - eeg_classification - ERROR - Stack trace:\n",
      "Traceback (most recent call last):\n",
      "  File \"C:\\Users\\Huai\\AppData\\Local\\Temp\\ipykernel_32816\\847493052.py\", line 66, in <module>\n",
      "    optimal_n, score = trainer.find_optimal_clusters(\n",
      "                       ^^^^^^^^^^^^^^^^^^^^^^^^^^^^^^\n",
      "  File \"c:\\Users\\Huai\\Documents\\GitHub\\EEG-classification\\training\\common\\unsupervised.py\", line 192, in find_optimal_clusters\n",
      "    labels = kmeans.fit_predict(X)\n",
      "             ^^^^^^^^^^^^^^^^^^^^^\n",
      "  File \"c:\\Users\\Huai\\miniconda3\\envs\\eeg\\Lib\\site-packages\\sklearn\\cluster\\_kmeans.py\", line 1064, in fit_predict\n",
      "    return self.fit(X, sample_weight=sample_weight).labels_\n",
      "           ^^^^^^^^^^^^^^^^^^^^^^^^^^^^^^^^^^^^^^^^\n",
      "  File \"c:\\Users\\Huai\\miniconda3\\envs\\eeg\\Lib\\site-packages\\sklearn\\base.py\", line 1389, in wrapper\n",
      "    return fit_method(estimator, *args, **kwargs)\n",
      "           ^^^^^^^^^^^^^^^^^^^^^^^^^^^^^^^^^^^^^^\n",
      "  File \"c:\\Users\\Huai\\miniconda3\\envs\\eeg\\Lib\\site-packages\\sklearn\\cluster\\_kmeans.py\", line 1454, in fit\n",
      "    X = validate_data(\n",
      "        ^^^^^^^^^^^^^^\n",
      "  File \"c:\\Users\\Huai\\miniconda3\\envs\\eeg\\Lib\\site-packages\\sklearn\\utils\\validation.py\", line 2944, in validate_data\n",
      "    out = check_array(X, input_name=\"X\", **check_params)\n",
      "          ^^^^^^^^^^^^^^^^^^^^^^^^^^^^^^^^^^^^^^^^^^^^^^\n",
      "  File \"c:\\Users\\Huai\\miniconda3\\envs\\eeg\\Lib\\site-packages\\sklearn\\utils\\validation.py\", line 1107, in check_array\n",
      "    _assert_all_finite(\n",
      "  File \"c:\\Users\\Huai\\miniconda3\\envs\\eeg\\Lib\\site-packages\\sklearn\\utils\\validation.py\", line 120, in _assert_all_finite\n",
      "    _assert_all_finite_element_wise(\n",
      "  File \"c:\\Users\\Huai\\miniconda3\\envs\\eeg\\Lib\\site-packages\\sklearn\\utils\\validation.py\", line 169, in _assert_all_finite_element_wise\n",
      "    raise ValueError(msg_err)\n",
      "ValueError: Input X contains NaN.\n",
      "KMeans does not accept missing values encoded as NaN natively. For supervised learning, you might want to consider sklearn.ensemble.HistGradientBoostingClassifier and Regressor which accept missing values encoded as NaNs natively. Alternatively, it is possible to preprocess the data, for instance by using an imputer transformer in a pipeline or drop samples with missing values. See https://scikit-learn.org/stable/modules/impute.html You can find a list of all estimators that handle NaN values at the following page: https://scikit-learn.org/stable/modules/impute.html#estimators-that-handle-nan-values\n"
     ]
    },
    {
     "name": "stderr",
     "output_type": "stream",
     "text": [
      "2025-03-14 09:33:04,248 - eeg_classification - ERROR - Stack trace:\n",
      "Traceback (most recent call last):\n",
      "  File \"C:\\Users\\Huai\\AppData\\Local\\Temp\\ipykernel_32816\\847493052.py\", line 66, in <module>\n",
      "    optimal_n, score = trainer.find_optimal_clusters(\n",
      "                       ^^^^^^^^^^^^^^^^^^^^^^^^^^^^^^\n",
      "  File \"c:\\Users\\Huai\\Documents\\GitHub\\EEG-classification\\training\\common\\unsupervised.py\", line 192, in find_optimal_clusters\n",
      "    labels = kmeans.fit_predict(X)\n",
      "             ^^^^^^^^^^^^^^^^^^^^^\n",
      "  File \"c:\\Users\\Huai\\miniconda3\\envs\\eeg\\Lib\\site-packages\\sklearn\\cluster\\_kmeans.py\", line 1064, in fit_predict\n",
      "    return self.fit(X, sample_weight=sample_weight).labels_\n",
      "           ^^^^^^^^^^^^^^^^^^^^^^^^^^^^^^^^^^^^^^^^\n",
      "  File \"c:\\Users\\Huai\\miniconda3\\envs\\eeg\\Lib\\site-packages\\sklearn\\base.py\", line 1389, in wrapper\n",
      "    return fit_method(estimator, *args, **kwargs)\n",
      "           ^^^^^^^^^^^^^^^^^^^^^^^^^^^^^^^^^^^^^^\n",
      "  File \"c:\\Users\\Huai\\miniconda3\\envs\\eeg\\Lib\\site-packages\\sklearn\\cluster\\_kmeans.py\", line 1454, in fit\n",
      "    X = validate_data(\n",
      "        ^^^^^^^^^^^^^^\n",
      "  File \"c:\\Users\\Huai\\miniconda3\\envs\\eeg\\Lib\\site-packages\\sklearn\\utils\\validation.py\", line 2944, in validate_data\n",
      "    out = check_array(X, input_name=\"X\", **check_params)\n",
      "          ^^^^^^^^^^^^^^^^^^^^^^^^^^^^^^^^^^^^^^^^^^^^^^\n",
      "  File \"c:\\Users\\Huai\\miniconda3\\envs\\eeg\\Lib\\site-packages\\sklearn\\utils\\validation.py\", line 1107, in check_array\n",
      "    _assert_all_finite(\n",
      "  File \"c:\\Users\\Huai\\miniconda3\\envs\\eeg\\Lib\\site-packages\\sklearn\\utils\\validation.py\", line 120, in _assert_all_finite\n",
      "    _assert_all_finite_element_wise(\n",
      "  File \"c:\\Users\\Huai\\miniconda3\\envs\\eeg\\Lib\\site-packages\\sklearn\\utils\\validation.py\", line 169, in _assert_all_finite_element_wise\n",
      "    raise ValueError(msg_err)\n",
      "ValueError: Input X contains NaN.\n",
      "KMeans does not accept missing values encoded as NaN natively. For supervised learning, you might want to consider sklearn.ensemble.HistGradientBoostingClassifier and Regressor which accept missing values encoded as NaNs natively. Alternatively, it is possible to preprocess the data, for instance by using an imputer transformer in a pipeline or drop samples with missing values. See https://scikit-learn.org/stable/modules/impute.html You can find a list of all estimators that handle NaN values at the following page: https://scikit-learn.org/stable/modules/impute.html#estimators-that-handle-nan-values\n"
     ]
    },
    {
     "name": "stdout",
     "output_type": "stream",
     "text": [
      "2025-03-14 09:33:04,251 - eeg_classification - INFO - Step 5 completed in 7.94 seconds\n",
      "2025-03-14 09:33:04,251 - eeg_classification - INFO - Step 5 completed in 7.94 seconds\n"
     ]
    },
    {
     "name": "stderr",
     "output_type": "stream",
     "text": [
      "2025-03-14 09:33:04,251 - eeg_classification - INFO - Step 5 completed in 7.94 seconds\n"
     ]
    }
   ],
   "source": [
    "n_clusters = None\n",
    "\n",
    "#---------------------------------------------------------------------------\n",
    "# Step 5: Unsupervised Learning (Clustering)\n",
    "#---------------------------------------------------------------------------\n",
    "print_section_header(\"Step 5: Performing unsupervised clustering\")\n",
    "step_start = time.time()\n",
    "\n",
    "try:\n",
    "    # Create loader for the data\n",
    "    from common import DiskBundleLoader\n",
    "    \n",
    "    # For clustering, we need to create a batch loader\n",
    "    all_indices = np.arange(bundle_info['total_bundles'])\n",
    "    \n",
    "    # Split into analysis (80%) and evaluation (20%) sets\n",
    "    from sklearn.model_selection import train_test_split\n",
    "    analysis_indices, evaluation_indices = train_test_split(\n",
    "        all_indices, test_size=0.2, random_state=42\n",
    "    )\n",
    "    \n",
    "    logger.info(f\"Split {len(all_indices)} bundles into {len(analysis_indices)} for analysis \" \n",
    "                f\"and {len(evaluation_indices)} for evaluation\")\n",
    "    \n",
    "    # Save indices for future reference\n",
    "    np.save(os.path.join(dirs['base'], 'analysis_indices.npy'), analysis_indices)\n",
    "    np.save(os.path.join(dirs['base'], 'evaluation_indices.npy'), evaluation_indices)\n",
    "    \n",
    "    # Initialize the clustering model\n",
    "    trainer = UnsupervisedModelTrainer(\n",
    "        model_type='kmeans',\n",
    "        random_state=42,\n",
    "        config={'n_clusters': n_clusters if n_clusters is not None else 2}  # Default to 2 if not specified\n",
    "    )\n",
    "    \n",
    "    # Get a sample for finding optimal number of clusters\n",
    "    sample_size = min(1000, len(analysis_indices))\n",
    "    sample_indices = np.random.choice(analysis_indices, sample_size, replace=False)\n",
    "    \n",
    "    logger.info(f\"Using {sample_size} samples to determine optimal number of clusters\")\n",
    "    \n",
    "    # Create loader for sample data\n",
    "    sample_loader = DiskBundleLoader(\n",
    "        bundle_info=bundle_info,\n",
    "        indices=sample_indices,\n",
    "        batch_size=sample_size,  # Load all in one batch\n",
    "        shuffle=False,\n",
    "        use_normalized=True\n",
    "    )\n",
    "    \n",
    "    # Load sample data for cluster optimization\n",
    "    sample_data = next(iter(sample_loader))\n",
    "    \n",
    "    # If data is 3D, flatten time dimension by taking mean\n",
    "    if sample_data.ndim == 3:\n",
    "        sample_data = sample_data.mean(axis=1)\n",
    "        \n",
    "    logger.info(f\"Sample data shape for clustering: {sample_data.shape}\")\n",
    "\n",
    "    # Count number of rows that are NaN\n",
    "    nan_count = np.isnan(sample_data).sum()\n",
    "    logger.info(f\"Number of NaN values in sample data: {nan_count}\")\n",
    "\n",
    "    # Find optimal number of clusters if not specified\n",
    "    if n_clusters is None:\n",
    "        optimal_n, score = trainer.find_optimal_clusters(\n",
    "            sample_data, min_clusters=2, max_clusters=5\n",
    "        )\n",
    "        logger.info(f\"Optimal number of clusters: {optimal_n} (score: {score:.4f})\")\n",
    "    else:\n",
    "        optimal_n = n_clusters\n",
    "        logger.info(f\"Using specified number of clusters: {optimal_n}\")\n",
    "        \n",
    "    # Set the optimal number of clusters in the trainer\n",
    "    trainer.create_model(n_clusters=optimal_n)\n",
    "    \n",
    "    # Process all analysis data in batches\n",
    "    logger.info(f\"Clustering {len(analysis_indices)} bundles...\")\n",
    "    \n",
    "    batch_size = 500  # Process 500 samples at a time\n",
    "    analysis_batches = [analysis_indices[i:i+batch_size] for i in range(0, len(analysis_indices), batch_size)]\n",
    "    \n",
    "    all_labels = []\n",
    "    all_data_for_vis = None  # For visualization\n",
    "    \n",
    "    for i, batch_indices in enumerate(analysis_batches):\n",
    "        # Create loader for this batch\n",
    "        batch_loader = DiskBundleLoader(\n",
    "            bundle_info=bundle_info,\n",
    "            indices=batch_indices,\n",
    "            batch_size=len(batch_indices),\n",
    "            shuffle=False,\n",
    "            use_normalized=True\n",
    "        )\n",
    "        \n",
    "        # Load batch\n",
    "        batch_data = next(iter(batch_loader))\n",
    "        \n",
    "        # If bundles are 3D, flatten the time dimension\n",
    "        if batch_data.ndim == 3:\n",
    "            batch_data = batch_data.mean(axis=1)\n",
    "        \n",
    "        # Store first batch for visualization\n",
    "        if i == 0 and all_data_for_vis is None:\n",
    "            # Keep only a subset for visualization to save memory\n",
    "            vis_size = min(500, len(batch_data))\n",
    "            all_data_for_vis = batch_data[:vis_size].copy()\n",
    "            \n",
    "        # Fit or predict with the model\n",
    "        if i == 0:\n",
    "            # First batch - fit the model\n",
    "            batch_labels = trainer.train(batch_data)\n",
    "            logger.info(\"Fitted clustering model on first batch\")\n",
    "        else:\n",
    "            # Subsequent batches - predict only\n",
    "            batch_labels = trainer.model.predict(batch_data)\n",
    "        \n",
    "        all_labels.append(batch_labels)\n",
    "        \n",
    "        logger.info(f\"  Processed batch {i+1}/{len(analysis_batches)} ({len(batch_indices)} bundles)\")\n",
    "        \n",
    "        # Free memory\n",
    "        del batch_data, batch_loader\n",
    "        gc.collect()\n",
    "    \n",
    "    # Combine all labels\n",
    "    all_labels = np.concatenate(all_labels)\n",
    "    \n",
    "    # Get cluster distribution\n",
    "    unique_labels, counts = np.unique(all_labels, return_counts=True)\n",
    "    logger.info(\"Cluster distribution:\")\n",
    "    for label, count in zip(unique_labels, counts):\n",
    "        percentage = (count / len(all_labels)) * 100\n",
    "        logger.info(f\"  Cluster {label}: {count} samples ({percentage:.1f}%)\")\n",
    "    \n",
    "    # Visualize clusters using stored data subset\n",
    "    if all_data_for_vis is not None:\n",
    "        # Reduce dimensions for visualization\n",
    "        # Try t-SNE first, fall back to PCA if not available\n",
    "        try:\n",
    "            from sklearn.manifold import TSNE\n",
    "            logger.info(\"Using t-SNE for dimension reduction...\")\n",
    "            X_reduced = TSNE(n_components=2, random_state=42).fit_transform(all_data_for_vis)\n",
    "        except:\n",
    "            logger.info(\"Falling back to PCA for dimension reduction...\")\n",
    "            from sklearn.decomposition import PCA\n",
    "            X_reduced = PCA(n_components=2, random_state=42).fit_transform(all_data_for_vis)\n",
    "        \n",
    "        # Get corresponding labels\n",
    "        vis_labels = trainer.model.predict(all_data_for_vis)\n",
    "        \n",
    "        # Create scatter plot\n",
    "        plt.figure(figsize=(10, 8))\n",
    "        scatter = plt.scatter(X_reduced[:, 0], X_reduced[:, 1], c=vis_labels, cmap='viridis', alpha=0.7)\n",
    "        plt.colorbar(scatter, label='Cluster')\n",
    "        plt.title(f'EEG Data Clusters (n={optimal_n})')\n",
    "        plt.xlabel('Component 1')\n",
    "        plt.ylabel('Component 2')\n",
    "        plt.tight_layout()\n",
    "        save_plot(plt.gcf(), \"cluster_visualization.png\", dirs[\"plots\"])\n",
    "        \n",
    "        # Free memory\n",
    "        del all_data_for_vis\n",
    "        gc.collect()\n",
    "    \n",
    "    # Save the model\n",
    "    model_path = os.path.join(dirs[\"models\"], \"unsupervised_model.joblib\")\n",
    "    trainer.save_model(model_path)\n",
    "    logger.info(f\"Saved clustering model to {model_path}\")\n",
    "    \n",
    "    # Add cluster labels to metadata\n",
    "    metadata_with_clusters = metadata_df.copy()\n",
    "    metadata_with_clusters['cluster'] = -1  # Initialize with -1 (unclustered)\n",
    "    \n",
    "    # Map indices to bundle_idx in metadata\n",
    "    for i, idx in enumerate(analysis_indices):\n",
    "        if i < len(all_labels):\n",
    "            metadata_with_clusters.loc[metadata_with_clusters['bundle_idx'] == idx, 'cluster'] = all_labels[i]\n",
    "    \n",
    "    # Save updated metadata\n",
    "    metadata_path = os.path.join(dirs[\"base\"], \"metadata_with_clusters.csv\")\n",
    "    metadata_with_clusters.to_csv(metadata_path, index=False)\n",
    "    logger.info(f\"Saved metadata with cluster labels to {metadata_path}\")\n",
    "    \n",
    "except Exception as e:\n",
    "    logger.error(f\"Error in unsupervised learning: {str(e)}\")\n",
    "    logger.exception(\"Stack trace:\")\n",
    "\n",
    "logger.info(f\"Step 5 completed in {time.time() - step_start:.2f} seconds\")\n"
   ]
  },
  {
   "cell_type": "code",
   "execution_count": null,
   "metadata": {},
   "outputs": [],
   "source": [
    "\n",
    "#---------------------------------------------------------------------------\n",
    "# Step 6: Cluster Evaluation\n",
    "#---------------------------------------------------------------------------\n",
    "print_section_header(\"Step 6: Evaluating clustering results\")\n",
    "step_start = time.time()\n",
    "\n",
    "try:\n",
    "    # Evaluate on the held-out evaluation set\n",
    "    logger.info(f\"Evaluating clustering on {len(evaluation_indices)} held-out bundles\")\n",
    "    \n",
    "    # Process in batches\n",
    "    batch_size = 500\n",
    "    evaluation_batches = [evaluation_indices[i:i+batch_size] for i in range(0, len(evaluation_indices), batch_size)]\n",
    "    \n",
    "    eval_labels = []\n",
    "    \n",
    "    for i, batch_indices in enumerate(evaluation_batches):\n",
    "        # Create loader for this batch\n",
    "        batch_loader = DiskBundleLoader(\n",
    "            bundle_info=bundle_info,\n",
    "            indices=batch_indices,\n",
    "            batch_size=len(batch_indices),\n",
    "            shuffle=False,\n",
    "            use_normalized=True\n",
    "        )\n",
    "        \n",
    "        # Load batch\n",
    "        batch_data = next(iter(batch_loader))\n",
    "        \n",
    "        # If bundles are 3D, flatten the time dimension\n",
    "        if batch_data.ndim == 3:\n",
    "            batch_data = batch_data.mean(axis=1)\n",
    "            \n",
    "        # Predict clusters\n",
    "        batch_labels = trainer.model.predict(batch_data)\n",
    "        eval_labels.append(batch_labels)\n",
    "        \n",
    "        logger.info(f\"  Processed evaluation batch {i+1}/{len(evaluation_batches)} ({len(batch_indices)} bundles)\")\n",
    "        \n",
    "        # Free memory\n",
    "        del batch_data, batch_loader\n",
    "        gc.collect()\n",
    "    \n",
    "    # Combine all evaluation labels\n",
    "    eval_labels = np.concatenate(eval_labels)\n",
    "    \n",
    "    # Get cluster distribution\n",
    "    eval_unique_labels, eval_counts = np.unique(eval_labels, return_counts=True)\n",
    "    logger.info(\"Cluster distribution in evaluation data:\")\n",
    "    for label, count in zip(eval_unique_labels, eval_counts):\n",
    "        percentage = (count / len(eval_labels)) * 100\n",
    "        logger.info(f\"  Cluster {label}: {count} samples ({percentage:.1f}%)\")\n",
    "    \n",
    "    # Compare distributions between analysis and evaluation sets\n",
    "    logger.info(\"Comparing cluster distributions:\")\n",
    "    logger.info(\"  Cluster  |  Analysis  |  Evaluation\")\n",
    "    logger.info(\"  --------|------------|------------\")\n",
    "    for label in range(optimal_n):\n",
    "        # Find index of this label in the analysis set\n",
    "        analysis_idx = np.where(unique_labels == label)[0]\n",
    "        analysis_count = counts[analysis_idx[0]] if len(analysis_idx) > 0 else 0\n",
    "        analysis_pct = (analysis_count / len(all_labels)) * 100 if len(all_labels) > 0 else 0\n",
    "        \n",
    "        # Find index of this label in the evaluation set\n",
    "        eval_idx = np.where(eval_unique_labels == label)[0]\n",
    "        eval_count = eval_counts[eval_idx[0]] if len(eval_idx) > 0 else 0\n",
    "        eval_pct = (eval_count / len(eval_labels)) * 100 if len(eval_labels) > 0 else 0\n",
    "        \n",
    "        logger.info(f\"  {label}       |  {analysis_pct:.1f}%     |  {eval_pct:.1f}%\")\n",
    "    \n",
    "    # Calculate silhouette scores if possible\n",
    "    try:\n",
    "        from sklearn.metrics import silhouette_score\n",
    "        \n",
    "        # We need a sample of data for silhouette calculation\n",
    "        # This might be memory intensive for large datasets\n",
    "        sample_size = min(10000, len(evaluation_indices))\n",
    "        sample_indices = np.random.choice(evaluation_indices, sample_size, replace=False)\n",
    "        \n",
    "        # Load the sample\n",
    "        sample_loader = DiskBundleLoader(\n",
    "            bundle_info=bundle_info,\n",
    "            indices=sample_indices,\n",
    "            batch_size=sample_size,\n",
    "            shuffle=False,\n",
    "            use_normalized=True\n",
    "        )\n",
    "        \n",
    "        # Get the data\n",
    "        sample_data = next(iter(sample_loader))\n",
    "        \n",
    "        # If 3D, flatten\n",
    "        if sample_data.ndim == 3:\n",
    "            sample_data = sample_data.mean(axis=1)\n",
    "        \n",
    "        # Predict labels\n",
    "        sample_labels = trainer.model.predict(sample_data)\n",
    "        \n",
    "        # Calculate silhouette score\n",
    "        sil_score = silhouette_score(sample_data, sample_labels)\n",
    "        logger.info(f\"Silhouette Score on evaluation data: {sil_score:.4f}\")\n",
    "        \n",
    "        # Add to summary dict\n",
    "        eval_scores = {\"silhouette_score\": sil_score}\n",
    "        \n",
    "        # Free memory\n",
    "        del sample_data, sample_loader\n",
    "        gc.collect()\n",
    "        \n",
    "    except Exception as e:\n",
    "        logger.warning(f\"Could not calculate silhouette score: {str(e)}\")\n",
    "        eval_scores = {}\n",
    "    \n",
    "    # Calculate cluster evaluation metrics\n",
    "    metrics = trainer.evaluate(sample_data, sample_labels)\n",
    "    logger.info(\"Cluster evaluation metrics:\")\n",
    "    for metric, value in metrics.items():\n",
    "        logger.info(f\"  {metric}: {value:.4f}\")\n",
    "        eval_scores[metric] = value\n",
    "    \n",
    "    # Save evaluation metrics\n",
    "    eval_path = os.path.join(dirs[\"base\"], \"clustering_evaluation.joblib\")\n",
    "    joblib.dump(eval_scores, eval_path)\n",
    "    logger.info(f\"Saved evaluation metrics to {eval_path}\")\n",
    "    \n",
    "except Exception as e:\n",
    "    logger.error(f\"Error in cluster evaluation: {str(e)}\")\n",
    "    logger.exception(\"Stack trace:\")\n",
    "\n",
    "logger.info(f\"Step 6 completed in {time.time() - step_start:.2f} seconds\")\n",
    "\n",
    "#---------------------------------------------------------------------------\n",
    "# Pipeline Summary\n",
    "#---------------------------------------------------------------------------\n",
    "total_time = time.time() - start_time\n",
    "\n",
    "print_section_header(\"EEG PROCESSING PIPELINE COMPLETE\")\n",
    "logger.info(f\"Total execution time: {total_time:.2f} seconds ({total_time/60:.2f} minutes)\")\n",
    "logger.info(f\"Results saved to {output_dir}\")\n",
    "logger.info(\"\\nSummary:\")\n",
    "logger.info(f\"  - Bundles created/loaded: {bundle_info['total_bundles']}\")\n",
    "logger.info(f\"  - Number of clusters: {optimal_n}\")\n",
    "\n",
    "if eval_scores:\n",
    "    logger.info(\"  - Evaluation scores:\")\n",
    "    for metric, value in eval_scores.items():\n",
    "        logger.info(f\"    * {metric}: {value:.4f}\")\n",
    "\n",
    "logger.info(\"\\nOutput Files:\")\n",
    "logger.info(f\"  - Bundle info: {os.path.join(bundle_dir, 'bundle_info.joblib')}\")\n",
    "logger.info(f\"  - Metadata: {os.path.join(dirs['base'], 'metadata_with_clusters.csv')}\")\n",
    "logger.info(f\"  - Trained model: {os.path.join(dirs['models'], 'unsupervised_model.joblib')}\")\n",
    "logger.info(f\"  - Visualizations: {dirs['plots']}\")\n",
    "logger.info(f\"  - Log file: {log_file}\")\n",
    "\n",
    "logger.info(\"\\nNext steps:\")\n",
    "logger.info(\"  1. Review the cluster visualizations to understand the patterns\")\n",
    "logger.info(\"  2. Analyze clusters in relation to EEG channel characteristics\")\n",
    "logger.info(\"  3. Use clusters for supervised learning or further analysis\")"
   ]
  },
  {
   "cell_type": "code",
   "execution_count": null,
   "metadata": {},
   "outputs": [],
   "source": []
  }
 ],
 "metadata": {
  "kernelspec": {
   "display_name": "eeg",
   "language": "python",
   "name": "python3"
  },
  "language_info": {
   "codemirror_mode": {
    "name": "ipython",
    "version": 3
   },
   "file_extension": ".py",
   "mimetype": "text/x-python",
   "name": "python",
   "nbconvert_exporter": "python",
   "pygments_lexer": "ipython3",
   "version": "3.11.0"
  }
 },
 "nbformat": 4,
 "nbformat_minor": 2
}
